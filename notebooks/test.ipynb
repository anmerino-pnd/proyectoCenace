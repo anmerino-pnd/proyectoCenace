{
 "cells": [
  {
   "cell_type": "code",
   "execution_count": 2,
   "metadata": {},
   "outputs": [
    {
     "ename": "ConnectError",
     "evalue": "[WinError 10061] No se puede establecer una conexión ya que el equipo de destino denegó expresamente dicha conexión",
     "output_type": "error",
     "traceback": [
      "\u001b[31m---------------------------------------------------------------------------\u001b[39m",
      "\u001b[31mConnectError\u001b[39m                              Traceback (most recent call last)",
      "\u001b[36mFile \u001b[39m\u001b[32mc:\\Users\\panda\\OneDrive\\Documents\\mcd\\proyectoCenace\\.venv\\Lib\\site-packages\\httpx\\_transports\\default.py:101\u001b[39m, in \u001b[36mmap_httpcore_exceptions\u001b[39m\u001b[34m()\u001b[39m\n\u001b[32m    100\u001b[39m \u001b[38;5;28;01mtry\u001b[39;00m:\n\u001b[32m--> \u001b[39m\u001b[32m101\u001b[39m     \u001b[38;5;28;01myield\u001b[39;00m\n\u001b[32m    102\u001b[39m \u001b[38;5;28;01mexcept\u001b[39;00m \u001b[38;5;167;01mException\u001b[39;00m \u001b[38;5;28;01mas\u001b[39;00m exc:\n",
      "\u001b[36mFile \u001b[39m\u001b[32mc:\\Users\\panda\\OneDrive\\Documents\\mcd\\proyectoCenace\\.venv\\Lib\\site-packages\\httpx\\_transports\\default.py:250\u001b[39m, in \u001b[36mHTTPTransport.handle_request\u001b[39m\u001b[34m(self, request)\u001b[39m\n\u001b[32m    249\u001b[39m \u001b[38;5;28;01mwith\u001b[39;00m map_httpcore_exceptions():\n\u001b[32m--> \u001b[39m\u001b[32m250\u001b[39m     resp = \u001b[38;5;28;43mself\u001b[39;49m\u001b[43m.\u001b[49m\u001b[43m_pool\u001b[49m\u001b[43m.\u001b[49m\u001b[43mhandle_request\u001b[49m\u001b[43m(\u001b[49m\u001b[43mreq\u001b[49m\u001b[43m)\u001b[49m\n\u001b[32m    252\u001b[39m \u001b[38;5;28;01massert\u001b[39;00m \u001b[38;5;28misinstance\u001b[39m(resp.stream, typing.Iterable)\n",
      "\u001b[36mFile \u001b[39m\u001b[32mc:\\Users\\panda\\OneDrive\\Documents\\mcd\\proyectoCenace\\.venv\\Lib\\site-packages\\httpcore\\_sync\\connection_pool.py:256\u001b[39m, in \u001b[36mConnectionPool.handle_request\u001b[39m\u001b[34m(self, request)\u001b[39m\n\u001b[32m    255\u001b[39m     \u001b[38;5;28mself\u001b[39m._close_connections(closing)\n\u001b[32m--> \u001b[39m\u001b[32m256\u001b[39m     \u001b[38;5;28;01mraise\u001b[39;00m exc \u001b[38;5;28;01mfrom\u001b[39;00m\u001b[38;5;250m \u001b[39m\u001b[38;5;28;01mNone\u001b[39;00m\n\u001b[32m    258\u001b[39m \u001b[38;5;66;03m# Return the response. Note that in this case we still have to manage\u001b[39;00m\n\u001b[32m    259\u001b[39m \u001b[38;5;66;03m# the point at which the response is closed.\u001b[39;00m\n",
      "\u001b[36mFile \u001b[39m\u001b[32mc:\\Users\\panda\\OneDrive\\Documents\\mcd\\proyectoCenace\\.venv\\Lib\\site-packages\\httpcore\\_sync\\connection_pool.py:236\u001b[39m, in \u001b[36mConnectionPool.handle_request\u001b[39m\u001b[34m(self, request)\u001b[39m\n\u001b[32m    234\u001b[39m \u001b[38;5;28;01mtry\u001b[39;00m:\n\u001b[32m    235\u001b[39m     \u001b[38;5;66;03m# Send the request on the assigned connection.\u001b[39;00m\n\u001b[32m--> \u001b[39m\u001b[32m236\u001b[39m     response = \u001b[43mconnection\u001b[49m\u001b[43m.\u001b[49m\u001b[43mhandle_request\u001b[49m\u001b[43m(\u001b[49m\n\u001b[32m    237\u001b[39m \u001b[43m        \u001b[49m\u001b[43mpool_request\u001b[49m\u001b[43m.\u001b[49m\u001b[43mrequest\u001b[49m\n\u001b[32m    238\u001b[39m \u001b[43m    \u001b[49m\u001b[43m)\u001b[49m\n\u001b[32m    239\u001b[39m \u001b[38;5;28;01mexcept\u001b[39;00m ConnectionNotAvailable:\n\u001b[32m    240\u001b[39m     \u001b[38;5;66;03m# In some cases a connection may initially be available to\u001b[39;00m\n\u001b[32m    241\u001b[39m     \u001b[38;5;66;03m# handle a request, but then become unavailable.\u001b[39;00m\n\u001b[32m    242\u001b[39m     \u001b[38;5;66;03m#\u001b[39;00m\n\u001b[32m    243\u001b[39m     \u001b[38;5;66;03m# In this case we clear the connection and try again.\u001b[39;00m\n",
      "\u001b[36mFile \u001b[39m\u001b[32mc:\\Users\\panda\\OneDrive\\Documents\\mcd\\proyectoCenace\\.venv\\Lib\\site-packages\\httpcore\\_sync\\connection.py:101\u001b[39m, in \u001b[36mHTTPConnection.handle_request\u001b[39m\u001b[34m(self, request)\u001b[39m\n\u001b[32m    100\u001b[39m     \u001b[38;5;28mself\u001b[39m._connect_failed = \u001b[38;5;28;01mTrue\u001b[39;00m\n\u001b[32m--> \u001b[39m\u001b[32m101\u001b[39m     \u001b[38;5;28;01mraise\u001b[39;00m exc\n\u001b[32m    103\u001b[39m \u001b[38;5;28;01mreturn\u001b[39;00m \u001b[38;5;28mself\u001b[39m._connection.handle_request(request)\n",
      "\u001b[36mFile \u001b[39m\u001b[32mc:\\Users\\panda\\OneDrive\\Documents\\mcd\\proyectoCenace\\.venv\\Lib\\site-packages\\httpcore\\_sync\\connection.py:78\u001b[39m, in \u001b[36mHTTPConnection.handle_request\u001b[39m\u001b[34m(self, request)\u001b[39m\n\u001b[32m     77\u001b[39m \u001b[38;5;28;01mif\u001b[39;00m \u001b[38;5;28mself\u001b[39m._connection \u001b[38;5;129;01mis\u001b[39;00m \u001b[38;5;28;01mNone\u001b[39;00m:\n\u001b[32m---> \u001b[39m\u001b[32m78\u001b[39m     stream = \u001b[38;5;28;43mself\u001b[39;49m\u001b[43m.\u001b[49m\u001b[43m_connect\u001b[49m\u001b[43m(\u001b[49m\u001b[43mrequest\u001b[49m\u001b[43m)\u001b[49m\n\u001b[32m     80\u001b[39m     ssl_object = stream.get_extra_info(\u001b[33m\"\u001b[39m\u001b[33mssl_object\u001b[39m\u001b[33m\"\u001b[39m)\n",
      "\u001b[36mFile \u001b[39m\u001b[32mc:\\Users\\panda\\OneDrive\\Documents\\mcd\\proyectoCenace\\.venv\\Lib\\site-packages\\httpcore\\_sync\\connection.py:124\u001b[39m, in \u001b[36mHTTPConnection._connect\u001b[39m\u001b[34m(self, request)\u001b[39m\n\u001b[32m    123\u001b[39m \u001b[38;5;28;01mwith\u001b[39;00m Trace(\u001b[33m\"\u001b[39m\u001b[33mconnect_tcp\u001b[39m\u001b[33m\"\u001b[39m, logger, request, kwargs) \u001b[38;5;28;01mas\u001b[39;00m trace:\n\u001b[32m--> \u001b[39m\u001b[32m124\u001b[39m     stream = \u001b[38;5;28;43mself\u001b[39;49m\u001b[43m.\u001b[49m\u001b[43m_network_backend\u001b[49m\u001b[43m.\u001b[49m\u001b[43mconnect_tcp\u001b[49m\u001b[43m(\u001b[49m\u001b[43m*\u001b[49m\u001b[43m*\u001b[49m\u001b[43mkwargs\u001b[49m\u001b[43m)\u001b[49m\n\u001b[32m    125\u001b[39m     trace.return_value = stream\n",
      "\u001b[36mFile \u001b[39m\u001b[32mc:\\Users\\panda\\OneDrive\\Documents\\mcd\\proyectoCenace\\.venv\\Lib\\site-packages\\httpcore\\_backends\\sync.py:207\u001b[39m, in \u001b[36mSyncBackend.connect_tcp\u001b[39m\u001b[34m(self, host, port, timeout, local_address, socket_options)\u001b[39m\n\u001b[32m    202\u001b[39m exc_map: ExceptionMapping = {\n\u001b[32m    203\u001b[39m     socket.timeout: ConnectTimeout,\n\u001b[32m    204\u001b[39m     \u001b[38;5;167;01mOSError\u001b[39;00m: ConnectError,\n\u001b[32m    205\u001b[39m }\n\u001b[32m--> \u001b[39m\u001b[32m207\u001b[39m \u001b[38;5;28;01mwith\u001b[39;00m map_exceptions(exc_map):\n\u001b[32m    208\u001b[39m     sock = socket.create_connection(\n\u001b[32m    209\u001b[39m         address,\n\u001b[32m    210\u001b[39m         timeout,\n\u001b[32m    211\u001b[39m         source_address=source_address,\n\u001b[32m    212\u001b[39m     )\n",
      "\u001b[36mFile \u001b[39m\u001b[32m~\\AppData\\Roaming\\uv\\python\\cpython-3.12.9-windows-x86_64-none\\Lib\\contextlib.py:158\u001b[39m, in \u001b[36m_GeneratorContextManager.__exit__\u001b[39m\u001b[34m(self, typ, value, traceback)\u001b[39m\n\u001b[32m    157\u001b[39m \u001b[38;5;28;01mtry\u001b[39;00m:\n\u001b[32m--> \u001b[39m\u001b[32m158\u001b[39m     \u001b[38;5;28;43mself\u001b[39;49m\u001b[43m.\u001b[49m\u001b[43mgen\u001b[49m\u001b[43m.\u001b[49m\u001b[43mthrow\u001b[49m\u001b[43m(\u001b[49m\u001b[43mvalue\u001b[49m\u001b[43m)\u001b[49m\n\u001b[32m    159\u001b[39m \u001b[38;5;28;01mexcept\u001b[39;00m \u001b[38;5;167;01mStopIteration\u001b[39;00m \u001b[38;5;28;01mas\u001b[39;00m exc:\n\u001b[32m    160\u001b[39m     \u001b[38;5;66;03m# Suppress StopIteration *unless* it's the same exception that\u001b[39;00m\n\u001b[32m    161\u001b[39m     \u001b[38;5;66;03m# was passed to throw().  This prevents a StopIteration\u001b[39;00m\n\u001b[32m    162\u001b[39m     \u001b[38;5;66;03m# raised inside the \"with\" statement from being suppressed.\u001b[39;00m\n",
      "\u001b[36mFile \u001b[39m\u001b[32mc:\\Users\\panda\\OneDrive\\Documents\\mcd\\proyectoCenace\\.venv\\Lib\\site-packages\\httpcore\\_exceptions.py:14\u001b[39m, in \u001b[36mmap_exceptions\u001b[39m\u001b[34m(map)\u001b[39m\n\u001b[32m     13\u001b[39m     \u001b[38;5;28;01mif\u001b[39;00m \u001b[38;5;28misinstance\u001b[39m(exc, from_exc):\n\u001b[32m---> \u001b[39m\u001b[32m14\u001b[39m         \u001b[38;5;28;01mraise\u001b[39;00m to_exc(exc) \u001b[38;5;28;01mfrom\u001b[39;00m\u001b[38;5;250m \u001b[39m\u001b[34;01mexc\u001b[39;00m\n\u001b[32m     15\u001b[39m \u001b[38;5;28;01mraise\u001b[39;00m\n",
      "\u001b[31mConnectError\u001b[39m: [WinError 10061] No se puede establecer una conexión ya que el equipo de destino denegó expresamente dicha conexión",
      "\nThe above exception was the direct cause of the following exception:\n",
      "\u001b[31mConnectError\u001b[39m                              Traceback (most recent call last)",
      "\u001b[36mCell\u001b[39m\u001b[36m \u001b[39m\u001b[32mIn[2]\u001b[39m\u001b[32m, line 2\u001b[39m\n\u001b[32m      1\u001b[39m \u001b[38;5;28;01mfrom\u001b[39;00m\u001b[38;5;250m \u001b[39m\u001b[34;01mlangchain_ollama\u001b[39;00m\u001b[38;5;250m \u001b[39m\u001b[38;5;28;01mimport\u001b[39;00m ChatOllama\n\u001b[32m----> \u001b[39m\u001b[32m2\u001b[39m \u001b[43mChatOllama\u001b[49m\u001b[43m(\u001b[49m\u001b[43mmodel\u001b[49m\u001b[43m=\u001b[49m\u001b[33;43m'\u001b[39;49m\u001b[33;43mphi4\u001b[39;49m\u001b[33;43m'\u001b[39;49m\u001b[43m,\u001b[49m\u001b[43m \u001b[49m\u001b[43mbase_url\u001b[49m\u001b[43m=\u001b[49m\u001b[33;43m'\u001b[39;49m\u001b[33;43mlocalhost:11434\u001b[39;49m\u001b[33;43m'\u001b[39;49m\u001b[43m)\u001b[49m\u001b[43m.\u001b[49m\u001b[43minvoke\u001b[49m\u001b[43m(\u001b[49m\u001b[33;43m'\u001b[39;49m\u001b[33;43mhola!\u001b[39;49m\u001b[33;43m'\u001b[39;49m\u001b[43m)\u001b[49m\n",
      "\u001b[36mFile \u001b[39m\u001b[32mc:\\Users\\panda\\OneDrive\\Documents\\mcd\\proyectoCenace\\.venv\\Lib\\site-packages\\langchain_core\\language_models\\chat_models.py:307\u001b[39m, in \u001b[36mBaseChatModel.invoke\u001b[39m\u001b[34m(self, input, config, stop, **kwargs)\u001b[39m\n\u001b[32m    296\u001b[39m \u001b[38;5;28;01mdef\u001b[39;00m\u001b[38;5;250m \u001b[39m\u001b[34minvoke\u001b[39m(\n\u001b[32m    297\u001b[39m     \u001b[38;5;28mself\u001b[39m,\n\u001b[32m    298\u001b[39m     \u001b[38;5;28minput\u001b[39m: LanguageModelInput,\n\u001b[32m   (...)\u001b[39m\u001b[32m    302\u001b[39m     **kwargs: Any,\n\u001b[32m    303\u001b[39m ) -> BaseMessage:\n\u001b[32m    304\u001b[39m     config = ensure_config(config)\n\u001b[32m    305\u001b[39m     \u001b[38;5;28;01mreturn\u001b[39;00m cast(\n\u001b[32m    306\u001b[39m         ChatGeneration,\n\u001b[32m--> \u001b[39m\u001b[32m307\u001b[39m         \u001b[38;5;28;43mself\u001b[39;49m\u001b[43m.\u001b[49m\u001b[43mgenerate_prompt\u001b[49m\u001b[43m(\u001b[49m\n\u001b[32m    308\u001b[39m \u001b[43m            \u001b[49m\u001b[43m[\u001b[49m\u001b[38;5;28;43mself\u001b[39;49m\u001b[43m.\u001b[49m\u001b[43m_convert_input\u001b[49m\u001b[43m(\u001b[49m\u001b[38;5;28;43minput\u001b[39;49m\u001b[43m)\u001b[49m\u001b[43m]\u001b[49m\u001b[43m,\u001b[49m\n\u001b[32m    309\u001b[39m \u001b[43m            \u001b[49m\u001b[43mstop\u001b[49m\u001b[43m=\u001b[49m\u001b[43mstop\u001b[49m\u001b[43m,\u001b[49m\n\u001b[32m    310\u001b[39m \u001b[43m            \u001b[49m\u001b[43mcallbacks\u001b[49m\u001b[43m=\u001b[49m\u001b[43mconfig\u001b[49m\u001b[43m.\u001b[49m\u001b[43mget\u001b[49m\u001b[43m(\u001b[49m\u001b[33;43m\"\u001b[39;49m\u001b[33;43mcallbacks\u001b[39;49m\u001b[33;43m\"\u001b[39;49m\u001b[43m)\u001b[49m\u001b[43m,\u001b[49m\n\u001b[32m    311\u001b[39m \u001b[43m            \u001b[49m\u001b[43mtags\u001b[49m\u001b[43m=\u001b[49m\u001b[43mconfig\u001b[49m\u001b[43m.\u001b[49m\u001b[43mget\u001b[49m\u001b[43m(\u001b[49m\u001b[33;43m\"\u001b[39;49m\u001b[33;43mtags\u001b[39;49m\u001b[33;43m\"\u001b[39;49m\u001b[43m)\u001b[49m\u001b[43m,\u001b[49m\n\u001b[32m    312\u001b[39m \u001b[43m            \u001b[49m\u001b[43mmetadata\u001b[49m\u001b[43m=\u001b[49m\u001b[43mconfig\u001b[49m\u001b[43m.\u001b[49m\u001b[43mget\u001b[49m\u001b[43m(\u001b[49m\u001b[33;43m\"\u001b[39;49m\u001b[33;43mmetadata\u001b[39;49m\u001b[33;43m\"\u001b[39;49m\u001b[43m)\u001b[49m\u001b[43m,\u001b[49m\n\u001b[32m    313\u001b[39m \u001b[43m            \u001b[49m\u001b[43mrun_name\u001b[49m\u001b[43m=\u001b[49m\u001b[43mconfig\u001b[49m\u001b[43m.\u001b[49m\u001b[43mget\u001b[49m\u001b[43m(\u001b[49m\u001b[33;43m\"\u001b[39;49m\u001b[33;43mrun_name\u001b[39;49m\u001b[33;43m\"\u001b[39;49m\u001b[43m)\u001b[49m\u001b[43m,\u001b[49m\n\u001b[32m    314\u001b[39m \u001b[43m            \u001b[49m\u001b[43mrun_id\u001b[49m\u001b[43m=\u001b[49m\u001b[43mconfig\u001b[49m\u001b[43m.\u001b[49m\u001b[43mpop\u001b[49m\u001b[43m(\u001b[49m\u001b[33;43m\"\u001b[39;49m\u001b[33;43mrun_id\u001b[39;49m\u001b[33;43m\"\u001b[39;49m\u001b[43m,\u001b[49m\u001b[43m \u001b[49m\u001b[38;5;28;43;01mNone\u001b[39;49;00m\u001b[43m)\u001b[49m\u001b[43m,\u001b[49m\n\u001b[32m    315\u001b[39m \u001b[43m            \u001b[49m\u001b[43m*\u001b[49m\u001b[43m*\u001b[49m\u001b[43mkwargs\u001b[49m\u001b[43m,\u001b[49m\n\u001b[32m    316\u001b[39m \u001b[43m        \u001b[49m\u001b[43m)\u001b[49m.generations[\u001b[32m0\u001b[39m][\u001b[32m0\u001b[39m],\n\u001b[32m    317\u001b[39m     ).message\n",
      "\u001b[36mFile \u001b[39m\u001b[32mc:\\Users\\panda\\OneDrive\\Documents\\mcd\\proyectoCenace\\.venv\\Lib\\site-packages\\langchain_core\\language_models\\chat_models.py:843\u001b[39m, in \u001b[36mBaseChatModel.generate_prompt\u001b[39m\u001b[34m(self, prompts, stop, callbacks, **kwargs)\u001b[39m\n\u001b[32m    835\u001b[39m \u001b[38;5;28;01mdef\u001b[39;00m\u001b[38;5;250m \u001b[39m\u001b[34mgenerate_prompt\u001b[39m(\n\u001b[32m    836\u001b[39m     \u001b[38;5;28mself\u001b[39m,\n\u001b[32m    837\u001b[39m     prompts: \u001b[38;5;28mlist\u001b[39m[PromptValue],\n\u001b[32m   (...)\u001b[39m\u001b[32m    840\u001b[39m     **kwargs: Any,\n\u001b[32m    841\u001b[39m ) -> LLMResult:\n\u001b[32m    842\u001b[39m     prompt_messages = [p.to_messages() \u001b[38;5;28;01mfor\u001b[39;00m p \u001b[38;5;129;01min\u001b[39;00m prompts]\n\u001b[32m--> \u001b[39m\u001b[32m843\u001b[39m     \u001b[38;5;28;01mreturn\u001b[39;00m \u001b[38;5;28;43mself\u001b[39;49m\u001b[43m.\u001b[49m\u001b[43mgenerate\u001b[49m\u001b[43m(\u001b[49m\u001b[43mprompt_messages\u001b[49m\u001b[43m,\u001b[49m\u001b[43m \u001b[49m\u001b[43mstop\u001b[49m\u001b[43m=\u001b[49m\u001b[43mstop\u001b[49m\u001b[43m,\u001b[49m\u001b[43m \u001b[49m\u001b[43mcallbacks\u001b[49m\u001b[43m=\u001b[49m\u001b[43mcallbacks\u001b[49m\u001b[43m,\u001b[49m\u001b[43m \u001b[49m\u001b[43m*\u001b[49m\u001b[43m*\u001b[49m\u001b[43mkwargs\u001b[49m\u001b[43m)\u001b[49m\n",
      "\u001b[36mFile \u001b[39m\u001b[32mc:\\Users\\panda\\OneDrive\\Documents\\mcd\\proyectoCenace\\.venv\\Lib\\site-packages\\langchain_core\\language_models\\chat_models.py:683\u001b[39m, in \u001b[36mBaseChatModel.generate\u001b[39m\u001b[34m(self, messages, stop, callbacks, tags, metadata, run_name, run_id, **kwargs)\u001b[39m\n\u001b[32m    680\u001b[39m \u001b[38;5;28;01mfor\u001b[39;00m i, m \u001b[38;5;129;01min\u001b[39;00m \u001b[38;5;28menumerate\u001b[39m(messages):\n\u001b[32m    681\u001b[39m     \u001b[38;5;28;01mtry\u001b[39;00m:\n\u001b[32m    682\u001b[39m         results.append(\n\u001b[32m--> \u001b[39m\u001b[32m683\u001b[39m             \u001b[38;5;28;43mself\u001b[39;49m\u001b[43m.\u001b[49m\u001b[43m_generate_with_cache\u001b[49m\u001b[43m(\u001b[49m\n\u001b[32m    684\u001b[39m \u001b[43m                \u001b[49m\u001b[43mm\u001b[49m\u001b[43m,\u001b[49m\n\u001b[32m    685\u001b[39m \u001b[43m                \u001b[49m\u001b[43mstop\u001b[49m\u001b[43m=\u001b[49m\u001b[43mstop\u001b[49m\u001b[43m,\u001b[49m\n\u001b[32m    686\u001b[39m \u001b[43m                \u001b[49m\u001b[43mrun_manager\u001b[49m\u001b[43m=\u001b[49m\u001b[43mrun_managers\u001b[49m\u001b[43m[\u001b[49m\u001b[43mi\u001b[49m\u001b[43m]\u001b[49m\u001b[43m \u001b[49m\u001b[38;5;28;43;01mif\u001b[39;49;00m\u001b[43m \u001b[49m\u001b[43mrun_managers\u001b[49m\u001b[43m \u001b[49m\u001b[38;5;28;43;01melse\u001b[39;49;00m\u001b[43m \u001b[49m\u001b[38;5;28;43;01mNone\u001b[39;49;00m\u001b[43m,\u001b[49m\n\u001b[32m    687\u001b[39m \u001b[43m                \u001b[49m\u001b[43m*\u001b[49m\u001b[43m*\u001b[49m\u001b[43mkwargs\u001b[49m\u001b[43m,\u001b[49m\n\u001b[32m    688\u001b[39m \u001b[43m            \u001b[49m\u001b[43m)\u001b[49m\n\u001b[32m    689\u001b[39m         )\n\u001b[32m    690\u001b[39m     \u001b[38;5;28;01mexcept\u001b[39;00m \u001b[38;5;167;01mBaseException\u001b[39;00m \u001b[38;5;28;01mas\u001b[39;00m e:\n\u001b[32m    691\u001b[39m         \u001b[38;5;28;01mif\u001b[39;00m run_managers:\n",
      "\u001b[36mFile \u001b[39m\u001b[32mc:\\Users\\panda\\OneDrive\\Documents\\mcd\\proyectoCenace\\.venv\\Lib\\site-packages\\langchain_core\\language_models\\chat_models.py:908\u001b[39m, in \u001b[36mBaseChatModel._generate_with_cache\u001b[39m\u001b[34m(self, messages, stop, run_manager, **kwargs)\u001b[39m\n\u001b[32m    906\u001b[39m \u001b[38;5;28;01melse\u001b[39;00m:\n\u001b[32m    907\u001b[39m     \u001b[38;5;28;01mif\u001b[39;00m inspect.signature(\u001b[38;5;28mself\u001b[39m._generate).parameters.get(\u001b[33m\"\u001b[39m\u001b[33mrun_manager\u001b[39m\u001b[33m\"\u001b[39m):\n\u001b[32m--> \u001b[39m\u001b[32m908\u001b[39m         result = \u001b[38;5;28;43mself\u001b[39;49m\u001b[43m.\u001b[49m\u001b[43m_generate\u001b[49m\u001b[43m(\u001b[49m\n\u001b[32m    909\u001b[39m \u001b[43m            \u001b[49m\u001b[43mmessages\u001b[49m\u001b[43m,\u001b[49m\u001b[43m \u001b[49m\u001b[43mstop\u001b[49m\u001b[43m=\u001b[49m\u001b[43mstop\u001b[49m\u001b[43m,\u001b[49m\u001b[43m \u001b[49m\u001b[43mrun_manager\u001b[49m\u001b[43m=\u001b[49m\u001b[43mrun_manager\u001b[49m\u001b[43m,\u001b[49m\u001b[43m \u001b[49m\u001b[43m*\u001b[49m\u001b[43m*\u001b[49m\u001b[43mkwargs\u001b[49m\n\u001b[32m    910\u001b[39m \u001b[43m        \u001b[49m\u001b[43m)\u001b[49m\n\u001b[32m    911\u001b[39m     \u001b[38;5;28;01melse\u001b[39;00m:\n\u001b[32m    912\u001b[39m         result = \u001b[38;5;28mself\u001b[39m._generate(messages, stop=stop, **kwargs)\n",
      "\u001b[36mFile \u001b[39m\u001b[32mc:\\Users\\panda\\OneDrive\\Documents\\mcd\\proyectoCenace\\.venv\\Lib\\site-packages\\langchain_ollama\\chat_models.py:701\u001b[39m, in \u001b[36mChatOllama._generate\u001b[39m\u001b[34m(self, messages, stop, run_manager, **kwargs)\u001b[39m\n\u001b[32m    694\u001b[39m \u001b[38;5;28;01mdef\u001b[39;00m\u001b[38;5;250m \u001b[39m\u001b[34m_generate\u001b[39m(\n\u001b[32m    695\u001b[39m     \u001b[38;5;28mself\u001b[39m,\n\u001b[32m    696\u001b[39m     messages: List[BaseMessage],\n\u001b[32m   (...)\u001b[39m\u001b[32m    699\u001b[39m     **kwargs: Any,\n\u001b[32m    700\u001b[39m ) -> ChatResult:\n\u001b[32m--> \u001b[39m\u001b[32m701\u001b[39m     final_chunk = \u001b[38;5;28;43mself\u001b[39;49m\u001b[43m.\u001b[49m\u001b[43m_chat_stream_with_aggregation\u001b[49m\u001b[43m(\u001b[49m\n\u001b[32m    702\u001b[39m \u001b[43m        \u001b[49m\u001b[43mmessages\u001b[49m\u001b[43m,\u001b[49m\u001b[43m \u001b[49m\u001b[43mstop\u001b[49m\u001b[43m,\u001b[49m\u001b[43m \u001b[49m\u001b[43mrun_manager\u001b[49m\u001b[43m,\u001b[49m\u001b[43m \u001b[49m\u001b[43mverbose\u001b[49m\u001b[43m=\u001b[49m\u001b[38;5;28;43mself\u001b[39;49m\u001b[43m.\u001b[49m\u001b[43mverbose\u001b[49m\u001b[43m,\u001b[49m\u001b[43m \u001b[49m\u001b[43m*\u001b[49m\u001b[43m*\u001b[49m\u001b[43mkwargs\u001b[49m\n\u001b[32m    703\u001b[39m \u001b[43m    \u001b[49m\u001b[43m)\u001b[49m\n\u001b[32m    704\u001b[39m     generation_info = final_chunk.generation_info\n\u001b[32m    705\u001b[39m     chat_generation = ChatGeneration(\n\u001b[32m    706\u001b[39m         message=AIMessage(\n\u001b[32m    707\u001b[39m             content=final_chunk.text,\n\u001b[32m   (...)\u001b[39m\u001b[32m    711\u001b[39m         generation_info=generation_info,\n\u001b[32m    712\u001b[39m     )\n",
      "\u001b[36mFile \u001b[39m\u001b[32mc:\\Users\\panda\\OneDrive\\Documents\\mcd\\proyectoCenace\\.venv\\Lib\\site-packages\\langchain_ollama\\chat_models.py:602\u001b[39m, in \u001b[36mChatOllama._chat_stream_with_aggregation\u001b[39m\u001b[34m(self, messages, stop, run_manager, verbose, **kwargs)\u001b[39m\n\u001b[32m    593\u001b[39m \u001b[38;5;28;01mdef\u001b[39;00m\u001b[38;5;250m \u001b[39m\u001b[34m_chat_stream_with_aggregation\u001b[39m(\n\u001b[32m    594\u001b[39m     \u001b[38;5;28mself\u001b[39m,\n\u001b[32m    595\u001b[39m     messages: List[BaseMessage],\n\u001b[32m   (...)\u001b[39m\u001b[32m    599\u001b[39m     **kwargs: Any,\n\u001b[32m    600\u001b[39m ) -> ChatGenerationChunk:\n\u001b[32m    601\u001b[39m     final_chunk = \u001b[38;5;28;01mNone\u001b[39;00m\n\u001b[32m--> \u001b[39m\u001b[32m602\u001b[39m \u001b[43m    \u001b[49m\u001b[38;5;28;43;01mfor\u001b[39;49;00m\u001b[43m \u001b[49m\u001b[43mstream_resp\u001b[49m\u001b[43m \u001b[49m\u001b[38;5;129;43;01min\u001b[39;49;00m\u001b[43m \u001b[49m\u001b[38;5;28;43mself\u001b[39;49m\u001b[43m.\u001b[49m\u001b[43m_create_chat_stream\u001b[49m\u001b[43m(\u001b[49m\u001b[43mmessages\u001b[49m\u001b[43m,\u001b[49m\u001b[43m \u001b[49m\u001b[43mstop\u001b[49m\u001b[43m,\u001b[49m\u001b[43m \u001b[49m\u001b[43m*\u001b[49m\u001b[43m*\u001b[49m\u001b[43mkwargs\u001b[49m\u001b[43m)\u001b[49m\u001b[43m:\u001b[49m\n\u001b[32m    603\u001b[39m \u001b[43m        \u001b[49m\u001b[38;5;28;43;01mif\u001b[39;49;00m\u001b[43m \u001b[49m\u001b[38;5;129;43;01mnot\u001b[39;49;00m\u001b[43m \u001b[49m\u001b[38;5;28;43misinstance\u001b[39;49m\u001b[43m(\u001b[49m\u001b[43mstream_resp\u001b[49m\u001b[43m,\u001b[49m\u001b[43m \u001b[49m\u001b[38;5;28;43mstr\u001b[39;49m\u001b[43m)\u001b[49m\u001b[43m:\u001b[49m\n\u001b[32m    604\u001b[39m \u001b[43m            \u001b[49m\u001b[43mchunk\u001b[49m\u001b[43m \u001b[49m\u001b[43m=\u001b[49m\u001b[43m \u001b[49m\u001b[43mChatGenerationChunk\u001b[49m\u001b[43m(\u001b[49m\n\u001b[32m    605\u001b[39m \u001b[43m                \u001b[49m\u001b[43mmessage\u001b[49m\u001b[43m=\u001b[49m\u001b[43mAIMessageChunk\u001b[49m\u001b[43m(\u001b[49m\n\u001b[32m    606\u001b[39m \u001b[43m                    \u001b[49m\u001b[43mcontent\u001b[49m\u001b[43m=\u001b[49m\u001b[43m(\u001b[49m\n\u001b[32m   (...)\u001b[39m\u001b[32m    619\u001b[39m \u001b[43m                \u001b[49m\u001b[43m)\u001b[49m\u001b[43m,\u001b[49m\n\u001b[32m    620\u001b[39m \u001b[43m            \u001b[49m\u001b[43m)\u001b[49m\n",
      "\u001b[36mFile \u001b[39m\u001b[32mc:\\Users\\panda\\OneDrive\\Documents\\mcd\\proyectoCenace\\.venv\\Lib\\site-packages\\langchain_ollama\\chat_models.py:589\u001b[39m, in \u001b[36mChatOllama._create_chat_stream\u001b[39m\u001b[34m(self, messages, stop, **kwargs)\u001b[39m\n\u001b[32m    586\u001b[39m chat_params = \u001b[38;5;28mself\u001b[39m._chat_params(messages, stop, **kwargs)\n\u001b[32m    588\u001b[39m \u001b[38;5;28;01mif\u001b[39;00m chat_params[\u001b[33m\"\u001b[39m\u001b[33mstream\u001b[39m\u001b[33m\"\u001b[39m]:\n\u001b[32m--> \u001b[39m\u001b[32m589\u001b[39m     \u001b[38;5;28;01myield from\u001b[39;00m \u001b[38;5;28mself\u001b[39m._client.chat(**chat_params)\n\u001b[32m    590\u001b[39m \u001b[38;5;28;01melse\u001b[39;00m:\n\u001b[32m    591\u001b[39m     \u001b[38;5;28;01myield\u001b[39;00m \u001b[38;5;28mself\u001b[39m._client.chat(**chat_params)\n",
      "\u001b[36mFile \u001b[39m\u001b[32mc:\\Users\\panda\\OneDrive\\Documents\\mcd\\proyectoCenace\\.venv\\Lib\\site-packages\\ollama\\_client.py:163\u001b[39m, in \u001b[36mClient._request.<locals>.inner\u001b[39m\u001b[34m()\u001b[39m\n\u001b[32m    162\u001b[39m \u001b[38;5;28;01mdef\u001b[39;00m\u001b[38;5;250m \u001b[39m\u001b[34minner\u001b[39m():\n\u001b[32m--> \u001b[39m\u001b[32m163\u001b[39m \u001b[43m  \u001b[49m\u001b[38;5;28;43;01mwith\u001b[39;49;00m\u001b[43m \u001b[49m\u001b[38;5;28;43mself\u001b[39;49m\u001b[43m.\u001b[49m\u001b[43m_client\u001b[49m\u001b[43m.\u001b[49m\u001b[43mstream\u001b[49m\u001b[43m(\u001b[49m\u001b[43m*\u001b[49m\u001b[43margs\u001b[49m\u001b[43m,\u001b[49m\u001b[43m \u001b[49m\u001b[43m*\u001b[49m\u001b[43m*\u001b[49m\u001b[43mkwargs\u001b[49m\u001b[43m)\u001b[49m\u001b[43m \u001b[49m\u001b[38;5;28;43;01mas\u001b[39;49;00m\u001b[43m \u001b[49m\u001b[43mr\u001b[49m\u001b[43m:\u001b[49m\n\u001b[32m    164\u001b[39m \u001b[43m    \u001b[49m\u001b[38;5;28;43;01mtry\u001b[39;49;00m\u001b[43m:\u001b[49m\n\u001b[32m    165\u001b[39m \u001b[43m      \u001b[49m\u001b[43mr\u001b[49m\u001b[43m.\u001b[49m\u001b[43mraise_for_status\u001b[49m\u001b[43m(\u001b[49m\u001b[43m)\u001b[49m\n",
      "\u001b[36mFile \u001b[39m\u001b[32m~\\AppData\\Roaming\\uv\\python\\cpython-3.12.9-windows-x86_64-none\\Lib\\contextlib.py:137\u001b[39m, in \u001b[36m_GeneratorContextManager.__enter__\u001b[39m\u001b[34m(self)\u001b[39m\n\u001b[32m    135\u001b[39m \u001b[38;5;28;01mdel\u001b[39;00m \u001b[38;5;28mself\u001b[39m.args, \u001b[38;5;28mself\u001b[39m.kwds, \u001b[38;5;28mself\u001b[39m.func\n\u001b[32m    136\u001b[39m \u001b[38;5;28;01mtry\u001b[39;00m:\n\u001b[32m--> \u001b[39m\u001b[32m137\u001b[39m     \u001b[38;5;28;01mreturn\u001b[39;00m \u001b[38;5;28;43mnext\u001b[39;49m\u001b[43m(\u001b[49m\u001b[38;5;28;43mself\u001b[39;49m\u001b[43m.\u001b[49m\u001b[43mgen\u001b[49m\u001b[43m)\u001b[49m\n\u001b[32m    138\u001b[39m \u001b[38;5;28;01mexcept\u001b[39;00m \u001b[38;5;167;01mStopIteration\u001b[39;00m:\n\u001b[32m    139\u001b[39m     \u001b[38;5;28;01mraise\u001b[39;00m \u001b[38;5;167;01mRuntimeError\u001b[39;00m(\u001b[33m\"\u001b[39m\u001b[33mgenerator didn\u001b[39m\u001b[33m'\u001b[39m\u001b[33mt yield\u001b[39m\u001b[33m\"\u001b[39m) \u001b[38;5;28;01mfrom\u001b[39;00m\u001b[38;5;250m \u001b[39m\u001b[38;5;28;01mNone\u001b[39;00m\n",
      "\u001b[36mFile \u001b[39m\u001b[32mc:\\Users\\panda\\OneDrive\\Documents\\mcd\\proyectoCenace\\.venv\\Lib\\site-packages\\httpx\\_client.py:868\u001b[39m, in \u001b[36mClient.stream\u001b[39m\u001b[34m(self, method, url, content, data, files, json, params, headers, cookies, auth, follow_redirects, timeout, extensions)\u001b[39m\n\u001b[32m    845\u001b[39m \u001b[38;5;250m\u001b[39m\u001b[33;03m\"\"\"\u001b[39;00m\n\u001b[32m    846\u001b[39m \u001b[33;03mAlternative to `httpx.request()` that streams the response body\u001b[39;00m\n\u001b[32m    847\u001b[39m \u001b[33;03minstead of loading it into memory at once.\u001b[39;00m\n\u001b[32m   (...)\u001b[39m\u001b[32m    853\u001b[39m \u001b[33;03m[0]: /quickstart#streaming-responses\u001b[39;00m\n\u001b[32m    854\u001b[39m \u001b[33;03m\"\"\"\u001b[39;00m\n\u001b[32m    855\u001b[39m request = \u001b[38;5;28mself\u001b[39m.build_request(\n\u001b[32m    856\u001b[39m     method=method,\n\u001b[32m    857\u001b[39m     url=url,\n\u001b[32m   (...)\u001b[39m\u001b[32m    866\u001b[39m     extensions=extensions,\n\u001b[32m    867\u001b[39m )\n\u001b[32m--> \u001b[39m\u001b[32m868\u001b[39m response = \u001b[38;5;28;43mself\u001b[39;49m\u001b[43m.\u001b[49m\u001b[43msend\u001b[49m\u001b[43m(\u001b[49m\n\u001b[32m    869\u001b[39m \u001b[43m    \u001b[49m\u001b[43mrequest\u001b[49m\u001b[43m=\u001b[49m\u001b[43mrequest\u001b[49m\u001b[43m,\u001b[49m\n\u001b[32m    870\u001b[39m \u001b[43m    \u001b[49m\u001b[43mauth\u001b[49m\u001b[43m=\u001b[49m\u001b[43mauth\u001b[49m\u001b[43m,\u001b[49m\n\u001b[32m    871\u001b[39m \u001b[43m    \u001b[49m\u001b[43mfollow_redirects\u001b[49m\u001b[43m=\u001b[49m\u001b[43mfollow_redirects\u001b[49m\u001b[43m,\u001b[49m\n\u001b[32m    872\u001b[39m \u001b[43m    \u001b[49m\u001b[43mstream\u001b[49m\u001b[43m=\u001b[49m\u001b[38;5;28;43;01mTrue\u001b[39;49;00m\u001b[43m,\u001b[49m\n\u001b[32m    873\u001b[39m \u001b[43m\u001b[49m\u001b[43m)\u001b[49m\n\u001b[32m    874\u001b[39m \u001b[38;5;28;01mtry\u001b[39;00m:\n\u001b[32m    875\u001b[39m     \u001b[38;5;28;01myield\u001b[39;00m response\n",
      "\u001b[36mFile \u001b[39m\u001b[32mc:\\Users\\panda\\OneDrive\\Documents\\mcd\\proyectoCenace\\.venv\\Lib\\site-packages\\httpx\\_client.py:914\u001b[39m, in \u001b[36mClient.send\u001b[39m\u001b[34m(self, request, stream, auth, follow_redirects)\u001b[39m\n\u001b[32m    910\u001b[39m \u001b[38;5;28mself\u001b[39m._set_timeout(request)\n\u001b[32m    912\u001b[39m auth = \u001b[38;5;28mself\u001b[39m._build_request_auth(request, auth)\n\u001b[32m--> \u001b[39m\u001b[32m914\u001b[39m response = \u001b[38;5;28;43mself\u001b[39;49m\u001b[43m.\u001b[49m\u001b[43m_send_handling_auth\u001b[49m\u001b[43m(\u001b[49m\n\u001b[32m    915\u001b[39m \u001b[43m    \u001b[49m\u001b[43mrequest\u001b[49m\u001b[43m,\u001b[49m\n\u001b[32m    916\u001b[39m \u001b[43m    \u001b[49m\u001b[43mauth\u001b[49m\u001b[43m=\u001b[49m\u001b[43mauth\u001b[49m\u001b[43m,\u001b[49m\n\u001b[32m    917\u001b[39m \u001b[43m    \u001b[49m\u001b[43mfollow_redirects\u001b[49m\u001b[43m=\u001b[49m\u001b[43mfollow_redirects\u001b[49m\u001b[43m,\u001b[49m\n\u001b[32m    918\u001b[39m \u001b[43m    \u001b[49m\u001b[43mhistory\u001b[49m\u001b[43m=\u001b[49m\u001b[43m[\u001b[49m\u001b[43m]\u001b[49m\u001b[43m,\u001b[49m\n\u001b[32m    919\u001b[39m \u001b[43m\u001b[49m\u001b[43m)\u001b[49m\n\u001b[32m    920\u001b[39m \u001b[38;5;28;01mtry\u001b[39;00m:\n\u001b[32m    921\u001b[39m     \u001b[38;5;28;01mif\u001b[39;00m \u001b[38;5;129;01mnot\u001b[39;00m stream:\n",
      "\u001b[36mFile \u001b[39m\u001b[32mc:\\Users\\panda\\OneDrive\\Documents\\mcd\\proyectoCenace\\.venv\\Lib\\site-packages\\httpx\\_client.py:942\u001b[39m, in \u001b[36mClient._send_handling_auth\u001b[39m\u001b[34m(self, request, auth, follow_redirects, history)\u001b[39m\n\u001b[32m    939\u001b[39m request = \u001b[38;5;28mnext\u001b[39m(auth_flow)\n\u001b[32m    941\u001b[39m \u001b[38;5;28;01mwhile\u001b[39;00m \u001b[38;5;28;01mTrue\u001b[39;00m:\n\u001b[32m--> \u001b[39m\u001b[32m942\u001b[39m     response = \u001b[38;5;28;43mself\u001b[39;49m\u001b[43m.\u001b[49m\u001b[43m_send_handling_redirects\u001b[49m\u001b[43m(\u001b[49m\n\u001b[32m    943\u001b[39m \u001b[43m        \u001b[49m\u001b[43mrequest\u001b[49m\u001b[43m,\u001b[49m\n\u001b[32m    944\u001b[39m \u001b[43m        \u001b[49m\u001b[43mfollow_redirects\u001b[49m\u001b[43m=\u001b[49m\u001b[43mfollow_redirects\u001b[49m\u001b[43m,\u001b[49m\n\u001b[32m    945\u001b[39m \u001b[43m        \u001b[49m\u001b[43mhistory\u001b[49m\u001b[43m=\u001b[49m\u001b[43mhistory\u001b[49m\u001b[43m,\u001b[49m\n\u001b[32m    946\u001b[39m \u001b[43m    \u001b[49m\u001b[43m)\u001b[49m\n\u001b[32m    947\u001b[39m     \u001b[38;5;28;01mtry\u001b[39;00m:\n\u001b[32m    948\u001b[39m         \u001b[38;5;28;01mtry\u001b[39;00m:\n",
      "\u001b[36mFile \u001b[39m\u001b[32mc:\\Users\\panda\\OneDrive\\Documents\\mcd\\proyectoCenace\\.venv\\Lib\\site-packages\\httpx\\_client.py:979\u001b[39m, in \u001b[36mClient._send_handling_redirects\u001b[39m\u001b[34m(self, request, follow_redirects, history)\u001b[39m\n\u001b[32m    976\u001b[39m \u001b[38;5;28;01mfor\u001b[39;00m hook \u001b[38;5;129;01min\u001b[39;00m \u001b[38;5;28mself\u001b[39m._event_hooks[\u001b[33m\"\u001b[39m\u001b[33mrequest\u001b[39m\u001b[33m\"\u001b[39m]:\n\u001b[32m    977\u001b[39m     hook(request)\n\u001b[32m--> \u001b[39m\u001b[32m979\u001b[39m response = \u001b[38;5;28;43mself\u001b[39;49m\u001b[43m.\u001b[49m\u001b[43m_send_single_request\u001b[49m\u001b[43m(\u001b[49m\u001b[43mrequest\u001b[49m\u001b[43m)\u001b[49m\n\u001b[32m    980\u001b[39m \u001b[38;5;28;01mtry\u001b[39;00m:\n\u001b[32m    981\u001b[39m     \u001b[38;5;28;01mfor\u001b[39;00m hook \u001b[38;5;129;01min\u001b[39;00m \u001b[38;5;28mself\u001b[39m._event_hooks[\u001b[33m\"\u001b[39m\u001b[33mresponse\u001b[39m\u001b[33m\"\u001b[39m]:\n",
      "\u001b[36mFile \u001b[39m\u001b[32mc:\\Users\\panda\\OneDrive\\Documents\\mcd\\proyectoCenace\\.venv\\Lib\\site-packages\\httpx\\_client.py:1014\u001b[39m, in \u001b[36mClient._send_single_request\u001b[39m\u001b[34m(self, request)\u001b[39m\n\u001b[32m   1009\u001b[39m     \u001b[38;5;28;01mraise\u001b[39;00m \u001b[38;5;167;01mRuntimeError\u001b[39;00m(\n\u001b[32m   1010\u001b[39m         \u001b[33m\"\u001b[39m\u001b[33mAttempted to send an async request with a sync Client instance.\u001b[39m\u001b[33m\"\u001b[39m\n\u001b[32m   1011\u001b[39m     )\n\u001b[32m   1013\u001b[39m \u001b[38;5;28;01mwith\u001b[39;00m request_context(request=request):\n\u001b[32m-> \u001b[39m\u001b[32m1014\u001b[39m     response = \u001b[43mtransport\u001b[49m\u001b[43m.\u001b[49m\u001b[43mhandle_request\u001b[49m\u001b[43m(\u001b[49m\u001b[43mrequest\u001b[49m\u001b[43m)\u001b[49m\n\u001b[32m   1016\u001b[39m \u001b[38;5;28;01massert\u001b[39;00m \u001b[38;5;28misinstance\u001b[39m(response.stream, SyncByteStream)\n\u001b[32m   1018\u001b[39m response.request = request\n",
      "\u001b[36mFile \u001b[39m\u001b[32mc:\\Users\\panda\\OneDrive\\Documents\\mcd\\proyectoCenace\\.venv\\Lib\\site-packages\\httpx\\_transports\\default.py:249\u001b[39m, in \u001b[36mHTTPTransport.handle_request\u001b[39m\u001b[34m(self, request)\u001b[39m\n\u001b[32m    235\u001b[39m \u001b[38;5;28;01mimport\u001b[39;00m\u001b[38;5;250m \u001b[39m\u001b[34;01mhttpcore\u001b[39;00m\n\u001b[32m    237\u001b[39m req = httpcore.Request(\n\u001b[32m    238\u001b[39m     method=request.method,\n\u001b[32m    239\u001b[39m     url=httpcore.URL(\n\u001b[32m   (...)\u001b[39m\u001b[32m    247\u001b[39m     extensions=request.extensions,\n\u001b[32m    248\u001b[39m )\n\u001b[32m--> \u001b[39m\u001b[32m249\u001b[39m \u001b[38;5;28;01mwith\u001b[39;00m map_httpcore_exceptions():\n\u001b[32m    250\u001b[39m     resp = \u001b[38;5;28mself\u001b[39m._pool.handle_request(req)\n\u001b[32m    252\u001b[39m \u001b[38;5;28;01massert\u001b[39;00m \u001b[38;5;28misinstance\u001b[39m(resp.stream, typing.Iterable)\n",
      "\u001b[36mFile \u001b[39m\u001b[32m~\\AppData\\Roaming\\uv\\python\\cpython-3.12.9-windows-x86_64-none\\Lib\\contextlib.py:158\u001b[39m, in \u001b[36m_GeneratorContextManager.__exit__\u001b[39m\u001b[34m(self, typ, value, traceback)\u001b[39m\n\u001b[32m    156\u001b[39m     value = typ()\n\u001b[32m    157\u001b[39m \u001b[38;5;28;01mtry\u001b[39;00m:\n\u001b[32m--> \u001b[39m\u001b[32m158\u001b[39m     \u001b[38;5;28;43mself\u001b[39;49m\u001b[43m.\u001b[49m\u001b[43mgen\u001b[49m\u001b[43m.\u001b[49m\u001b[43mthrow\u001b[49m\u001b[43m(\u001b[49m\u001b[43mvalue\u001b[49m\u001b[43m)\u001b[49m\n\u001b[32m    159\u001b[39m \u001b[38;5;28;01mexcept\u001b[39;00m \u001b[38;5;167;01mStopIteration\u001b[39;00m \u001b[38;5;28;01mas\u001b[39;00m exc:\n\u001b[32m    160\u001b[39m     \u001b[38;5;66;03m# Suppress StopIteration *unless* it's the same exception that\u001b[39;00m\n\u001b[32m    161\u001b[39m     \u001b[38;5;66;03m# was passed to throw().  This prevents a StopIteration\u001b[39;00m\n\u001b[32m    162\u001b[39m     \u001b[38;5;66;03m# raised inside the \"with\" statement from being suppressed.\u001b[39;00m\n\u001b[32m    163\u001b[39m     \u001b[38;5;28;01mreturn\u001b[39;00m exc \u001b[38;5;129;01mis\u001b[39;00m \u001b[38;5;129;01mnot\u001b[39;00m value\n",
      "\u001b[36mFile \u001b[39m\u001b[32mc:\\Users\\panda\\OneDrive\\Documents\\mcd\\proyectoCenace\\.venv\\Lib\\site-packages\\httpx\\_transports\\default.py:118\u001b[39m, in \u001b[36mmap_httpcore_exceptions\u001b[39m\u001b[34m()\u001b[39m\n\u001b[32m    115\u001b[39m     \u001b[38;5;28;01mraise\u001b[39;00m\n\u001b[32m    117\u001b[39m message = \u001b[38;5;28mstr\u001b[39m(exc)\n\u001b[32m--> \u001b[39m\u001b[32m118\u001b[39m \u001b[38;5;28;01mraise\u001b[39;00m mapped_exc(message) \u001b[38;5;28;01mfrom\u001b[39;00m\u001b[38;5;250m \u001b[39m\u001b[34;01mexc\u001b[39;00m\n",
      "\u001b[31mConnectError\u001b[39m: [WinError 10061] No se puede establecer una conexión ya que el equipo de destino denegó expresamente dicha conexión"
     ]
    }
   ],
   "source": [
    "from langchain_ollama import ChatOllama\n",
    "ChatOllama(model='phi4', base_url='localhost:11434').invoke('hola!')"
   ]
  },
  {
   "cell_type": "code",
   "execution_count": null,
   "metadata": {},
   "outputs": [],
   "source": [
    "from langchain_ollama import ChatOllama\n",
    "from cenacellm.langchain.assistant import OllamaAssistant"
   ]
  },
  {
   "cell_type": "code",
   "execution_count": null,
   "metadata": {},
   "outputs": [],
   "source": [
    "user_query = \"\"\" Tengo el siguiente incidente y necesito ayuda para resolverlo:\n",
    "Titulo del ticket: Revisión de SIREL por falta de Envio de TL a Nivel Superior\n",
    "\n",
    "Descripción: Buenas noches, para solicitar de favor se revise en sistema SIREL la \n",
    "falta de envío de términos de licencias a nivel superior. Cuando estas vienen de \n",
    "solicitudes autorizadas por ellos. Enseguida muestro como evidencia LM de LT CHO \n",
    "93660 LOU, la cual se retiro a las 16:31 Hrs local de Sonora y en Relatorio no se\n",
    "palomeo la pestaña a Nivel Superior, lo cual provoca que México llame para solicitar \n",
    "dicho termino de licencia vía voz. Como precedente ya se ha tenido mismo problema en \n",
    "días anteriores.\n",
    "\"\"\""
   ]
  },
  {
   "cell_type": "code",
   "execution_count": null,
   "metadata": {},
   "outputs": [],
   "source": [
    "assistant = OllamaAssistant()"
   ]
  },
  {
   "cell_type": "code",
   "execution_count": null,
   "metadata": {},
   "outputs": [],
   "source": [
    "res = assistant.inquiry(user_query, 'Angel')"
   ]
  },
  {
   "cell_type": "code",
   "execution_count": null,
   "metadata": {},
   "outputs": [],
   "source": [
    "import pprint"
   ]
  },
  {
   "cell_type": "code",
   "execution_count": null,
   "metadata": {},
   "outputs": [
    {
     "name": "stdout",
     "output_type": "stream",
     "text": [
      "('Para resolver el incidente relacionado con la falta de envío de términos de '\n",
      " 'licencias a nivel superior en el sistema SIREL, aquí tienes un plan de '\n",
      " 'acción estructurado:\\n'\n",
      " '\\n'\n",
      " '### 1. **Revisión Inicial del Sistema SIREL**\\n'\n",
      " '\\n'\n",
      " '- **Verificar Procedimientos:** Comienza revisando los procedimientos '\n",
      " 'estándar y las configuraciones dentro del sistema SIREL para asegurar que la '\n",
      " 'funcionalidad para enviar términos de licencias a nivel superior esté '\n",
      " 'habilitada.\\n'\n",
      " '  \\n'\n",
      " '- **Revisión de Caso Específico (LM de LT CHO 93660 LOU):** Analiza el caso '\n",
      " 'específico mencionado. Verifica los registros de actividad del sistema en la '\n",
      " 'fecha y hora indicadas (16:31 Hrs local de Sonora) para identificar dónde '\n",
      " 'falló el proceso.\\n'\n",
      " '\\n'\n",
      " '- **Revisión de Configuraciones de Usuario:** Asegúrate de que todos los '\n",
      " 'usuarios involucrados tengan los permisos adecuados configurados para marcar '\n",
      " 'y enviar términos a nivel superior. Es posible que falten permisos '\n",
      " 'necesarios o que haya errores en la asignación.\\n'\n",
      " '\\n'\n",
      " '### 2. **Diagnóstico de Problemas Comunes**\\n'\n",
      " '\\n'\n",
      " '- **Errores de Sincronización:** Verifica si hay problemas de sincronización '\n",
      " 'entre los sistemas involucrados (SIREL y cualquier otro sistema de '\n",
      " 'comunicación con Nivel Superior) que pudieran estar causando la falta de '\n",
      " 'envío.\\n'\n",
      " '\\n'\n",
      " '- **Configuraciones Automatizadas:** Revisa si existen configuraciones '\n",
      " 'automatizadas o flujos de trabajo que gestionan el envío de términos a nivel '\n",
      " 'superior. Asegúrate de que estén correctamente configurados y activos.\\n'\n",
      " '\\n'\n",
      " '- **Errores del Sistema o Bugs:** Investiga en los registros de errores del '\n",
      " 'sistema durante la fecha específica para identificar si hubo fallos técnicos '\n",
      " 'o bugs que pudieron haber impedido el proceso.\\n'\n",
      " '\\n'\n",
      " '### 3. **Revisión de Documentación e Historial**\\n'\n",
      " '\\n'\n",
      " '- **Documentar Incidentes Pasados:** Revisa los incidentes pasados similares '\n",
      " 'mencionados en el ticket y cualquier resolución aplicada previamente para '\n",
      " 'identificar patrones o errores repetidos.\\n'\n",
      " '\\n'\n",
      " '- **Comunicaciones Internas:** Verifica si hay documentación de '\n",
      " 'comunicaciones internas que indiquen cómo deben manejarse estos procesos. '\n",
      " 'Podría haber instrucciones no actualizadas que estén causando el problema.\\n'\n",
      " '\\n'\n",
      " '### 4. **Pruebas y Validación**\\n'\n",
      " '\\n'\n",
      " '- **Simulación del Proceso:** Realiza una prueba simulando el envío de '\n",
      " 'términos para asegurar que el proceso funcione correctamente después de '\n",
      " 'realizar las correcciones necesarias.\\n'\n",
      " '\\n'\n",
      " '- **Validar Cambios Implementados:** Una vez realizadas las correcciones, '\n",
      " 'verifica si el proceso de envío se completa exitosamente en varios casos de '\n",
      " 'prueba antes de declararlo resuelto.\\n'\n",
      " '\\n'\n",
      " '### 5. **Capacitación y Documentación**\\n'\n",
      " '\\n'\n",
      " '- **Actualización del Manual de Procedimientos:** Asegúrate de que cualquier '\n",
      " 'cambio o ajuste en los procedimientos sea documentado adecuadamente en el '\n",
      " 'manual de operaciones para evitar futuras confusiones.\\n'\n",
      " '\\n'\n",
      " '- **Capacitación al Personal:** Considera realizar una sesión de '\n",
      " 'capacitación breve con el personal involucrado para asegurar que todos estén '\n",
      " 'al tanto de los procesos y las herramientas correctas.\\n'\n",
      " '\\n'\n",
      " '### 6. **Monitoreo Post-Corrección**\\n'\n",
      " '\\n'\n",
      " '- **Seguimiento en Sistemas:** Implementar un mecanismo de seguimiento '\n",
      " 'adicional temporalmente para monitorear el envío exitoso de términos a nivel '\n",
      " 'superior, asegurando que no vuelva a ocurrir el mismo problema.\\n'\n",
      " '\\n'\n",
      " '### 7. **Reporte y Cierre del Ticket**\\n'\n",
      " '\\n'\n",
      " '- **Comunicación al Equipo:** Una vez resuelto, comunica al equipo '\n",
      " 'involucrado y cualquier interesado sobre la solución implementada y los '\n",
      " 'pasos tomados para prevenir futuras incidencias.\\n'\n",
      " '\\n'\n",
      " '- **Cierre Formal del Ticket:** Cierra el ticket oficialmente en el sistema '\n",
      " 'de gestión de incidentes con una descripción clara de lo que se hizo, qué '\n",
      " 'cambios se implementaron y cómo se validó la resolución.\\n'\n",
      " '\\n'\n",
      " 'Siguiendo estos pasos, deberías poder resolver el problema sistemático y '\n",
      " 'minimizar su recurrencia en el futuro.')\n"
     ]
    }
   ],
   "source": [
    "pprint.pprint(res['answer'])"
   ]
  },
  {
   "cell_type": "code",
   "execution_count": null,
   "metadata": {},
   "outputs": [
    {
     "data": {
      "text/plain": [
       "[Document(id='7ce01fd6-ab7a-45f8-80b5-8e77e0ec424e', metadata={'´Categoria': 'ADTR SP7 > SIREL'}, page_content='Título: Reporte de 9c26474ccf3b9e1ce3875c44afff4174 SIREL\\nDescripción: Reporte de 9c26474ccf3b9e1ce3875c44afff4174, en SIREL realizo cambio de estatus a NO AUTORIZADA en solicitud 20221107-00201 y en sub área Hermosillo les permitió e3d8dd69ab57bcb4ed9d764a448bca3f, comenta a3b0d8be3bc69a1c348a6f2ec974a3eb que no debería de permitirles reprogramarla una vez que esta NO AUTORIZADA. Favor de verificar y en caso de ser necesario reportarlo a 8768007d7e27b875dbe581a201d2c096.\"ec97c88ef166501f86503572a354b331\"\\nSolución: El caso ya está escalado con dce993f5c9561264945c580f3690b59fSirel no permite cambiar de estado una solicitud \"cad82e460df8f8f1489621ca7803882a\", pero al parecer la aplicación 38429db15d6b29778f35716ee56e12a2, ni los servicios utilizados por 38429db15d6b29778f35716ee56e12a2 para actualizar en Sirel no tienen dicha validación. '),\n",
       " Document(id='122683df-bb2d-42b6-9733-a4b5dfdc5605', metadata={'´Categoria': 'ADTR SP7 > SIREL'}, page_content='Título: FALLA EN SIREL CON LA DIFERENCIA DE HORARIOS AL ENVIAR SOLICITUDES A NIVEL SUPERIOR. \\nDescripción: El d&iacute;a Lunes 11 de sept. Se reporta una falla en la funcionalidad de SIREL al enviar solicitudes a Nivel Superior.&nbsp;Se reporta la falla y se levanta una d07223b5a2704388e464852384aa70fc en referencia a esta falla.&nbsp;&nbsp;\\nSolución: nan'),\n",
       " Document(id='67df96df-c2bf-4ade-8c49-1d164f773eb3', metadata={'´Categoria': 'ADTR SP7 > SIREL'}, page_content='Título: Reporte de 9c26474ccf3b9e1ce3875c44afff4174 SIREL\\nDescripción: Reporte de 9c26474ccf3b9e1ce3875c44afff4174, en SIREL realizo cambio de estatus a NO AUTORIZADA en solicitud 20221107-00201 y en sub área Hermosillo les permitió e3d8dd69ab57bcb4ed9d764a448bca3f, comenta a3b0d8be3bc69a1c348a6f2ec974a3eb que no debería de permitirles reprogramarla una vez que esta NO AUTORIZADA. Favor de verificar y en caso de ser necesario reportarlo a 8768007d7e27b875dbe581a201d2c096.\"ec97c88ef166501f86503572a354b331\"\\nSolución: Menciona 8768007d7e27b875dbe581a201d2c096 que por órdenes de Operación Nacional se quitaron estas validaciones del servicio.'),\n",
       " Document(id='8c3f8a7c-4da7-4aa5-a660-a6765ccbde91', metadata={'´Categoria': 'ADTR SP7 > SIREL'}, page_content='Título: RV: Licencia duplicada por la misma solicitud en SIREL. (Error de BD marcado durante el proceso de OTORGAR LICENCIA)\\nDescripción:  Para seguimiento     \"ec97c88ef166501f86503572a354b331\" De: 53b5b1afc0bf0966a973f575ef450244: jueves, 18 de enero de 2024 11:23 a. m.Para: a2394a2e202daad6ee97323f81026f9c: 9db6063fef5a6ff8111e259dd35e55bc: Licencia duplicada por la misma solicitud en SIREL. (Error de BD marcado durante el proceso de OTORGAR LICENCIA) Te comparto el reporte que hizo 32ae4857002c8ebbbc42b177674f4add hace unos minutos de una falla en SIREL, para su seguimiento.   La licencia reportada es de la Subestación CHO, equipo bd5ec4ae6ee2664661b5f4c6ca69836b La cual en Sirel existen dos eventos de Licencia otorgada con dos licencias consecutivas para el mismo trabajo (e895bab469fd6264b70ba01bd5ffd1d2 y abf547132c5765799107a0a274b4ba83). En la vista de Licencias del sistema SIREL, solo visualizan la e895bab469fd6264b70ba01bd5ffd1d2, ya que en BD es a la que está referenciada la solicitud. Pero en las tablas de SIREL (en BD están las 2 licencias con estatus de concedidas).  En el Actions Logs de SIREL solo se ve el registro de cuando se otorga la licencia e895bab469fd6264b70ba01bd5ffd1d2. Comenta el Operador que al momento de conceder la licencia (en base a la solicitud que es la 98f2acb82e18389b1fd7b8dca3862a73) le marco un mensaje de error de la base de datos, por lo que cerro la ventana e intentó de nuevo, y fué donde le otorgó la licencia e895bab469fd6264b70ba01bd5ffd1d2. (Pero por los registros que se encontraron en la BD ya había generado una licencia  abf547132c5765799107a0a274b4ba83, pero fué interrumpido el proceso por un error en la base de datos).  Esto ocurrió el día de hoy a las 10:08. En el Registro de Eventos del Sistema podemos ver el mensaje de error que arrojó el SIREL.  Esta es la problemática ocurrida el día de hoy con SIREL.  Cualquier duda o comentario, quedo a la orden. Saludos!\"ec97c88ef166501f86503572a354b331\"\\nSolución: Acorde a lo dicho por 8768007d7e27b875dbe581a201d2c096 esta falla ya se encuentra corregida en la versión 2.0 de SIREL.'),\n",
       " Document(id='668e561a-32d0-4055-9531-5a1e6ce01b95', metadata={'´Categoria': 'ADTR SP7 > SIREL'}, page_content='Título: Re: ERROR SIREL\\nDescripción: b62fb93c4ab2eb78176070681329396e, buenas tardes 9c26474ccf3b9e1ce3875c44afff4174 esta reportando un error en el sistema SIREL, en el módulo de Solicitudes, anexo pantalla y log de errores. 26715b97bb082b3e92bd0ca56e26876b al pendiente 847e38f479dc2879776309da4d5e6f57, si no tienes inconveniente, voy a empezar a generar tickets en la mesa de servicio para darles seguimiento, complementando los reportes de las varianzas.   \"ec97c88ef166501f86503572a354b331\"   De: 5f9d85e0f47b5f1f164c80febc27a1ed: miércoles, 17 de noviembre de 2021 05:24 p. m.Para: 6dfa823bbfdf91e5c996489ecabf7fdc a51336d1107a5775f9b447868de1cc3c ; 3dfcd049cf67ba5322afa31167f2a6dc se presentó otro error de SIREL.....      De: 26be225a36b92039ef48043133dbfe35: viernes, 22 de octubre de 2021 11:50 a. m.Para: 6dfa823bbfdf91e5c996489ecabf7fdc a51336d1107a5775f9b447868de1cc3c ; d533faccc4e139edc6921449f4c83529: ERROR SIREL     \\nSolución: El problema se tenía con el manejo de un índice en el GRID, se corrigió por parte del proveedor y no se han tenido reportes nuevamente de este error.'),\n",
       " Document(id='e94f012b-e69d-4689-b200-c73f2292d438', metadata={'´Categoria': 'ADTR SP7 > SIREL'}, page_content='Título: Falla SIREL 23 02 2024\\nDescripción: Buenos días. Para reportar que se adjuntaron archivos a la solicitud  addb42fae1eb3f65777f3a74630294b9 sin embargo no los muestra el SIREL. Se probó con archivos PNG, PDF y XLSX. Ninguno lo mostró. Sin embargo al hablar con nivel superior (CENAL) me informó que él sí veía todos los archivos que había adjuntado.  Se anexa evidencia de nivel superior.         \"ec97c88ef166501f86503572a354b331\"\"ec97c88ef166501f86503572a354b331\"\\nSolución: El problema no se ha presentado de nuevo, se considera una intermitencia del servicio temporal.'),\n",
       " Document(id='80151954-3618-459b-aa46-1e0612cc0fdc', metadata={'´Categoria': 'ADTR SP7 > SIREL'}, page_content='Título: Solicitud \"9790579553f1b18e38897e66477aaeab\" de SIREL\\nDescripción: Buenas tardes compañeros. Para hacer de su conocimiento que la ZOTH informó que en SIRLES tiene la solicitud 20220216-00531 para la LT CBA 73080 ASE en vivo y en GCRNO SIREL no se encontró dicha solicitud para dicho equipo. Por el contrario en SIREL la solicitud 20220216-00531 sí existe pero para HYA B 01 115 kV en vivo. Favor de revisar esta situación. Se anexa evidencia de SIRLES en ZOTH y de SIREL en GCRNO. Saludos        Saludos ¡  \"ec97c88ef166501f86503572a354b331\"  \"ec97c88ef166501f86503572a354b331\"\\nSolución: Las Zonas de Operación de Hermosillo y Culiacán enviaron los logs del SIRLES y fueron evaluados por . dc30a3a891897eb0dbd110323a93d4c7. El día 22 de Febrero, el . dc30a3a891897eb0dbd110323a93d4c7 por correo electrónico informo que se revisaron los logs pero que no se pudo reproducir la falla reportada y se escalaría con el proveedor, manteniéndonos informados de los comentarios de personal de 64eeced6cae6abd85f7dd2278bfa86ba. '),\n",
       " Document(id='493de649-22a1-47c1-b9d0-65a3cf1e1c44', metadata={'´Categoria': 'ADTR SP7 > SIREL'}, page_content='Título: Revisión de versión de SIREL en consola de auxiliar e instalar actualización en caso de ser necesario\\nDescripción:  Revisión de versión de SIREL en consola de auxiliar e instalar actualización en caso de ser necesario     \"ec97c88ef166501f86503572a354b331\"\"ec97c88ef166501f86503572a354b331\"\\nSolución: Se atendió la solicitud de forma exitosa con apoyo de 74993f42c49b81f3a77103bcbb247c2b ya que se trataba de un error de comunicación con el dominio.'),\n",
       " Document(id='9419ebb1-8c09-45c0-aca2-189e1a534e6f', metadata={'´Categoria': 'SEGURIDAD INFORMATICA'}, page_content='Título: RV: URGENTE SIF\\nDescripción: f1adb3bbdb727fcc7c4e4f355084c70a, buenas tardes Este es otro ticket que ya se resolvió en la mañana por lo que comento 8ba7245b4559da4fe04145ad4a1ed010, pero no se documentó que fue lo que se hizo para resolverlo. 7be3b45a4bcbc864560411c9d5a3c5fa    \"ec97c88ef166501f86503572a354b331\" De: Francisco 8ba7245b4559da4fe04145ad4a1ed010el Romo Ruiz Enviado: jueves, 25 de abril de 2024 12:44 p. m.Para: f1adb3bbdb727fcc7c4e4f355084c70a Gonzalez Serrano Cc: 6dfa823bbfdf91e5c996489ecabf7fdc ; 4007418373e0c27e4957dca4fed0330d: URGENTE SIF BUEN DIACESAR  EL SIF NO MUESTRA LA LISTA Y RESGUARDOS DE PROVEEDORES a4d6d654aacdf813de0a93e8de075233  QUEDO ATENTO YA QUE ME LO ESTAN REPORTANDO USUARIOS\"ec97c88ef166501f86503572a354b331\"\"ec97c88ef166501f86503572a354b331\"\\nSolución: Es posible que sean interrupciones momentaneas del servicio como resultado de la instalación de software de monitoreo.'),\n",
       " Document(id='59fc31f8-fadc-48e0-9769-ee2db33c5a78', metadata={'´Categoria': 'ADTR SP7 > SIREL'}, page_content='Título: Atención a revisión de solicitud bloqueada en SIREL\\nDescripción:  853d4d7c84e69185f9f0fbc1f1abd0a3 que no pudo editar una solicitud en SIREL, debido a que estaba bloqueada por otro usuario. Revisó en las consolas de Operación, pero no identifico que algún usuario estuviera editando dicha solicitud.  \"ec97c88ef166501f86503572a354b331\"\\nSolución: Solicitud atendida por dc30a3a891897eb0dbd110323a93d4c7  en coordinación con 82d816f8af78df1cc3dfb18578e81f0e. Se desbloqueo la solicitud para que pudieran continuar con la edición de la misma.')]"
      ]
     },
     "execution_count": 8,
     "metadata": {},
     "output_type": "execute_result"
    }
   ],
   "source": [
    "res['retrieved_documents']"
   ]
  },
  {
   "cell_type": "code",
   "execution_count": null,
   "metadata": {},
   "outputs": [],
   "source": [
    "from langchain_ollama import ChatOllama\n",
    "from cenacellm.langchain.assistant import OllamaAssistant"
   ]
  },
  {
   "cell_type": "code",
   "execution_count": null,
   "metadata": {},
   "outputs": [],
   "source": [
    "user_query = \"\"\" Tengo el siguiente incidente y necesito ayuda para resolverlo:\n",
    "Titulo del ticket: Revisión de SIREL por falta de Envio de TL a Nivel Superior\n",
    "\n",
    "Descripción: Buenas noches, para solicitar de favor se revise en sistema SIREL la \n",
    "falta de envío de términos de licencias a nivel superior. Cuando estas vienen de \n",
    "solicitudes autorizadas por ellos. Enseguida muestro como evidencia LM de LT CHO \n",
    "93660 LOU, la cual se retiro a las 16:31 Hrs local de Sonora y en Relatorio no se\n",
    "palomeo la pestaña a Nivel Superior, lo cual provoca que México llame para solicitar \n",
    "dicho termino de licencia vía voz. Como precedente ya se ha tenido mismo problema en \n",
    "días anteriores.\n",
    "\"\"\""
   ]
  },
  {
   "cell_type": "code",
   "execution_count": null,
   "metadata": {},
   "outputs": [],
   "source": [
    "assistant = OllamaAssistant()"
   ]
  },
  {
   "cell_type": "code",
   "execution_count": null,
   "metadata": {},
   "outputs": [],
   "source": [
    "res = assistant.inquiry(user_query, 'Jose')"
   ]
  },
  {
   "cell_type": "code",
   "execution_count": null,
   "metadata": {},
   "outputs": [
    {
     "name": "stdout",
     "output_type": "stream",
     "text": [
      "('Para abordar el incidente reportado sobre la falta de envío de términos de '\n",
      " 'licencias a nivel superior en el sistema SIREL, es importante seguir un '\n",
      " 'procedimiento estructurado. Aquí tienes una guía paso a paso que puedes '\n",
      " 'utilizar para resolver este problema:\\n'\n",
      " '\\n'\n",
      " '1. **Verificación Inicial:**\\n'\n",
      " '   - Revisa la solicitud específica y el incidente anteriormente reportados '\n",
      " 'para comprender los detalles de lo ocurrido con la licencia LT CHO 93660 '\n",
      " 'LOU.\\n'\n",
      " '   - Asegúrate de tener acceso al sistema SIREL y las credenciales '\n",
      " 'necesarias para realizar un seguimiento adecuado.\\n'\n",
      " '\\n'\n",
      " '2. **Revisión del Relatorio:**\\n'\n",
      " '   - Inicia sesión en el sistema SIREL y localiza la solicitud relacionada '\n",
      " 'con LT CHO 93660 LOU.\\n'\n",
      " '   - Verifica si la pestaña correspondiente a \"Nivel Superior\" está marcada '\n",
      " 'o no. Si no lo está, esto confirma que el término de licencia no fue '\n",
      " 'enviado.\\n'\n",
      " '\\n'\n",
      " '3. **Comprobación del Flujo de Trabajo:**\\n'\n",
      " '   - Revisa los flujos de trabajo configurados en SIREL para confirmar que '\n",
      " 'están correctamente establecidos para enviar solicitudes autorizadas a nivel '\n",
      " 'superior.\\n'\n",
      " '   - Asegúrate de que las reglas o condiciones bajo las cuales se debe '\n",
      " 'enviar automáticamente un término a nivel superior estén bien definidas.\\n'\n",
      " '\\n'\n",
      " '4. **Revisión de Registros y Logs:**\\n'\n",
      " '   - Consulta los registros del sistema SIREL para identificar si hubo algún '\n",
      " 'error durante el proceso de autorización o envío.\\n'\n",
      " '   - Verifica cualquier mensaje de error o alerta que pueda haberse generado '\n",
      " 'en el momento de la retención o envío.\\n'\n",
      " '\\n'\n",
      " '5. **Consulta con Supervisores:**\\n'\n",
      " '   - Comunícate con los supervisores o usuarios responsables del '\n",
      " 'mantenimiento y operación del sistema SIREL para revisar si ha habido '\n",
      " 'cambios recientes en las configuraciones que puedan afectar el envío de '\n",
      " 'licencias.\\n'\n",
      " '   - Si es necesario, solicita permiso para investigar más a fondo en caso '\n",
      " 'de no tener los privilegios adecuados.\\n'\n",
      " '\\n'\n",
      " '6. **Corrección del Problema:**\\n'\n",
      " '   - Si identificas un problema técnico, trabaja con el equipo de TI o '\n",
      " 'soporte técnico para resolverlo.\\n'\n",
      " '   - Asegúrate de que se apliquen las correcciones necesarias y actualiza '\n",
      " 'los flujos de trabajo si es necesario.\\n'\n",
      " '\\n'\n",
      " '7. **Pruebas Posteriores:**\\n'\n",
      " '   - Realiza pruebas simulando una solicitud similar para verificar que el '\n",
      " 'problema ha sido resuelto y que ahora envía correctamente a nivel superior.\\n'\n",
      " '   - Documenta el proceso de prueba y cualquier resultado relevante.\\n'\n",
      " '\\n'\n",
      " '8. **Comunicación con México:**\\n'\n",
      " '   - Informa al equipo correspondiente en México sobre la solución '\n",
      " 'implementada para evitar futuras llamadas vía voz por este motivo.\\n'\n",
      " '   - Ofrece una breve explicación del error y cómo se ha corregido, '\n",
      " 'asegurando que el problema no volverá a ocurrir.\\n'\n",
      " '\\n'\n",
      " '9. **Documentación:**\\n'\n",
      " '   - Documenta todo lo realizado durante la resolución del incidente en un '\n",
      " 'reporte detallado para futuras referencias.\\n'\n",
      " '   - Incluye detalles de las causas encontradas y las soluciones aplicadas, '\n",
      " 'junto con cualquier cambio en los procedimientos operativos si corresponde.\\n'\n",
      " '\\n'\n",
      " 'Al seguir estos pasos, deberías poder resolver el problema de la falta de '\n",
      " 'envío de términos de licencia a nivel superior en SIREL. Es importante '\n",
      " 'mantener una comunicación clara y efectiva con todas las partes involucradas '\n",
      " 'para asegurar que el incidente se resuelva satisfactoriamente.')\n"
     ]
    }
   ],
   "source": [
    "import pprint\n",
    "pprint.pprint(res['answer'])"
   ]
  },
  {
   "cell_type": "code",
   "execution_count": null,
   "metadata": {},
   "outputs": [
    {
     "data": {
      "text/plain": [
       "[Document(id='be46e9a7-3ae6-4d78-b3fc-4eeb697b8336', metadata={'producer': 'Microsoft® Word 2016', 'creator': 'Microsoft® Word 2016', 'creationdate': '2022-03-23T20:30:11-06:00', 'title': 'Estatuto de Trabajo', 'author': 'Ignacio Estrada', 'subject': 'Sistemas SCADA/EMS del CENACE', 'keywords': 'C_Confidential', 'moddate': '2022-03-23T20:30:11-06:00', 'source': '../datos/documentos\\\\SIE-DOC-REL-MAN_001_00 (2).pdf', 'total_pages': 118, 'page': 70, 'page_label': '71'}, page_content='Control de Cambios \\nFecha: 20/02/2021 \\nProyecto: Sistemas SCADA/EMS del CENACE \\nSIE-DOC-REL-MAN_001_00 \\n \\nConfidential \\nUpdated 28/02/2018  Versión: 0 Página 71 of  118 \\nAutor: Ignacio Estrada   Restricted © Siemens AG, 2018. All rights reserved.  \\n \\n \\nObserve que SIREL responderá de acuerdo al modo seleccionado para la Concesión \\nsiempre y cuando la Solicitud contenga Maniobras. \\n3. Complete el proceso de Concesión y al finalizar SIREL deberá realizar lo siguiente: \\n\\uf0fc La lista de Solicitudes será actualizada sin la Solicitud recién concedida. \\n\\uf0fc La nueva Licencia será mostrada en la vista de Licencias al inicio de la lista. \\n\\uf0fc Se generará un nuevo evento en el Relatorio \\n\\uf0fc Si la Licencia contiene maniobras y éstas fueron Libradas l os pasos que \\nestuvieran marcados para crear eventos en el Relatorio van a generar un evento \\nen dicho Relatorio. \\n\\uf0fc Si la Licencia concedida estuvo asociada a una Solicitud enviada a otro Centro \\nde Control y fue enviada como no informativa el evento de Concesi ón \\ncorrespondiente será enviado a dicho Centro de Control. \\n \\n5.4 Consultas y Reporte de Solicitudes \\nProcedimiento: Consultar Solicitudes \\nPaso Actividad \\n1. Ir a la vista de Solicitudes (ver imagen 5) \\n2. Seleccione desde el menú principal el botón Consultar: \\n \\nSIREL enviará ventana para especificar los parámetros de Consulta:'),\n",
       " Document(id='91a7b70f-0e42-4fb7-94dd-abda1e5466f0', metadata={'producer': 'Microsoft® Word 2016', 'creator': 'Microsoft® Word 2016', 'creationdate': '2022-03-23T20:30:11-06:00', 'title': 'Estatuto de Trabajo', 'author': 'Ignacio Estrada', 'subject': 'Sistemas SCADA/EMS del CENACE', 'keywords': 'C_Confidential', 'moddate': '2022-03-23T20:30:11-06:00', 'source': '../datos/documentos\\\\SIE-DOC-REL-MAN_001_00 (2).pdf', 'total_pages': 118, 'page': 62, 'page_label': '63'}, page_content='Control de Cambios \\nFecha: 20/02/2021 \\nProyecto: Sistemas SCADA/EMS del CENACE \\nSIE-DOC-REL-MAN_001_00 \\n \\nConfidential \\nUpdated 28/02/2018  Versión: 0 Página 63 of  118 \\nAutor: Ignacio Estrada   Restricted © Siemens AG, 2018. All rights reserved.  \\n \\n5.2 Interfaz entre Centros de Control \\nLos siguientes procedimientos permiten enviar Solicitudes de un Centro de Control Regional (NI), al \\nCentro de Control Nacional (NS), así como enviar Solicitudes del Centro de Control Nacional (NS) \\na un Centro de Control Regional (NI). \\nLas Solicitudes enviadas a o recibidas desde otro Centro de Control  serán mostradas subrayadas \\nen la cuadrícula. \\n \\nProcedimiento: Enviar Solicitud a Nivel Superior (NS)  \\nUna Solicitud podrá ser enviada al NS desde la lista de Solicitudes o desde el momento de su fincado \\nen la aplicación de escritorio. \\nCuando se envía una solicitud para coordinación por el NS, la solicitud deberá tener el estado NO-\\nREVISADA. \\nPaso Actividad \\n1. Ir a la vista de Solicitudes (ver imagen 5) \\n2. Seleccione una Solicitud en condiciones de ser enviada al NS, el botón Enviar a NS  se \\nactivará en la barra de menú principal. \\n \\n3.    Proceda dando click en dicho botón y SIREL enviará la Solicitud mostrando un mensaje al \\nusuario del envío exitoso. \\nObserve que cuando el equipo asociado a una Solicitud representa un equipo frontera entre \\nCentros de Control, la Solicitud será enviada tanto al Centro de Control de NS como al Centro de \\nControl Regional  relacionado con el equipo frontera. \\n \\nProcedimiento: Enviar Solicitud a Nivel Inferior (NI)  \\nPaso Actividad \\n1. Ir a la vista de Solicitudes (ver imagen 5) \\n2. Para enviar una Solicitud al NI seleccionela desde la cuadrícula, dé un click en el botón \\nEnviar a NI y enseguida SIREL mostrará la interacción para seleccionar el Centro de \\nControl a donde será enviada..'),\n",
       " Document(id='0a89bb0e-5b34-4364-b906-530cd3c6dad0', metadata={'producer': 'Microsoft® Word 2016', 'creator': 'Microsoft® Word 2016', 'creationdate': '2022-03-23T20:30:11-06:00', 'title': 'Estatuto de Trabajo', 'author': 'Ignacio Estrada', 'subject': 'Sistemas SCADA/EMS del CENACE', 'keywords': 'C_Confidential', 'moddate': '2022-03-23T20:30:11-06:00', 'source': '../datos/documentos\\\\SIE-DOC-REL-MAN_001_00 (2).pdf', 'total_pages': 118, 'page': 66, 'page_label': '67'}, page_content='Control de Cambios \\nFecha: 20/02/2021 \\nProyecto: Sistemas SCADA/EMS del CENACE \\nSIE-DOC-REL-MAN_001_00 \\n \\nConfidential \\nUpdated 28/02/2018  Versión: 0 Página 67 of  118 \\nAutor: Ignacio Estrada   Restricted © Siemens AG, 2018. All rights reserved.  \\n \\n \\nSIREL solicitará confirmar la acción. \\n \\n3.    SIREL actualizará la Solicitud indicando que la Solicitud en cuestión no tiene ya el ícono de \\nmaniobra. \\n \\nProcedimiento: Autorizar Solicitud \\nUna Solicitud podrá ser Autorizada por el Centro de Control local si no fue enviada al Nivel Superior. \\nEn caso contrario sólo el Nivel Superior podrá Autorizar una Solicitud. \\nPaso Actividad \\n1. Ir a la vista de Solicitudes (ver imagen 5) \\n2. En esta condición, seleccione la Solicitud que desea autorizar, seleccionando el botón \\nAutorizar \\n \\nSeleccione una Solicitud y proceda a su Autorización.'),\n",
       " Document(id='4dbd058f-dbe0-4042-9f00-05a3715a6753', metadata={'producer': 'Microsoft® Word 2016', 'creator': 'Microsoft® Word 2016', 'creationdate': '2022-03-23T20:30:11-06:00', 'title': 'Estatuto de Trabajo', 'author': 'Ignacio Estrada', 'subject': 'Sistemas SCADA/EMS del CENACE', 'keywords': 'C_Confidential', 'moddate': '2022-03-23T20:30:11-06:00', 'source': '../datos/documentos\\\\SIE-DOC-REL-MAN_001_00 (2).pdf', 'total_pages': 118, 'page': 43, 'page_label': '44'}, page_content='Control de Cambios \\nFecha: 20/02/2021 \\nProyecto: Sistemas SCADA/EMS del CENACE \\nSIE-DOC-REL-MAN_001_00 \\n \\nConfidential \\nUpdated 28/02/2018  Versión: 0 Página 44 of  118 \\nAutor: Ignacio Estrada   Restricted © Siemens AG, 2018. All rights reserved.  \\n \\nProcedimiento: Conceder Licencia de Emergencia \\nPaso Actividad \\n1. Ir a la vista de Licencias (ver imagen 5) \\n2. Desde la vista de Licencias, seleccione en la barra principal el botón Licencia de emergencia \\n \\nAdicionalmente se podrá acceder a esta función con tecla F10 desde cualquier otra \\nsección de la aplicación. \\nSIREL mostrará la ventana de Concesión de Licencia de emergencia, proporcione los datos \\nrequeridos.  \\n \\nObserve que desde este formulario Ud. podrá realizar las acciones siguientes: \\n- La hora de inicio es colocada automáticamente por la aplicación, y al dar un doble click en \\nel ícono del campo Fecha final de Trabajos el SIREL colocará automáticamente el horario de \\ninicio más 8 horas. \\n- Especificar envío al NS siempre que sea un Centro de Control Regional. \\n- Especificar si la licencia requerirá Maniobras.  En éste caso se aplicará el proceso  de \\nacuerdo al mecanismo de Concesión de Licencia configurado. \\n- Se podrá agregar archivo'),\n",
       " Document(id='e5b6b2b5-9b97-46c9-9303-dc31e845dd7d', metadata={'producer': 'Microsoft® Word 2016', 'creator': 'Microsoft® Word 2016', 'creationdate': '2022-03-23T20:32:20-06:00', 'title': 'Estatuto de Trabajo', 'author': 'Ignacio Estrada', 'subject': 'Sistemas SCADA/EMS del CENACE', 'keywords': 'C_Confidential', 'moddate': '2022-03-23T20:32:20-06:00', 'source': '../datos/documentos\\\\SIE-DOC-REL-MAN_003_00 (1).pdf', 'total_pages': 33, 'page': 16, 'page_label': '17'}, page_content='Control de Cambios \\nFecha: 20/02/2021 \\nProyecto: Sistemas SCADA/EMS del CENACE \\nSIE-DOC-REL-MAN_003_00 \\n \\nConfidential \\nUpdated 28/02/2018  Versión: 0 Página 17 of  33 \\nAutor: Ignacio Estrada   Restricted © Siemens AG, 2018. All rights reserved.  \\n \\n3 Sección de Licencias \\nEn ésta sección se describen los procedimientos para realizar consultas en el Subsistema de \\nLicencias.  \\n \\n3.1 Solicitudes \\nLos siguientes procedimientos permiten la consulta y exportación de Solicitudes. \\nProcedimiento: Consultar Solicitudes \\nPaso Actividad \\n1. Ingresar al SIREL WEB \\n2. Proporcionar las credenciales de usuario y acceso. \\n3. Sirel mostrará la página inicial \\n4. Desde el menú lateral, en la sección Licencias, dé un click en botón Consulta Solicitudes. \\nSirel mostrará la consulta, \\n \\nLa consulta por default obtiene las Solicitudes vigentes a partir de la fecha actual. \\n \\nProcedimiento: Consultar Solicitudes por filtros \\nPaso Actividad \\n1. Desde la consulta de Solicitudes, dé un click en botón Consultar ubicado en la parte superior \\nde la cuadricula'),\n",
       " Document(id='3eae518e-30b0-44c6-ad3e-a7ff11734946', metadata={'producer': 'Microsoft® Word 2016', 'creator': 'Microsoft® Word 2016', 'creationdate': '2022-03-23T20:30:11-06:00', 'title': 'Estatuto de Trabajo', 'author': 'Ignacio Estrada', 'subject': 'Sistemas SCADA/EMS del CENACE', 'keywords': 'C_Confidential', 'moddate': '2022-03-23T20:30:11-06:00', 'source': '../datos/documentos\\\\SIE-DOC-REL-MAN_001_00 (2).pdf', 'total_pages': 118, 'page': 45, 'page_label': '46'}, page_content='Control de Cambios \\nFecha: 20/02/2021 \\nProyecto: Sistemas SCADA/EMS del CENACE \\nSIE-DOC-REL-MAN_001_00 \\n \\nConfidential \\nUpdated 28/02/2018  Versión: 0 Página 46 of  118 \\nAutor: Ignacio Estrada   Restricted © Siemens AG, 2018. All rights reserved.  \\n \\n4.2 Transferir Licencia vencida a Licencia de Emergencia  y Prorrogar \\nLicencia \\n \\nProcedimiento: Transferir Licencia  \\nPaso Actividad \\n1. Ir a la vista de Licencias (ver imagen 5) \\n2. Desde la vista de Licencias \\na) Seleccione la Licencia que desea transferir a Licencia de Emergencia, \\nb) Seleccione de  la barra principal el botón Transferir a  Emergencia, o con botón \\nsecundario del mouse sobre la licencia seleccionada la opción Transferir a Emergencia \\n \\nSIREL mostrará ventana para especificar en caso requerido las observaciones del Retiro. Al \\naceptar SIREL mostrará Confirmación de la nueva Licencia.  \\n \\n \\nSi la Licencia origen fué enviada al NS, SIREL también enviará los eventos de Relatorio. En caso \\nde tener maniobras asociadas, éstas serán transferidas a la nueva Licencia en el estado actual. \\n3.    SIREL actualizará la lista de Licencias mostrando la Licencia seleccionada en estado Retirada \\ny la nueva Licencia creada. \\nObserve que ambas Licencias quedarán referenciadas mutuamente por medio de las observaciones \\nde Licencia y se reflejarán también en los eventos del Relatorio correspondientes. \\nAsí mismo si la Licencia original proviene de Solicitud enviada a otro Centro de Control, los eventos \\ncorrespondientes del Relatorio serán también enviados.'),\n",
       " Document(id='cd6336c3-cbe7-4ca9-95f1-2da2d4157e67', metadata={'producer': 'Microsoft® Word 2016', 'creator': 'Microsoft® Word 2016', 'creationdate': '2022-03-23T20:32:20-06:00', 'title': 'Estatuto de Trabajo', 'author': 'Ignacio Estrada', 'subject': 'Sistemas SCADA/EMS del CENACE', 'keywords': 'C_Confidential', 'moddate': '2022-03-23T20:32:20-06:00', 'source': '../datos/documentos\\\\SIE-DOC-REL-MAN_003_00 (1).pdf', 'total_pages': 33, 'page': 24, 'page_label': '25'}, page_content='Control de Cambios \\nFecha: 20/02/2021 \\nProyecto: Sistemas SCADA/EMS del CENACE \\nSIE-DOC-REL-MAN_003_00 \\n \\nConfidential \\nUpdated 28/02/2018  Versión: 0 Página 25 of  33 \\nAutor: Ignacio Estrada   Restricted © Siemens AG, 2018. All rights reserved.  \\n \\nUna vez que se han capturado los datos mínimos requeridos, dé click en botón Fincar Solicitud . \\nSIREL mostrará ventana de confirmación con el resultado: \\n \\n \\n \\n3.4 Licencias \\nLos siguientes procedimientos permiten la consulta y exportación de Licencias. \\nProcedimiento: Consultar Licencias \\nPaso Actividad \\n1. Desde el menú lateral, en la sección Licencias, dé un click en botón Consulta Licencias. \\nSirel mostrará la consulta, \\n \\nLa consulta por default  obtiene las Licencias vigentes.'),\n",
       " Document(id='430adcb0-c1ee-41f8-9ade-52e80f74890f', metadata={'producer': 'Microsoft® Word 2016', 'creator': 'Microsoft® Word 2016', 'creationdate': '2022-03-23T20:30:11-06:00', 'title': 'Estatuto de Trabajo', 'author': 'Ignacio Estrada', 'subject': 'Sistemas SCADA/EMS del CENACE', 'keywords': 'C_Confidential', 'moddate': '2022-03-23T20:30:11-06:00', 'source': '../datos/documentos\\\\SIE-DOC-REL-MAN_001_00 (2).pdf', 'total_pages': 118, 'page': 47, 'page_label': '48'}, page_content='Control de Cambios \\nFecha: 20/02/2021 \\nProyecto: Sistemas SCADA/EMS del CENACE \\nSIE-DOC-REL-MAN_001_00 \\n \\nConfidential \\nUpdated 28/02/2018  Versión: 0 Página 48 of  118 \\nAutor: Ignacio Estrada   Restricted © Siemens AG, 2018. All rights reserved.  \\n \\na) Seleccione la Licencia que desea restaurar a solicitud, \\nb) Seleccione de  la barra principal el botón Restaurar a Solicitud  o con botón \\nsecundario del mouse sobre la licencia seleccionada la opción Restaurar a Solicitud. \\n \\nSIREL enviará ventana de Confirmación. \\n \\n3.    Al finalizar el proceso de Restauración, SIREL actualizará la lista de Licencias eliminando de \\nla lista la Licencia Restaurada y eliminará el evento asociado en el Relatorio. \\n \\nProcedimiento: Restaurar Licencia Retirada a Estado vigente \\nEsta función aplica sólo a Licencias de Solicitudes programadas y que no contienen maniobras y \\nhayan sido Retiradas en el mismo Relatorio. \\nPaso Actividad \\n1. Ir a la vista de Licencias (ver imagen 5) \\n2. Desde la vista de Licencias \\na) Seleccione la Licencia que desea restaurar a Estado vigente, \\nb) Seleccione de  la barra principal el botón Restaurar a Licencia o con botón \\nsecundario del mouse sobre la licencia seleccionada la opción Restaurar a Licencia. \\n \\nSIREL enviará ventana de Confirmación, como la siguiente…'),\n",
       " Document(id='05f0da92-b8ba-489b-b1eb-74bb5bc7d982', metadata={'producer': 'Microsoft® Word 2016', 'creator': 'Microsoft® Word 2016', 'creationdate': '2022-03-23T20:30:11-06:00', 'title': 'Estatuto de Trabajo', 'author': 'Ignacio Estrada', 'subject': 'Sistemas SCADA/EMS del CENACE', 'keywords': 'C_Confidential', 'moddate': '2022-03-23T20:30:11-06:00', 'source': '../datos/documentos\\\\SIE-DOC-REL-MAN_001_00 (2).pdf', 'total_pages': 118, 'page': 44, 'page_label': '45'}, page_content='Control de Cambios \\nFecha: 20/02/2021 \\nProyecto: Sistemas SCADA/EMS del CENACE \\nSIE-DOC-REL-MAN_001_00 \\n \\nConfidential \\nUpdated 28/02/2018  Versión: 0 Página 45 of  118 \\nAutor: Ignacio Estrada   Restricted © Siemens AG, 2018. All rights reserved.  \\n \\n3.    Al finalizar el proceso de Concesión SIREL actualizará la lista de Licencias mostrando la nueva \\nLicencia. \\n \\nProcedimiento: Retirar Licencia \\nPaso Actividad \\n1. Ir a la vista de Licencias (ver imagen 5) \\n2. Desde la vista de Licencias \\na) Seleccione la Licencia que desea retirar, \\nb) Seleccione de  la barra principal el botón Retirar, o con botón secundario del mouse \\nsobre la licencia seleccionada la opción Retirar licencia \\n \\nDependiendo del flujo de proceso configurado, SIREL mostrará la ventana ya sea de Retiro de \\nLicencia o de Normalización de Maniobras en caso de que la Licencia contenga maniobras. \\n \\nEn caso de que la Licencia haya sido enviada al NS, SIREL enviará el evento también al NS. En \\ncaso de tener pasos de maniobras marcados para ser enviados al Relatorio también deberán ser \\nenviados al NS. \\n3.    Al finalizar el proceso de Retiro SIREL actualizará la lista de Licencias mostrando la Licencia \\nen estado Retirada y creará un evento en el Relatorio.'),\n",
       " Document(id='02a44e9e-fe78-4ac0-a607-12b41dfddc26', metadata={'producer': 'Microsoft® Word 2016', 'creator': 'Microsoft® Word 2016', 'creationdate': '2022-03-23T20:30:11-06:00', 'title': 'Estatuto de Trabajo', 'author': 'Ignacio Estrada', 'subject': 'Sistemas SCADA/EMS del CENACE', 'keywords': 'C_Confidential', 'moddate': '2022-03-23T20:30:11-06:00', 'source': '../datos/documentos\\\\SIE-DOC-REL-MAN_001_00 (2).pdf', 'total_pages': 118, 'page': 3, 'page_label': '4'}, page_content='Procedimiento: Editar Solicitud Guardar/Cancelar cambios ............................................................ 59 \\nProcedimiento: Agregar texto a una solicitud ................................................................................... 60 \\nProcedimiento: Ver detalle ............................................................................................................... 61 \\n5.2 Interfaz entre Centros de Control ................................................................................................... 63 \\nProcedimiento: Enviar Solicitud a Nivel Superior (NS) ..................................................................... 63 \\nProcedimiento: Enviar Solicitud a Nivel Inferior (NI) ........................................................................ 63 \\nProcedimiento: Enviar Solicitud Informativa ..................................................................................... 64 \\n5.3 Acciones en Solicitudes ................................................................................................................. 65 \\nProcedimiento: Reprogramar Solicitud ............................................................................................ 65 \\nProcedimiento: Preparar Maniobras a Solicitud ............................................................................... 65 \\nProcedimiento: Desasociar Maniobras a Solicitud ........................................................................... 66 \\nProcedimiento: Autorizar Solicitud ................................................................................................... 67 \\nProcedimiento: No Autorizar Solicitud .............................................................................................. 68 \\nProcedimiento: Cancelar Solicitud ................................................................................................... 69 \\nProcedimiento: Restaurar Solicitud .................................................................................................. 69 \\nProcedimiento: Concesión de Licencia ............................................................................................ 70 \\n5.4 Consultas y Reporte de Solicitudes ................................................................................................ 71 \\nProcedimiento: Consultar Solicitudes .............................................................................................. 71 \\nProcedimiento: Reporte de Solicitudes ............................................................................................ 72 \\nProcedimiento: Actualizar Solicitudes Vigentes ............................................................................... 73 \\nProcedimiento: Vista preliminar ....................................................................................................... 74'),\n",
       " Document(id='a6bf3d4e-9386-4208-b324-ae06e6a51027', metadata={'producer': 'Microsoft® Word 2016', 'creator': 'Microsoft® Word 2016', 'creationdate': '2022-03-23T20:30:11-06:00', 'title': 'Estatuto de Trabajo', 'author': 'Ignacio Estrada', 'subject': 'Sistemas SCADA/EMS del CENACE', 'keywords': 'C_Confidential', 'moddate': '2022-03-23T20:30:11-06:00', 'source': '../datos/documentos\\\\SIE-DOC-REL-MAN_001_00 (2).pdf', 'total_pages': 118, 'page': 49, 'page_label': '50'}, page_content='Control de Cambios \\nFecha: 20/02/2021 \\nProyecto: Sistemas SCADA/EMS del CENACE \\nSIE-DOC-REL-MAN_001_00 \\n \\nConfidential \\nUpdated 28/02/2018  Versión: 0 Página 50 of  118 \\nAutor: Ignacio Estrada   Restricted © Siemens AG, 2018. All rights reserved.  \\n \\n \\n3.    Terminada la especificación de los horarios faltantes SIREL dará paso a la finalización del \\nproceso de Libranza. Así mismo SIREL activará automáticamente el  botón de Retirar licencia \\n \\nProcedimiento: Normalizar Maniobras  \\nPaso Actividad \\n1. Ir a la vista de Licencias (ver imagen 5) \\n2. Cuando una Maniobra no haya sido Normalizada completamente posterior al Retiro de la \\nLicencia (en el Modo 1), se deberá seleccionar desde el menú principal el botón Normalizar \\nManiobras. \\n \\nSIREL enviará ventana para especificar los horarios pendientes de las Maniobras:'),\n",
       " Document(id='72956f8e-efdf-4b0d-a71a-97b75a1163ac', metadata={'producer': 'Microsoft® Word 2016', 'creator': 'Microsoft® Word 2016', 'creationdate': '2022-03-23T20:30:11-06:00', 'title': 'Estatuto de Trabajo', 'author': 'Ignacio Estrada', 'subject': 'Sistemas SCADA/EMS del CENACE', 'keywords': 'C_Confidential', 'moddate': '2022-03-23T20:30:11-06:00', 'source': '../datos/documentos\\\\SIE-DOC-REL-MAN_001_00 (2).pdf', 'total_pages': 118, 'page': 46, 'page_label': '47'}, page_content='Control de Cambios \\nFecha: 20/02/2021 \\nProyecto: Sistemas SCADA/EMS del CENACE \\nSIE-DOC-REL-MAN_001_00 \\n \\nConfidential \\nUpdated 28/02/2018  Versión: 0 Página 47 of  118 \\nAutor: Ignacio Estrada   Restricted © Siemens AG, 2018. All rights reserved.  \\n \\nProcedimiento: Prorrogar Licencia  \\nEsta función aplica a todas las Licencias programadas y/o de emergencia de acuerdo a la \\nconfiguración correspondiente. \\n  \\nPaso Actividad \\n1. Ir a la vista de Licencias ver imagen 5) \\n2. Desde la vista de Licencias, seleccione la Licencia a prorrogar y seleccione el botón \\nProrrogar o con botón secundario del mouse sobre la licencia seleccionada la opción \\nProrrogar \\n \\nSIREL enviará ventana como la siguiente, para proporcionar los datos de la Prórroga.  \\n \\n3.    SIREL actualizará la lista de Licencias mostrando el estado Prorrogada de la Licencia y en la \\nvista de detalles de Prorroga se mostrarán los datos asociados  y también se creará evento en \\nRelatorio de acuerdo a la configuración correspondiente. \\n \\n4.3 Restaurar Licencias \\n \\nProcedimiento: Restaurar Licencia a Solicitud  \\nEsta función aplica sólo a Licencias de Solicitudes programadas y que no contienen maniobras  y \\nfueron concedidas en el mismo Relatorio. \\nPaso Actividad \\n1. Ir a la vista de Licencias (ver imagen 5) \\n2. Desde la vista de Licencias'),\n",
       " Document(id='956329cb-16eb-41ef-9db6-fb35afd34d63', metadata={'producer': 'Microsoft® Word 2016', 'creator': 'Microsoft® Word 2016', 'creationdate': '2022-03-23T20:30:11-06:00', 'title': 'Estatuto de Trabajo', 'author': 'Ignacio Estrada', 'subject': 'Sistemas SCADA/EMS del CENACE', 'keywords': 'C_Confidential', 'moddate': '2022-03-23T20:30:11-06:00', 'source': '../datos/documentos\\\\SIE-DOC-REL-MAN_001_00 (2).pdf', 'total_pages': 118, 'page': 60, 'page_label': '61'}, page_content='Control de Cambios \\nFecha: 20/02/2021 \\nProyecto: Sistemas SCADA/EMS del CENACE \\nSIE-DOC-REL-MAN_001_00 \\n \\nConfidential \\nUpdated 28/02/2018  Versión: 0 Página 61 of  118 \\nAutor: Ignacio Estrada   Restricted © Siemens AG, 2018. All rights reserved.  \\n \\nSIREL mostrará la ventana para agregar el mensaje, seleccione la opción de prioridad requerida,  \\ncomplete los datos y guarde el mensaje. \\n \\n3.    SIREL mostrará el mensaje asociado a la Solicitud en la sección de Mensajes de Texto en la \\nvista de detalles de la Solicitud. \\nObserve que el color del texto será en blanco y negro para quien envía el mensaje. Sin embargo, \\nen caso de recibirse un mensaje éste deberá ser mostrado en el color configurado en el catálogo \\ncorrespondiente y de acuerdo a la prioridad del mensaje. \\n \\n \\nProcedimiento: Ver detalle \\nPaso Actividad \\n1. Ir a la vista de Solicitudes (ver imagen 5) \\n2. Para proceder a la visualización detallada de la solicitud, seleccione y dé click en el botón  \\nVer detalle  \\n \\nSe muestra en la parte media inferior de la cuadrícula, los detalles de la solicitud seleccionada.'),\n",
       " Document(id='90aea11c-20a5-4da2-9543-b4b3eb38ffa6', metadata={'producer': 'Microsoft® Word 2016', 'creator': 'Microsoft® Word 2016', 'creationdate': '2022-03-23T20:30:11-06:00', 'title': 'Estatuto de Trabajo', 'author': 'Ignacio Estrada', 'subject': 'Sistemas SCADA/EMS del CENACE', 'keywords': 'C_Confidential', 'moddate': '2022-03-23T20:30:11-06:00', 'source': '../datos/documentos\\\\SIE-DOC-REL-MAN_001_00 (2).pdf', 'total_pages': 118, 'page': 73, 'page_label': '74'}, page_content='Control de Cambios \\nFecha: 20/02/2021 \\nProyecto: Sistemas SCADA/EMS del CENACE \\nSIE-DOC-REL-MAN_001_00 \\n \\nConfidential \\nUpdated 28/02/2018  Versión: 0 Página 74 of  118 \\nAutor: Ignacio Estrada   Restricted © Siemens AG, 2018. All rights reserved.  \\n \\n \\n3.    SIREL envía mensaje de confirmación en el área de mensajes del usuario. \\nProcedimiento: Vista preliminar  \\nPaso Actividad \\n1. Ir a la vista de Solicitudes (ver imagen 5) \\n2. Para obtener una vista preliminar, seleccione desde la barra principal de Solicitudes el \\nbotón  Vista preliminar \\n \\nSIREL mostrará una ventana conteniendo las Solicitudes  en una vista preliminar en formato PDF. \\nDesde la vista preliminar se podrán exportar las Solicitudes en diferentes formatos de archivo. \\n \\n3.    Para continuar, cierre la ventana seleccionando botón Cerrar en el menú principal de la vista \\npreliminar. \\n \\n5.5 Crear RMV \\nEsta función permite crear un Registro de Monitoreo de Variable (RMV)..'),\n",
       " Document(id='71a1826f-1dd0-49f7-acdb-9932b04a83ff', metadata={'producer': 'Microsoft® Word 2016', 'creator': 'Microsoft® Word 2016', 'creationdate': '2022-03-23T20:32:20-06:00', 'title': 'Estatuto de Trabajo', 'author': 'Ignacio Estrada', 'subject': 'Sistemas SCADA/EMS del CENACE', 'keywords': 'C_Confidential', 'moddate': '2022-03-23T20:32:20-06:00', 'source': '../datos/documentos\\\\SIE-DOC-REL-MAN_003_00 (1).pdf', 'total_pages': 33, 'page': 23, 'page_label': '24'}, page_content='Control de Cambios \\nFecha: 20/02/2021 \\nProyecto: Sistemas SCADA/EMS del CENACE \\nSIE-DOC-REL-MAN_003_00 \\n \\nConfidential \\nUpdated 28/02/2018  Versión: 0 Página 24 of  33 \\nAutor: Ignacio Estrada   Restricted © Siemens AG, 2018. All rights reserved.  \\n \\n3.3 Fincado de Solicitudes \\nEs prioritario mencionar que ésta funcionalidad depende de los privilegios del usuario, ya que si no \\nse tiene el privilegio de Supervisor la funcion no estará disponible. \\n \\nProcedimiento: Fincar Solicitud \\nPaso Actividad \\n1. Dentro de la sección de Licencias, dé un click en opción Fincar. \\n2. SIREL WEB presentará la página conteniendo el formulario para la captura de datos de una \\nnueva Solicitud.. \\n \\n \\nPara verificar los campos obligatorios Ud. puede dar click en botón Fincar Solicitud ubicado en la \\nparte final del formulario previo a la captura de los datos.')]"
      ]
     },
     "execution_count": 6,
     "metadata": {},
     "output_type": "execute_result"
    }
   ],
   "source": [
    "res['retrieved_documents']"
   ]
  },
  {
   "cell_type": "markdown",
   "metadata": {},
   "source": [
    "## RAG independiente"
   ]
  },
  {
   "cell_type": "markdown",
   "metadata": {},
   "source": [
    "como puedo poner todo eso en una libreta que sea rag.py? no sé si me explico, debe ser una clase que puedas cargar documentos, o si el path te manda a un lugar donde ya hay una vector data base, la cargue y puedas usar el asistente, me explico?"
   ]
  },
  {
   "cell_type": "code",
   "execution_count": 2,
   "metadata": {},
   "outputs": [
    {
     "name": "stdout",
     "output_type": "stream",
     "text": [
      "Índice cargado desde ../datos/vectorstore\\index.faiss\n",
      "Diccionario cargado desde ../datos/vectorstore\\index.pkl\n"
     ]
    },
    {
     "ename": "KeyboardInterrupt",
     "evalue": "",
     "output_type": "error",
     "traceback": [
      "\u001b[31m---------------------------------------------------------------------------\u001b[39m",
      "\u001b[31mKeyboardInterrupt\u001b[39m                         Traceback (most recent call last)",
      "\u001b[36mCell\u001b[39m\u001b[36m \u001b[39m\u001b[32mIn[2]\u001b[39m\u001b[32m, line 31\u001b[39m\n\u001b[32m     29\u001b[39m \u001b[38;5;66;03m# 6. Vectorizar y agregar a FAISS\u001b[39;00m\n\u001b[32m     30\u001b[39m \u001b[38;5;28;01mfor\u001b[39;00m chunk \u001b[38;5;129;01min\u001b[39;00m chunks:\n\u001b[32m---> \u001b[39m\u001b[32m31\u001b[39m     vector = \u001b[43membedder\u001b[49m\u001b[43m.\u001b[49m\u001b[43mvectorize\u001b[49m\u001b[43m(\u001b[49m\u001b[43mchunk\u001b[49m\u001b[43m.\u001b[49m\u001b[43mcontent\u001b[49m\u001b[43m)\u001b[49m\n\u001b[32m     32\u001b[39m     vectorstore.add_text(vector, chunk)  \u001b[38;5;66;03m# Agrega al índice\u001b[39;00m\n",
      "\u001b[36mFile \u001b[39m\u001b[32m~\\OneDrive\\Documents\\mcd\\proyectoCenace\\src\\cenacellm\\ollama\\embedder.py:11\u001b[39m, in \u001b[36mOllamaEmbedder.vectorize\u001b[39m\u001b[34m(self, s)\u001b[39m\n\u001b[32m     10\u001b[39m \u001b[38;5;28;01mdef\u001b[39;00m\u001b[38;5;250m \u001b[39m\u001b[34mvectorize\u001b[39m(\u001b[38;5;28mself\u001b[39m, s):\n\u001b[32m---> \u001b[39m\u001b[32m11\u001b[39m         response = \u001b[43mapi\u001b[49m\u001b[43m.\u001b[49m\u001b[43membeddings\u001b[49m\u001b[43m(\u001b[49m\u001b[38;5;28;43mself\u001b[39;49m\u001b[43m.\u001b[49m\u001b[43mmodel\u001b[49m\u001b[43m,\u001b[49m\u001b[43m \u001b[49m\u001b[43mprompt\u001b[49m\u001b[43m=\u001b[49m\u001b[43ms\u001b[49m\u001b[43m)\u001b[49m\n\u001b[32m     12\u001b[39m         \u001b[38;5;28;01mreturn\u001b[39;00m np.array(response[\u001b[33m\"\u001b[39m\u001b[33membedding\u001b[39m\u001b[33m\"\u001b[39m], dtype=\u001b[33m\"\u001b[39m\u001b[33mfloat32\u001b[39m\u001b[33m\"\u001b[39m)\n",
      "\u001b[36mFile \u001b[39m\u001b[32mc:\\Users\\panda\\OneDrive\\Documents\\mcd\\proyectoCenace\\.venv\\Lib\\site-packages\\ollama\\_client.py:380\u001b[39m, in \u001b[36mClient.embeddings\u001b[39m\u001b[34m(self, model, prompt, options, keep_alive)\u001b[39m\n\u001b[32m    370\u001b[39m \u001b[38;5;28;01mdef\u001b[39;00m\u001b[38;5;250m \u001b[39m\u001b[34membeddings\u001b[39m(\n\u001b[32m    371\u001b[39m   \u001b[38;5;28mself\u001b[39m,\n\u001b[32m    372\u001b[39m   model: \u001b[38;5;28mstr\u001b[39m = \u001b[33m'\u001b[39m\u001b[33m'\u001b[39m,\n\u001b[32m   (...)\u001b[39m\u001b[32m    375\u001b[39m   keep_alive: Optional[Union[\u001b[38;5;28mfloat\u001b[39m, \u001b[38;5;28mstr\u001b[39m]] = \u001b[38;5;28;01mNone\u001b[39;00m,\n\u001b[32m    376\u001b[39m ) -> EmbeddingsResponse:\n\u001b[32m    377\u001b[39m \u001b[38;5;250m  \u001b[39m\u001b[33;03m\"\"\"\u001b[39;00m\n\u001b[32m    378\u001b[39m \u001b[33;03m  Deprecated in favor of `embed`.\u001b[39;00m\n\u001b[32m    379\u001b[39m \u001b[33;03m  \"\"\"\u001b[39;00m\n\u001b[32m--> \u001b[39m\u001b[32m380\u001b[39m   \u001b[38;5;28;01mreturn\u001b[39;00m \u001b[38;5;28;43mself\u001b[39;49m\u001b[43m.\u001b[49m\u001b[43m_request\u001b[49m\u001b[43m(\u001b[49m\n\u001b[32m    381\u001b[39m \u001b[43m    \u001b[49m\u001b[43mEmbeddingsResponse\u001b[49m\u001b[43m,\u001b[49m\n\u001b[32m    382\u001b[39m \u001b[43m    \u001b[49m\u001b[33;43m'\u001b[39;49m\u001b[33;43mPOST\u001b[39;49m\u001b[33;43m'\u001b[39;49m\u001b[43m,\u001b[49m\n\u001b[32m    383\u001b[39m \u001b[43m    \u001b[49m\u001b[33;43m'\u001b[39;49m\u001b[33;43m/api/embeddings\u001b[39;49m\u001b[33;43m'\u001b[39;49m\u001b[43m,\u001b[49m\n\u001b[32m    384\u001b[39m \u001b[43m    \u001b[49m\u001b[43mjson\u001b[49m\u001b[43m=\u001b[49m\u001b[43mEmbeddingsRequest\u001b[49m\u001b[43m(\u001b[49m\n\u001b[32m    385\u001b[39m \u001b[43m      \u001b[49m\u001b[43mmodel\u001b[49m\u001b[43m=\u001b[49m\u001b[43mmodel\u001b[49m\u001b[43m,\u001b[49m\n\u001b[32m    386\u001b[39m \u001b[43m      \u001b[49m\u001b[43mprompt\u001b[49m\u001b[43m=\u001b[49m\u001b[43mprompt\u001b[49m\u001b[43m,\u001b[49m\n\u001b[32m    387\u001b[39m \u001b[43m      \u001b[49m\u001b[43moptions\u001b[49m\u001b[43m=\u001b[49m\u001b[43moptions\u001b[49m\u001b[43m,\u001b[49m\n\u001b[32m    388\u001b[39m \u001b[43m      \u001b[49m\u001b[43mkeep_alive\u001b[49m\u001b[43m=\u001b[49m\u001b[43mkeep_alive\u001b[49m\u001b[43m,\u001b[49m\n\u001b[32m    389\u001b[39m \u001b[43m    \u001b[49m\u001b[43m)\u001b[49m\u001b[43m.\u001b[49m\u001b[43mmodel_dump\u001b[49m\u001b[43m(\u001b[49m\u001b[43mexclude_none\u001b[49m\u001b[43m=\u001b[49m\u001b[38;5;28;43;01mTrue\u001b[39;49;00m\u001b[43m)\u001b[49m\u001b[43m,\u001b[49m\n\u001b[32m    390\u001b[39m \u001b[43m  \u001b[49m\u001b[43m)\u001b[49m\n",
      "\u001b[36mFile \u001b[39m\u001b[32mc:\\Users\\panda\\OneDrive\\Documents\\mcd\\proyectoCenace\\.venv\\Lib\\site-packages\\ollama\\_client.py:178\u001b[39m, in \u001b[36mClient._request\u001b[39m\u001b[34m(self, cls, stream, *args, **kwargs)\u001b[39m\n\u001b[32m    174\u001b[39m         \u001b[38;5;28;01myield\u001b[39;00m \u001b[38;5;28mcls\u001b[39m(**part)\n\u001b[32m    176\u001b[39m   \u001b[38;5;28;01mreturn\u001b[39;00m inner()\n\u001b[32m--> \u001b[39m\u001b[32m178\u001b[39m \u001b[38;5;28;01mreturn\u001b[39;00m \u001b[38;5;28mcls\u001b[39m(**\u001b[38;5;28;43mself\u001b[39;49m\u001b[43m.\u001b[49m\u001b[43m_request_raw\u001b[49m\u001b[43m(\u001b[49m\u001b[43m*\u001b[49m\u001b[43margs\u001b[49m\u001b[43m,\u001b[49m\u001b[43m \u001b[49m\u001b[43m*\u001b[49m\u001b[43m*\u001b[49m\u001b[43mkwargs\u001b[49m\u001b[43m)\u001b[49m.json())\n",
      "\u001b[36mFile \u001b[39m\u001b[32mc:\\Users\\panda\\OneDrive\\Documents\\mcd\\proyectoCenace\\.venv\\Lib\\site-packages\\ollama\\_client.py:118\u001b[39m, in \u001b[36mClient._request_raw\u001b[39m\u001b[34m(self, *args, **kwargs)\u001b[39m\n\u001b[32m    116\u001b[39m \u001b[38;5;28;01mdef\u001b[39;00m\u001b[38;5;250m \u001b[39m\u001b[34m_request_raw\u001b[39m(\u001b[38;5;28mself\u001b[39m, *args, **kwargs):\n\u001b[32m    117\u001b[39m   \u001b[38;5;28;01mtry\u001b[39;00m:\n\u001b[32m--> \u001b[39m\u001b[32m118\u001b[39m     r = \u001b[38;5;28;43mself\u001b[39;49m\u001b[43m.\u001b[49m\u001b[43m_client\u001b[49m\u001b[43m.\u001b[49m\u001b[43mrequest\u001b[49m\u001b[43m(\u001b[49m\u001b[43m*\u001b[49m\u001b[43margs\u001b[49m\u001b[43m,\u001b[49m\u001b[43m \u001b[49m\u001b[43m*\u001b[49m\u001b[43m*\u001b[49m\u001b[43mkwargs\u001b[49m\u001b[43m)\u001b[49m\n\u001b[32m    119\u001b[39m     r.raise_for_status()\n\u001b[32m    120\u001b[39m     \u001b[38;5;28;01mreturn\u001b[39;00m r\n",
      "\u001b[36mFile \u001b[39m\u001b[32mc:\\Users\\panda\\OneDrive\\Documents\\mcd\\proyectoCenace\\.venv\\Lib\\site-packages\\httpx\\_client.py:825\u001b[39m, in \u001b[36mClient.request\u001b[39m\u001b[34m(self, method, url, content, data, files, json, params, headers, cookies, auth, follow_redirects, timeout, extensions)\u001b[39m\n\u001b[32m    810\u001b[39m     warnings.warn(message, \u001b[38;5;167;01mDeprecationWarning\u001b[39;00m, stacklevel=\u001b[32m2\u001b[39m)\n\u001b[32m    812\u001b[39m request = \u001b[38;5;28mself\u001b[39m.build_request(\n\u001b[32m    813\u001b[39m     method=method,\n\u001b[32m    814\u001b[39m     url=url,\n\u001b[32m   (...)\u001b[39m\u001b[32m    823\u001b[39m     extensions=extensions,\n\u001b[32m    824\u001b[39m )\n\u001b[32m--> \u001b[39m\u001b[32m825\u001b[39m \u001b[38;5;28;01mreturn\u001b[39;00m \u001b[38;5;28;43mself\u001b[39;49m\u001b[43m.\u001b[49m\u001b[43msend\u001b[49m\u001b[43m(\u001b[49m\u001b[43mrequest\u001b[49m\u001b[43m,\u001b[49m\u001b[43m \u001b[49m\u001b[43mauth\u001b[49m\u001b[43m=\u001b[49m\u001b[43mauth\u001b[49m\u001b[43m,\u001b[49m\u001b[43m \u001b[49m\u001b[43mfollow_redirects\u001b[49m\u001b[43m=\u001b[49m\u001b[43mfollow_redirects\u001b[49m\u001b[43m)\u001b[49m\n",
      "\u001b[36mFile \u001b[39m\u001b[32mc:\\Users\\panda\\OneDrive\\Documents\\mcd\\proyectoCenace\\.venv\\Lib\\site-packages\\httpx\\_client.py:914\u001b[39m, in \u001b[36mClient.send\u001b[39m\u001b[34m(self, request, stream, auth, follow_redirects)\u001b[39m\n\u001b[32m    910\u001b[39m \u001b[38;5;28mself\u001b[39m._set_timeout(request)\n\u001b[32m    912\u001b[39m auth = \u001b[38;5;28mself\u001b[39m._build_request_auth(request, auth)\n\u001b[32m--> \u001b[39m\u001b[32m914\u001b[39m response = \u001b[38;5;28;43mself\u001b[39;49m\u001b[43m.\u001b[49m\u001b[43m_send_handling_auth\u001b[49m\u001b[43m(\u001b[49m\n\u001b[32m    915\u001b[39m \u001b[43m    \u001b[49m\u001b[43mrequest\u001b[49m\u001b[43m,\u001b[49m\n\u001b[32m    916\u001b[39m \u001b[43m    \u001b[49m\u001b[43mauth\u001b[49m\u001b[43m=\u001b[49m\u001b[43mauth\u001b[49m\u001b[43m,\u001b[49m\n\u001b[32m    917\u001b[39m \u001b[43m    \u001b[49m\u001b[43mfollow_redirects\u001b[49m\u001b[43m=\u001b[49m\u001b[43mfollow_redirects\u001b[49m\u001b[43m,\u001b[49m\n\u001b[32m    918\u001b[39m \u001b[43m    \u001b[49m\u001b[43mhistory\u001b[49m\u001b[43m=\u001b[49m\u001b[43m[\u001b[49m\u001b[43m]\u001b[49m\u001b[43m,\u001b[49m\n\u001b[32m    919\u001b[39m \u001b[43m\u001b[49m\u001b[43m)\u001b[49m\n\u001b[32m    920\u001b[39m \u001b[38;5;28;01mtry\u001b[39;00m:\n\u001b[32m    921\u001b[39m     \u001b[38;5;28;01mif\u001b[39;00m \u001b[38;5;129;01mnot\u001b[39;00m stream:\n",
      "\u001b[36mFile \u001b[39m\u001b[32mc:\\Users\\panda\\OneDrive\\Documents\\mcd\\proyectoCenace\\.venv\\Lib\\site-packages\\httpx\\_client.py:942\u001b[39m, in \u001b[36mClient._send_handling_auth\u001b[39m\u001b[34m(self, request, auth, follow_redirects, history)\u001b[39m\n\u001b[32m    939\u001b[39m request = \u001b[38;5;28mnext\u001b[39m(auth_flow)\n\u001b[32m    941\u001b[39m \u001b[38;5;28;01mwhile\u001b[39;00m \u001b[38;5;28;01mTrue\u001b[39;00m:\n\u001b[32m--> \u001b[39m\u001b[32m942\u001b[39m     response = \u001b[38;5;28;43mself\u001b[39;49m\u001b[43m.\u001b[49m\u001b[43m_send_handling_redirects\u001b[49m\u001b[43m(\u001b[49m\n\u001b[32m    943\u001b[39m \u001b[43m        \u001b[49m\u001b[43mrequest\u001b[49m\u001b[43m,\u001b[49m\n\u001b[32m    944\u001b[39m \u001b[43m        \u001b[49m\u001b[43mfollow_redirects\u001b[49m\u001b[43m=\u001b[49m\u001b[43mfollow_redirects\u001b[49m\u001b[43m,\u001b[49m\n\u001b[32m    945\u001b[39m \u001b[43m        \u001b[49m\u001b[43mhistory\u001b[49m\u001b[43m=\u001b[49m\u001b[43mhistory\u001b[49m\u001b[43m,\u001b[49m\n\u001b[32m    946\u001b[39m \u001b[43m    \u001b[49m\u001b[43m)\u001b[49m\n\u001b[32m    947\u001b[39m     \u001b[38;5;28;01mtry\u001b[39;00m:\n\u001b[32m    948\u001b[39m         \u001b[38;5;28;01mtry\u001b[39;00m:\n",
      "\u001b[36mFile \u001b[39m\u001b[32mc:\\Users\\panda\\OneDrive\\Documents\\mcd\\proyectoCenace\\.venv\\Lib\\site-packages\\httpx\\_client.py:979\u001b[39m, in \u001b[36mClient._send_handling_redirects\u001b[39m\u001b[34m(self, request, follow_redirects, history)\u001b[39m\n\u001b[32m    976\u001b[39m \u001b[38;5;28;01mfor\u001b[39;00m hook \u001b[38;5;129;01min\u001b[39;00m \u001b[38;5;28mself\u001b[39m._event_hooks[\u001b[33m\"\u001b[39m\u001b[33mrequest\u001b[39m\u001b[33m\"\u001b[39m]:\n\u001b[32m    977\u001b[39m     hook(request)\n\u001b[32m--> \u001b[39m\u001b[32m979\u001b[39m response = \u001b[38;5;28;43mself\u001b[39;49m\u001b[43m.\u001b[49m\u001b[43m_send_single_request\u001b[49m\u001b[43m(\u001b[49m\u001b[43mrequest\u001b[49m\u001b[43m)\u001b[49m\n\u001b[32m    980\u001b[39m \u001b[38;5;28;01mtry\u001b[39;00m:\n\u001b[32m    981\u001b[39m     \u001b[38;5;28;01mfor\u001b[39;00m hook \u001b[38;5;129;01min\u001b[39;00m \u001b[38;5;28mself\u001b[39m._event_hooks[\u001b[33m\"\u001b[39m\u001b[33mresponse\u001b[39m\u001b[33m\"\u001b[39m]:\n",
      "\u001b[36mFile \u001b[39m\u001b[32mc:\\Users\\panda\\OneDrive\\Documents\\mcd\\proyectoCenace\\.venv\\Lib\\site-packages\\httpx\\_client.py:1014\u001b[39m, in \u001b[36mClient._send_single_request\u001b[39m\u001b[34m(self, request)\u001b[39m\n\u001b[32m   1009\u001b[39m     \u001b[38;5;28;01mraise\u001b[39;00m \u001b[38;5;167;01mRuntimeError\u001b[39;00m(\n\u001b[32m   1010\u001b[39m         \u001b[33m\"\u001b[39m\u001b[33mAttempted to send an async request with a sync Client instance.\u001b[39m\u001b[33m\"\u001b[39m\n\u001b[32m   1011\u001b[39m     )\n\u001b[32m   1013\u001b[39m \u001b[38;5;28;01mwith\u001b[39;00m request_context(request=request):\n\u001b[32m-> \u001b[39m\u001b[32m1014\u001b[39m     response = \u001b[43mtransport\u001b[49m\u001b[43m.\u001b[49m\u001b[43mhandle_request\u001b[49m\u001b[43m(\u001b[49m\u001b[43mrequest\u001b[49m\u001b[43m)\u001b[49m\n\u001b[32m   1016\u001b[39m \u001b[38;5;28;01massert\u001b[39;00m \u001b[38;5;28misinstance\u001b[39m(response.stream, SyncByteStream)\n\u001b[32m   1018\u001b[39m response.request = request\n",
      "\u001b[36mFile \u001b[39m\u001b[32mc:\\Users\\panda\\OneDrive\\Documents\\mcd\\proyectoCenace\\.venv\\Lib\\site-packages\\httpx\\_transports\\default.py:250\u001b[39m, in \u001b[36mHTTPTransport.handle_request\u001b[39m\u001b[34m(self, request)\u001b[39m\n\u001b[32m    237\u001b[39m req = httpcore.Request(\n\u001b[32m    238\u001b[39m     method=request.method,\n\u001b[32m    239\u001b[39m     url=httpcore.URL(\n\u001b[32m   (...)\u001b[39m\u001b[32m    247\u001b[39m     extensions=request.extensions,\n\u001b[32m    248\u001b[39m )\n\u001b[32m    249\u001b[39m \u001b[38;5;28;01mwith\u001b[39;00m map_httpcore_exceptions():\n\u001b[32m--> \u001b[39m\u001b[32m250\u001b[39m     resp = \u001b[38;5;28;43mself\u001b[39;49m\u001b[43m.\u001b[49m\u001b[43m_pool\u001b[49m\u001b[43m.\u001b[49m\u001b[43mhandle_request\u001b[49m\u001b[43m(\u001b[49m\u001b[43mreq\u001b[49m\u001b[43m)\u001b[49m\n\u001b[32m    252\u001b[39m \u001b[38;5;28;01massert\u001b[39;00m \u001b[38;5;28misinstance\u001b[39m(resp.stream, typing.Iterable)\n\u001b[32m    254\u001b[39m \u001b[38;5;28;01mreturn\u001b[39;00m Response(\n\u001b[32m    255\u001b[39m     status_code=resp.status,\n\u001b[32m    256\u001b[39m     headers=resp.headers,\n\u001b[32m    257\u001b[39m     stream=ResponseStream(resp.stream),\n\u001b[32m    258\u001b[39m     extensions=resp.extensions,\n\u001b[32m    259\u001b[39m )\n",
      "\u001b[36mFile \u001b[39m\u001b[32mc:\\Users\\panda\\OneDrive\\Documents\\mcd\\proyectoCenace\\.venv\\Lib\\site-packages\\httpcore\\_sync\\connection_pool.py:256\u001b[39m, in \u001b[36mConnectionPool.handle_request\u001b[39m\u001b[34m(self, request)\u001b[39m\n\u001b[32m    253\u001b[39m         closing = \u001b[38;5;28mself\u001b[39m._assign_requests_to_connections()\n\u001b[32m    255\u001b[39m     \u001b[38;5;28mself\u001b[39m._close_connections(closing)\n\u001b[32m--> \u001b[39m\u001b[32m256\u001b[39m     \u001b[38;5;28;01mraise\u001b[39;00m exc \u001b[38;5;28;01mfrom\u001b[39;00m\u001b[38;5;250m \u001b[39m\u001b[38;5;28;01mNone\u001b[39;00m\n\u001b[32m    258\u001b[39m \u001b[38;5;66;03m# Return the response. Note that in this case we still have to manage\u001b[39;00m\n\u001b[32m    259\u001b[39m \u001b[38;5;66;03m# the point at which the response is closed.\u001b[39;00m\n\u001b[32m    260\u001b[39m \u001b[38;5;28;01massert\u001b[39;00m \u001b[38;5;28misinstance\u001b[39m(response.stream, typing.Iterable)\n",
      "\u001b[36mFile \u001b[39m\u001b[32mc:\\Users\\panda\\OneDrive\\Documents\\mcd\\proyectoCenace\\.venv\\Lib\\site-packages\\httpcore\\_sync\\connection_pool.py:236\u001b[39m, in \u001b[36mConnectionPool.handle_request\u001b[39m\u001b[34m(self, request)\u001b[39m\n\u001b[32m    232\u001b[39m connection = pool_request.wait_for_connection(timeout=timeout)\n\u001b[32m    234\u001b[39m \u001b[38;5;28;01mtry\u001b[39;00m:\n\u001b[32m    235\u001b[39m     \u001b[38;5;66;03m# Send the request on the assigned connection.\u001b[39;00m\n\u001b[32m--> \u001b[39m\u001b[32m236\u001b[39m     response = \u001b[43mconnection\u001b[49m\u001b[43m.\u001b[49m\u001b[43mhandle_request\u001b[49m\u001b[43m(\u001b[49m\n\u001b[32m    237\u001b[39m \u001b[43m        \u001b[49m\u001b[43mpool_request\u001b[49m\u001b[43m.\u001b[49m\u001b[43mrequest\u001b[49m\n\u001b[32m    238\u001b[39m \u001b[43m    \u001b[49m\u001b[43m)\u001b[49m\n\u001b[32m    239\u001b[39m \u001b[38;5;28;01mexcept\u001b[39;00m ConnectionNotAvailable:\n\u001b[32m    240\u001b[39m     \u001b[38;5;66;03m# In some cases a connection may initially be available to\u001b[39;00m\n\u001b[32m    241\u001b[39m     \u001b[38;5;66;03m# handle a request, but then become unavailable.\u001b[39;00m\n\u001b[32m    242\u001b[39m     \u001b[38;5;66;03m#\u001b[39;00m\n\u001b[32m    243\u001b[39m     \u001b[38;5;66;03m# In this case we clear the connection and try again.\u001b[39;00m\n\u001b[32m    244\u001b[39m     pool_request.clear_connection()\n",
      "\u001b[36mFile \u001b[39m\u001b[32mc:\\Users\\panda\\OneDrive\\Documents\\mcd\\proyectoCenace\\.venv\\Lib\\site-packages\\httpcore\\_sync\\connection.py:103\u001b[39m, in \u001b[36mHTTPConnection.handle_request\u001b[39m\u001b[34m(self, request)\u001b[39m\n\u001b[32m    100\u001b[39m     \u001b[38;5;28mself\u001b[39m._connect_failed = \u001b[38;5;28;01mTrue\u001b[39;00m\n\u001b[32m    101\u001b[39m     \u001b[38;5;28;01mraise\u001b[39;00m exc\n\u001b[32m--> \u001b[39m\u001b[32m103\u001b[39m \u001b[38;5;28;01mreturn\u001b[39;00m \u001b[38;5;28;43mself\u001b[39;49m\u001b[43m.\u001b[49m\u001b[43m_connection\u001b[49m\u001b[43m.\u001b[49m\u001b[43mhandle_request\u001b[49m\u001b[43m(\u001b[49m\u001b[43mrequest\u001b[49m\u001b[43m)\u001b[49m\n",
      "\u001b[36mFile \u001b[39m\u001b[32mc:\\Users\\panda\\OneDrive\\Documents\\mcd\\proyectoCenace\\.venv\\Lib\\site-packages\\httpcore\\_sync\\http11.py:136\u001b[39m, in \u001b[36mHTTP11Connection.handle_request\u001b[39m\u001b[34m(self, request)\u001b[39m\n\u001b[32m    134\u001b[39m     \u001b[38;5;28;01mwith\u001b[39;00m Trace(\u001b[33m\"\u001b[39m\u001b[33mresponse_closed\u001b[39m\u001b[33m\"\u001b[39m, logger, request) \u001b[38;5;28;01mas\u001b[39;00m trace:\n\u001b[32m    135\u001b[39m         \u001b[38;5;28mself\u001b[39m._response_closed()\n\u001b[32m--> \u001b[39m\u001b[32m136\u001b[39m \u001b[38;5;28;01mraise\u001b[39;00m exc\n",
      "\u001b[36mFile \u001b[39m\u001b[32mc:\\Users\\panda\\OneDrive\\Documents\\mcd\\proyectoCenace\\.venv\\Lib\\site-packages\\httpcore\\_sync\\http11.py:106\u001b[39m, in \u001b[36mHTTP11Connection.handle_request\u001b[39m\u001b[34m(self, request)\u001b[39m\n\u001b[32m     95\u001b[39m     \u001b[38;5;28;01mpass\u001b[39;00m\n\u001b[32m     97\u001b[39m \u001b[38;5;28;01mwith\u001b[39;00m Trace(\n\u001b[32m     98\u001b[39m     \u001b[33m\"\u001b[39m\u001b[33mreceive_response_headers\u001b[39m\u001b[33m\"\u001b[39m, logger, request, kwargs\n\u001b[32m     99\u001b[39m ) \u001b[38;5;28;01mas\u001b[39;00m trace:\n\u001b[32m    100\u001b[39m     (\n\u001b[32m    101\u001b[39m         http_version,\n\u001b[32m    102\u001b[39m         status,\n\u001b[32m    103\u001b[39m         reason_phrase,\n\u001b[32m    104\u001b[39m         headers,\n\u001b[32m    105\u001b[39m         trailing_data,\n\u001b[32m--> \u001b[39m\u001b[32m106\u001b[39m     ) = \u001b[38;5;28;43mself\u001b[39;49m\u001b[43m.\u001b[49m\u001b[43m_receive_response_headers\u001b[49m\u001b[43m(\u001b[49m\u001b[43m*\u001b[49m\u001b[43m*\u001b[49m\u001b[43mkwargs\u001b[49m\u001b[43m)\u001b[49m\n\u001b[32m    107\u001b[39m     trace.return_value = (\n\u001b[32m    108\u001b[39m         http_version,\n\u001b[32m    109\u001b[39m         status,\n\u001b[32m    110\u001b[39m         reason_phrase,\n\u001b[32m    111\u001b[39m         headers,\n\u001b[32m    112\u001b[39m     )\n\u001b[32m    114\u001b[39m network_stream = \u001b[38;5;28mself\u001b[39m._network_stream\n",
      "\u001b[36mFile \u001b[39m\u001b[32mc:\\Users\\panda\\OneDrive\\Documents\\mcd\\proyectoCenace\\.venv\\Lib\\site-packages\\httpcore\\_sync\\http11.py:177\u001b[39m, in \u001b[36mHTTP11Connection._receive_response_headers\u001b[39m\u001b[34m(self, request)\u001b[39m\n\u001b[32m    174\u001b[39m timeout = timeouts.get(\u001b[33m\"\u001b[39m\u001b[33mread\u001b[39m\u001b[33m\"\u001b[39m, \u001b[38;5;28;01mNone\u001b[39;00m)\n\u001b[32m    176\u001b[39m \u001b[38;5;28;01mwhile\u001b[39;00m \u001b[38;5;28;01mTrue\u001b[39;00m:\n\u001b[32m--> \u001b[39m\u001b[32m177\u001b[39m     event = \u001b[38;5;28;43mself\u001b[39;49m\u001b[43m.\u001b[49m\u001b[43m_receive_event\u001b[49m\u001b[43m(\u001b[49m\u001b[43mtimeout\u001b[49m\u001b[43m=\u001b[49m\u001b[43mtimeout\u001b[49m\u001b[43m)\u001b[49m\n\u001b[32m    178\u001b[39m     \u001b[38;5;28;01mif\u001b[39;00m \u001b[38;5;28misinstance\u001b[39m(event, h11.Response):\n\u001b[32m    179\u001b[39m         \u001b[38;5;28;01mbreak\u001b[39;00m\n",
      "\u001b[36mFile \u001b[39m\u001b[32mc:\\Users\\panda\\OneDrive\\Documents\\mcd\\proyectoCenace\\.venv\\Lib\\site-packages\\httpcore\\_sync\\http11.py:217\u001b[39m, in \u001b[36mHTTP11Connection._receive_event\u001b[39m\u001b[34m(self, timeout)\u001b[39m\n\u001b[32m    214\u001b[39m     event = \u001b[38;5;28mself\u001b[39m._h11_state.next_event()\n\u001b[32m    216\u001b[39m \u001b[38;5;28;01mif\u001b[39;00m event \u001b[38;5;129;01mis\u001b[39;00m h11.NEED_DATA:\n\u001b[32m--> \u001b[39m\u001b[32m217\u001b[39m     data = \u001b[38;5;28;43mself\u001b[39;49m\u001b[43m.\u001b[49m\u001b[43m_network_stream\u001b[49m\u001b[43m.\u001b[49m\u001b[43mread\u001b[49m\u001b[43m(\u001b[49m\n\u001b[32m    218\u001b[39m \u001b[43m        \u001b[49m\u001b[38;5;28;43mself\u001b[39;49m\u001b[43m.\u001b[49m\u001b[43mREAD_NUM_BYTES\u001b[49m\u001b[43m,\u001b[49m\u001b[43m \u001b[49m\u001b[43mtimeout\u001b[49m\u001b[43m=\u001b[49m\u001b[43mtimeout\u001b[49m\n\u001b[32m    219\u001b[39m \u001b[43m    \u001b[49m\u001b[43m)\u001b[49m\n\u001b[32m    221\u001b[39m     \u001b[38;5;66;03m# If we feed this case through h11 we'll raise an exception like:\u001b[39;00m\n\u001b[32m    222\u001b[39m     \u001b[38;5;66;03m#\u001b[39;00m\n\u001b[32m    223\u001b[39m     \u001b[38;5;66;03m#     httpcore.RemoteProtocolError: can't handle event type\u001b[39;00m\n\u001b[32m   (...)\u001b[39m\u001b[32m    227\u001b[39m     \u001b[38;5;66;03m# perspective. Instead we handle this case distinctly and treat\u001b[39;00m\n\u001b[32m    228\u001b[39m     \u001b[38;5;66;03m# it as a ConnectError.\u001b[39;00m\n\u001b[32m    229\u001b[39m     \u001b[38;5;28;01mif\u001b[39;00m data == \u001b[33mb\u001b[39m\u001b[33m\"\u001b[39m\u001b[33m\"\u001b[39m \u001b[38;5;129;01mand\u001b[39;00m \u001b[38;5;28mself\u001b[39m._h11_state.their_state == h11.SEND_RESPONSE:\n",
      "\u001b[36mFile \u001b[39m\u001b[32mc:\\Users\\panda\\OneDrive\\Documents\\mcd\\proyectoCenace\\.venv\\Lib\\site-packages\\httpcore\\_backends\\sync.py:128\u001b[39m, in \u001b[36mSyncStream.read\u001b[39m\u001b[34m(self, max_bytes, timeout)\u001b[39m\n\u001b[32m    126\u001b[39m \u001b[38;5;28;01mwith\u001b[39;00m map_exceptions(exc_map):\n\u001b[32m    127\u001b[39m     \u001b[38;5;28mself\u001b[39m._sock.settimeout(timeout)\n\u001b[32m--> \u001b[39m\u001b[32m128\u001b[39m     \u001b[38;5;28;01mreturn\u001b[39;00m \u001b[38;5;28;43mself\u001b[39;49m\u001b[43m.\u001b[49m\u001b[43m_sock\u001b[49m\u001b[43m.\u001b[49m\u001b[43mrecv\u001b[49m\u001b[43m(\u001b[49m\u001b[43mmax_bytes\u001b[49m\u001b[43m)\u001b[49m\n",
      "\u001b[31mKeyboardInterrupt\u001b[39m: "
     ]
    }
   ],
   "source": [
    "import os\n",
    "from cenacellm.ollama.embedder import OllamaEmbedder\n",
    "from cenacellm.vectorstore import FAISSVectorStore\n",
    "from cenacellm.doccollection import DisjointCollection\n",
    "\n",
    "# 1. Inicializar componentes\n",
    "collection = DisjointCollection()\n",
    "embedder = OllamaEmbedder()\n",
    "vectorstore = FAISSVectorStore(\n",
    "    dim=embedder.dim(),\n",
    "    embeddings=embedder,\n",
    "    folder_path=\"../datos/vectorstore\",\n",
    ")\n",
    "\n",
    "# 2. Ruta a la carpeta de PDFs\n",
    "carpeta_pdfs = \"../datos/documentos\"\n",
    "\n",
    "# 3. Recorrer archivos PDF\n",
    "for archivo in os.listdir(carpeta_pdfs):\n",
    "    if archivo.endswith(\".pdf\"):\n",
    "        ruta_pdf = os.path.join(carpeta_pdfs, archivo)\n",
    "        \n",
    "        # 4. Cargar PDF con metadatos personalizados y colección\n",
    "        texto = collection.load_pdf(ruta_pdf, collection=\"documentos\")\n",
    "        \n",
    "        # 5. Obtener chunks del texto completo\n",
    "        chunks = collection.get_chunks(texto)\n",
    "        \n",
    "        # 6. Vectorizar y agregar a FAISS\n",
    "        for chunk in chunks:\n",
    "            vector = embedder.vectorize(chunk.content)\n",
    "            vectorstore.add_text(vector, chunk)  # Agrega al índice\n",
    "\n"
   ]
  },
  {
   "cell_type": "code",
   "execution_count": 2,
   "metadata": {},
   "outputs": [
    {
     "data": {
      "text/plain": [
       "Text(content='Confidential   \\n \\n \\nManual de Usuario del SIREL  WEB  \\n  \\n \\n \\n \\n \\n  \\n \\n \\n Autor  Ignacio Estrada  \\nCódigo  SIE-DOC -REL-MAN _003_00 \\nVersión  0 \\nFecha  26/07/2021 \\nProtección  Documento Confidencial', metadata=TextMetadata(source='../datos/documentos\\\\SIE-DOC-REL-MAN_003_00 (1).pdf', reference='9e0248f7-c123-42aa-aa20-303e1dc6f375', collection='documentos', filename='SIE-DOC-REL-MAN_003_00 (1).pdf', total_pages=33, page_number=1, title='Estatuto de Trabajo', author='Ignacio Estrada', subject='Sistemas SCADA/EMS del CENACE', keywords='C_Confidential', creator='Microsoft® Word 2016', creationdate=\"D:20220323203220-06'00'\", moddate=\"D:20220323203220-06'00'\", producer='Microsoft® Word 2016'))"
      ]
     },
     "execution_count": 2,
     "metadata": {},
     "output_type": "execute_result"
    }
   ],
   "source": [
    "chunks[0]"
   ]
  },
  {
   "cell_type": "code",
   "execution_count": 3,
   "metadata": {},
   "outputs": [
    {
     "name": "stdout",
     "output_type": "stream",
     "text": [
      "Índice guardado en ../datos/vectorstore\\index.faiss\n",
      "Diccionario guardado en ../datos/vectorstore\\index.pkl\n"
     ]
    }
   ],
   "source": [
    "vectorstore.save_index()  # Guarda el FAISS index y text_dict\n"
   ]
  },
  {
   "cell_type": "code",
   "execution_count": 4,
   "metadata": {},
   "outputs": [
    {
     "data": {
      "text/plain": [
       "[Text(content='Confidential   \\n \\n \\nManual de Usuario del SIREL  WEB  \\n  \\n \\n \\n \\n \\n  \\n \\n \\n Autor  Ignacio Estrada  \\nCódigo  SIE-DOC -REL-MAN _003_00 \\nVersión  0 \\nFecha  26/07/2021 \\nProtección  Documento Confidencial', metadata=TextMetadata(source='../datos/documentos\\\\SIE-DOC-REL-MAN_003_00 (1).pdf', reference='9e0248f7-c123-42aa-aa20-303e1dc6f375', collection='documentos', filename='SIE-DOC-REL-MAN_003_00 (1).pdf', total_pages=33, page_number=1, title='Estatuto de Trabajo', author='Ignacio Estrada', subject='Sistemas SCADA/EMS del CENACE', keywords='C_Confidential', creator='Microsoft® Word 2016', creationdate=\"D:20220323203220-06'00'\", moddate=\"D:20220323203220-06'00'\", producer='Microsoft® Word 2016')),\n",
       " Text(content='Control de Cambios  \\nFecha: 20/02/2021  Proyecto: Sistemas SCADA/EMS del CENACE  \\nSIE-DOC -REL-MAN _003_00 \\n \\nConfidential  \\nUpdated 28/02/2018  Versión: 0  Página 2 of  33 \\nAutor: Ignacio Estrada   Restricted © Siemens AG, 2018. All rights reserved.   \\n Historia de Revisión  \\nFecha  Version  Autor  Descripción de los Cambios  Secciones Afectadas  \\n03/04/2021 1.0 Ignacio \\nEstrada  Versión Inicial', metadata=TextMetadata(source='../datos/documentos\\\\SIE-DOC-REL-MAN_003_00 (1).pdf', reference='9e0248f7-c123-42aa-aa20-303e1dc6f375', collection='documentos', filename='SIE-DOC-REL-MAN_003_00 (1).pdf', total_pages=33, page_number=2, title='Estatuto de Trabajo', author='Ignacio Estrada', subject='Sistemas SCADA/EMS del CENACE', keywords='C_Confidential', creator='Microsoft® Word 2016', creationdate=\"D:20220323203220-06'00'\", moddate=\"D:20220323203220-06'00'\", producer='Microsoft® Word 2016')),\n",
       " Text(content='Control de Cambios  \\nFecha: 20/02/2021  Proyecto: Sistemas SCADA/EMS del CENACE  \\nSIE-DOC -REL-MAN _003_00 \\n \\nConfidential  \\nUpdated 28/02/2018  Versión: 0  Página 3 of  33 \\nAutor: Ignacio Estrada   Restricted © Siemens AG, 2018. All rights reserved.   \\n Tabla de Contenidos  \\n1 Introducción  ................................ ................................ ................................ ...............................  6 \\n1.1 Descripción ................................ ................................ ................................ ................................ ....... 6 \\n1.2 Propósito  ................................ ................................ ................................ ................................ ..........  6 \\n1.3 Usuarios del  sistema  ................................ ................................ ................................ ........................  6 \\n1.4 Privilegios  de Usuario  ................................ ................................ ................................ ......................  6 \\n1.5 Aplicación SIREL WEB  ................................ ................................ ................................ ....................  6 \\n1.6 Funcio nes generales  ................................ ................................ ................................ ........................  7', metadata=TextMetadata(source='../datos/documentos\\\\SIE-DOC-REL-MAN_003_00 (1).pdf', reference='9e0248f7-c123-42aa-aa20-303e1dc6f375', collection='documentos', filename='SIE-DOC-REL-MAN_003_00 (1).pdf', total_pages=33, page_number=3, title='Estatuto de Trabajo', author='Ignacio Estrada', subject='Sistemas SCADA/EMS del CENACE', keywords='C_Confidential', creator='Microsoft® Word 2016', creationdate=\"D:20220323203220-06'00'\", moddate=\"D:20220323203220-06'00'\", producer='Microsoft® Word 2016')),\n",
       " Text(content='1.6 Funcio nes generales  ................................ ................................ ................................ ........................  7 \\n1.7 Mapa del sitio  ................................ ................................ ................................ ................................ ... 8 \\n1.8 Registro de Usuario  ................................ ................................ ................................ ..........................  8 \\n1.9 Interfaz de Usuario  ................................ ................................ ................................ .........................  10 \\n1.10 Credenciales de acceso  ................................ ................................ ................................ .................  11 \\n2 Sección del Relatorio  ................................ ................................ ................................ ..............  13 \\n2.1 Relatorio abierto  ................................ ................................ ................................ .............................  13 \\nProcedimiento: Consultar Relatorios abiertos  ................................ ................................ ..................  13 \\nProcedimiento: Exportar Relatorios abiertos  ................................ ................................ ....................  13', metadata=TextMetadata(source='../datos/documentos\\\\SIE-DOC-REL-MAN_003_00 (1).pdf', reference='9e0248f7-c123-42aa-aa20-303e1dc6f375', collection='documentos', filename='SIE-DOC-REL-MAN_003_00 (1).pdf', total_pages=33, page_number=3, title='Estatuto de Trabajo', author='Ignacio Estrada', subject='Sistemas SCADA/EMS del CENACE', keywords='C_Confidential', creator='Microsoft® Word 2016', creationdate=\"D:20220323203220-06'00'\", moddate=\"D:20220323203220-06'00'\", producer='Microsoft® Word 2016')),\n",
       " Text(content='Procedimiento: Exportar Relatorios abiertos  ................................ ................................ ....................  13 \\n2.2 Relatorio Histórico  ................................ ................................ ................................ ..........................  14 \\nProcedimiento: Consultar Relatorios historicos  ................................ ................................ ................  14 \\nProcedimiento: Exportar Relatorios históricos  ................................ ................................ .................  15 \\nProcedimiento: Ver detalle  ................................ ................................ ................................ ...............  16 \\n3 Sección de Licencias  ................................ ................................ ................................ ..............  17 \\n3.1 Solici tudes  ................................ ................................ ................................ ................................ ...... 17 \\nProcedimiento: Consultar Solicitudes  ................................ ................................ ..............................  17 \\nProcedimiento: Consultar Solicitudes por filtros  ................................ ................................ ...............  17 \\nProcedimiento: Ver detalle  ................................ ................................ ................................ ...............  19', metadata=TextMetadata(source='../datos/documentos\\\\SIE-DOC-REL-MAN_003_00 (1).pdf', reference='9e0248f7-c123-42aa-aa20-303e1dc6f375', collection='documentos', filename='SIE-DOC-REL-MAN_003_00 (1).pdf', total_pages=33, page_number=3, title='Estatuto de Trabajo', author='Ignacio Estrada', subject='Sistemas SCADA/EMS del CENACE', keywords='C_Confidential', creator='Microsoft® Word 2016', creationdate=\"D:20220323203220-06'00'\", moddate=\"D:20220323203220-06'00'\", producer='Microsoft® Word 2016')),\n",
       " Text(content='Procedimiento: Ver detalle  ................................ ................................ ................................ ...............  19 \\nProced imiento: Exportar Solicitudes  ................................ ................................ ................................  20 \\n3.2 Cambiar Estado de Solicitudes  ................................ ................................ ................................ ...... 21 \\nProcedimiento: Autorizar Solicitud  ................................ ................................ ................................ ... 21 \\nProcedimiento: Cancelar Solicitud  ................................ ................................ ................................ ... 22 \\nProcedimiento: Reprogramar Solicitud  ................................ ................................ ............................  22 \\n3.3 Fincado de Solicitudes  ................................ ................................ ................................ ...................  24 \\nProcedimiento: Fincar Solicitud  ................................ ................................ ................................ ........  24 \\n3.4 Licencias  ................................ ................................ ................................ ................................ ........  25 \\nProcedimiento: Consultar Licencias  ................................ ................................ ................................ . 25', metadata=TextMetadata(source='../datos/documentos\\\\SIE-DOC-REL-MAN_003_00 (1).pdf', reference='9e0248f7-c123-42aa-aa20-303e1dc6f375', collection='documentos', filename='SIE-DOC-REL-MAN_003_00 (1).pdf', total_pages=33, page_number=3, title='Estatuto de Trabajo', author='Ignacio Estrada', subject='Sistemas SCADA/EMS del CENACE', keywords='C_Confidential', creator='Microsoft® Word 2016', creationdate=\"D:20220323203220-06'00'\", moddate=\"D:20220323203220-06'00'\", producer='Microsoft® Word 2016')),\n",
       " Text(content='Procedimiento: Consultar Licencias  ................................ ................................ ................................ . 25 \\nProcedimiento: Consultar Licencias por filtros  ................................ ................................ .................  26 \\nProcedimiento: Ver detalle  ................................ ................................ ................................ ...............  27 \\nProced imiento: Exportar Licencias  ................................ ................................ ................................ ... 28 \\n3.5 Registros de Monitoreo de Variables (RMV)  ................................ ................................ ..................  28 \\nProcedimiento: Consultar RMS vigentes  ................................ ................................ .........................  28 \\nProcedimiento: Consultar RMV históricos  ................................ ................................ ........................  29 \\nProcedimiento: Consultar RMV históricos por filtros  ................................ ................................ ........  29 \\nProcedimiento: Exportar RMV  ................................ ................................ ................................ ..........  30 \\n4 Sección de Eventos relevantes  ................................ ................................ ...............................  31', metadata=TextMetadata(source='../datos/documentos\\\\SIE-DOC-REL-MAN_003_00 (1).pdf', reference='9e0248f7-c123-42aa-aa20-303e1dc6f375', collection='documentos', filename='SIE-DOC-REL-MAN_003_00 (1).pdf', total_pages=33, page_number=3, title='Estatuto de Trabajo', author='Ignacio Estrada', subject='Sistemas SCADA/EMS del CENACE', keywords='C_Confidential', creator='Microsoft® Word 2016', creationdate=\"D:20220323203220-06'00'\", moddate=\"D:20220323203220-06'00'\", producer='Microsoft® Word 2016')),\n",
       " Text(content='4 Sección de Eventos relevantes  ................................ ................................ ...............................  31 \\n4.1 Eventos relevantes  ................................ ................................ ................................ .........................  31 \\nProcedimiento: Consultar Eventos  ................................ ................................ ................................ ... 31 \\nProcedimiento: Consultar Eventos por filtros  ................................ ................................ ...................  31', metadata=TextMetadata(source='../datos/documentos\\\\SIE-DOC-REL-MAN_003_00 (1).pdf', reference='9e0248f7-c123-42aa-aa20-303e1dc6f375', collection='documentos', filename='SIE-DOC-REL-MAN_003_00 (1).pdf', total_pages=33, page_number=3, title='Estatuto de Trabajo', author='Ignacio Estrada', subject='Sistemas SCADA/EMS del CENACE', keywords='C_Confidential', creator='Microsoft® Word 2016', creationdate=\"D:20220323203220-06'00'\", moddate=\"D:20220323203220-06'00'\", producer='Microsoft® Word 2016')),\n",
       " Text(content='Control de Cambios  \\nFecha: 20/02/2021  Proyecto: Sistemas SCADA/EMS del CENACE  \\nSIE-DOC -REL-MAN _003_00 \\n \\nConfidential  \\nUpdated 28/02/2018  Versión: 0  Página 4 of  33 \\nAutor: Ignacio Estrada   Restricted © Siemens AG, 2018. All rights reserved.   \\n Procedimiento: Ver detalle  ................................ ................................ ................................ ...............  32 \\nProced imiento: Exportar Eventos  ................................ ................................ ................................ ..... 33', metadata=TextMetadata(source='../datos/documentos\\\\SIE-DOC-REL-MAN_003_00 (1).pdf', reference='9e0248f7-c123-42aa-aa20-303e1dc6f375', collection='documentos', filename='SIE-DOC-REL-MAN_003_00 (1).pdf', total_pages=33, page_number=4, title='Estatuto de Trabajo', author='Ignacio Estrada', subject='Sistemas SCADA/EMS del CENACE', keywords='C_Confidential', creator='Microsoft® Word 2016', creationdate=\"D:20220323203220-06'00'\", moddate=\"D:20220323203220-06'00'\", producer='Microsoft® Word 2016')),\n",
       " Text(content='Control de Cambios  \\nFecha: 20/02/2021  Proyecto: Sistemas SCADA/EMS del CENACE  \\nSIE-DOC -REL-MAN _003_00 \\n \\nConfidential  \\nUpdated 28/02/2018  Versión: 0  Página 5 of  33 \\nAutor: Ignacio Estrada   Restricted © Siemens AG, 2018. All rights reserved.   \\n i Referencias  \\nDocumento de Arquitectura del Sistema SIREL.  \\nDocumento de Diseño y Arquitectura de Base de Datos  \\nDocumento de Integración del sistema SIREL  \\nDocumento de Mantenimiento del sistema SIREL  \\nDocumento Manual de Usuario del SIREL  \\nDocumento Manual de Usuario del Administrador de Catálogos  \\n \\nii Glosario de Nuevos Términos y Abreviaturas  \\nNuevos términos y / o abreviaturas asociadas con este proyecto en orden alfabético.  \\nTermino y/o \\nabreviatura  Definición  \\nSIREL  Sistema de Información de Relatorio, Eventos y Licencias  \\nOPJT  Operador Jefe de Turno  \\nSOJN  Operador Supervisor Operativo Jornada Nocturna  \\nUI Interfaz de usuario (por sus siglas en inglés - User Interface)  \\nOTS Ambiente del Simulador (por sus siglas en inglés – Operator Trainning Simulator)  \\nWSSM  Servicio de Windows para la Supervisión y Monitoreo del estado de Solicitudes y \\nLicencias  \\nWSSC  Servicio de Windows par a el control de la ejecución del servicio WSSM  \\nAPI Interfaz de Programación de Aplicaciones (por sus siglas en inglés – Application \\nProgramming Interface)  \\nAmbiente  Es el área de trabajo donde operan las aplicaciones, puede ser Producción u OTS  \\nPrimario  Sistema o componente que realiza las funciones actualmente', metadata=TextMetadata(source='../datos/documentos\\\\SIE-DOC-REL-MAN_003_00 (1).pdf', reference='9e0248f7-c123-42aa-aa20-303e1dc6f375', collection='documentos', filename='SIE-DOC-REL-MAN_003_00 (1).pdf', total_pages=33, page_number=5, title='Estatuto de Trabajo', author='Ignacio Estrada', subject='Sistemas SCADA/EMS del CENACE', keywords='C_Confidential', creator='Microsoft® Word 2016', creationdate=\"D:20220323203220-06'00'\", moddate=\"D:20220323203220-06'00'\", producer='Microsoft® Word 2016')),\n",
       " Text(content='Programming Interface)  \\nAmbiente  Es el área de trabajo donde operan las aplicaciones, puede ser Producción u OTS  \\nPrimario  Sistema o componente que realiza las funciones actualmente  \\nAlterno  Sistema o componente en modo espera (stand -by)  \\nReal time  Sistema operando en tiempo real  \\nDMZ  Zona desmilitarizada (por sus siglas en inglés – Demilitarized Zone)  \\nSP7 Sistema Spectrum SCADA/EMS SIEMENS  \\nSP Procedimientos almacenados de base de datos (pos sus siglas en inglés – Stored \\nProcedures)  \\nSSH Protocolo de Conectividad Segura (por sus siglas en inglés - Secure Shell)  \\nADM  Servidor de Administración de bases de datos del sistema SP7 \\nQAS  Sistema de Calidad (por sus siglas en inglés – Quality Assurance System)  \\nConsola SP7  Equipo de cómputo destinado al uso del sistema SCADA/EMS  \\nClick  Acción del ratón (o mouse) que se reaiza al presionar cualquier botón  \\nMenú \\ncontextual  Es un menú que se obtiene via el botón secundario del mouse colocado sobre un ícono \\nu opción  y haciendo click para elegir otras opciones', metadata=TextMetadata(source='../datos/documentos\\\\SIE-DOC-REL-MAN_003_00 (1).pdf', reference='9e0248f7-c123-42aa-aa20-303e1dc6f375', collection='documentos', filename='SIE-DOC-REL-MAN_003_00 (1).pdf', total_pages=33, page_number=5, title='Estatuto de Trabajo', author='Ignacio Estrada', subject='Sistemas SCADA/EMS del CENACE', keywords='C_Confidential', creator='Microsoft® Word 2016', creationdate=\"D:20220323203220-06'00'\", moddate=\"D:20220323203220-06'00'\", producer='Microsoft® Word 2016')),\n",
       " Text(content='Control de Cambios  \\nFecha: 20/02/2021  Proyecto: Sistemas SCADA/EMS del CENACE  \\nSIE-DOC -REL-MAN _003_00 \\n \\nConfidential  \\nUpdated 28/02/2018  Versión: 0  Página 6 of  33 \\nAutor: Ignacio Estrada   Restricted © Siemens AG, 2018. All rights reserved.   \\n 1 Introducción  \\n \\n1.1 Descripción  \\nEste documento es una guía  para todos los usuarios que requieren el uso de las aplicaciones del \\nsistema de Relatorio SIREL  WEB .   \\nPara su fácil manejo y comprensión, está organizado a nivel de los procesos en la gestión de la \\ninformación operativa en las diversas áreas planteadas en los requerimientos funcionales.   Así de \\nmanera glob al se definen éstos procesos agrupados en Subsistemas de la siguiente manera:  \\n \\n\\uf0a7 Subsistema de Relatorio . Comprende el módulo de Relatorio actual y Relatorio Histórico  \\n\\uf0a7 Subsistema de Licencias . Comprende los módulos de Solicitudes, Licencias, Estado de Maniobras, \\nManiobras de Catálogo, Monitoreo de Variables Eléctricas e interfaz al Subsistema de Relatorio  \\n\\uf0a7 Subsistema de Eventos . Comprende el Módulo de Eventos e interfaz al Subsistema de Relatorio  \\n \\nTodos los Subsistemas integrados conforman al sistema SIR EL. \\n \\n1.2 Propósito  \\nDescribir los procedimientos  y actividades  para realizar las funciones requeridas en el sistema \\nSIREL  WEB . \\n \\n1.3 Usuarios del sistema   \\nLos usuarios del sistema son todos aquellos que requieren ingresar de acuerdo a sus necesidades \\nfuncionales en  los procesos cubiertos por el sistema.', metadata=TextMetadata(source='../datos/documentos\\\\SIE-DOC-REL-MAN_003_00 (1).pdf', reference='9e0248f7-c123-42aa-aa20-303e1dc6f375', collection='documentos', filename='SIE-DOC-REL-MAN_003_00 (1).pdf', total_pages=33, page_number=6, title='Estatuto de Trabajo', author='Ignacio Estrada', subject='Sistemas SCADA/EMS del CENACE', keywords='C_Confidential', creator='Microsoft® Word 2016', creationdate=\"D:20220323203220-06'00'\", moddate=\"D:20220323203220-06'00'\", producer='Microsoft® Word 2016')),\n",
       " Text(content='SIREL  WEB . \\n \\n1.3 Usuarios del sistema   \\nLos usuarios del sistema son todos aquellos que requieren ingresar de acuerdo a sus necesidades \\nfuncionales en  los procesos cubiertos por el sistema.  \\n \\n1.4 Privilegios  de Usuario  \\nEn la aplicación SIREL WEB se manejan dos niveles de privilegio que permiten acceder a  las \\ndiversas funciones. La siguiente tabla describe dichos privilegios . \\n \\nRol Descripción  \\nSupervisor  Privilegio  que tiene n algunos usuarios para  acceder a las diversas \\nfucniones  disponibles en  la aplicación  SIREL  WEB . \\nConsulta  Todos los usuarios dados de alta en el sistema tienen de manera implícita \\neste privilegio  de usuario . \\nTabla 1: Privilegios de Usuario  \\n \\n1.5 Aplicación SIREL  WEB  \\nSIREL es una aplicación que funciona via un navegador WEB  y puede invocarse  en cada consola \\nde usuario del sistema SP7.  Su acceso está rá disponible via la dirección o liga  correspondiente \\npara invocar la aplicación  dede cualq uier consola .', metadata=TextMetadata(source='../datos/documentos\\\\SIE-DOC-REL-MAN_003_00 (1).pdf', reference='9e0248f7-c123-42aa-aa20-303e1dc6f375', collection='documentos', filename='SIE-DOC-REL-MAN_003_00 (1).pdf', total_pages=33, page_number=6, title='Estatuto de Trabajo', author='Ignacio Estrada', subject='Sistemas SCADA/EMS del CENACE', keywords='C_Confidential', creator='Microsoft® Word 2016', creationdate=\"D:20220323203220-06'00'\", moddate=\"D:20220323203220-06'00'\", producer='Microsoft® Word 2016')),\n",
       " Text(content='Control de Cambios  \\nFecha: 20/02/2021  Proyecto: Sistemas SCADA/EMS del CENACE  \\nSIE-DOC -REL-MAN _003_00 \\n \\nConfidential  \\nUpdated 28/02/2018  Versión: 0  Página 7 of  33 \\nAutor: Ignacio Estrada   Restricted © Siemens AG, 2018. All rights reserved.   \\n  \\nPara acceder al sitio WEB de la  aplicación proporcione  una de las siguientes  direciones  en un \\nnavegador WEB : \\nhttp://rel1pgcn:90/sirelweb/Home/Welcome  o http://rel2pgcn:90/sirelweb/Home/Welcome  \\n \\n1.6 Funciones generales  \\nLa interfaz de usuario de SIREL WEB permite funcionalidades similares como la función de \\nActualizar o la función de Exportar. Éstas funcion es tendrán resultados similares en las diversas \\npáginas que componen la aplicación . \\n \\nActualización de la s cuadrícula s. \\nAl seleccionar por primera vez una página  se obtiene una consulta por omisión o por default de \\ninformación según la página requerida . \\n \\nManejo de Columnas en  Cuadrículas . \\nCada cuadrícula tiene la capacidad de organizar  las columnas  de manera conveniente  al reubicarlas \\nde posición . \\nPara mover una columna de posición : dé click en el encabezado y manteniendo presionado botón \\nizquierdo del mouse ‘arrastre’ la columna a la posición deseada . \\n \\nVisualización de detalle  \\nCada página  contiene un a sección abatible  que permite la visualización de detalle para el renglón \\nseleccionado  en la cuadrícula correspondiente.  La vista de detalle puede ser abatible  usando el', metadata=TextMetadata(source='../datos/documentos\\\\SIE-DOC-REL-MAN_003_00 (1).pdf', reference='9e0248f7-c123-42aa-aa20-303e1dc6f375', collection='documentos', filename='SIE-DOC-REL-MAN_003_00 (1).pdf', total_pages=33, page_number=7, title='Estatuto de Trabajo', author='Ignacio Estrada', subject='Sistemas SCADA/EMS del CENACE', keywords='C_Confidential', creator='Microsoft® Word 2016', creationdate=\"D:20220323203220-06'00'\", moddate=\"D:20220323203220-06'00'\", producer='Microsoft® Word 2016')),\n",
       " Text(content='Cada página  contiene un a sección abatible  que permite la visualización de detalle para el renglón \\nseleccionado  en la cuadrícula correspondiente.  La vista de detalle puede ser abatible  usando el \\nicono  correspondiente al mostrarse la barra divisoria de la sección . \\n \\nPor otro lado , para el caso de la página de Solicitudes y de acuerdo a los privilegios del usuario \\ningresado,  la navegación en cada renglón de la cuadrícula activará o desactivará funciones en el \\nmenú principal de acuerdo al estado o condición que presente la Solicitud  seleccionad a. \\n \\nCierre de Sesión  \\nLa función para salir de o terminar la aplicación  está disponible en la barra de opciones principal .  Al \\ndar click en el botón Logout  la sesión será finalizada.  \\n \\nConsideraciones para los procedimientos  \\nEn adelante y con el fín de generalizar el uso o aplicación de las funciones genéricas disponibles en \\nel SIREL WEB , se asumirá que dichas funciones están dispuestas para su utilización de manera \\nimplícita.  Esto significa que no será necesario estar mencionando o describiendo o explicando en \\ncada procedimiento dicha usabilidad.  \\n \\nFunciones del ratón (mouse)  \\nLa siguiente imagen describe las funciones del ratón  para la aplicación SIRE L WEB .', metadata=TextMetadata(source='../datos/documentos\\\\SIE-DOC-REL-MAN_003_00 (1).pdf', reference='9e0248f7-c123-42aa-aa20-303e1dc6f375', collection='documentos', filename='SIE-DOC-REL-MAN_003_00 (1).pdf', total_pages=33, page_number=7, title='Estatuto de Trabajo', author='Ignacio Estrada', subject='Sistemas SCADA/EMS del CENACE', keywords='C_Confidential', creator='Microsoft® Word 2016', creationdate=\"D:20220323203220-06'00'\", moddate=\"D:20220323203220-06'00'\", producer='Microsoft® Word 2016')),\n",
       " Text(content='Control de Cambios  \\nFecha: 20/02/2021  Proyecto: Sistemas SCADA/EMS del CENACE  \\nSIE-DOC -REL-MAN _003_00 \\n \\nConfidential  \\nUpdated 28/02/2018  Versión: 0  Página 8 of  33 \\nAutor: Ignacio Estrada   Restricted © Siemens AG, 2018. All rights reserved.   \\n  \\nLa función de selección aplica ya sea a un renglón en una cuadrícula, una opción en un menú, una \\nopción en un control tipo combo, etc.  \\n \\n \\n1.7 Mapa del sitio  \\nLa aplicación WEB es tá organizada en varias páginas distribuidas de acuerdo al mapa de sitio \\nsiguiente:  \\n \\nFig. 1 Mapa del sitio SIREL WEB  \\n \\nEn la Fig.1 las funciones incluidas en la aplicación WEB están descritas en cada página que \\nconforman el sitio.  \\n \\n1.8 Registro  de Usuario  \\nDe acuerdo al contenido del sitio WEB en Fig. 1, se cuenta con la función de registro de usuarios. \\nÉsta funcionalidad permite que un usuario se registre para ingresar a la aplicación, sin embargo éste', metadata=TextMetadata(source='../datos/documentos\\\\SIE-DOC-REL-MAN_003_00 (1).pdf', reference='9e0248f7-c123-42aa-aa20-303e1dc6f375', collection='documentos', filename='SIE-DOC-REL-MAN_003_00 (1).pdf', total_pages=33, page_number=8, title='Estatuto de Trabajo', author='Ignacio Estrada', subject='Sistemas SCADA/EMS del CENACE', keywords='C_Confidential', creator='Microsoft® Word 2016', creationdate=\"D:20220323203220-06'00'\", moddate=\"D:20220323203220-06'00'\", producer='Microsoft® Word 2016')),\n",
       " Text(content='Control de Cambios  \\nFecha: 20/02/2021  Proyecto: Sistemas SCADA/EMS del CENACE  \\nSIE-DOC -REL-MAN _003_00 \\n \\nConfidential  \\nUpdated 28/02/2018  Versión: 0  Página 9 of  33 \\nAutor: Ignacio Estrada   Restricted © Siemens AG, 2018. All rights reserved.   \\n registro es independiente del registro de usuarios desd e la aplicación del Administrador de \\nCatálogos.  Para proceder inicie en la página siguiente y dé un click en la opción Solicitar cuenta : \\n \\n \\nFig 2. Página de acceso  \\n \\nLa página de registro será invocada:  \\n \\n \\nFig 3. Página de Registro de usuario', metadata=TextMetadata(source='../datos/documentos\\\\SIE-DOC-REL-MAN_003_00 (1).pdf', reference='9e0248f7-c123-42aa-aa20-303e1dc6f375', collection='documentos', filename='SIE-DOC-REL-MAN_003_00 (1).pdf', total_pages=33, page_number=9, title='Estatuto de Trabajo', author='Ignacio Estrada', subject='Sistemas SCADA/EMS del CENACE', keywords='C_Confidential', creator='Microsoft® Word 2016', creationdate=\"D:20220323203220-06'00'\", moddate=\"D:20220323203220-06'00'\", producer='Microsoft® Word 2016')),\n",
       " Text(content='Control de Cambios  \\nFecha: 20/02/2021  Proyecto: Sistemas SCADA/EMS del CENACE  \\nSIE-DOC -REL-MAN _003_00 \\n \\nConfidential  \\nUpdated 28/02/2018  Versión: 0  Página 10 of  33 \\nAutor: Ignacio Estrada   Restricted © Siemens AG, 2018. All rights reserved.   \\n Se deberán proporcionar los datos  obligatorios  e indicados con un asterico.  Una vez registrado \\ndé un click en botón Registrar  y enseguida se enviará confirmación en la parte superior de la \\nventana como se indica en la siguiente figura:  \\n \\n \\nFig 4. Confirmación de reg istro de cuenta  \\n \\n1.9 Interfaz de Usuario  \\nLas siguientes imágenes muestran las componentes que conforman la interfaz de usuario de la aplicación \\nWEB.  \\n \\n \\nFig. 5 Áreas principales', metadata=TextMetadata(source='../datos/documentos\\\\SIE-DOC-REL-MAN_003_00 (1).pdf', reference='9e0248f7-c123-42aa-aa20-303e1dc6f375', collection='documentos', filename='SIE-DOC-REL-MAN_003_00 (1).pdf', total_pages=33, page_number=10, title='Estatuto de Trabajo', author='Ignacio Estrada', subject='Sistemas SCADA/EMS del CENACE', keywords='C_Confidential', creator='Microsoft® Word 2016', creationdate=\"D:20220323203220-06'00'\", moddate=\"D:20220323203220-06'00'\", producer='Microsoft® Word 2016')),\n",
       " Text(content='Control de Cambios  \\nFecha: 20/02/2021  Proyecto: Sistemas SCADA/EMS del CENACE  \\nSIE-DOC -REL-MAN _003_00 \\n \\nConfidential  \\nUpdated 28/02/2018  Versión: 0  Página 11 of  33 \\nAutor: Ignacio Estrada   Restricted © Siemens AG, 2018. All rights reserved.   \\n  \\n \\nFig. 6 Barras abatibles lateral y horizontal  \\n \\n1.10 Credenciales de acceso  \\nAl ser invocada la página de acceso a la aplicación SIREL WEB se deberá utilizar la misma clave \\nde usuario como en la aplicación SIREL de Windows tanto para el usuario como para la clave de \\nacceso.  Posteriormente una vez que se ingresa Ud. tendrá la manera de mo dificar su clave de \\nacceso para futuros accesos.  \\n \\nUna vez que Ud. haya ingresado, podrá modificar su clave  o contraseña  de acceso de acuerdo a la \\nsiguiente secuencia:  \\n \\nDé un click en el nombre del usuario  \\n \\nEn seguida se mostrará la página para la cambiar  contraseña:', metadata=TextMetadata(source='../datos/documentos\\\\SIE-DOC-REL-MAN_003_00 (1).pdf', reference='9e0248f7-c123-42aa-aa20-303e1dc6f375', collection='documentos', filename='SIE-DOC-REL-MAN_003_00 (1).pdf', total_pages=33, page_number=11, title='Estatuto de Trabajo', author='Ignacio Estrada', subject='Sistemas SCADA/EMS del CENACE', keywords='C_Confidential', creator='Microsoft® Word 2016', creationdate=\"D:20220323203220-06'00'\", moddate=\"D:20220323203220-06'00'\", producer='Microsoft® Word 2016')),\n",
       " Text(content='Control de Cambios  \\nFecha: 20/02/2021  Proyecto: Sistemas SCADA/EMS del CENACE  \\nSIE-DOC -REL-MAN _003_00 \\n \\nConfidential  \\nUpdated 28/02/2018  Versión: 0  Página 12 of  33 \\nAutor: Ignacio Estrada   Restricted © Siemens AG, 2018. All rights reserved.   \\n  \\nFig. 7 Página para proporcionar nueva contraseña  \\nProporcione los datos de l a nueva contraseña y seleccione  botón Cambiar contraseña .', metadata=TextMetadata(source='../datos/documentos\\\\SIE-DOC-REL-MAN_003_00 (1).pdf', reference='9e0248f7-c123-42aa-aa20-303e1dc6f375', collection='documentos', filename='SIE-DOC-REL-MAN_003_00 (1).pdf', total_pages=33, page_number=12, title='Estatuto de Trabajo', author='Ignacio Estrada', subject='Sistemas SCADA/EMS del CENACE', keywords='C_Confidential', creator='Microsoft® Word 2016', creationdate=\"D:20220323203220-06'00'\", moddate=\"D:20220323203220-06'00'\", producer='Microsoft® Word 2016')),\n",
       " Text(content='Control de Cambios  \\nFecha: 20/02/2021  Proyecto: Sistemas SCADA/EMS del CENACE  \\nSIE-DOC -REL-MAN _003_00 \\n \\nConfidential  \\nUpdated 28/02/2018  Versión: 0  Página 13 of  33 \\nAutor: Ignacio Estrada   Restricted © Siemens AG, 2018. All rights reserved.   \\n 2 Sección del Relatorio  \\nEn ésta sección se describen los procedimientos para realizar consultas del Relatorio. Sólo en el \\nprocedimiento inicial se describe la apertura y el acceso a la aplicación.  En el resto de \\nprocedimientos se dará por hecho que ya se ha ingresado y completado los primeros pasos.  \\n \\n2.1 Relatorio  abierto  \\nLos siguientes procedimientos permiten la consulta y exportación de eventos de Relatorios abiertos.  \\nProcedimiento: Consultar Relatorio s abiertos  \\nPaso  Actividad  \\n1. Ingresar al  SIREL  WEB  \\n2. Proporcionar las credenciales de usuario  y acceso . \\n3. Sirel mostrará la página inicial  \\n4. Desde el menú lateral, en la sección Relatorio, dé un click en botón Consulta Relatorio abierto . \\nSirel mostrará la consulta , \\n \\n \\nProcedimiento: Exportar Relatorio s abiertos  \\nPaso  Actividad  \\n1. Una vez ingresado a la aplicación  realice la consulta de Relatorio abierto  \\n2. Dé un click en botón Exportar a  y se mostrará el menú emergente para seleccionar las \\nopciones de exportación disponibles.', metadata=TextMetadata(source='../datos/documentos\\\\SIE-DOC-REL-MAN_003_00 (1).pdf', reference='9e0248f7-c123-42aa-aa20-303e1dc6f375', collection='documentos', filename='SIE-DOC-REL-MAN_003_00 (1).pdf', total_pages=33, page_number=13, title='Estatuto de Trabajo', author='Ignacio Estrada', subject='Sistemas SCADA/EMS del CENACE', keywords='C_Confidential', creator='Microsoft® Word 2016', creationdate=\"D:20220323203220-06'00'\", moddate=\"D:20220323203220-06'00'\", producer='Microsoft® Word 2016')),\n",
       " Text(content='Control de Cambios  \\nFecha: 20/02/2021  Proyecto: Sistemas SCADA/EMS del CENACE  \\nSIE-DOC -REL-MAN _003_00 \\n \\nConfidential  \\nUpdated 28/02/2018  Versión: 0  Página 14 of  33 \\nAutor: Ignacio Estrada   Restricted © Siemens AG, 2018. All rights reserved.   \\n  \\nSeleccione la opción de exportación requerida y de acuerdoa la configuración del \\nnavegador se mostrarán opciones para visualizar el archivo conteniendo la exportación de \\nlos registros consultados en la cuadrícula.  \\n \\n \\n2.2 Relatorio  Histórico  \\nLos siguientes procedimientos permiten la consulta  y exportación  de eventos de Relatorio s \\nhistóricos.  \\nProcedimiento: Consultar Relatorio s historico s \\nPaso  Actividad  \\n1. Realice la consulta por default del Relatorio Histórico  \\n2. Dé un click en botón Consultar  ubicado en la parte superior de la cuadricula de Relatorio \\nhistórico : \\nSIREL mostrará la página para realizar la Consulta con las opciones como se muestra enseguida: : \\n \\n \\nDé un click en opción Especificar filtro de Consulta , SIREL desplegará opciones con diferentes filtros  \\npara realizar la Consulta con las opciones como se muestra enseguida:', metadata=TextMetadata(source='../datos/documentos\\\\SIE-DOC-REL-MAN_003_00 (1).pdf', reference='9e0248f7-c123-42aa-aa20-303e1dc6f375', collection='documentos', filename='SIE-DOC-REL-MAN_003_00 (1).pdf', total_pages=33, page_number=14, title='Estatuto de Trabajo', author='Ignacio Estrada', subject='Sistemas SCADA/EMS del CENACE', keywords='C_Confidential', creator='Microsoft® Word 2016', creationdate=\"D:20220323203220-06'00'\", moddate=\"D:20220323203220-06'00'\", producer='Microsoft® Word 2016')),\n",
       " Text(content='Control de Cambios  \\nFecha: 20/02/2021  Proyecto: Sistemas SCADA/EMS del CENACE  \\nSIE-DOC -REL-MAN _003_00 \\n \\nConfidential  \\nUpdated 28/02/2018  Versión: 0  Página 15 of  33 \\nAutor: Ignacio Estrada   Restricted © Siemens AG, 2018. All rights reserved.   \\n  \\n \\nComplete los datos de los fitros requeridos y seleccione botón Aceptar . \\n \\nProcedimiento: Exportar  Relatorio s históricos  \\nPaso  Actividad  \\n1. Realice la consulta de Relatorio histórico  \\n2. Seleccione botón Exportar  ubicado en la parte superior de la Consulta de Relatorio Histórico  \\n3. Dé un click en botón Exportar a  y se mostrará el menú emergente para seleccionar las \\nopciones de exportación disponibles.  \\n \\nSeleccione la opción de exportación requerida y de acuerdoa la configuración del \\nnavegador se mostrarán opciones para visualizar el archivo conteniendo la exportación de \\nlos registros consultados en la cuadrícula.', metadata=TextMetadata(source='../datos/documentos\\\\SIE-DOC-REL-MAN_003_00 (1).pdf', reference='9e0248f7-c123-42aa-aa20-303e1dc6f375', collection='documentos', filename='SIE-DOC-REL-MAN_003_00 (1).pdf', total_pages=33, page_number=15, title='Estatuto de Trabajo', author='Ignacio Estrada', subject='Sistemas SCADA/EMS del CENACE', keywords='C_Confidential', creator='Microsoft® Word 2016', creationdate=\"D:20220323203220-06'00'\", moddate=\"D:20220323203220-06'00'\", producer='Microsoft® Word 2016')),\n",
       " Text(content='Control de Cambios  \\nFecha: 20/02/2021  Proyecto: Sistemas SCADA/EMS del CENACE  \\nSIE-DOC -REL-MAN _003_00 \\n \\nConfidential  \\nUpdated 28/02/2018  Versión: 0  Página 16 of  33 \\nAutor: Ignacio Estrada   Restricted © Siemens AG, 2018. All rights reserved.   \\n Procedimiento: Ver detalle  \\nPaso  Actividad  \\n1. En cualquier consulta del Relatorio, seleccione un renglón en la cuadricula  \\nSección Detalles : \\nSIREL mostrará la información del evento seleccionado en la parte inferior de la cuadrícula : \\n \\n \\nSección Notas de eventos:  \\nSeleccione opción Notas  y se mostrará la información correspondiente siempre y cuando el \\nevento contenga información de Notas.  \\nSección Archivos : \\nSeleccione opción Archivos  y se mostrará la información correspondiente siempre y cuando el \\nevento contenga información de Archivos.  En caso de contener archivos se mostrará sección \\ncon una liga por cada archivo.', metadata=TextMetadata(source='../datos/documentos\\\\SIE-DOC-REL-MAN_003_00 (1).pdf', reference='9e0248f7-c123-42aa-aa20-303e1dc6f375', collection='documentos', filename='SIE-DOC-REL-MAN_003_00 (1).pdf', total_pages=33, page_number=16, title='Estatuto de Trabajo', author='Ignacio Estrada', subject='Sistemas SCADA/EMS del CENACE', keywords='C_Confidential', creator='Microsoft® Word 2016', creationdate=\"D:20220323203220-06'00'\", moddate=\"D:20220323203220-06'00'\", producer='Microsoft® Word 2016')),\n",
       " Text(content='Control de Cambios  \\nFecha: 20/02/2021  Proyecto: Sistemas SCADA/EMS del CENACE  \\nSIE-DOC -REL-MAN _003_00 \\n \\nConfidential  \\nUpdated 28/02/2018  Versión: 0  Página 17 of  33 \\nAutor: Ignacio Estrada   Restricted © Siemens AG, 2018. All rights reserved.   \\n 3 Sección de Licencias  \\nEn ésta sección se describen los procedimientos para realizar consultas en el Subsistema de \\nLicencias.  \\n \\n3.1 Solicitudes  \\nLos siguientes procedimientos permiten la consulta y exportación de Solicitudes.  \\nProcedimiento: Consultar Solicitudes  \\nPaso  Actividad  \\n1. Ingresar al  SIREL  WEB  \\n2. Proporcionar las credenciales de usuario  y acceso.  \\n3. Sirel mostrará la página inicial  \\n4. Desde el menú lateral, en la sección Licencias, dé un click en botón Consulta Solicitudes . \\nSirel mostrará la consulta , \\n \\nLa consulta por default obtiene las Solicitudes vigentes a partir de la fecha actual.  \\n \\nProcedimiento: Consultar Solicitudes por filtros  \\nPaso  Actividad  \\n1. Desde la consulta de Solicitudes, dé un click en botón Consultar  ubicado en la parte superior \\nde la cuadricula', metadata=TextMetadata(source='../datos/documentos\\\\SIE-DOC-REL-MAN_003_00 (1).pdf', reference='9e0248f7-c123-42aa-aa20-303e1dc6f375', collection='documentos', filename='SIE-DOC-REL-MAN_003_00 (1).pdf', total_pages=33, page_number=17, title='Estatuto de Trabajo', author='Ignacio Estrada', subject='Sistemas SCADA/EMS del CENACE', keywords='C_Confidential', creator='Microsoft® Word 2016', creationdate=\"D:20220323203220-06'00'\", moddate=\"D:20220323203220-06'00'\", producer='Microsoft® Word 2016')),\n",
       " Text(content='Control de Cambios  \\nFecha: 20/02/2021  Proyecto: Sistemas SCADA/EMS del CENACE  \\nSIE-DOC -REL-MAN _003_00 \\n \\nConfidential  \\nUpdated 28/02/2018  Versión: 0  Página 18 of  33 \\nAutor: Ignacio Estrada   Restricted © Siemens AG, 2018. All rights reserved.   \\n 2. SIREL WEB mostrará la página para realizar la Consulta con las opciones como se \\nmuestra enseguida:  \\n::  \\nSi selecciona la opción Por no. de Solicitud , SIREL mostrará el siguiente campo de texto para \\nespecificar el número de la Solicitud:  \\n \\nSi selecciona  opción Especificar filtro de Consulta , SIREL desplegará opciones con diferentes filtros  \\npara realizar la Consulta con las opciones como se muestra enseguida:', metadata=TextMetadata(source='../datos/documentos\\\\SIE-DOC-REL-MAN_003_00 (1).pdf', reference='9e0248f7-c123-42aa-aa20-303e1dc6f375', collection='documentos', filename='SIE-DOC-REL-MAN_003_00 (1).pdf', total_pages=33, page_number=18, title='Estatuto de Trabajo', author='Ignacio Estrada', subject='Sistemas SCADA/EMS del CENACE', keywords='C_Confidential', creator='Microsoft® Word 2016', creationdate=\"D:20220323203220-06'00'\", moddate=\"D:20220323203220-06'00'\", producer='Microsoft® Word 2016')),\n",
       " Text(content='Control de Cambios  \\nFecha: 20/02/2021  Proyecto: Sistemas SCADA/EMS del CENACE  \\nSIE-DOC -REL-MAN _003_00 \\n \\nConfidential  \\nUpdated 28/02/2018  Versión: 0  Página 19 of  33 \\nAutor: Ignacio Estrada   Restricted © Siemens AG, 2018. All rights reserved.   \\n  \\nComplete los datos de los fitros requeridos y seleccione botón Aceptar . \\n \\nProcedimiento: Ver detalle  \\nPaso  Actividad  \\n1. Desde la cuadrícula de Solicitudes, seleccione una Solicitud  \\nSección Detalles : \\nSIREL mostrará la información de la Solicitud seleccionada en la parte inferior de la cuadrícula:  \\n \\nDesde ésta vista se podrán seleccionar las pestañas que proporcionan información \\ncomplementaria a una Solicitud:  Sección Reprogramaciones Sección Maniobras, Sección \\nMensajes, Sección Contingencia y Sección Archivos.', metadata=TextMetadata(source='../datos/documentos\\\\SIE-DOC-REL-MAN_003_00 (1).pdf', reference='9e0248f7-c123-42aa-aa20-303e1dc6f375', collection='documentos', filename='SIE-DOC-REL-MAN_003_00 (1).pdf', total_pages=33, page_number=19, title='Estatuto de Trabajo', author='Ignacio Estrada', subject='Sistemas SCADA/EMS del CENACE', keywords='C_Confidential', creator='Microsoft® Word 2016', creationdate=\"D:20220323203220-06'00'\", moddate=\"D:20220323203220-06'00'\", producer='Microsoft® Word 2016')),\n",
       " Text(content='Control de Cambios  \\nFecha: 20/02/2021  Proyecto: Sistemas SCADA/EMS del CENACE  \\nSIE-DOC -REL-MAN _003_00 \\n \\nConfidential  \\nUpdated 28/02/2018  Versión: 0  Página 20 of  33 \\nAutor: Ignacio Estrada   Restricted © Siemens AG, 2018. All rights reserved.   \\n  \\nProcedimiento: Exportar Solicitudes  \\nPaso Actividad  \\n1. Coloquese en la vista de Solicitudes  \\n2. Dé un click en botón Exportar a  y se mostrará el menú emergente para seleccionar las \\nopciones de exportación disponibles.  \\n \\nSeleccione la opción de exportación requerida y de acuerdo  a la configuración del \\nnavegador se mostrarán opciones para visualizar el archivo conteniendo la exportación de \\nlos registros consultados en la cuadrícula.', metadata=TextMetadata(source='../datos/documentos\\\\SIE-DOC-REL-MAN_003_00 (1).pdf', reference='9e0248f7-c123-42aa-aa20-303e1dc6f375', collection='documentos', filename='SIE-DOC-REL-MAN_003_00 (1).pdf', total_pages=33, page_number=20, title='Estatuto de Trabajo', author='Ignacio Estrada', subject='Sistemas SCADA/EMS del CENACE', keywords='C_Confidential', creator='Microsoft® Word 2016', creationdate=\"D:20220323203220-06'00'\", moddate=\"D:20220323203220-06'00'\", producer='Microsoft® Word 2016')),\n",
       " Text(content='Control de Cambios  \\nFecha: 20/02/2021  Proyecto: Sistemas SCADA/EMS del CENACE  \\nSIE-DOC -REL-MAN _003_00 \\n \\nConfidential  \\nUpdated 28/02/2018  Versión: 0  Página 21 of  33 \\nAutor: Ignacio Estrada   Restricted © Siemens AG, 2018. All rights reserved.   \\n 3.2 Cambiar Estado de Solicitudes  \\nLos siguientes procedimientos describen las funciones que permiten Autorizar, Cancelar y \\nReprogramar Solicitudes.   Es prioritario mencionar que éstas funcionalidades dependen de los \\nprivilegios del usuario, ya que si no se tiene el privilegio de Supervisor las funciones no estarán \\ndisponibles . \\nAdem as, d ichas funciones dependerán del estado de las Solicitudes así como de la dependencia \\nque tengan del Nivel Superior e incluso del tipo de Solicitud si es Informativa.  \\nPaa lo anterior se proveen los botones siguientes en la parte superior de la cuadrícul a de Solicitudes:  \\n \\nProcedimiento: Autorizar Solicitud  \\nPaso  Actividad  \\n1. Seleccione una Solicitud que active el botón de Autorizar.  \\n2. Dé click en botón Autorizar . \\n3. SIREL WEB  mostrará diálogo para proporcionar los datos de la Autorización:  \\n \\n4. Complete los datos de la Autorización y  dé un click en botón Aceptar , se enviará ventana \\nde confirmación:', metadata=TextMetadata(source='../datos/documentos\\\\SIE-DOC-REL-MAN_003_00 (1).pdf', reference='9e0248f7-c123-42aa-aa20-303e1dc6f375', collection='documentos', filename='SIE-DOC-REL-MAN_003_00 (1).pdf', total_pages=33, page_number=21, title='Estatuto de Trabajo', author='Ignacio Estrada', subject='Sistemas SCADA/EMS del CENACE', keywords='C_Confidential', creator='Microsoft® Word 2016', creationdate=\"D:20220323203220-06'00'\", moddate=\"D:20220323203220-06'00'\", producer='Microsoft® Word 2016')),\n",
       " Text(content='Control de Cambios  \\nFecha: 20/02/2021  Proyecto: Sistemas SCADA/EMS del CENACE  \\nSIE-DOC -REL-MAN _003_00 \\n \\nConfidential  \\nUpdated 28/02/2018  Versión: 0  Página 22 of  33 \\nAutor: Ignacio Estrada   Restricted © Siemens AG, 2018. All rights reserved.   \\n Procedimiento: Cancelar Solicitud  \\nPaso  Actividad  \\n1. Seleccione una Solicitud que active el botón de Cancelar . \\n2. Dé click en botón Cancelar . \\n3. SIREL WEB  mostrará diálogo para proporcionar los datos de la Cancelación : \\n \\n4. Complete los datos de la Cancelación  y dé un click en botón Aceptar , se enviará ventana \\nde confirmación:  \\n \\n \\nProcedimiento: Reprogramar Solicitud  \\nPaso  Actividad  \\n1. Seleccione una Solicitud que active el botón de Reprogramar.  \\n2. Dé click en botón Reprogramar . \\n3. SIREL WEB  mostrará diálogo para proporcionar los datos de la Reprogramación:', metadata=TextMetadata(source='../datos/documentos\\\\SIE-DOC-REL-MAN_003_00 (1).pdf', reference='9e0248f7-c123-42aa-aa20-303e1dc6f375', collection='documentos', filename='SIE-DOC-REL-MAN_003_00 (1).pdf', total_pages=33, page_number=22, title='Estatuto de Trabajo', author='Ignacio Estrada', subject='Sistemas SCADA/EMS del CENACE', keywords='C_Confidential', creator='Microsoft® Word 2016', creationdate=\"D:20220323203220-06'00'\", moddate=\"D:20220323203220-06'00'\", producer='Microsoft® Word 2016')),\n",
       " Text(content='Control de Cambios  \\nFecha: 20/02/2021  Proyecto: Sistemas SCADA/EMS del CENACE  \\nSIE-DOC -REL-MAN _003_00 \\n \\nConfidential  \\nUpdated 28/02/2018  Versión: 0  Página 23 of  33 \\nAutor: Ignacio Estrada   Restricted © Siemens AG, 2018. All rights reserved.   \\n  \\n4. Complete los datos de la Reprogramación y dé un click en botón Aceptar , se enviará \\nventana de confirmación:', metadata=TextMetadata(source='../datos/documentos\\\\SIE-DOC-REL-MAN_003_00 (1).pdf', reference='9e0248f7-c123-42aa-aa20-303e1dc6f375', collection='documentos', filename='SIE-DOC-REL-MAN_003_00 (1).pdf', total_pages=33, page_number=23, title='Estatuto de Trabajo', author='Ignacio Estrada', subject='Sistemas SCADA/EMS del CENACE', keywords='C_Confidential', creator='Microsoft® Word 2016', creationdate=\"D:20220323203220-06'00'\", moddate=\"D:20220323203220-06'00'\", producer='Microsoft® Word 2016')),\n",
       " Text(content='Control de Cambios  \\nFecha: 20/02/2021  Proyecto: Sistemas SCADA/EMS del CENACE  \\nSIE-DOC -REL-MAN _003_00 \\n \\nConfidential  \\nUpdated 28/02/2018  Versión: 0  Página 24 of  33 \\nAutor: Ignacio Estrada   Restricted © Siemens AG, 2018. All rights reserved.   \\n 3.3 Fincado de  Solicitud es \\nEs prioritario mencionar que ésta funcionalidad depende  de los privilegios del usuario, ya que si no \\nse tiene el privilegio de Supervisor la  funcion no estará disponible . \\n \\nProcedimiento: Fincar  Solicitud  \\nPaso  Actividad  \\n1. Dentro de la sección de Licencias, dé un click en opción Fincar . \\n2. SIREL WEB presentará la página conteniendo el formulario para la captura de datos de una \\nnueva Solicitud. . \\n \\n \\nPara verificar los campos obligatorios Ud. puede dar click en botón Fincar Solicitud  ubicado en la \\nparte final del formulario previo a la captura de los datos.', metadata=TextMetadata(source='../datos/documentos\\\\SIE-DOC-REL-MAN_003_00 (1).pdf', reference='9e0248f7-c123-42aa-aa20-303e1dc6f375', collection='documentos', filename='SIE-DOC-REL-MAN_003_00 (1).pdf', total_pages=33, page_number=24, title='Estatuto de Trabajo', author='Ignacio Estrada', subject='Sistemas SCADA/EMS del CENACE', keywords='C_Confidential', creator='Microsoft® Word 2016', creationdate=\"D:20220323203220-06'00'\", moddate=\"D:20220323203220-06'00'\", producer='Microsoft® Word 2016')),\n",
       " Text(content='Control de Cambios  \\nFecha: 20/02/2021  Proyecto: Sistemas SCADA/EMS del CENACE  \\nSIE-DOC -REL-MAN _003_00 \\n \\nConfidential  \\nUpdated 28/02/2018  Versión: 0  Página 25 of  33 \\nAutor: Ignacio Estrada   Restricted © Siemens AG, 2018. All rights reserved.   \\n Una vez que se han capturado los datos mínimos requeridos, dé click en botón Fincar Solicitud  . \\nSIREL mostrará ventana de confirmación con el resultado:  \\n \\n \\n \\n3.4 Licencias  \\nLos siguientes procedimientos permiten la consulta y exportación de Licencias.  \\nProcedimiento: Consultar Licencias  \\nPaso  Actividad  \\n1. Desde el menú lateral, en la sección Licencias, dé un click en botón Consulta Licencias . \\nSirel mostrará la consulta , \\n \\nLa consulta por default  obtiene las Licencias vigentes.', metadata=TextMetadata(source='../datos/documentos\\\\SIE-DOC-REL-MAN_003_00 (1).pdf', reference='9e0248f7-c123-42aa-aa20-303e1dc6f375', collection='documentos', filename='SIE-DOC-REL-MAN_003_00 (1).pdf', total_pages=33, page_number=25, title='Estatuto de Trabajo', author='Ignacio Estrada', subject='Sistemas SCADA/EMS del CENACE', keywords='C_Confidential', creator='Microsoft® Word 2016', creationdate=\"D:20220323203220-06'00'\", moddate=\"D:20220323203220-06'00'\", producer='Microsoft® Word 2016')),\n",
       " Text(content='Control de Cambios  \\nFecha: 20/02/2021  Proyecto: Sistemas SCADA/EMS del CENACE  \\nSIE-DOC -REL-MAN _003_00 \\n \\nConfidential  \\nUpdated 28/02/2018  Versión: 0  Página 26 of  33 \\nAutor: Ignacio Estrada   Restricted © Siemens AG, 2018. All rights reserved.   \\n  \\nProcedimiento: Consultar Licencias por filtros  \\nPaso  Actividad  \\n1. Desde la consulta de Licencias, dé un click en botón Consultar  ubicado en la parte superior \\nde la cuadricula  \\n2. SIREL WEB mostrará la página para realizar la Consulta con las opciones como se \\nmuestra enseguida:  \\n::  \\nSi selecciona la opción Por no. de Licencia , SIREL mostrará el siguiente campo de texto para \\nespecificar el número de la Licencia:  \\n \\nSi selecciona opción Especificar filtro de Consulta , SIREL desplegará opciones con diferentes filtros  \\npara realizar la Consulta con las opciones como se mues tra enseguida:', metadata=TextMetadata(source='../datos/documentos\\\\SIE-DOC-REL-MAN_003_00 (1).pdf', reference='9e0248f7-c123-42aa-aa20-303e1dc6f375', collection='documentos', filename='SIE-DOC-REL-MAN_003_00 (1).pdf', total_pages=33, page_number=26, title='Estatuto de Trabajo', author='Ignacio Estrada', subject='Sistemas SCADA/EMS del CENACE', keywords='C_Confidential', creator='Microsoft® Word 2016', creationdate=\"D:20220323203220-06'00'\", moddate=\"D:20220323203220-06'00'\", producer='Microsoft® Word 2016')),\n",
       " Text(content='Control de Cambios  \\nFecha: 20/02/2021  Proyecto: Sistemas SCADA/EMS del CENACE  \\nSIE-DOC -REL-MAN _003_00 \\n \\nConfidential  \\nUpdated 28/02/2018  Versión: 0  Página 27 of  33 \\nAutor: Ignacio Estrada   Restricted © Siemens AG, 2018. All rights reserved.   \\n  \\nComplete los datos de los fitros requeridos y seleccione botón Aceptar . \\n \\nProcedimiento: Ver detalle  \\nPaso  Actividad  \\n1. Desde la cuadrícula de Licencias, seleccione una Licencia  \\nSección Detalles : \\nSIREL mostrará la información de la Solicitud seleccionada en la parte inferior de la cuadrícula:  \\n \\nDesde ésta vista se podrán seleccionar las pestañas que proporcionan información \\ncomplementaria a una Licencia:  Sección Prórrogas, Sección Maniobras, Sección \\nContingencia y Sección Archivos.', metadata=TextMetadata(source='../datos/documentos\\\\SIE-DOC-REL-MAN_003_00 (1).pdf', reference='9e0248f7-c123-42aa-aa20-303e1dc6f375', collection='documentos', filename='SIE-DOC-REL-MAN_003_00 (1).pdf', total_pages=33, page_number=27, title='Estatuto de Trabajo', author='Ignacio Estrada', subject='Sistemas SCADA/EMS del CENACE', keywords='C_Confidential', creator='Microsoft® Word 2016', creationdate=\"D:20220323203220-06'00'\", moddate=\"D:20220323203220-06'00'\", producer='Microsoft® Word 2016')),\n",
       " Text(content='Control de Cambios  \\nFecha: 20/02/2021  Proyecto: Sistemas SCADA/EMS del CENACE  \\nSIE-DOC -REL-MAN _003_00 \\n \\nConfidential  \\nUpdated 28/02/2018  Versión: 0  Página 28 of  33 \\nAutor: Ignacio Estrada   Restricted © Siemens AG, 2018. All rights reserved.   \\n  \\nProcedimiento: Exportar Licencias  \\nPaso  Actividad  \\n1. Coloquese en la vista de Licencias  \\n2. Dé un click en botón Exportar a  y se mostrará el menú emergente para seleccionar las \\nopciones de exportación disponibles.  \\n \\nSeleccione la opción de exportación requerida y de acuerdo  a la configuración del \\nnavegador se mostrarán opciones para visualizar el archivo conteniendo la exportación de \\nlos registros consultados en la cuadrícula.  \\n \\n \\n3.5 Registros de Monitoreo de Variables (RMV)  \\nLos siguientes procedimientos permiten la consulta y exportación de RMV vigentes e históricos.  \\nProcedimiento: Consultar RMS vigentes  \\nPaso  Actividad  \\n1. Desde el menú lateral, en la sección Licencias, dé un click en botón Consulta RMV vigentes . \\nSirel mostrará la consulta conteniendo los RMV vigentes:', metadata=TextMetadata(source='../datos/documentos\\\\SIE-DOC-REL-MAN_003_00 (1).pdf', reference='9e0248f7-c123-42aa-aa20-303e1dc6f375', collection='documentos', filename='SIE-DOC-REL-MAN_003_00 (1).pdf', total_pages=33, page_number=28, title='Estatuto de Trabajo', author='Ignacio Estrada', subject='Sistemas SCADA/EMS del CENACE', keywords='C_Confidential', creator='Microsoft® Word 2016', creationdate=\"D:20220323203220-06'00'\", moddate=\"D:20220323203220-06'00'\", producer='Microsoft® Word 2016')),\n",
       " Text(content='Control de Cambios  \\nFecha: 20/02/2021  Proyecto: Sistemas SCADA/EMS del CENACE  \\nSIE-DOC -REL-MAN _003_00 \\n \\nConfidential  \\nUpdated 28/02/2018  Versión: 0  Página 29 of  33 \\nAutor: Ignacio Estrada   Restricted © Siemens AG, 2018. All rights reserved.   \\n  \\n \\nProcedimiento: Consultar RMV históricos  \\nPaso  Actividad  \\n1. Desde el menú lateral, en la sección Licencias, dé un click en botón Consulta RMV históricos . \\n:: Sirel mostrará la consulta conteniendo los RMV históricos:  \\n \\n \\nProcedimiento: Consultar RMV históricos por filtros  \\nPaso  Actividad  \\n1. En la cuadrícula de RMV históricos, dé un click en botón Filtros de Consulta . \\n:: Sirel mostrará la ventana  con los filtros para la consulta de RMV históricos:', metadata=TextMetadata(source='../datos/documentos\\\\SIE-DOC-REL-MAN_003_00 (1).pdf', reference='9e0248f7-c123-42aa-aa20-303e1dc6f375', collection='documentos', filename='SIE-DOC-REL-MAN_003_00 (1).pdf', total_pages=33, page_number=29, title='Estatuto de Trabajo', author='Ignacio Estrada', subject='Sistemas SCADA/EMS del CENACE', keywords='C_Confidential', creator='Microsoft® Word 2016', creationdate=\"D:20220323203220-06'00'\", moddate=\"D:20220323203220-06'00'\", producer='Microsoft® Word 2016')),\n",
       " Text(content='Control de Cambios  \\nFecha: 20/02/2021  Proyecto: Sistemas SCADA/EMS del CENACE  \\nSIE-DOC -REL-MAN _003_00 \\n \\nConfidential  \\nUpdated 28/02/2018  Versión: 0  Página 30 of  33 \\nAutor: Ignacio Estrada   Restricted © Siemens AG, 2018. All rights reserved.   \\n  \\n \\nProcedimiento: Exportar RMV  \\nPaso  Actividad  \\n1. Coloquese en la vista de RMV  \\n2. Dé un click en botón Exportar a  y se mostrará el menú emergente para seleccionar las \\nopciones de exportación disponibles.  \\n \\nSeleccione la opción de exportación requerida y de acuerdo a la configuración del \\nnavegador se mostrarán opciones para visualizar el archivo conteniendo la exportación de \\nlos registros consultados en la cuadrícula.', metadata=TextMetadata(source='../datos/documentos\\\\SIE-DOC-REL-MAN_003_00 (1).pdf', reference='9e0248f7-c123-42aa-aa20-303e1dc6f375', collection='documentos', filename='SIE-DOC-REL-MAN_003_00 (1).pdf', total_pages=33, page_number=30, title='Estatuto de Trabajo', author='Ignacio Estrada', subject='Sistemas SCADA/EMS del CENACE', keywords='C_Confidential', creator='Microsoft® Word 2016', creationdate=\"D:20220323203220-06'00'\", moddate=\"D:20220323203220-06'00'\", producer='Microsoft® Word 2016')),\n",
       " Text(content='Control de Cambios  \\nFecha: 20/02/2021  Proyecto: Sistemas SCADA/EMS del CENACE  \\nSIE-DOC -REL-MAN _003_00 \\n \\nConfidential  \\nUpdated 28/02/2018  Versión: 0  Página 31 of  33 \\nAutor: Ignacio Estrada   Restricted © Siemens AG, 2018. All rights reserved.   \\n 4 Sección de Eventos relevantes  \\nEn ésta sección se describen los procedimientos para realizar consultas en el Subsistema de \\nEventos.  \\n \\n4.1 Eventos relevantes  \\nLos siguientes procedimientos permiten la consulta y exportación de Eventos relevantes.  \\nProcedimiento: Consultar Eventos  \\nPaso  Actividad  \\n1. Ingresar al  SIREL  WEB  \\n2. Proporcionar las credenciales de usuario  y acceso.  \\n3. Sirel mostrará la página inicial  \\n4. Desde el menú lateral, en la sección Eventos, dé un click en opción  Consulta Eventos . \\nSirel mostrará la consulta , \\n \\nLa consulta por default obtiene los eventos de los úiltimos 30 días a partir de la fecha actual.  \\n \\nProcedimiento: Consultar Eventos por filtros  \\nPaso  Actividad  \\n1. Desde la consulta de Eventos, dé un click en botón Consultar  ubicado en la parte superior \\nde la cuadricula  \\n2. SIREL WEB mostrará la página para realizar la Consulta con las opciones como se \\nmuestra enseguida:', metadata=TextMetadata(source='../datos/documentos\\\\SIE-DOC-REL-MAN_003_00 (1).pdf', reference='9e0248f7-c123-42aa-aa20-303e1dc6f375', collection='documentos', filename='SIE-DOC-REL-MAN_003_00 (1).pdf', total_pages=33, page_number=31, title='Estatuto de Trabajo', author='Ignacio Estrada', subject='Sistemas SCADA/EMS del CENACE', keywords='C_Confidential', creator='Microsoft® Word 2016', creationdate=\"D:20220323203220-06'00'\", moddate=\"D:20220323203220-06'00'\", producer='Microsoft® Word 2016')),\n",
       " Text(content='Control de Cambios  \\nFecha: 20/02/2021  Proyecto: Sistemas SCADA/EMS del CENACE  \\nSIE-DOC -REL-MAN _003_00 \\n \\nConfidential  \\nUpdated 28/02/2018  Versión: 0  Página 32 of  33 \\nAutor: Ignacio Estrada   Restricted © Siemens AG, 2018. All rights reserved.   \\n ::  \\nSi selecciona la opción Especificar filtro de Consulta , SIREL desplegará opciones con diferentes filtros  \\npara realizar la Consulta con las opciones como se muestra enseguida:  \\n \\nComplete los datos de los fitros requeridos y seleccione botón Aceptar . \\n \\nProcedimiento: Ver detalle  \\nPaso  Actividad  \\n1. Desde la cuadrícula de Eventos, seleccione unregistro.  \\nSección Detalles : \\nSIREL mostrará la información del evento seleccionado en la parte inferior de la cuadrícula:', metadata=TextMetadata(source='../datos/documentos\\\\SIE-DOC-REL-MAN_003_00 (1).pdf', reference='9e0248f7-c123-42aa-aa20-303e1dc6f375', collection='documentos', filename='SIE-DOC-REL-MAN_003_00 (1).pdf', total_pages=33, page_number=32, title='Estatuto de Trabajo', author='Ignacio Estrada', subject='Sistemas SCADA/EMS del CENACE', keywords='C_Confidential', creator='Microsoft® Word 2016', creationdate=\"D:20220323203220-06'00'\", moddate=\"D:20220323203220-06'00'\", producer='Microsoft® Word 2016')),\n",
       " Text(content='Control de Cambios  \\nFecha: 20/02/2021  Proyecto: Sistemas SCADA/EMS del CENACE  \\nSIE-DOC -REL-MAN _003_00 \\n \\nConfidential  \\nUpdated 28/02/2018  Versión: 0  Página 33 of  33 \\nAutor: Ignacio Estrada   Restricted © Siemens AG, 2018. All rights reserved.   \\n  \\nDesde ésta vista se podrán seleccionar las pestañas que proporcionan información \\ncomplementaria a un evento:  Sección Notas y Sección Archivos . \\n \\nProcedimiento: Exportar Eventos  \\nPaso  Actividad  \\n1. Coloquese en la vista de Eventos  \\n2. Dé un click en botón Exportar a  y se mostrará el menú emergente para seleccionar las \\nopciones de exportación disponibles.  \\n \\nSeleccione la opción de exportación requerida y de acuerdo a la configuración del \\nnavegador se mostrarán opciones para visualizar el archivo conteniendo la exportación de \\nlos registros consultados en la cuadrícula.', metadata=TextMetadata(source='../datos/documentos\\\\SIE-DOC-REL-MAN_003_00 (1).pdf', reference='9e0248f7-c123-42aa-aa20-303e1dc6f375', collection='documentos', filename='SIE-DOC-REL-MAN_003_00 (1).pdf', total_pages=33, page_number=33, title='Estatuto de Trabajo', author='Ignacio Estrada', subject='Sistemas SCADA/EMS del CENACE', keywords='C_Confidential', creator='Microsoft® Word 2016', creationdate=\"D:20220323203220-06'00'\", moddate=\"D:20220323203220-06'00'\", producer='Microsoft® Word 2016'))]"
      ]
     },
     "execution_count": 4,
     "metadata": {},
     "output_type": "execute_result"
    }
   ],
   "source": [
    "chunks"
   ]
  },
  {
   "cell_type": "code",
   "execution_count": 2,
   "metadata": {},
   "outputs": [
    {
     "name": "stdout",
     "output_type": "stream",
     "text": [
      "Índice cargado desde ../datos/vectorstores\\index.faiss\n",
      "Diccionario cargado desde ../datos/vectorstores\\index.pkl\n"
     ]
    }
   ],
   "source": [
    "import os\n",
    "from cenacellm.ollama.embedder import OllamaEmbedder\n",
    "from cenacellm.vectorstore import FAISSVectorStore\n",
    "from cenacellm.doccollection import DisjointCollection\n",
    "\n",
    "collection = DisjointCollection()\n",
    "embedder = OllamaEmbedder()\n",
    "vectorstore = FAISSVectorStore(\n",
    "    dim=embedder.dim(),\n",
    "    embeddings=embedder,\n",
    "    folder_path=\"../datos/vectorstores\",\n",
    ")"
   ]
  },
  {
   "cell_type": "code",
   "execution_count": 3,
   "metadata": {},
   "outputs": [],
   "source": [
    "query = \"\"\"\n",
    "Revision de SIREL por falta de Envio de TL a Nivel Superior\n",
    "\n",
    "Buenas noches, para solicitar de favor se revise en sistema SIREL la\n",
    "falta de envío de términos de licencias a nivel superior. Cuando estas vienen de solicitudes autorizadas por ellos. Enseguida muestro como evidencia LM de LT CHO \n",
    "93660 LOU, la cual se retiro a las 16:31 Hrs local de Sonora y en Relatorio no se\n",
    "palomeo la pestaña a Nivel Superior, lo cual provoca que México llame para solicitar \n",
    "dicho termino de licencia vía voz. Como precedente ya se ha tenido mismo problema en \n",
    "días anteriores. Por favor...\"\"\""
   ]
  },
  {
   "cell_type": "code",
   "execution_count": 3,
   "metadata": {},
   "outputs": [],
   "source": [
    "query = \"que te pregunte?\""
   ]
  },
  {
   "cell_type": "code",
   "execution_count": 4,
   "metadata": {},
   "outputs": [
    {
     "name": "stdout",
     "output_type": "stream",
     "text": [
      "[source='C:\\\\Users\\\\panda\\\\OneDrive\\\\Documents\\\\mcd\\\\proyectoCenace\\\\datos\\\\documentos\\\\SIE-DOC-REL-MAN_001_00 (2).pdf' reference='da10ba64-1cfc-4b6d-a9ea-b907ed865399' collection='documentos' filename='SIE-DOC-REL-MAN_001_00 (2).pdf' total_pages=118 page_number=30 title='Estatuto de Trabajo' author='Ignacio Estrada' subject='Sistemas SCADA/EMS del CENACE' keywords='C_Confidential' creator='Microsoft® Word 2016' creationdate=\"D:20220323203011-06'00'\" moddate=\"D:20220323203011-06'00'\" producer='Microsoft® Word 2016'] -> al Nivel Superior \" y \n",
      "b) Seleccionando  el evento  requerido desde la lista  y en seguida seleccione el botón \n",
      "Enviar a NS  \n",
      "Al realizar la acción previa, se marcará con una palomita la columna NS en el renglón del evento \n",
      "seleccionado, confirmando que el evento ha sido enviado.  \n",
      " \n",
      " \n",
      "3.    SIREL  envía mensaje de confirmación en el área de mensajes del usuario y  actualizará \n",
      "automáticamente la lista de eventos...\n",
      "\n",
      "[source='C:\\\\Users\\\\panda\\\\OneDrive\\\\Documents\\\\mcd\\\\proyectoCenace\\\\datos\\\\documentos\\\\SIE-DOC-REL-MAN_001_00 (2).pdf' reference='f12f2061-f43a-4432-ba6c-3e32101f674d' collection='documentos' filename='SIE-DOC-REL-MAN_001_00 (2).pdf' total_pages=118 page_number=30 title='Estatuto de Trabajo' author='Ignacio Estrada' subject='Sistemas SCADA/EMS del CENACE' keywords='C_Confidential' creator='Microsoft® Word 2016' creationdate=\"D:20220323203011-06'00'\" moddate=\"D:20220323203011-06'00'\" producer='Microsoft® Word 2016'] -> al Nivel Superior \" y \n",
      "b) Seleccionando  el evento  requerido desde la lista  y en seguida seleccione el botón \n",
      "Enviar a NS  \n",
      "Al realizar la acción previa, se marcará con una palomita la columna NS en el renglón del evento \n",
      "seleccionado, confirmando que el evento ha sido enviado.  \n",
      " \n",
      " \n",
      "3.    SIREL  envía mensaje de confirmación en el área de mensajes del usuario y  actualizará \n",
      "automáticamente la lista de eventos...\n",
      "\n",
      "[source='C:\\\\Users\\\\panda\\\\OneDrive\\\\Documents\\\\mcd\\\\proyectoCenace\\\\datos\\\\documentos\\\\SIE-DOC-REL-MAN_003_00 (1).pdf' reference='3530949c-2432-418b-8442-f0efe42e4f9a' collection='documentos' filename='SIE-DOC-REL-MAN_003_00 (1).pdf' total_pages=33 page_number=25 title='Estatuto de Trabajo' author='Ignacio Estrada' subject='Sistemas SCADA/EMS del CENACE' keywords='C_Confidential' creator='Microsoft® Word 2016' creationdate=\"D:20220323203220-06'00'\" moddate=\"D:20220323203220-06'00'\" producer='Microsoft® Word 2016'] -> Control de Cambios  \n",
      "Fecha: 20/02/2021  Proyecto: Sistemas SCADA/EMS del CENACE  \n",
      "SIE-DOC -REL-MAN _003_00 \n",
      " \n",
      "Confidential  \n",
      "Updated 28/02/2018  Versión: 0  Página 25 of  33 \n",
      "Autor: Ignacio Estrada   Restricted © Siemens AG, 2018. All rights reserved.   \n",
      " Una vez que se han capturado los datos mínimos requeridos, dé click en botón Fincar Solicitud  . \n",
      "SIREL mostrará ventana de confirmación con el resultado:  \n",
      " \n",
      " \n",
      " \n",
      "3.4 Licencias  \n",
      "Los siguientes procedimientos permiten la consulta y exportación de Licencias.  \n",
      "Procedimiento: Consultar Licencias  \n",
      "Paso  Actividad  \n",
      "1. Desde el menú lateral, en la sección Licencias, dé un click en botón Consulta Licencias . \n",
      "Sirel mostrará la consulta , \n",
      " \n",
      "La consulta por default  obtiene las Licencias vigentes....\n",
      "\n",
      "[source='C:\\\\Users\\\\panda\\\\OneDrive\\\\Documents\\\\mcd\\\\proyectoCenace\\\\datos\\\\documentos\\\\SIE-DOC-REL-MAN_003_00 (1).pdf' reference='3530949c-2432-418b-8442-f0efe42e4f9a' collection='documentos' filename='SIE-DOC-REL-MAN_003_00 (1).pdf' total_pages=33 page_number=17 title='Estatuto de Trabajo' author='Ignacio Estrada' subject='Sistemas SCADA/EMS del CENACE' keywords='C_Confidential' creator='Microsoft® Word 2016' creationdate=\"D:20220323203220-06'00'\" moddate=\"D:20220323203220-06'00'\" producer='Microsoft® Word 2016'] -> Control de Cambios  \n",
      "Fecha: 20/02/2021  Proyecto: Sistemas SCADA/EMS del CENACE  \n",
      "SIE-DOC -REL-MAN _003_00 \n",
      " \n",
      "Confidential  \n",
      "Updated 28/02/2018  Versión: 0  Página 17 of  33 \n",
      "Autor: Ignacio Estrada   Restricted © Siemens AG, 2018. All rights reserved.   \n",
      " 3 Sección de Licencias  \n",
      "En ésta sección se describen los procedimientos para realizar consultas en el Subsistema de \n",
      "Licencias.  \n",
      " \n",
      "3.1 Solicitudes  \n",
      "Los siguientes procedimientos permiten la consulta y exportación de Solicitudes.  \n",
      "Procedimiento: Consultar Solicitudes  \n",
      "Paso  Actividad  \n",
      "1. Ingresar al  SIREL  WEB  \n",
      "2. Proporcionar las credenciales de usuario  y acceso.  \n",
      "3. Sirel mostrará la página inicial  \n",
      "4. Desde el menú lateral, en la sección Licencias, dé un click en botón Consulta Solicitudes . \n",
      "Sirel mostrará la consulta , \n",
      " \n",
      "La consulta por default obtiene las Solicitudes vigentes a partir de la fecha actual.  \n",
      " \n",
      "Procedimiento: Consultar Solicitudes por filtros  \n",
      "Paso  Actividad  \n",
      "1. Desde la consulta de Solicitudes, dé un click en botón Consultar  ubicado en la parte superior \n",
      "de la cuadricula...\n",
      "\n",
      "[source='C:\\\\Users\\\\panda\\\\OneDrive\\\\Documents\\\\mcd\\\\proyectoCenace\\\\datos\\\\documentos\\\\SIE-DOC-REL-MAN_001_00 (2).pdf' reference='da10ba64-1cfc-4b6d-a9ea-b907ed865399' collection='documentos' filename='SIE-DOC-REL-MAN_001_00 (2).pdf' total_pages=118 page_number=48 title='Estatuto de Trabajo' author='Ignacio Estrada' subject='Sistemas SCADA/EMS del CENACE' keywords='C_Confidential' creator='Microsoft® Word 2016' creationdate=\"D:20220323203011-06'00'\" moddate=\"D:20220323203011-06'00'\" producer='Microsoft® Word 2016'] -> Control de Cambios  \n",
      "Fecha: 20/02/2021  Proyecto: Sistemas SCADA/EMS del CENACE  \n",
      "SIE-DOC -REL-MAN _001_00 \n",
      " \n",
      "Confidential  \n",
      "Updated 28/02/2018  Versión: 0  Página 48 of  118 \n",
      "Autor: Ignacio Estrada   Restricted © Siemens AG, 2018. All rights reserved.   \n",
      " a) Seleccione la Licencia que desea restaurar a solicitud,  \n",
      "b) Seleccione de  la barra principal el botón Restaurar a Solicitud  o con botón \n",
      "secundario del mouse sobre la licencia seleccionada la opción Restaurar a Solicitud.  \n",
      " \n",
      "SIREL enviará ventana de Confirmación.  \n",
      " \n",
      "3.    Al finalizar el proceso de Restauración, SIREL actualizará la lista de Licencias eliminando de \n",
      "la lista la Licencia Restaurada y eliminará el evento asociado en el Relatorio . \n",
      " \n",
      "Procedimiento: Restaurar Licencia Retirada a Estado vigente  \n",
      "Esta función aplica sólo a Licencias de Solicitudes programadas y que no contienen maniobras y \n",
      "hayan sido Retiradas en el mism o Relatorio . \n",
      "Paso  Actividad  \n",
      "1. Ir a la vista de Licencias (ver imagen 5)  \n",
      "2. Desde la vista de Licencias  \n",
      "a) Seleccione la Licencia que desea resta urar a Estado vigente , \n",
      "b) Seleccione de  la barra principal el botón Restaurar a Licencia  o con botón \n",
      "secundario del mouse sobre la licencia seleccionada la opción Restaurar a Licencia.  \n",
      " \n",
      "SIREL enviará ventana de Confirmación, como la siguiente…...\n",
      "\n",
      "[source='C:\\\\Users\\\\panda\\\\OneDrive\\\\Documents\\\\mcd\\\\proyectoCenace\\\\datos\\\\documentos\\\\SIE-DOC-REL-MAN_001_00 (2).pdf' reference='f12f2061-f43a-4432-ba6c-3e32101f674d' collection='documentos' filename='SIE-DOC-REL-MAN_001_00 (2).pdf' total_pages=118 page_number=48 title='Estatuto de Trabajo' author='Ignacio Estrada' subject='Sistemas SCADA/EMS del CENACE' keywords='C_Confidential' creator='Microsoft® Word 2016' creationdate=\"D:20220323203011-06'00'\" moddate=\"D:20220323203011-06'00'\" producer='Microsoft® Word 2016'] -> Control de Cambios  \n",
      "Fecha: 20/02/2021  Proyecto: Sistemas SCADA/EMS del CENACE  \n",
      "SIE-DOC -REL-MAN _001_00 \n",
      " \n",
      "Confidential  \n",
      "Updated 28/02/2018  Versión: 0  Página 48 of  118 \n",
      "Autor: Ignacio Estrada   Restricted © Siemens AG, 2018. All rights reserved.   \n",
      " a) Seleccione la Licencia que desea restaurar a solicitud,  \n",
      "b) Seleccione de  la barra principal el botón Restaurar a Solicitud  o con botón \n",
      "secundario del mouse sobre la licencia seleccionada la opción Restaurar a Solicitud.  \n",
      " \n",
      "SIREL enviará ventana de Confirmación.  \n",
      " \n",
      "3.    Al finalizar el proceso de Restauración, SIREL actualizará la lista de Licencias eliminando de \n",
      "la lista la Licencia Restaurada y eliminará el evento asociado en el Relatorio . \n",
      " \n",
      "Procedimiento: Restaurar Licencia Retirada a Estado vigente  \n",
      "Esta función aplica sólo a Licencias de Solicitudes programadas y que no contienen maniobras y \n",
      "hayan sido Retiradas en el mism o Relatorio . \n",
      "Paso  Actividad  \n",
      "1. Ir a la vista de Licencias (ver imagen 5)  \n",
      "2. Desde la vista de Licencias  \n",
      "a) Seleccione la Licencia que desea resta urar a Estado vigente , \n",
      "b) Seleccione de  la barra principal el botón Restaurar a Licencia  o con botón \n",
      "secundario del mouse sobre la licencia seleccionada la opción Restaurar a Licencia.  \n",
      " \n",
      "SIREL enviará ventana de Confirmación, como la siguiente…...\n",
      "\n",
      "[source='C:\\\\Users\\\\panda\\\\OneDrive\\\\Documents\\\\mcd\\\\proyectoCenace\\\\datos\\\\documentos\\\\SIE-DOC-REL-MAN_001_00 (2).pdf' reference='da10ba64-1cfc-4b6d-a9ea-b907ed865399' collection='documentos' filename='SIE-DOC-REL-MAN_001_00 (2).pdf' total_pages=118 page_number=63 title='Estatuto de Trabajo' author='Ignacio Estrada' subject='Sistemas SCADA/EMS del CENACE' keywords='C_Confidential' creator='Microsoft® Word 2016' creationdate=\"D:20220323203011-06'00'\" moddate=\"D:20220323203011-06'00'\" producer='Microsoft® Word 2016'] -> Observe que cuando el equipo asociado a una Solicitud representa un equipo frontera entre \n",
      "Centros de Control, la Solicitud será enviada tanto al Centro de Control de NS como al Centro de \n",
      "Control Region al  relacionado con el equipo frontera.  \n",
      " \n",
      "Procedimiento: Enviar Solicitud  a Nivel Inferior (NI)  \n",
      "Paso  Actividad  \n",
      "1. Ir a la vista de Solicitudes (ver imagen 5)  \n",
      "2. Para enviar una Solicitud al NI seleccion ela desde la cuadrícula , dé un click en el botón \n",
      "Enviar a NI  y enseguida SIREL mostrará la interacción para seleccionar el Centro de \n",
      "Control a donde será enviada. ....\n",
      "\n",
      "[source='C:\\\\Users\\\\panda\\\\OneDrive\\\\Documents\\\\mcd\\\\proyectoCenace\\\\datos\\\\documentos\\\\SIE-DOC-REL-MAN_001_00 (2).pdf' reference='f12f2061-f43a-4432-ba6c-3e32101f674d' collection='documentos' filename='SIE-DOC-REL-MAN_001_00 (2).pdf' total_pages=118 page_number=63 title='Estatuto de Trabajo' author='Ignacio Estrada' subject='Sistemas SCADA/EMS del CENACE' keywords='C_Confidential' creator='Microsoft® Word 2016' creationdate=\"D:20220323203011-06'00'\" moddate=\"D:20220323203011-06'00'\" producer='Microsoft® Word 2016'] -> Observe que cuando el equipo asociado a una Solicitud representa un equipo frontera entre \n",
      "Centros de Control, la Solicitud será enviada tanto al Centro de Control de NS como al Centro de \n",
      "Control Region al  relacionado con el equipo frontera.  \n",
      " \n",
      "Procedimiento: Enviar Solicitud  a Nivel Inferior (NI)  \n",
      "Paso  Actividad  \n",
      "1. Ir a la vista de Solicitudes (ver imagen 5)  \n",
      "2. Para enviar una Solicitud al NI seleccion ela desde la cuadrícula , dé un click en el botón \n",
      "Enviar a NI  y enseguida SIREL mostrará la interacción para seleccionar el Centro de \n",
      "Control a donde será enviada. ....\n",
      "\n",
      "[source='C:\\\\Users\\\\panda\\\\OneDrive\\\\Documents\\\\mcd\\\\proyectoCenace\\\\datos\\\\documentos\\\\SIE-DOC-REL-MAN_001_00 (2).pdf' reference='da10ba64-1cfc-4b6d-a9ea-b907ed865399' collection='documentos' filename='SIE-DOC-REL-MAN_001_00 (2).pdf' total_pages=118 page_number=47 title='Estatuto de Trabajo' author='Ignacio Estrada' subject='Sistemas SCADA/EMS del CENACE' keywords='C_Confidential' creator='Microsoft® Word 2016' creationdate=\"D:20220323203011-06'00'\" moddate=\"D:20220323203011-06'00'\" producer='Microsoft® Word 2016'] -> Control de Cambios  \n",
      "Fecha: 20/02/2021  Proyecto: Sistemas SCADA/EMS del CENACE  \n",
      "SIE-DOC -REL-MAN _001_00 \n",
      " \n",
      "Confidential  \n",
      "Updated 28/02/2018  Versión: 0  Página 47 of  118 \n",
      "Autor: Ignacio Estrada   Restricted © Siemens AG, 2018. All rights reserved.   \n",
      " Procedimiento: Prorrogar Licencia  \n",
      "Esta función aplica a todas las Licencias programadas y/o de emergencia de acuerdo a la \n",
      "configuración correspondiente . \n",
      "  \n",
      "Paso  Actividad  \n",
      "1. Ir a la vista de Licencias ver imagen 5)  \n",
      "2. Desde la vista de Licencias, seleccione la Licencia a prorrogar y seleccione el botón \n",
      "Prorrogar  o con botón secundario del mouse sobre la licencia seleccionada la opción \n",
      "Prorrogar  \n",
      " \n",
      "SIREL enviará ventana como la siguiente, para proporcionar los datos de l a Prórroga.  \n",
      " \n",
      "3.    SIREL actualizará la lista de Licencias mostrando el estado Prorrogada de la Licencia y en la \n",
      "vista de detalles de Prorroga se mostrarán los datos asociados  y también se creará evento en \n",
      "Relatorio de acuerdo a la configuración correspondiente.  \n",
      " \n",
      "4.3 Restaurar Licencia s \n",
      " \n",
      "Procedimiento: Restaurar Licencia a Solicitud  \n",
      "Esta función aplica sólo a Licencias de Solicitudes programadas y que no contienen maniobras  y \n",
      "fuero n concedidas en el mismo Relatorio . \n",
      "Paso  Actividad  \n",
      "1. Ir a la vista de Licencias (ver imagen 5)  \n",
      "2. Desde la vista de Licencias...\n",
      "\n",
      "[source='C:\\\\Users\\\\panda\\\\OneDrive\\\\Documents\\\\mcd\\\\proyectoCenace\\\\datos\\\\documentos\\\\SIE-DOC-REL-MAN_001_00 (2).pdf' reference='f12f2061-f43a-4432-ba6c-3e32101f674d' collection='documentos' filename='SIE-DOC-REL-MAN_001_00 (2).pdf' total_pages=118 page_number=47 title='Estatuto de Trabajo' author='Ignacio Estrada' subject='Sistemas SCADA/EMS del CENACE' keywords='C_Confidential' creator='Microsoft® Word 2016' creationdate=\"D:20220323203011-06'00'\" moddate=\"D:20220323203011-06'00'\" producer='Microsoft® Word 2016'] -> Control de Cambios  \n",
      "Fecha: 20/02/2021  Proyecto: Sistemas SCADA/EMS del CENACE  \n",
      "SIE-DOC -REL-MAN _001_00 \n",
      " \n",
      "Confidential  \n",
      "Updated 28/02/2018  Versión: 0  Página 47 of  118 \n",
      "Autor: Ignacio Estrada   Restricted © Siemens AG, 2018. All rights reserved.   \n",
      " Procedimiento: Prorrogar Licencia  \n",
      "Esta función aplica a todas las Licencias programadas y/o de emergencia de acuerdo a la \n",
      "configuración correspondiente . \n",
      "  \n",
      "Paso  Actividad  \n",
      "1. Ir a la vista de Licencias ver imagen 5)  \n",
      "2. Desde la vista de Licencias, seleccione la Licencia a prorrogar y seleccione el botón \n",
      "Prorrogar  o con botón secundario del mouse sobre la licencia seleccionada la opción \n",
      "Prorrogar  \n",
      " \n",
      "SIREL enviará ventana como la siguiente, para proporcionar los datos de l a Prórroga.  \n",
      " \n",
      "3.    SIREL actualizará la lista de Licencias mostrando el estado Prorrogada de la Licencia y en la \n",
      "vista de detalles de Prorroga se mostrarán los datos asociados  y también se creará evento en \n",
      "Relatorio de acuerdo a la configuración correspondiente.  \n",
      " \n",
      "4.3 Restaurar Licencia s \n",
      " \n",
      "Procedimiento: Restaurar Licencia a Solicitud  \n",
      "Esta función aplica sólo a Licencias de Solicitudes programadas y que no contienen maniobras  y \n",
      "fuero n concedidas en el mismo Relatorio . \n",
      "Paso  Actividad  \n",
      "1. Ir a la vista de Licencias (ver imagen 5)  \n",
      "2. Desde la vista de Licencias...\n",
      "\n"
     ]
    }
   ],
   "source": [
    "\n",
    "query_vector = embedder.vectorize(query)\n",
    "\n",
    "resultados = vectorstore.get_similar(query_vector, filter_metadata={\"collection\": \"documentos\"})\n",
    "\n",
    "chunks = []\n",
    "for _, chunk in resultados:\n",
    "    chunks.append(chunk)\n",
    "    print(f\"[{chunk.metadata}] -> {chunk.content}...\\n\")\n",
    "\n"
   ]
  },
  {
   "cell_type": "code",
   "execution_count": 5,
   "metadata": {},
   "outputs": [],
   "source": [
    "from cenacellm.ollama.assistant import OllamaAssistant\n",
    "\n",
    "assistant = OllamaAssistant()"
   ]
  },
  {
   "cell_type": "code",
   "execution_count": 7,
   "metadata": {},
   "outputs": [
    {
     "name": "stdout",
     "output_type": "stream",
     "text": [
      "¡Hola! Parece que estás trabajando con un documento técnico relacionado con el sistema SIREL, específicamente sobre procedimientos para gestionar licencias y solicitudes dentro del contexto de los sistemas SCADA/EMS del CENACE. Si tienes alguna pregunta o necesitas ayuda con algún aspecto particular de este documento, no dudes en preguntar. Aquí te ofrezco algunas posibles áreas donde podrías necesitar asistencia:\n",
      "\n",
      "1. **Entendimiento de Procedimientos**: ¿Necesitas una explicación más detallada sobre cómo realizar ciertos procedimientos como \"Prorrogar Licencia\" o \"Restaurar Licencia a Solicitud\"?\n",
      "\n",
      "2. **Interpretación del Documento**: Si hay alguna parte del documento que no estás seguro de entender, puedo ayudarte a interpretarlo.\n",
      "\n",
      "3. **Configuraciones Específicas**: ¿Hay configuraciones específicas mencionadas en el documento que necesitas más información sobre?\n",
      "\n",
      "4. **Errores o Problemas Técnicos**: Si encuentras algún problema técnico al seguir los procedimientos descritos, estaré encantado de ayudarte a resolverlo.\n",
      "\n",
      "5. **Contexto General**: ¿Necesitas una visión general del propósito y uso del sistema SIREL en el contexto de los sistemas SCADA/EMS?\n",
      "\n",
      "Por favor, proporciona más detalles sobre lo que necesitas, y haré todo lo posible para asistirte. ¡Estoy aquí para ayudar!"
     ]
    }
   ],
   "source": [
    "for token in assistant.answer(\"hola!\", chunks, user_id=\"angel\"):\n",
    "    print(token, end=\"\", flush=True)"
   ]
  },
  {
   "cell_type": "code",
   "execution_count": null,
   "metadata": {},
   "outputs": [
    {
     "name": "stdout",
     "output_type": "stream",
     "text": [
      "[source='../datos/documentos\\\\SIE-DOC-REL-MAN_001_00 (2).pdf' reference='abf52552-3543-4cc2-a08a-e7cc8247adc3' collection='documentos' filename='SIE-DOC-REL-MAN_001_00 (2).pdf' total_pages=118 page_number=30 title='Estatuto de Trabajo' author='Ignacio Estrada' subject='Sistemas SCADA/EMS del CENACE' keywords='C_Confidential' creator='Microsoft® Word 2016' creationdate=\"D:20220323203011-06'00'\" moddate=\"D:20220323203011-06'00'\" producer='Microsoft® Word 2016'] al Nivel Superior \" y \n",
      "b) Seleccionando  el evento  requerido desde la lista  y en seguida seleccione el botón \n",
      "Enviar a NS  \n",
      "Al realizar la acción previa, se marcará con una palomita la columna NS en el renglón del evento \n",
      "seleccionado, confirmando que el evento ha sido enviado.  \n",
      " \n",
      " \n",
      "3.    SIREL  envía mensaje de confirmación en el área de mensajes del usuario y  actualizará \n",
      "automáticamente la lista de eventos...\n",
      "\n",
      "[source='../datos/documentos\\\\SIE-DOC-REL-MAN_001_00 (2).pdf' reference='838870bc-8bbd-47ce-9edd-7c6c46bea086' collection='documentos' filename='SIE-DOC-REL-MAN_001_00 (2).pdf' total_pages=118 page_number=30 title='Estatuto de Trabajo' author='Ignacio Estrada' subject='Sistemas SCADA/EMS del CENACE' keywords='C_Confidential' creator='Microsoft® Word 2016' creationdate=\"D:20220323203011-06'00'\" moddate=\"D:20220323203011-06'00'\" producer='Microsoft® Word 2016'] Los Centros de Control de Nivel Inferior (NI) podrán tener la interacción para el envío de eventos al \n",
      "Nivel Superior (NS)  \n",
      "Pas\n",
      "o Actividad  \n",
      "1. Ir a la vista del Relatorio actual (ver imagen 5)  \n",
      "2. Las siguientes opciones permiten proceder a enviar un evento a NS: \n",
      "a) Seleccionando el evento y dando clic k derecho para seleccionar la opción “ Enviar \n",
      "al Nivel Superior \" y \n",
      "b) Seleccionando  el evento  requerido desde la lista  y en seguida seleccione el botón \n",
      "Enviar a NS  \n",
      "Al realizar la acción previa, se marcará con una palomita la columna NS en el renglón del evento \n",
      "seleccionado, confirmando que el evento ha sido enviado.  \n",
      " \n",
      " \n",
      "3.    SIREL  envía mensaje de confirmación en el área de mensajes del usuario y  actualizará \n",
      "automáticamente la lista de eventos...\n",
      "\n",
      "[source='../datos/documentos\\\\SIE-DOC-REL-MAN_001_00 (2).pdf' reference='838870bc-8bbd-47ce-9edd-7c6c46bea086' collection='documentos' filename='SIE-DOC-REL-MAN_001_00 (2).pdf' total_pages=118 page_number=45 title='Estatuto de Trabajo' author='Ignacio Estrada' subject='Sistemas SCADA/EMS del CENACE' keywords='C_Confidential' creator='Microsoft® Word 2016' creationdate=\"D:20220323203011-06'00'\" moddate=\"D:20220323203011-06'00'\" producer='Microsoft® Word 2016'] caso de tener pasos de maniobras marcados para ser enviados al Relatorio también deber án ser \n",
      "enviados al NS . \n",
      "3.    Al finalizar el proceso de Retiro SIREL actualizará la lista de Licencias mostrando la Licencia \n",
      "en estado Retirada y creará un evento en el Relatorio ....\n",
      "\n",
      "[source='../datos/documentos\\\\SIE-DOC-REL-MAN_001_00 (2).pdf' reference='838870bc-8bbd-47ce-9edd-7c6c46bea086' collection='documentos' filename='SIE-DOC-REL-MAN_001_00 (2).pdf' total_pages=118 page_number=46 title='Estatuto de Trabajo' author='Ignacio Estrada' subject='Sistemas SCADA/EMS del CENACE' keywords='C_Confidential' creator='Microsoft® Word 2016' creationdate=\"D:20220323203011-06'00'\" moddate=\"D:20220323203011-06'00'\" producer='Microsoft® Word 2016'] de tener maniobras asociadas, éstas serán transferidas a la nueva Licencia en el estado actual.  \n",
      "3.    SIREL actualizará la lista de Licencias mostrando la Licencia seleccionada en estado Retirada \n",
      "y la nueva Licencia creada.  \n",
      "Observe que ambas Licencias quedarán referenciadas mutuamente por medio de las observaciones \n",
      "de Licencia y se reflejarán también en los eventos del Relatorio correspondientes.  \n",
      "Así mismo si la Licencia original proviene de Solicitud enviada a otro Centro de Control, los eventos \n",
      "correspondientes del Relatorio serán también enviados....\n",
      "\n",
      "[source='../datos/documentos\\\\SIE-DOC-REL-MAN_003_00 (1).pdf' reference='9e0248f7-c123-42aa-aa20-303e1dc6f375' collection='documentos' filename='SIE-DOC-REL-MAN_003_00 (1).pdf' total_pages=33 page_number=25 title='Estatuto de Trabajo' author='Ignacio Estrada' subject='Sistemas SCADA/EMS del CENACE' keywords='C_Confidential' creator='Microsoft® Word 2016' creationdate=\"D:20220323203220-06'00'\" moddate=\"D:20220323203220-06'00'\" producer='Microsoft® Word 2016'] Control de Cambios  \n",
      "Fecha: 20/02/2021  Proyecto: Sistemas SCADA/EMS del CENACE  \n",
      "SIE-DOC -REL-MAN _003_00 \n",
      " \n",
      "Confidential  \n",
      "Updated 28/02/2018  Versión: 0  Página 25 of  33 \n",
      "Autor: Ignacio Estrada   Restricted © Siemens AG, 2018. All rights reserved.   \n",
      " Una vez que se han capturado los datos mínimos requeridos, dé click en botón Fincar Solicitud  . \n",
      "SIREL mostrará ventana de confirmación con el resultado:  \n",
      " \n",
      " \n",
      " \n",
      "3.4 Licencias  \n",
      "Los siguientes procedimientos permiten la consulta y exportación de Licencias.  \n",
      "Procedimiento: Consultar Licencias  \n",
      "Paso  Actividad  \n",
      "1. Desde el menú lateral, en la sección Licencias, dé un click en botón Consulta Licencias . \n",
      "Sirel mostrará la consulta , \n",
      " \n",
      "La consulta por default  obtiene las Licencias vigentes....\n",
      "\n"
     ]
    }
   ],
   "source": [
    "resultados = vectorstore.get_similar(\n",
    "    query_vector,\n",
    "    k=5,\n",
    "    filter_metadata={\"title\": \"Estatuto de Trabajo\"}\n",
    ")\n",
    "\n",
    "for _, chunk in resultados:\n",
    "    print(f\"[{chunk.metadata}] {chunk.content[:2000]}...\\n\")\n"
   ]
  },
  {
   "cell_type": "code",
   "execution_count": 1,
   "metadata": {},
   "outputs": [],
   "source": [
    "from cenacellm.rag import RAG\n",
    "from cenacellm.config import VECTORS_DIR, DOCUMENTS_DIR"
   ]
  },
  {
   "cell_type": "code",
   "execution_count": 2,
   "metadata": {},
   "outputs": [
    {
     "name": "stdout",
     "output_type": "stream",
     "text": [
      "Índice cargado desde C:\\Users\\panda\\OneDrive\\Documents\\mcd\\proyectoCenace\\datos\\vectorstores\\index.faiss\n",
      "Diccionario cargado desde C:\\Users\\panda\\OneDrive\\Documents\\mcd\\proyectoCenace\\datos\\vectorstores\\index.pkl\n"
     ]
    }
   ],
   "source": [
    "rag = RAG(\n",
    "    vectorstore_path=VECTORS_DIR)"
   ]
  },
  {
   "cell_type": "code",
   "execution_count": 3,
   "metadata": {},
   "outputs": [
    {
     "data": {
      "text/plain": [
       "{'PI-System-Explorer-2018-User-Guide_EN (1).pdf': {'file_key': 'PI-System-Explorer-2018-User-Guide_EN (1).pdf',\n",
       "  'chunks': 1050,\n",
       "  'last_modified': 1741656054,\n",
       "  'processed_at': '2025-05-19T17:56:10.176187',\n",
       "  'size': 4390949},\n",
       " 'SIE-DOC-REL-MAN_001_00 (2).pdf': {'file_key': 'SIE-DOC-REL-MAN_001_00 (2).pdf',\n",
       "  'chunks': 154,\n",
       "  'last_modified': 1747096767,\n",
       "  'processed_at': '2025-05-19T17:56:27.579227',\n",
       "  'size': 6846840},\n",
       " 'SIE-DOC-REL-MAN_002_00 (1).pdf': {'file_key': 'SIE-DOC-REL-MAN_002_00 (1).pdf',\n",
       "  'chunks': 125,\n",
       "  'last_modified': 1747096281,\n",
       "  'processed_at': '2025-05-19T17:56:42.504596',\n",
       "  'size': 3291664},\n",
       " 'SIE-DOC-REL-MAN_003_00 (1).pdf': {'file_key': 'SIE-DOC-REL-MAN_003_00 (1).pdf',\n",
       "  'chunks': 41,\n",
       "  'last_modified': 1741656038,\n",
       "  'processed_at': '2025-05-19T17:56:46.960749',\n",
       "  'size': 2073622},\n",
       " 'A Guide to Remembering Japanese Characters (Tuttle language -- Kenneth G_ Henshall -- 2nd, 1995 -- Charles E_ Tuttle Co.pdf': {'file_key': 'A Guide to Remembering Japanese Characters (Tuttle language -- Kenneth G_ Henshall -- 2nd, 1995 -- Charles E_ Tuttle Co.pdf',\n",
       "  'chunks': 0,\n",
       "  'last_modified': 1747710020,\n",
       "  'processed_at': '2025-05-19T20:00:24.284662',\n",
       "  'size': 37787064},\n",
       " 'certificadoCarpinteria.pdf': {'file_key': 'certificadoCarpinteria.pdf',\n",
       "  'chunks': 3,\n",
       "  'last_modified': 1747710057,\n",
       "  'processed_at': '2025-05-19T20:01:00.485973',\n",
       "  'size': 258708}}"
      ]
     },
     "execution_count": 3,
     "metadata": {},
     "output_type": "execute_result"
    }
   ],
   "source": [
    "rag.processed_files"
   ]
  },
  {
   "cell_type": "code",
   "execution_count": 4,
   "metadata": {},
   "outputs": [],
   "source": [
    "rag._delete_processed_file([\"certificadoCarpinteria.pdf\", \"A Guide to Remembering Japanese Characters (Tuttle language -- Kenneth G_ Henshall -- 2nd, 1995 -- Charles E_ Tuttle Co.pdf\"])"
   ]
  },
  {
   "cell_type": "code",
   "execution_count": 5,
   "metadata": {},
   "outputs": [
    {
     "data": {
      "text/plain": [
       "{'PI-System-Explorer-2018-User-Guide_EN (1).pdf': {'file_key': 'PI-System-Explorer-2018-User-Guide_EN (1).pdf',\n",
       "  'chunks': 1050,\n",
       "  'last_modified': 1741656054,\n",
       "  'processed_at': '2025-05-19T17:56:10.176187',\n",
       "  'size': 4390949},\n",
       " 'SIE-DOC-REL-MAN_001_00 (2).pdf': {'file_key': 'SIE-DOC-REL-MAN_001_00 (2).pdf',\n",
       "  'chunks': 154,\n",
       "  'last_modified': 1747096767,\n",
       "  'processed_at': '2025-05-19T17:56:27.579227',\n",
       "  'size': 6846840},\n",
       " 'SIE-DOC-REL-MAN_002_00 (1).pdf': {'file_key': 'SIE-DOC-REL-MAN_002_00 (1).pdf',\n",
       "  'chunks': 125,\n",
       "  'last_modified': 1747096281,\n",
       "  'processed_at': '2025-05-19T17:56:42.504596',\n",
       "  'size': 3291664},\n",
       " 'SIE-DOC-REL-MAN_003_00 (1).pdf': {'file_key': 'SIE-DOC-REL-MAN_003_00 (1).pdf',\n",
       "  'chunks': 41,\n",
       "  'last_modified': 1741656038,\n",
       "  'processed_at': '2025-05-19T17:56:46.960749',\n",
       "  'size': 2073622}}"
      ]
     },
     "execution_count": 5,
     "metadata": {},
     "output_type": "execute_result"
    }
   ],
   "source": [
    "rag.processed_files\n"
   ]
  },
  {
   "cell_type": "code",
   "execution_count": 4,
   "metadata": {},
   "outputs": [
    {
     "name": "stdout",
     "output_type": "stream",
     "text": [
      "Comprobando documentos en C:\\Users\\panda\\OneDrive\\Documents\\mcd\\proyectoCenace\\datos\\documentos...\n",
      "Procesando nuevo archivo o archivo modificado: booking-b279-335ajy8.pdf\n",
      "Procesando nuevo archivo o archivo modificado: CV ATS Esthefania Ortega.pdf\n",
      "Procesando nuevo archivo o archivo modificado: PI-System-Explorer-2018-User-Guide_EN (1).pdf\n",
      "Procesando nuevo archivo o archivo modificado: SIE-DOC-REL-MAN_001_00 (2).pdf\n",
      "Procesando nuevo archivo o archivo modificado: SIE-DOC-REL-MAN_002_00 (1).pdf\n",
      "Procesando nuevo archivo o archivo modificado: SIE-DOC-REL-MAN_003_00 (1).pdf\n",
      "Índice guardado en C:\\Users\\panda\\OneDrive\\Documents\\mcd\\proyectoCenace\\datos\\vectorstores\\index.faiss\n",
      "Diccionario guardado en C:\\Users\\panda\\OneDrive\\Documents\\mcd\\proyectoCenace\\datos\\vectorstores\\index.pkl\n",
      "Índice vectorial actualizado con 6 nuevos documentos.\n",
      "Procesamiento completado. Total: 6 documentos (6 nuevos/modificados), generando 1373 chunks\n"
     ]
    },
    {
     "data": {
      "text/plain": [
       "[6, 6, 1373]"
      ]
     },
     "execution_count": 4,
     "metadata": {},
     "output_type": "execute_result"
    }
   ],
   "source": [
    "rag.load_documents(\n",
    "    folder_path=DOCUMENTS_DIR,\n",
    "    collection_name=\"documentos\"\n",
    ")"
   ]
  },
  {
   "cell_type": "code",
   "execution_count": 5,
   "metadata": {},
   "outputs": [],
   "source": [
    "history = rag.get_user_history(\"angel\")"
   ]
  },
  {
   "cell_type": "code",
   "execution_count": 7,
   "metadata": {},
   "outputs": [
    {
     "data": {
      "text/plain": [
       "{'role': 'user', 'content': 'que es sirel?'}"
      ]
     },
     "execution_count": 7,
     "metadata": {},
     "output_type": "execute_result"
    }
   ],
   "source": [
    "history[0]"
   ]
  },
  {
   "cell_type": "code",
   "execution_count": 8,
   "metadata": {},
   "outputs": [],
   "source": [
    "def get_chat_history(user_id: str) -> str:\n",
    "    histories = rag.get_user_history(user_id)\n",
    "        \n",
    "    if not histories:\n",
    "        return []\n",
    "    \n",
    "    formatted_history = []\n",
    "    for message in histories:\n",
    "        role = \"user\" if message.get('role') == \"user\" else \"bot\"\n",
    "        content = message.get('content', '')\n",
    "        \n",
    "        formatted_history.append({\n",
    "            \"role\": role,  \n",
    "            \"content\": content\n",
    "        })\n",
    "    \n",
    "    return formatted_history\n"
   ]
  },
  {
   "cell_type": "code",
   "execution_count": 9,
   "metadata": {},
   "outputs": [
    {
     "data": {
      "text/plain": [
       "[{'role': 'user', 'content': 'que es sirel?'},\n",
       " {'role': 'bot',\n",
       "  'content': 'SIREL (Sistema Integrado de Relatorios, Licencias y Eventos) es un sistema diseñado para gestionar reportes, licencias y eventos dentro de una organización. Se compone de varios subsistemas integrados:\\n\\n1. **Subsistema de Reporte**: Incluye módulos para generar informes actuales y históricos.\\n2. **Subsistema de Licencias**: Gestiona solicitudes, otorgamiento de licencias, estado de maniobras, catálogos de maniobras, monitoreo de variables eléctricas e interfaz con el subsistema de reporte.\\n3. **Subsistema de Eventos**: Incluye un módulo para gestionar eventos y su integración con el subsistema de reporte.\\n\\nSIREL WEB es la interfaz de usuario que permite a los usuarios interactuar con estos sistemas, ofreciendo funcionalidades como actualización de cuadrículas, manejo de columnas en las mismas, y visualización detallada de información. La aplicación está accesible mediante direcciones específicas en un navegador web.\\n\\nLos usuarios del sistema pueden realizar consultas utilizando filtros predefinidos o especificar criterios personalizados para obtener la información requerida. Además, el sistema permite a los usuarios reorganizar columnas y acceder a detalles adicionales de las entradas seleccionadas en las cuadrículas.'},\n",
       " {'role': 'user', 'content': 'que te pregunté?'},\n",
       " {'role': 'bot',\n",
       "  'content': 'Parece que estás buscando información sobre el Sistema Integrado de Relatorios, Licencias y Eventos (SIREL). Aquí tienes un resumen basado en lo que proporcionaste:\\n\\n- **SIREL** es un sistema diseñado para gestionar reportes, licencias y eventos dentro de una organización. Está compuesto por varios subsistemas integrados:\\n  - **Subsistema de Reporte**: Permite generar informes actuales y históricos.\\n  - **Subsistema de Licencias**: Gestiona solicitudes, otorgamiento de licencias, estado de maniobras, catálogos de maniobras, monitoreo de variables eléctricas e interactúa con el subsistema de reporte.\\n  - **Subsistema de Eventos**: Gestionar eventos y su integración con el subsistema de reporte.\\n\\n- **SIREL WEB** es la interfaz de usuario que permite a los usuarios interactuar con estos sistemas. Ofrece funcionalidades como actualización de cuadrículas, manejo de columnas en las mismas, y visualización detallada de información. La aplicación está accesible mediante direcciones específicas en un navegador web.\\n\\n- Los usuarios pueden realizar consultas utilizando filtros predefinidos o especificar criterios personalizados para obtener la información requerida. Además, el sistema permite a los usuarios reorganizar columnas y acceder a detalles adicionales de las entradas seleccionadas en las cuadrículas.\\n\\nSi tienes alguna otra pregunta específica sobre SIREL o necesitas más detalles, ¡no dudes en preguntar!'}]"
      ]
     },
     "execution_count": 9,
     "metadata": {},
     "output_type": "execute_result"
    }
   ],
   "source": [
    "get_chat_history(\"angel\")"
   ]
  },
  {
   "cell_type": "code",
   "execution_count": 21,
   "metadata": {},
   "outputs": [
    {
     "name": "stdout",
     "output_type": "stream",
     "text": [
      "\n",
      "Pregunta: que es sirel?\n",
      "\n",
      "Respuesta: SIREL (Sistema Integrado de Relatorios, Licencias y Eventos) es un sistema diseñado para gestionar reportes, licencias y eventos dentro de una organización. Está compuesto por varios subsistemas:\n",
      "\n",
      "1. **Subsistema de Relatorio**: Incluye módulos para generar informes actuales y históricos.\n",
      "2. **Subsistema de Licencias**: Gestiona solicitudes, otorgamiento de licencias, estado de maniobras, catálogos de maniobras, monitoreo de variables eléctricas e interfaz con el subsistema de relatorios.\n",
      "3. **Subsistema de Eventos**: Incluye un módulo para gestionar eventos y su integración con el subsistema de relatorios.\n",
      "\n",
      "SIREL WEB es la interfaz de usuario que permite a los usuarios interactuar con estos sistemas, ofreciendo funcionalidades como actualización de cuadrículas, manejo de columnas en las mismas, y visualización detallada de información. La aplicación está accesible mediante direcciones específicas en un navegador web.\n",
      "\n",
      "El sistema está diseñado para ser utilizado por cualquier persona que necesite acceder a los procesos cubiertos por SIREL según sus necesidades funcionales."
     ]
    }
   ],
   "source": [
    "for token in rag.answer(\"angel\",\"que es sirel?\", k=5):\n",
    "    print(token, end=\"\", flush=True)"
   ]
  },
  {
   "cell_type": "code",
   "execution_count": 5,
   "metadata": {},
   "outputs": [
    {
     "ename": "AttributeError",
     "evalue": "'RAG' object has no attribute 'last_chunks'",
     "output_type": "error",
     "traceback": [
      "\u001b[31m---------------------------------------------------------------------------\u001b[39m",
      "\u001b[31mAttributeError\u001b[39m                            Traceback (most recent call last)",
      "\u001b[36mCell\u001b[39m\u001b[36m \u001b[39m\u001b[32mIn[5]\u001b[39m\u001b[32m, line 1\u001b[39m\n\u001b[32m----> \u001b[39m\u001b[32m1\u001b[39m \u001b[43mrag\u001b[49m\u001b[43m.\u001b[49m\u001b[43mlast_chunks\u001b[49m\n",
      "\u001b[31mAttributeError\u001b[39m: 'RAG' object has no attribute 'last_chunks'"
     ]
    }
   ],
   "source": [
    "rag.last_chunks"
   ]
  },
  {
   "cell_type": "code",
   "execution_count": 10,
   "metadata": {},
   "outputs": [],
   "source": [
    "def metadata_generator():\n",
    "    return rag.last_chunks\n",
    "        "
   ]
  },
  {
   "cell_type": "code",
   "execution_count": 1,
   "metadata": {},
   "outputs": [
    {
     "ename": "NameError",
     "evalue": "name 'metadata_generator' is not defined",
     "output_type": "error",
     "traceback": [
      "\u001b[31m---------------------------------------------------------------------------\u001b[39m",
      "\u001b[31mNameError\u001b[39m                                 Traceback (most recent call last)",
      "\u001b[36mCell\u001b[39m\u001b[36m \u001b[39m\u001b[32mIn[1]\u001b[39m\u001b[32m, line 1\u001b[39m\n\u001b[32m----> \u001b[39m\u001b[32m1\u001b[39m \u001b[43mmetadata_generator\u001b[49m()\n",
      "\u001b[31mNameError\u001b[39m: name 'metadata_generator' is not defined"
     ]
    }
   ],
   "source": [
    "metadata_generator()"
   ]
  },
  {
   "cell_type": "code",
   "execution_count": 3,
   "metadata": {},
   "outputs": [
    {
     "name": "stdout",
     "output_type": "stream",
     "text": [
      "SIREL (Sistema Integrado de Relatorios, Licencias y Eventos) es un sistema diseñado para gestionar reportes, licencias y eventos dentro de una organización. Se compone de varios subsistemas integrados:\n",
      "\n",
      "1. **Subsistema de Reporte**: Incluye módulos para generar informes actuales y históricos.\n",
      "2. **Subsistema de Licencias**: Gestiona solicitudes, otorgamiento de licencias, estado de maniobras, catálogos de maniobras, monitoreo de variables eléctricas e interfaz con el subsistema de reporte.\n",
      "3. **Subsistema de Eventos**: Incluye un módulo para gestionar eventos y su integración con el subsistema de reporte.\n",
      "\n",
      "SIREL WEB es la interfaz de usuario que permite a los usuarios interactuar con estos sistemas, ofreciendo funcionalidades como actualización de cuadrículas, manejo de columnas en las mismas, y visualización detallada de información. La aplicación está accesible mediante direcciones específicas en un navegador web.\n",
      "\n",
      "Los usuarios del sistema pueden realizar consultas utilizando filtros predefinidos o especificar criterios personalizados para obtener la información requerida. Además, el sistema permite a los usuarios reorganizar columnas y acceder a detalles adicionales de las entradas seleccionadas en las cuadrículas."
     ]
    }
   ],
   "source": [
    "for token in rag.answer(\"angel\",\"que es sirel?\", k=5, filter_metadata={\"title\": \"Estatuto de Trabajo\"}):\n",
    "    print(token, end=\"\", flush=True)"
   ]
  },
  {
   "cell_type": "code",
   "execution_count": 4,
   "metadata": {},
   "outputs": [
    {
     "name": "stdout",
     "output_type": "stream",
     "text": [
      "Parece que estás buscando información sobre el Sistema Integrado de Relatorios, Licencias y Eventos (SIREL). Aquí tienes un resumen basado en lo que proporcionaste:\n",
      "\n",
      "- **SIREL** es un sistema diseñado para gestionar reportes, licencias y eventos dentro de una organización. Está compuesto por varios subsistemas integrados:\n",
      "  - **Subsistema de Reporte**: Permite generar informes actuales y históricos.\n",
      "  - **Subsistema de Licencias**: Gestiona solicitudes, otorgamiento de licencias, estado de maniobras, catálogos de maniobras, monitoreo de variables eléctricas e interactúa con el subsistema de reporte.\n",
      "  - **Subsistema de Eventos**: Gestionar eventos y su integración con el subsistema de reporte.\n",
      "\n",
      "- **SIREL WEB** es la interfaz de usuario que permite a los usuarios interactuar con estos sistemas. Ofrece funcionalidades como actualización de cuadrículas, manejo de columnas en las mismas, y visualización detallada de información. La aplicación está accesible mediante direcciones específicas en un navegador web.\n",
      "\n",
      "- Los usuarios pueden realizar consultas utilizando filtros predefinidos o especificar criterios personalizados para obtener la información requerida. Además, el sistema permite a los usuarios reorganizar columnas y acceder a detalles adicionales de las entradas seleccionadas en las cuadrículas.\n",
      "\n",
      "Si tienes alguna otra pregunta específica sobre SIREL o necesitas más detalles, ¡no dudes en preguntar!"
     ]
    }
   ],
   "source": [
    "for token in rag.answer(\"angel\",\"que te pregunté?\", k=5, filter_metadata={\"title\": \"Estatuto de Trabajo\", \"collection\": \"documentos\"}):\n",
    "    print(token, end=\"\", flush=True)"
   ]
  },
  {
   "cell_type": "code",
   "execution_count": 28,
   "metadata": {},
   "outputs": [
    {
     "data": {
      "text/plain": [
       "TextMetadata(source='C:\\\\Users\\\\panda\\\\OneDrive\\\\Documents\\\\mcd\\\\proyectoCenace\\\\datos\\\\documentos\\\\SIE-DOC-REL-MAN_003_00 (1).pdf', reference='3530949c-2432-418b-8442-f0efe42e4f9a', collection='documentos', filename='SIE-DOC-REL-MAN_003_00 (1).pdf', total_pages=33, page_number=6, title='Estatuto de Trabajo', author='Ignacio Estrada', subject='Sistemas SCADA/EMS del CENACE', keywords='C_Confidential', creator='Microsoft® Word 2016', creationdate=\"D:20220323203220-06'00'\", moddate=\"D:20220323203220-06'00'\", producer='Microsoft® Word 2016')"
      ]
     },
     "execution_count": 28,
     "metadata": {},
     "output_type": "execute_result"
    }
   ],
   "source": [
    "rag.last_chunks[0].metadata"
   ]
  },
  {
   "cell_type": "code",
   "execution_count": 6,
   "metadata": {},
   "outputs": [
    {
     "name": "stdout",
     "output_type": "stream",
     "text": [
      "Historial para el usuario angel eliminado.\n"
     ]
    }
   ],
   "source": [
    "rag.clear_user_history(\"angel\")"
   ]
  },
  {
   "cell_type": "code",
   "execution_count": 2,
   "metadata": {},
   "outputs": [
    {
     "name": "stdout",
     "output_type": "stream",
     "text": [
      "No se encontró el archivo de índice, creando nuevo índice.\n"
     ]
    }
   ],
   "source": [
    "rag_2 = RAG(\n",
    "    vectorstore_path=\"../datos/prueba_datos_vdb\",\n",
    "    user_id=\"angel\")"
   ]
  },
  {
   "cell_type": "code",
   "execution_count": 5,
   "metadata": {},
   "outputs": [
    {
     "name": "stdout",
     "output_type": "stream",
     "text": [
      "Comprobando documentos en ../datos/prueba_datos...\n",
      "Omitiendo archivo sin cambios: PI_C37118_1.1.0.17 (1).pdf\n",
      "Procesando nuevo archivo o archivo modificado: SIE-DOC-REL-MAN_001_00 (2).pdf\n",
      "Índice guardado en ../datos/prueba_datos_vdb\\index.faiss\n",
      "Diccionario guardado en ../datos/prueba_datos_vdb\\index.pkl\n",
      "Índice vectorial actualizado con 1 nuevos documentos.\n",
      "Procesamiento completado. Total: 2 documentos (1 nuevos/modificados), generando 154 chunks\n"
     ]
    }
   ],
   "source": [
    "rag_2.load_documents(\"../datos/prueba_datos\", \"documentos\")"
   ]
  },
  {
   "cell_type": "code",
   "execution_count": 6,
   "metadata": {},
   "outputs": [
    {
     "name": "stdout",
     "output_type": "stream",
     "text": [
      "Comprobando documentos en ../datos/prueba_datos...\n",
      "Omitiendo archivo sin cambios: PI_C37118_1.1.0.17 (1).pdf\n",
      "Omitiendo archivo sin cambios: SIE-DOC-REL-MAN_001_00 (2).pdf\n",
      "Procesando nuevo archivo o archivo modificado: SIE-DOC-REL-MAN_002_00 (1).pdf\n",
      "Índice guardado en ../datos/prueba_datos_vdb\\index.faiss\n",
      "Diccionario guardado en ../datos/prueba_datos_vdb\\index.pkl\n",
      "Índice vectorial actualizado con 1 nuevos documentos.\n",
      "Procesamiento completado. Total: 3 documentos (1 nuevos/modificados), generando 125 chunks\n"
     ]
    }
   ],
   "source": [
    "rag_2.load_documents(\"../datos/prueba_datos\", \"documentos\")"
   ]
  },
  {
   "cell_type": "code",
   "execution_count": null,
   "metadata": {},
   "outputs": [],
   "source": []
  }
 ],
 "metadata": {
  "kernelspec": {
   "display_name": ".venv",
   "language": "python",
   "name": "python3"
  },
  "language_info": {
   "codemirror_mode": {
    "name": "ipython",
    "version": 3
   },
   "file_extension": ".py",
   "mimetype": "text/x-python",
   "name": "python",
   "nbconvert_exporter": "python",
   "pygments_lexer": "ipython3",
   "version": "3.12.9"
  }
 },
 "nbformat": 4,
 "nbformat_minor": 2
}
