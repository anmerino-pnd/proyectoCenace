{
 "cells": [
  {
   "cell_type": "code",
   "execution_count": 6,
   "metadata": {},
   "outputs": [
    {
     "name": "stdout",
     "output_type": "stream",
     "text": [
      "¡Hola! ¿En qué puedo ayudarte hoy? Si tienes alguna pregunta o necesitas información, no dudes en decírmelo. Estoy aquí para asistirte. 😊"
     ]
    }
   ],
   "source": [
    "from cenacellm.clients import ollama as api\n",
    "\n",
    "for chunk in api.generate(\n",
    "                model=\"phi4\",\n",
    "                system=\"You are a helpful assistant.\",\n",
    "                options={\"temperature\": 0},\n",
    "                prompt=\"hola\",\n",
    "                stream=True\n",
    "            ):\n",
    "    print(chunk.response, end=\"\", flush=True)"
   ]
  },
  {
   "cell_type": "code",
   "execution_count": 9,
   "metadata": {},
   "outputs": [
    {
     "data": {
      "text/plain": [
       "24"
      ]
     },
     "execution_count": 9,
     "metadata": {},
     "output_type": "execute_result"
    }
   ],
   "source": [
    "chunk.prompt_eval_count"
   ]
  },
  {
   "cell_type": "code",
   "execution_count": 8,
   "metadata": {},
   "outputs": [
    {
     "data": {
      "text/plain": [
       "40"
      ]
     },
     "execution_count": 8,
     "metadata": {},
     "output_type": "execute_result"
    }
   ],
   "source": [
    "chunk.eval_count"
   ]
  },
  {
   "cell_type": "code",
   "execution_count": 2,
   "metadata": {},
   "outputs": [
    {
     "data": {
      "text/plain": [
       "GenerateResponse(model='phi4', created_at='2025-05-30T21:08:21.169593138Z', done=True, done_reason='stop', total_duration=10896381679, load_duration=7906328752, prompt_eval_count=12, prompt_eval_duration=172306237, eval_count=40, eval_duration=2817152003, response='', context=[100264, 882, 100266, 198, 71, 8083, 100265, 198, 100264, 78191, 100266, 198, 40932, 69112, 0, 29386, 1737, 43388, 81915, 59237, 20430, 49841, 30, 12095, 72197, 73127, 80440, 297, 25203, 21920, 35615, 11, 912, 73222, 665, 1654, 2483, 8892, 20782, 13, 9589, 2303, 54189, 3429, 439, 380, 404, 668, 13, 27623, 232])"
      ]
     },
     "execution_count": 2,
     "metadata": {},
     "output_type": "execute_result"
    }
   ],
   "source": [
    "chunk"
   ]
  },
  {
   "cell_type": "code",
   "execution_count": 1,
   "metadata": {},
   "outputs": [],
   "source": [
    "from langchain_ollama import ChatOllama\n",
    "from cenacellm.langchain.assistant import OllamaAssistant"
   ]
  },
  {
   "cell_type": "code",
   "execution_count": 2,
   "metadata": {},
   "outputs": [],
   "source": [
    "user_query = \"\"\" Tengo el siguiente incidente y necesito ayuda para resolverlo:\n",
    "Titulo del ticket: Revisión de SIREL por falta de Envio de TL a Nivel Superior\n",
    "\n",
    "Descripción: Buenas noches, para solicitar de favor se revise en sistema SIREL la \n",
    "falta de envío de términos de licencias a nivel superior. Cuando estas vienen de \n",
    "solicitudes autorizadas por ellos. Enseguida muestro como evidencia LM de LT CHO \n",
    "93660 LOU, la cual se retiro a las 16:31 Hrs local de Sonora y en Relatorio no se\n",
    "palomeo la pestaña a Nivel Superior, lo cual provoca que México llame para solicitar \n",
    "dicho termino de licencia vía voz. Como precedente ya se ha tenido mismo problema en \n",
    "días anteriores.\n",
    "\"\"\""
   ]
  },
  {
   "cell_type": "code",
   "execution_count": null,
   "metadata": {},
   "outputs": [],
   "source": [
    "assistant = OllamaAssistant()"
   ]
  },
  {
   "cell_type": "code",
   "execution_count": null,
   "metadata": {},
   "outputs": [],
   "source": [
    "res = assistant.inquiry(user_query, 'Angel')"
   ]
  },
  {
   "cell_type": "code",
   "execution_count": null,
   "metadata": {},
   "outputs": [],
   "source": [
    "import pprint"
   ]
  },
  {
   "cell_type": "code",
   "execution_count": null,
   "metadata": {},
   "outputs": [
    {
     "name": "stdout",
     "output_type": "stream",
     "text": [
      "('Para resolver el incidente relacionado con la falta de envío de términos de '\n",
      " 'licencias a nivel superior en el sistema SIREL, aquí tienes un plan de '\n",
      " 'acción estructurado:\\n'\n",
      " '\\n'\n",
      " '### 1. **Revisión Inicial del Sistema SIREL**\\n'\n",
      " '\\n'\n",
      " '- **Verificar Procedimientos:** Comienza revisando los procedimientos '\n",
      " 'estándar y las configuraciones dentro del sistema SIREL para asegurar que la '\n",
      " 'funcionalidad para enviar términos de licencias a nivel superior esté '\n",
      " 'habilitada.\\n'\n",
      " '  \\n'\n",
      " '- **Revisión de Caso Específico (LM de LT CHO 93660 LOU):** Analiza el caso '\n",
      " 'específico mencionado. Verifica los registros de actividad del sistema en la '\n",
      " 'fecha y hora indicadas (16:31 Hrs local de Sonora) para identificar dónde '\n",
      " 'falló el proceso.\\n'\n",
      " '\\n'\n",
      " '- **Revisión de Configuraciones de Usuario:** Asegúrate de que todos los '\n",
      " 'usuarios involucrados tengan los permisos adecuados configurados para marcar '\n",
      " 'y enviar términos a nivel superior. Es posible que falten permisos '\n",
      " 'necesarios o que haya errores en la asignación.\\n'\n",
      " '\\n'\n",
      " '### 2. **Diagnóstico de Problemas Comunes**\\n'\n",
      " '\\n'\n",
      " '- **Errores de Sincronización:** Verifica si hay problemas de sincronización '\n",
      " 'entre los sistemas involucrados (SIREL y cualquier otro sistema de '\n",
      " 'comunicación con Nivel Superior) que pudieran estar causando la falta de '\n",
      " 'envío.\\n'\n",
      " '\\n'\n",
      " '- **Configuraciones Automatizadas:** Revisa si existen configuraciones '\n",
      " 'automatizadas o flujos de trabajo que gestionan el envío de términos a nivel '\n",
      " 'superior. Asegúrate de que estén correctamente configurados y activos.\\n'\n",
      " '\\n'\n",
      " '- **Errores del Sistema o Bugs:** Investiga en los registros de errores del '\n",
      " 'sistema durante la fecha específica para identificar si hubo fallos técnicos '\n",
      " 'o bugs que pudieron haber impedido el proceso.\\n'\n",
      " '\\n'\n",
      " '### 3. **Revisión de Documentación e Historial**\\n'\n",
      " '\\n'\n",
      " '- **Documentar Incidentes Pasados:** Revisa los incidentes pasados similares '\n",
      " 'mencionados en el ticket y cualquier resolución aplicada previamente para '\n",
      " 'identificar patrones o errores repetidos.\\n'\n",
      " '\\n'\n",
      " '- **Comunicaciones Internas:** Verifica si hay documentación de '\n",
      " 'comunicaciones internas que indiquen cómo deben manejarse estos procesos. '\n",
      " 'Podría haber instrucciones no actualizadas que estén causando el problema.\\n'\n",
      " '\\n'\n",
      " '### 4. **Pruebas y Validación**\\n'\n",
      " '\\n'\n",
      " '- **Simulación del Proceso:** Realiza una prueba simulando el envío de '\n",
      " 'términos para asegurar que el proceso funcione correctamente después de '\n",
      " 'realizar las correcciones necesarias.\\n'\n",
      " '\\n'\n",
      " '- **Validar Cambios Implementados:** Una vez realizadas las correcciones, '\n",
      " 'verifica si el proceso de envío se completa exitosamente en varios casos de '\n",
      " 'prueba antes de declararlo resuelto.\\n'\n",
      " '\\n'\n",
      " '### 5. **Capacitación y Documentación**\\n'\n",
      " '\\n'\n",
      " '- **Actualización del Manual de Procedimientos:** Asegúrate de que cualquier '\n",
      " 'cambio o ajuste en los procedimientos sea documentado adecuadamente en el '\n",
      " 'manual de operaciones para evitar futuras confusiones.\\n'\n",
      " '\\n'\n",
      " '- **Capacitación al Personal:** Considera realizar una sesión de '\n",
      " 'capacitación breve con el personal involucrado para asegurar que todos estén '\n",
      " 'al tanto de los procesos y las herramientas correctas.\\n'\n",
      " '\\n'\n",
      " '### 6. **Monitoreo Post-Corrección**\\n'\n",
      " '\\n'\n",
      " '- **Seguimiento en Sistemas:** Implementar un mecanismo de seguimiento '\n",
      " 'adicional temporalmente para monitorear el envío exitoso de términos a nivel '\n",
      " 'superior, asegurando que no vuelva a ocurrir el mismo problema.\\n'\n",
      " '\\n'\n",
      " '### 7. **Reporte y Cierre del Ticket**\\n'\n",
      " '\\n'\n",
      " '- **Comunicación al Equipo:** Una vez resuelto, comunica al equipo '\n",
      " 'involucrado y cualquier interesado sobre la solución implementada y los '\n",
      " 'pasos tomados para prevenir futuras incidencias.\\n'\n",
      " '\\n'\n",
      " '- **Cierre Formal del Ticket:** Cierra el ticket oficialmente en el sistema '\n",
      " 'de gestión de incidentes con una descripción clara de lo que se hizo, qué '\n",
      " 'cambios se implementaron y cómo se validó la resolución.\\n'\n",
      " '\\n'\n",
      " 'Siguiendo estos pasos, deberías poder resolver el problema sistemático y '\n",
      " 'minimizar su recurrencia en el futuro.')\n"
     ]
    }
   ],
   "source": [
    "pprint.pprint(res['answer'])"
   ]
  },
  {
   "cell_type": "code",
   "execution_count": null,
   "metadata": {},
   "outputs": [
    {
     "data": {
      "text/plain": [
       "[Document(id='7ce01fd6-ab7a-45f8-80b5-8e77e0ec424e', metadata={'´Categoria': 'ADTR SP7 > SIREL'}, page_content='Título: Reporte de 9c26474ccf3b9e1ce3875c44afff4174 SIREL\\nDescripción: Reporte de 9c26474ccf3b9e1ce3875c44afff4174, en SIREL realizo cambio de estatus a NO AUTORIZADA en solicitud 20221107-00201 y en sub área Hermosillo les permitió e3d8dd69ab57bcb4ed9d764a448bca3f, comenta a3b0d8be3bc69a1c348a6f2ec974a3eb que no debería de permitirles reprogramarla una vez que esta NO AUTORIZADA. Favor de verificar y en caso de ser necesario reportarlo a 8768007d7e27b875dbe581a201d2c096.\"ec97c88ef166501f86503572a354b331\"\\nSolución: El caso ya está escalado con dce993f5c9561264945c580f3690b59fSirel no permite cambiar de estado una solicitud \"cad82e460df8f8f1489621ca7803882a\", pero al parecer la aplicación 38429db15d6b29778f35716ee56e12a2, ni los servicios utilizados por 38429db15d6b29778f35716ee56e12a2 para actualizar en Sirel no tienen dicha validación. '),\n",
       " Document(id='122683df-bb2d-42b6-9733-a4b5dfdc5605', metadata={'´Categoria': 'ADTR SP7 > SIREL'}, page_content='Título: FALLA EN SIREL CON LA DIFERENCIA DE HORARIOS AL ENVIAR SOLICITUDES A NIVEL SUPERIOR. \\nDescripción: El d&iacute;a Lunes 11 de sept. Se reporta una falla en la funcionalidad de SIREL al enviar solicitudes a Nivel Superior.&nbsp;Se reporta la falla y se levanta una d07223b5a2704388e464852384aa70fc en referencia a esta falla.&nbsp;&nbsp;\\nSolución: nan'),\n",
       " Document(id='67df96df-c2bf-4ade-8c49-1d164f773eb3', metadata={'´Categoria': 'ADTR SP7 > SIREL'}, page_content='Título: Reporte de 9c26474ccf3b9e1ce3875c44afff4174 SIREL\\nDescripción: Reporte de 9c26474ccf3b9e1ce3875c44afff4174, en SIREL realizo cambio de estatus a NO AUTORIZADA en solicitud 20221107-00201 y en sub área Hermosillo les permitió e3d8dd69ab57bcb4ed9d764a448bca3f, comenta a3b0d8be3bc69a1c348a6f2ec974a3eb que no debería de permitirles reprogramarla una vez que esta NO AUTORIZADA. Favor de verificar y en caso de ser necesario reportarlo a 8768007d7e27b875dbe581a201d2c096.\"ec97c88ef166501f86503572a354b331\"\\nSolución: Menciona 8768007d7e27b875dbe581a201d2c096 que por órdenes de Operación Nacional se quitaron estas validaciones del servicio.'),\n",
       " Document(id='8c3f8a7c-4da7-4aa5-a660-a6765ccbde91', metadata={'´Categoria': 'ADTR SP7 > SIREL'}, page_content='Título: RV: Licencia duplicada por la misma solicitud en SIREL. (Error de BD marcado durante el proceso de OTORGAR LICENCIA)\\nDescripción:  Para seguimiento     \"ec97c88ef166501f86503572a354b331\" De: 53b5b1afc0bf0966a973f575ef450244: jueves, 18 de enero de 2024 11:23 a. m.Para: a2394a2e202daad6ee97323f81026f9c: 9db6063fef5a6ff8111e259dd35e55bc: Licencia duplicada por la misma solicitud en SIREL. (Error de BD marcado durante el proceso de OTORGAR LICENCIA) Te comparto el reporte que hizo 32ae4857002c8ebbbc42b177674f4add hace unos minutos de una falla en SIREL, para su seguimiento.   La licencia reportada es de la Subestación CHO, equipo bd5ec4ae6ee2664661b5f4c6ca69836b La cual en Sirel existen dos eventos de Licencia otorgada con dos licencias consecutivas para el mismo trabajo (e895bab469fd6264b70ba01bd5ffd1d2 y abf547132c5765799107a0a274b4ba83). En la vista de Licencias del sistema SIREL, solo visualizan la e895bab469fd6264b70ba01bd5ffd1d2, ya que en BD es a la que está referenciada la solicitud. Pero en las tablas de SIREL (en BD están las 2 licencias con estatus de concedidas).  En el Actions Logs de SIREL solo se ve el registro de cuando se otorga la licencia e895bab469fd6264b70ba01bd5ffd1d2. Comenta el Operador que al momento de conceder la licencia (en base a la solicitud que es la 98f2acb82e18389b1fd7b8dca3862a73) le marco un mensaje de error de la base de datos, por lo que cerro la ventana e intentó de nuevo, y fué donde le otorgó la licencia e895bab469fd6264b70ba01bd5ffd1d2. (Pero por los registros que se encontraron en la BD ya había generado una licencia  abf547132c5765799107a0a274b4ba83, pero fué interrumpido el proceso por un error en la base de datos).  Esto ocurrió el día de hoy a las 10:08. En el Registro de Eventos del Sistema podemos ver el mensaje de error que arrojó el SIREL.  Esta es la problemática ocurrida el día de hoy con SIREL.  Cualquier duda o comentario, quedo a la orden. Saludos!\"ec97c88ef166501f86503572a354b331\"\\nSolución: Acorde a lo dicho por 8768007d7e27b875dbe581a201d2c096 esta falla ya se encuentra corregida en la versión 2.0 de SIREL.'),\n",
       " Document(id='668e561a-32d0-4055-9531-5a1e6ce01b95', metadata={'´Categoria': 'ADTR SP7 > SIREL'}, page_content='Título: Re: ERROR SIREL\\nDescripción: b62fb93c4ab2eb78176070681329396e, buenas tardes 9c26474ccf3b9e1ce3875c44afff4174 esta reportando un error en el sistema SIREL, en el módulo de Solicitudes, anexo pantalla y log de errores. 26715b97bb082b3e92bd0ca56e26876b al pendiente 847e38f479dc2879776309da4d5e6f57, si no tienes inconveniente, voy a empezar a generar tickets en la mesa de servicio para darles seguimiento, complementando los reportes de las varianzas.   \"ec97c88ef166501f86503572a354b331\"   De: 5f9d85e0f47b5f1f164c80febc27a1ed: miércoles, 17 de noviembre de 2021 05:24 p. m.Para: 6dfa823bbfdf91e5c996489ecabf7fdc a51336d1107a5775f9b447868de1cc3c ; 3dfcd049cf67ba5322afa31167f2a6dc se presentó otro error de SIREL.....      De: 26be225a36b92039ef48043133dbfe35: viernes, 22 de octubre de 2021 11:50 a. m.Para: 6dfa823bbfdf91e5c996489ecabf7fdc a51336d1107a5775f9b447868de1cc3c ; d533faccc4e139edc6921449f4c83529: ERROR SIREL     \\nSolución: El problema se tenía con el manejo de un índice en el GRID, se corrigió por parte del proveedor y no se han tenido reportes nuevamente de este error.'),\n",
       " Document(id='e94f012b-e69d-4689-b200-c73f2292d438', metadata={'´Categoria': 'ADTR SP7 > SIREL'}, page_content='Título: Falla SIREL 23 02 2024\\nDescripción: Buenos días. Para reportar que se adjuntaron archivos a la solicitud  addb42fae1eb3f65777f3a74630294b9 sin embargo no los muestra el SIREL. Se probó con archivos PNG, PDF y XLSX. Ninguno lo mostró. Sin embargo al hablar con nivel superior (CENAL) me informó que él sí veía todos los archivos que había adjuntado.  Se anexa evidencia de nivel superior.         \"ec97c88ef166501f86503572a354b331\"\"ec97c88ef166501f86503572a354b331\"\\nSolución: El problema no se ha presentado de nuevo, se considera una intermitencia del servicio temporal.'),\n",
       " Document(id='80151954-3618-459b-aa46-1e0612cc0fdc', metadata={'´Categoria': 'ADTR SP7 > SIREL'}, page_content='Título: Solicitud \"9790579553f1b18e38897e66477aaeab\" de SIREL\\nDescripción: Buenas tardes compañeros. Para hacer de su conocimiento que la ZOTH informó que en SIRLES tiene la solicitud 20220216-00531 para la LT CBA 73080 ASE en vivo y en GCRNO SIREL no se encontró dicha solicitud para dicho equipo. Por el contrario en SIREL la solicitud 20220216-00531 sí existe pero para HYA B 01 115 kV en vivo. Favor de revisar esta situación. Se anexa evidencia de SIRLES en ZOTH y de SIREL en GCRNO. Saludos        Saludos ¡  \"ec97c88ef166501f86503572a354b331\"  \"ec97c88ef166501f86503572a354b331\"\\nSolución: Las Zonas de Operación de Hermosillo y Culiacán enviaron los logs del SIRLES y fueron evaluados por . dc30a3a891897eb0dbd110323a93d4c7. El día 22 de Febrero, el . dc30a3a891897eb0dbd110323a93d4c7 por correo electrónico informo que se revisaron los logs pero que no se pudo reproducir la falla reportada y se escalaría con el proveedor, manteniéndonos informados de los comentarios de personal de 64eeced6cae6abd85f7dd2278bfa86ba. '),\n",
       " Document(id='493de649-22a1-47c1-b9d0-65a3cf1e1c44', metadata={'´Categoria': 'ADTR SP7 > SIREL'}, page_content='Título: Revisión de versión de SIREL en consola de auxiliar e instalar actualización en caso de ser necesario\\nDescripción:  Revisión de versión de SIREL en consola de auxiliar e instalar actualización en caso de ser necesario     \"ec97c88ef166501f86503572a354b331\"\"ec97c88ef166501f86503572a354b331\"\\nSolución: Se atendió la solicitud de forma exitosa con apoyo de 74993f42c49b81f3a77103bcbb247c2b ya que se trataba de un error de comunicación con el dominio.'),\n",
       " Document(id='9419ebb1-8c09-45c0-aca2-189e1a534e6f', metadata={'´Categoria': 'SEGURIDAD INFORMATICA'}, page_content='Título: RV: URGENTE SIF\\nDescripción: f1adb3bbdb727fcc7c4e4f355084c70a, buenas tardes Este es otro ticket que ya se resolvió en la mañana por lo que comento 8ba7245b4559da4fe04145ad4a1ed010, pero no se documentó que fue lo que se hizo para resolverlo. 7be3b45a4bcbc864560411c9d5a3c5fa    \"ec97c88ef166501f86503572a354b331\" De: Francisco 8ba7245b4559da4fe04145ad4a1ed010el Romo Ruiz Enviado: jueves, 25 de abril de 2024 12:44 p. m.Para: f1adb3bbdb727fcc7c4e4f355084c70a Gonzalez Serrano Cc: 6dfa823bbfdf91e5c996489ecabf7fdc ; 4007418373e0c27e4957dca4fed0330d: URGENTE SIF BUEN DIACESAR  EL SIF NO MUESTRA LA LISTA Y RESGUARDOS DE PROVEEDORES a4d6d654aacdf813de0a93e8de075233  QUEDO ATENTO YA QUE ME LO ESTAN REPORTANDO USUARIOS\"ec97c88ef166501f86503572a354b331\"\"ec97c88ef166501f86503572a354b331\"\\nSolución: Es posible que sean interrupciones momentaneas del servicio como resultado de la instalación de software de monitoreo.'),\n",
       " Document(id='59fc31f8-fadc-48e0-9769-ee2db33c5a78', metadata={'´Categoria': 'ADTR SP7 > SIREL'}, page_content='Título: Atención a revisión de solicitud bloqueada en SIREL\\nDescripción:  853d4d7c84e69185f9f0fbc1f1abd0a3 que no pudo editar una solicitud en SIREL, debido a que estaba bloqueada por otro usuario. Revisó en las consolas de Operación, pero no identifico que algún usuario estuviera editando dicha solicitud.  \"ec97c88ef166501f86503572a354b331\"\\nSolución: Solicitud atendida por dc30a3a891897eb0dbd110323a93d4c7  en coordinación con 82d816f8af78df1cc3dfb18578e81f0e. Se desbloqueo la solicitud para que pudieran continuar con la edición de la misma.')]"
      ]
     },
     "execution_count": 8,
     "metadata": {},
     "output_type": "execute_result"
    }
   ],
   "source": [
    "res['retrieved_documents']"
   ]
  },
  {
   "cell_type": "code",
   "execution_count": null,
   "metadata": {},
   "outputs": [],
   "source": [
    "from langchain_ollama import ChatOllama\n",
    "from cenacellm.langchain.assistant import OllamaAssistant"
   ]
  },
  {
   "cell_type": "code",
   "execution_count": null,
   "metadata": {},
   "outputs": [],
   "source": [
    "user_query = \"\"\" Tengo el siguiente incidente y necesito ayuda para resolverlo:\n",
    "Titulo del ticket: Revisión de SIREL por falta de Envio de TL a Nivel Superior\n",
    "\n",
    "Descripción: Buenas noches, para solicitar de favor se revise en sistema SIREL la \n",
    "falta de envío de términos de licencias a nivel superior. Cuando estas vienen de \n",
    "solicitudes autorizadas por ellos. Enseguida muestro como evidencia LM de LT CHO \n",
    "93660 LOU, la cual se retiro a las 16:31 Hrs local de Sonora y en Relatorio no se\n",
    "palomeo la pestaña a Nivel Superior, lo cual provoca que México llame para solicitar \n",
    "dicho termino de licencia vía voz. Como precedente ya se ha tenido mismo problema en \n",
    "días anteriores.\n",
    "\"\"\""
   ]
  },
  {
   "cell_type": "code",
   "execution_count": null,
   "metadata": {},
   "outputs": [],
   "source": [
    "assistant = OllamaAssistant()"
   ]
  },
  {
   "cell_type": "code",
   "execution_count": null,
   "metadata": {},
   "outputs": [],
   "source": [
    "res = assistant.inquiry(user_query, 'Jose')"
   ]
  },
  {
   "cell_type": "code",
   "execution_count": null,
   "metadata": {},
   "outputs": [
    {
     "name": "stdout",
     "output_type": "stream",
     "text": [
      "('Para abordar el incidente reportado sobre la falta de envío de términos de '\n",
      " 'licencias a nivel superior en el sistema SIREL, es importante seguir un '\n",
      " 'procedimiento estructurado. Aquí tienes una guía paso a paso que puedes '\n",
      " 'utilizar para resolver este problema:\\n'\n",
      " '\\n'\n",
      " '1. **Verificación Inicial:**\\n'\n",
      " '   - Revisa la solicitud específica y el incidente anteriormente reportados '\n",
      " 'para comprender los detalles de lo ocurrido con la licencia LT CHO 93660 '\n",
      " 'LOU.\\n'\n",
      " '   - Asegúrate de tener acceso al sistema SIREL y las credenciales '\n",
      " 'necesarias para realizar un seguimiento adecuado.\\n'\n",
      " '\\n'\n",
      " '2. **Revisión del Relatorio:**\\n'\n",
      " '   - Inicia sesión en el sistema SIREL y localiza la solicitud relacionada '\n",
      " 'con LT CHO 93660 LOU.\\n'\n",
      " '   - Verifica si la pestaña correspondiente a \"Nivel Superior\" está marcada '\n",
      " 'o no. Si no lo está, esto confirma que el término de licencia no fue '\n",
      " 'enviado.\\n'\n",
      " '\\n'\n",
      " '3. **Comprobación del Flujo de Trabajo:**\\n'\n",
      " '   - Revisa los flujos de trabajo configurados en SIREL para confirmar que '\n",
      " 'están correctamente establecidos para enviar solicitudes autorizadas a nivel '\n",
      " 'superior.\\n'\n",
      " '   - Asegúrate de que las reglas o condiciones bajo las cuales se debe '\n",
      " 'enviar automáticamente un término a nivel superior estén bien definidas.\\n'\n",
      " '\\n'\n",
      " '4. **Revisión de Registros y Logs:**\\n'\n",
      " '   - Consulta los registros del sistema SIREL para identificar si hubo algún '\n",
      " 'error durante el proceso de autorización o envío.\\n'\n",
      " '   - Verifica cualquier mensaje de error o alerta que pueda haberse generado '\n",
      " 'en el momento de la retención o envío.\\n'\n",
      " '\\n'\n",
      " '5. **Consulta con Supervisores:**\\n'\n",
      " '   - Comunícate con los supervisores o usuarios responsables del '\n",
      " 'mantenimiento y operación del sistema SIREL para revisar si ha habido '\n",
      " 'cambios recientes en las configuraciones que puedan afectar el envío de '\n",
      " 'licencias.\\n'\n",
      " '   - Si es necesario, solicita permiso para investigar más a fondo en caso '\n",
      " 'de no tener los privilegios adecuados.\\n'\n",
      " '\\n'\n",
      " '6. **Corrección del Problema:**\\n'\n",
      " '   - Si identificas un problema técnico, trabaja con el equipo de TI o '\n",
      " 'soporte técnico para resolverlo.\\n'\n",
      " '   - Asegúrate de que se apliquen las correcciones necesarias y actualiza '\n",
      " 'los flujos de trabajo si es necesario.\\n'\n",
      " '\\n'\n",
      " '7. **Pruebas Posteriores:**\\n'\n",
      " '   - Realiza pruebas simulando una solicitud similar para verificar que el '\n",
      " 'problema ha sido resuelto y que ahora envía correctamente a nivel superior.\\n'\n",
      " '   - Documenta el proceso de prueba y cualquier resultado relevante.\\n'\n",
      " '\\n'\n",
      " '8. **Comunicación con México:**\\n'\n",
      " '   - Informa al equipo correspondiente en México sobre la solución '\n",
      " 'implementada para evitar futuras llamadas vía voz por este motivo.\\n'\n",
      " '   - Ofrece una breve explicación del error y cómo se ha corregido, '\n",
      " 'asegurando que el problema no volverá a ocurrir.\\n'\n",
      " '\\n'\n",
      " '9. **Documentación:**\\n'\n",
      " '   - Documenta todo lo realizado durante la resolución del incidente en un '\n",
      " 'reporte detallado para futuras referencias.\\n'\n",
      " '   - Incluye detalles de las causas encontradas y las soluciones aplicadas, '\n",
      " 'junto con cualquier cambio en los procedimientos operativos si corresponde.\\n'\n",
      " '\\n'\n",
      " 'Al seguir estos pasos, deberías poder resolver el problema de la falta de '\n",
      " 'envío de términos de licencia a nivel superior en SIREL. Es importante '\n",
      " 'mantener una comunicación clara y efectiva con todas las partes involucradas '\n",
      " 'para asegurar que el incidente se resuelva satisfactoriamente.')\n"
     ]
    }
   ],
   "source": [
    "import pprint\n",
    "pprint.pprint(res['answer'])"
   ]
  },
  {
   "cell_type": "code",
   "execution_count": null,
   "metadata": {},
   "outputs": [
    {
     "data": {
      "text/plain": [
       "[Document(id='be46e9a7-3ae6-4d78-b3fc-4eeb697b8336', metadata={'producer': 'Microsoft® Word 2016', 'creator': 'Microsoft® Word 2016', 'creationdate': '2022-03-23T20:30:11-06:00', 'title': 'Estatuto de Trabajo', 'author': 'Ignacio Estrada', 'subject': 'Sistemas SCADA/EMS del CENACE', 'keywords': 'C_Confidential', 'moddate': '2022-03-23T20:30:11-06:00', 'source': '../datos/documentos\\\\SIE-DOC-REL-MAN_001_00 (2).pdf', 'total_pages': 118, 'page': 70, 'page_label': '71'}, page_content='Control de Cambios \\nFecha: 20/02/2021 \\nProyecto: Sistemas SCADA/EMS del CENACE \\nSIE-DOC-REL-MAN_001_00 \\n \\nConfidential \\nUpdated 28/02/2018  Versión: 0 Página 71 of  118 \\nAutor: Ignacio Estrada   Restricted © Siemens AG, 2018. All rights reserved.  \\n \\n \\nObserve que SIREL responderá de acuerdo al modo seleccionado para la Concesión \\nsiempre y cuando la Solicitud contenga Maniobras. \\n3. Complete el proceso de Concesión y al finalizar SIREL deberá realizar lo siguiente: \\n\\uf0fc La lista de Solicitudes será actualizada sin la Solicitud recién concedida. \\n\\uf0fc La nueva Licencia será mostrada en la vista de Licencias al inicio de la lista. \\n\\uf0fc Se generará un nuevo evento en el Relatorio \\n\\uf0fc Si la Licencia contiene maniobras y éstas fueron Libradas l os pasos que \\nestuvieran marcados para crear eventos en el Relatorio van a generar un evento \\nen dicho Relatorio. \\n\\uf0fc Si la Licencia concedida estuvo asociada a una Solicitud enviada a otro Centro \\nde Control y fue enviada como no informativa el evento de Concesi ón \\ncorrespondiente será enviado a dicho Centro de Control. \\n \\n5.4 Consultas y Reporte de Solicitudes \\nProcedimiento: Consultar Solicitudes \\nPaso Actividad \\n1. Ir a la vista de Solicitudes (ver imagen 5) \\n2. Seleccione desde el menú principal el botón Consultar: \\n \\nSIREL enviará ventana para especificar los parámetros de Consulta:'),\n",
       " Document(id='91a7b70f-0e42-4fb7-94dd-abda1e5466f0', metadata={'producer': 'Microsoft® Word 2016', 'creator': 'Microsoft® Word 2016', 'creationdate': '2022-03-23T20:30:11-06:00', 'title': 'Estatuto de Trabajo', 'author': 'Ignacio Estrada', 'subject': 'Sistemas SCADA/EMS del CENACE', 'keywords': 'C_Confidential', 'moddate': '2022-03-23T20:30:11-06:00', 'source': '../datos/documentos\\\\SIE-DOC-REL-MAN_001_00 (2).pdf', 'total_pages': 118, 'page': 62, 'page_label': '63'}, page_content='Control de Cambios \\nFecha: 20/02/2021 \\nProyecto: Sistemas SCADA/EMS del CENACE \\nSIE-DOC-REL-MAN_001_00 \\n \\nConfidential \\nUpdated 28/02/2018  Versión: 0 Página 63 of  118 \\nAutor: Ignacio Estrada   Restricted © Siemens AG, 2018. All rights reserved.  \\n \\n5.2 Interfaz entre Centros de Control \\nLos siguientes procedimientos permiten enviar Solicitudes de un Centro de Control Regional (NI), al \\nCentro de Control Nacional (NS), así como enviar Solicitudes del Centro de Control Nacional (NS) \\na un Centro de Control Regional (NI). \\nLas Solicitudes enviadas a o recibidas desde otro Centro de Control  serán mostradas subrayadas \\nen la cuadrícula. \\n \\nProcedimiento: Enviar Solicitud a Nivel Superior (NS)  \\nUna Solicitud podrá ser enviada al NS desde la lista de Solicitudes o desde el momento de su fincado \\nen la aplicación de escritorio. \\nCuando se envía una solicitud para coordinación por el NS, la solicitud deberá tener el estado NO-\\nREVISADA. \\nPaso Actividad \\n1. Ir a la vista de Solicitudes (ver imagen 5) \\n2. Seleccione una Solicitud en condiciones de ser enviada al NS, el botón Enviar a NS  se \\nactivará en la barra de menú principal. \\n \\n3.    Proceda dando click en dicho botón y SIREL enviará la Solicitud mostrando un mensaje al \\nusuario del envío exitoso. \\nObserve que cuando el equipo asociado a una Solicitud representa un equipo frontera entre \\nCentros de Control, la Solicitud será enviada tanto al Centro de Control de NS como al Centro de \\nControl Regional  relacionado con el equipo frontera. \\n \\nProcedimiento: Enviar Solicitud a Nivel Inferior (NI)  \\nPaso Actividad \\n1. Ir a la vista de Solicitudes (ver imagen 5) \\n2. Para enviar una Solicitud al NI seleccionela desde la cuadrícula, dé un click en el botón \\nEnviar a NI y enseguida SIREL mostrará la interacción para seleccionar el Centro de \\nControl a donde será enviada..'),\n",
       " Document(id='0a89bb0e-5b34-4364-b906-530cd3c6dad0', metadata={'producer': 'Microsoft® Word 2016', 'creator': 'Microsoft® Word 2016', 'creationdate': '2022-03-23T20:30:11-06:00', 'title': 'Estatuto de Trabajo', 'author': 'Ignacio Estrada', 'subject': 'Sistemas SCADA/EMS del CENACE', 'keywords': 'C_Confidential', 'moddate': '2022-03-23T20:30:11-06:00', 'source': '../datos/documentos\\\\SIE-DOC-REL-MAN_001_00 (2).pdf', 'total_pages': 118, 'page': 66, 'page_label': '67'}, page_content='Control de Cambios \\nFecha: 20/02/2021 \\nProyecto: Sistemas SCADA/EMS del CENACE \\nSIE-DOC-REL-MAN_001_00 \\n \\nConfidential \\nUpdated 28/02/2018  Versión: 0 Página 67 of  118 \\nAutor: Ignacio Estrada   Restricted © Siemens AG, 2018. All rights reserved.  \\n \\n \\nSIREL solicitará confirmar la acción. \\n \\n3.    SIREL actualizará la Solicitud indicando que la Solicitud en cuestión no tiene ya el ícono de \\nmaniobra. \\n \\nProcedimiento: Autorizar Solicitud \\nUna Solicitud podrá ser Autorizada por el Centro de Control local si no fue enviada al Nivel Superior. \\nEn caso contrario sólo el Nivel Superior podrá Autorizar una Solicitud. \\nPaso Actividad \\n1. Ir a la vista de Solicitudes (ver imagen 5) \\n2. En esta condición, seleccione la Solicitud que desea autorizar, seleccionando el botón \\nAutorizar \\n \\nSeleccione una Solicitud y proceda a su Autorización.'),\n",
       " Document(id='4dbd058f-dbe0-4042-9f00-05a3715a6753', metadata={'producer': 'Microsoft® Word 2016', 'creator': 'Microsoft® Word 2016', 'creationdate': '2022-03-23T20:30:11-06:00', 'title': 'Estatuto de Trabajo', 'author': 'Ignacio Estrada', 'subject': 'Sistemas SCADA/EMS del CENACE', 'keywords': 'C_Confidential', 'moddate': '2022-03-23T20:30:11-06:00', 'source': '../datos/documentos\\\\SIE-DOC-REL-MAN_001_00 (2).pdf', 'total_pages': 118, 'page': 43, 'page_label': '44'}, page_content='Control de Cambios \\nFecha: 20/02/2021 \\nProyecto: Sistemas SCADA/EMS del CENACE \\nSIE-DOC-REL-MAN_001_00 \\n \\nConfidential \\nUpdated 28/02/2018  Versión: 0 Página 44 of  118 \\nAutor: Ignacio Estrada   Restricted © Siemens AG, 2018. All rights reserved.  \\n \\nProcedimiento: Conceder Licencia de Emergencia \\nPaso Actividad \\n1. Ir a la vista de Licencias (ver imagen 5) \\n2. Desde la vista de Licencias, seleccione en la barra principal el botón Licencia de emergencia \\n \\nAdicionalmente se podrá acceder a esta función con tecla F10 desde cualquier otra \\nsección de la aplicación. \\nSIREL mostrará la ventana de Concesión de Licencia de emergencia, proporcione los datos \\nrequeridos.  \\n \\nObserve que desde este formulario Ud. podrá realizar las acciones siguientes: \\n- La hora de inicio es colocada automáticamente por la aplicación, y al dar un doble click en \\nel ícono del campo Fecha final de Trabajos el SIREL colocará automáticamente el horario de \\ninicio más 8 horas. \\n- Especificar envío al NS siempre que sea un Centro de Control Regional. \\n- Especificar si la licencia requerirá Maniobras.  En éste caso se aplicará el proceso  de \\nacuerdo al mecanismo de Concesión de Licencia configurado. \\n- Se podrá agregar archivo'),\n",
       " Document(id='e5b6b2b5-9b97-46c9-9303-dc31e845dd7d', metadata={'producer': 'Microsoft® Word 2016', 'creator': 'Microsoft® Word 2016', 'creationdate': '2022-03-23T20:32:20-06:00', 'title': 'Estatuto de Trabajo', 'author': 'Ignacio Estrada', 'subject': 'Sistemas SCADA/EMS del CENACE', 'keywords': 'C_Confidential', 'moddate': '2022-03-23T20:32:20-06:00', 'source': '../datos/documentos\\\\SIE-DOC-REL-MAN_003_00 (1).pdf', 'total_pages': 33, 'page': 16, 'page_label': '17'}, page_content='Control de Cambios \\nFecha: 20/02/2021 \\nProyecto: Sistemas SCADA/EMS del CENACE \\nSIE-DOC-REL-MAN_003_00 \\n \\nConfidential \\nUpdated 28/02/2018  Versión: 0 Página 17 of  33 \\nAutor: Ignacio Estrada   Restricted © Siemens AG, 2018. All rights reserved.  \\n \\n3 Sección de Licencias \\nEn ésta sección se describen los procedimientos para realizar consultas en el Subsistema de \\nLicencias.  \\n \\n3.1 Solicitudes \\nLos siguientes procedimientos permiten la consulta y exportación de Solicitudes. \\nProcedimiento: Consultar Solicitudes \\nPaso Actividad \\n1. Ingresar al SIREL WEB \\n2. Proporcionar las credenciales de usuario y acceso. \\n3. Sirel mostrará la página inicial \\n4. Desde el menú lateral, en la sección Licencias, dé un click en botón Consulta Solicitudes. \\nSirel mostrará la consulta, \\n \\nLa consulta por default obtiene las Solicitudes vigentes a partir de la fecha actual. \\n \\nProcedimiento: Consultar Solicitudes por filtros \\nPaso Actividad \\n1. Desde la consulta de Solicitudes, dé un click en botón Consultar ubicado en la parte superior \\nde la cuadricula'),\n",
       " Document(id='3eae518e-30b0-44c6-ad3e-a7ff11734946', metadata={'producer': 'Microsoft® Word 2016', 'creator': 'Microsoft® Word 2016', 'creationdate': '2022-03-23T20:30:11-06:00', 'title': 'Estatuto de Trabajo', 'author': 'Ignacio Estrada', 'subject': 'Sistemas SCADA/EMS del CENACE', 'keywords': 'C_Confidential', 'moddate': '2022-03-23T20:30:11-06:00', 'source': '../datos/documentos\\\\SIE-DOC-REL-MAN_001_00 (2).pdf', 'total_pages': 118, 'page': 45, 'page_label': '46'}, page_content='Control de Cambios \\nFecha: 20/02/2021 \\nProyecto: Sistemas SCADA/EMS del CENACE \\nSIE-DOC-REL-MAN_001_00 \\n \\nConfidential \\nUpdated 28/02/2018  Versión: 0 Página 46 of  118 \\nAutor: Ignacio Estrada   Restricted © Siemens AG, 2018. All rights reserved.  \\n \\n4.2 Transferir Licencia vencida a Licencia de Emergencia  y Prorrogar \\nLicencia \\n \\nProcedimiento: Transferir Licencia  \\nPaso Actividad \\n1. Ir a la vista de Licencias (ver imagen 5) \\n2. Desde la vista de Licencias \\na) Seleccione la Licencia que desea transferir a Licencia de Emergencia, \\nb) Seleccione de  la barra principal el botón Transferir a  Emergencia, o con botón \\nsecundario del mouse sobre la licencia seleccionada la opción Transferir a Emergencia \\n \\nSIREL mostrará ventana para especificar en caso requerido las observaciones del Retiro. Al \\naceptar SIREL mostrará Confirmación de la nueva Licencia.  \\n \\n \\nSi la Licencia origen fué enviada al NS, SIREL también enviará los eventos de Relatorio. En caso \\nde tener maniobras asociadas, éstas serán transferidas a la nueva Licencia en el estado actual. \\n3.    SIREL actualizará la lista de Licencias mostrando la Licencia seleccionada en estado Retirada \\ny la nueva Licencia creada. \\nObserve que ambas Licencias quedarán referenciadas mutuamente por medio de las observaciones \\nde Licencia y se reflejarán también en los eventos del Relatorio correspondientes. \\nAsí mismo si la Licencia original proviene de Solicitud enviada a otro Centro de Control, los eventos \\ncorrespondientes del Relatorio serán también enviados.'),\n",
       " Document(id='cd6336c3-cbe7-4ca9-95f1-2da2d4157e67', metadata={'producer': 'Microsoft® Word 2016', 'creator': 'Microsoft® Word 2016', 'creationdate': '2022-03-23T20:32:20-06:00', 'title': 'Estatuto de Trabajo', 'author': 'Ignacio Estrada', 'subject': 'Sistemas SCADA/EMS del CENACE', 'keywords': 'C_Confidential', 'moddate': '2022-03-23T20:32:20-06:00', 'source': '../datos/documentos\\\\SIE-DOC-REL-MAN_003_00 (1).pdf', 'total_pages': 33, 'page': 24, 'page_label': '25'}, page_content='Control de Cambios \\nFecha: 20/02/2021 \\nProyecto: Sistemas SCADA/EMS del CENACE \\nSIE-DOC-REL-MAN_003_00 \\n \\nConfidential \\nUpdated 28/02/2018  Versión: 0 Página 25 of  33 \\nAutor: Ignacio Estrada   Restricted © Siemens AG, 2018. All rights reserved.  \\n \\nUna vez que se han capturado los datos mínimos requeridos, dé click en botón Fincar Solicitud . \\nSIREL mostrará ventana de confirmación con el resultado: \\n \\n \\n \\n3.4 Licencias \\nLos siguientes procedimientos permiten la consulta y exportación de Licencias. \\nProcedimiento: Consultar Licencias \\nPaso Actividad \\n1. Desde el menú lateral, en la sección Licencias, dé un click en botón Consulta Licencias. \\nSirel mostrará la consulta, \\n \\nLa consulta por default  obtiene las Licencias vigentes.'),\n",
       " Document(id='430adcb0-c1ee-41f8-9ade-52e80f74890f', metadata={'producer': 'Microsoft® Word 2016', 'creator': 'Microsoft® Word 2016', 'creationdate': '2022-03-23T20:30:11-06:00', 'title': 'Estatuto de Trabajo', 'author': 'Ignacio Estrada', 'subject': 'Sistemas SCADA/EMS del CENACE', 'keywords': 'C_Confidential', 'moddate': '2022-03-23T20:30:11-06:00', 'source': '../datos/documentos\\\\SIE-DOC-REL-MAN_001_00 (2).pdf', 'total_pages': 118, 'page': 47, 'page_label': '48'}, page_content='Control de Cambios \\nFecha: 20/02/2021 \\nProyecto: Sistemas SCADA/EMS del CENACE \\nSIE-DOC-REL-MAN_001_00 \\n \\nConfidential \\nUpdated 28/02/2018  Versión: 0 Página 48 of  118 \\nAutor: Ignacio Estrada   Restricted © Siemens AG, 2018. All rights reserved.  \\n \\na) Seleccione la Licencia que desea restaurar a solicitud, \\nb) Seleccione de  la barra principal el botón Restaurar a Solicitud  o con botón \\nsecundario del mouse sobre la licencia seleccionada la opción Restaurar a Solicitud. \\n \\nSIREL enviará ventana de Confirmación. \\n \\n3.    Al finalizar el proceso de Restauración, SIREL actualizará la lista de Licencias eliminando de \\nla lista la Licencia Restaurada y eliminará el evento asociado en el Relatorio. \\n \\nProcedimiento: Restaurar Licencia Retirada a Estado vigente \\nEsta función aplica sólo a Licencias de Solicitudes programadas y que no contienen maniobras y \\nhayan sido Retiradas en el mismo Relatorio. \\nPaso Actividad \\n1. Ir a la vista de Licencias (ver imagen 5) \\n2. Desde la vista de Licencias \\na) Seleccione la Licencia que desea restaurar a Estado vigente, \\nb) Seleccione de  la barra principal el botón Restaurar a Licencia o con botón \\nsecundario del mouse sobre la licencia seleccionada la opción Restaurar a Licencia. \\n \\nSIREL enviará ventana de Confirmación, como la siguiente…'),\n",
       " Document(id='05f0da92-b8ba-489b-b1eb-74bb5bc7d982', metadata={'producer': 'Microsoft® Word 2016', 'creator': 'Microsoft® Word 2016', 'creationdate': '2022-03-23T20:30:11-06:00', 'title': 'Estatuto de Trabajo', 'author': 'Ignacio Estrada', 'subject': 'Sistemas SCADA/EMS del CENACE', 'keywords': 'C_Confidential', 'moddate': '2022-03-23T20:30:11-06:00', 'source': '../datos/documentos\\\\SIE-DOC-REL-MAN_001_00 (2).pdf', 'total_pages': 118, 'page': 44, 'page_label': '45'}, page_content='Control de Cambios \\nFecha: 20/02/2021 \\nProyecto: Sistemas SCADA/EMS del CENACE \\nSIE-DOC-REL-MAN_001_00 \\n \\nConfidential \\nUpdated 28/02/2018  Versión: 0 Página 45 of  118 \\nAutor: Ignacio Estrada   Restricted © Siemens AG, 2018. All rights reserved.  \\n \\n3.    Al finalizar el proceso de Concesión SIREL actualizará la lista de Licencias mostrando la nueva \\nLicencia. \\n \\nProcedimiento: Retirar Licencia \\nPaso Actividad \\n1. Ir a la vista de Licencias (ver imagen 5) \\n2. Desde la vista de Licencias \\na) Seleccione la Licencia que desea retirar, \\nb) Seleccione de  la barra principal el botón Retirar, o con botón secundario del mouse \\nsobre la licencia seleccionada la opción Retirar licencia \\n \\nDependiendo del flujo de proceso configurado, SIREL mostrará la ventana ya sea de Retiro de \\nLicencia o de Normalización de Maniobras en caso de que la Licencia contenga maniobras. \\n \\nEn caso de que la Licencia haya sido enviada al NS, SIREL enviará el evento también al NS. En \\ncaso de tener pasos de maniobras marcados para ser enviados al Relatorio también deberán ser \\nenviados al NS. \\n3.    Al finalizar el proceso de Retiro SIREL actualizará la lista de Licencias mostrando la Licencia \\nen estado Retirada y creará un evento en el Relatorio.'),\n",
       " Document(id='02a44e9e-fe78-4ac0-a607-12b41dfddc26', metadata={'producer': 'Microsoft® Word 2016', 'creator': 'Microsoft® Word 2016', 'creationdate': '2022-03-23T20:30:11-06:00', 'title': 'Estatuto de Trabajo', 'author': 'Ignacio Estrada', 'subject': 'Sistemas SCADA/EMS del CENACE', 'keywords': 'C_Confidential', 'moddate': '2022-03-23T20:30:11-06:00', 'source': '../datos/documentos\\\\SIE-DOC-REL-MAN_001_00 (2).pdf', 'total_pages': 118, 'page': 3, 'page_label': '4'}, page_content='Procedimiento: Editar Solicitud Guardar/Cancelar cambios ............................................................ 59 \\nProcedimiento: Agregar texto a una solicitud ................................................................................... 60 \\nProcedimiento: Ver detalle ............................................................................................................... 61 \\n5.2 Interfaz entre Centros de Control ................................................................................................... 63 \\nProcedimiento: Enviar Solicitud a Nivel Superior (NS) ..................................................................... 63 \\nProcedimiento: Enviar Solicitud a Nivel Inferior (NI) ........................................................................ 63 \\nProcedimiento: Enviar Solicitud Informativa ..................................................................................... 64 \\n5.3 Acciones en Solicitudes ................................................................................................................. 65 \\nProcedimiento: Reprogramar Solicitud ............................................................................................ 65 \\nProcedimiento: Preparar Maniobras a Solicitud ............................................................................... 65 \\nProcedimiento: Desasociar Maniobras a Solicitud ........................................................................... 66 \\nProcedimiento: Autorizar Solicitud ................................................................................................... 67 \\nProcedimiento: No Autorizar Solicitud .............................................................................................. 68 \\nProcedimiento: Cancelar Solicitud ................................................................................................... 69 \\nProcedimiento: Restaurar Solicitud .................................................................................................. 69 \\nProcedimiento: Concesión de Licencia ............................................................................................ 70 \\n5.4 Consultas y Reporte de Solicitudes ................................................................................................ 71 \\nProcedimiento: Consultar Solicitudes .............................................................................................. 71 \\nProcedimiento: Reporte de Solicitudes ............................................................................................ 72 \\nProcedimiento: Actualizar Solicitudes Vigentes ............................................................................... 73 \\nProcedimiento: Vista preliminar ....................................................................................................... 74'),\n",
       " Document(id='a6bf3d4e-9386-4208-b324-ae06e6a51027', metadata={'producer': 'Microsoft® Word 2016', 'creator': 'Microsoft® Word 2016', 'creationdate': '2022-03-23T20:30:11-06:00', 'title': 'Estatuto de Trabajo', 'author': 'Ignacio Estrada', 'subject': 'Sistemas SCADA/EMS del CENACE', 'keywords': 'C_Confidential', 'moddate': '2022-03-23T20:30:11-06:00', 'source': '../datos/documentos\\\\SIE-DOC-REL-MAN_001_00 (2).pdf', 'total_pages': 118, 'page': 49, 'page_label': '50'}, page_content='Control de Cambios \\nFecha: 20/02/2021 \\nProyecto: Sistemas SCADA/EMS del CENACE \\nSIE-DOC-REL-MAN_001_00 \\n \\nConfidential \\nUpdated 28/02/2018  Versión: 0 Página 50 of  118 \\nAutor: Ignacio Estrada   Restricted © Siemens AG, 2018. All rights reserved.  \\n \\n \\n3.    Terminada la especificación de los horarios faltantes SIREL dará paso a la finalización del \\nproceso de Libranza. Así mismo SIREL activará automáticamente el  botón de Retirar licencia \\n \\nProcedimiento: Normalizar Maniobras  \\nPaso Actividad \\n1. Ir a la vista de Licencias (ver imagen 5) \\n2. Cuando una Maniobra no haya sido Normalizada completamente posterior al Retiro de la \\nLicencia (en el Modo 1), se deberá seleccionar desde el menú principal el botón Normalizar \\nManiobras. \\n \\nSIREL enviará ventana para especificar los horarios pendientes de las Maniobras:'),\n",
       " Document(id='72956f8e-efdf-4b0d-a71a-97b75a1163ac', metadata={'producer': 'Microsoft® Word 2016', 'creator': 'Microsoft® Word 2016', 'creationdate': '2022-03-23T20:30:11-06:00', 'title': 'Estatuto de Trabajo', 'author': 'Ignacio Estrada', 'subject': 'Sistemas SCADA/EMS del CENACE', 'keywords': 'C_Confidential', 'moddate': '2022-03-23T20:30:11-06:00', 'source': '../datos/documentos\\\\SIE-DOC-REL-MAN_001_00 (2).pdf', 'total_pages': 118, 'page': 46, 'page_label': '47'}, page_content='Control de Cambios \\nFecha: 20/02/2021 \\nProyecto: Sistemas SCADA/EMS del CENACE \\nSIE-DOC-REL-MAN_001_00 \\n \\nConfidential \\nUpdated 28/02/2018  Versión: 0 Página 47 of  118 \\nAutor: Ignacio Estrada   Restricted © Siemens AG, 2018. All rights reserved.  \\n \\nProcedimiento: Prorrogar Licencia  \\nEsta función aplica a todas las Licencias programadas y/o de emergencia de acuerdo a la \\nconfiguración correspondiente. \\n  \\nPaso Actividad \\n1. Ir a la vista de Licencias ver imagen 5) \\n2. Desde la vista de Licencias, seleccione la Licencia a prorrogar y seleccione el botón \\nProrrogar o con botón secundario del mouse sobre la licencia seleccionada la opción \\nProrrogar \\n \\nSIREL enviará ventana como la siguiente, para proporcionar los datos de la Prórroga.  \\n \\n3.    SIREL actualizará la lista de Licencias mostrando el estado Prorrogada de la Licencia y en la \\nvista de detalles de Prorroga se mostrarán los datos asociados  y también se creará evento en \\nRelatorio de acuerdo a la configuración correspondiente. \\n \\n4.3 Restaurar Licencias \\n \\nProcedimiento: Restaurar Licencia a Solicitud  \\nEsta función aplica sólo a Licencias de Solicitudes programadas y que no contienen maniobras  y \\nfueron concedidas en el mismo Relatorio. \\nPaso Actividad \\n1. Ir a la vista de Licencias (ver imagen 5) \\n2. Desde la vista de Licencias'),\n",
       " Document(id='956329cb-16eb-41ef-9db6-fb35afd34d63', metadata={'producer': 'Microsoft® Word 2016', 'creator': 'Microsoft® Word 2016', 'creationdate': '2022-03-23T20:30:11-06:00', 'title': 'Estatuto de Trabajo', 'author': 'Ignacio Estrada', 'subject': 'Sistemas SCADA/EMS del CENACE', 'keywords': 'C_Confidential', 'moddate': '2022-03-23T20:30:11-06:00', 'source': '../datos/documentos\\\\SIE-DOC-REL-MAN_001_00 (2).pdf', 'total_pages': 118, 'page': 60, 'page_label': '61'}, page_content='Control de Cambios \\nFecha: 20/02/2021 \\nProyecto: Sistemas SCADA/EMS del CENACE \\nSIE-DOC-REL-MAN_001_00 \\n \\nConfidential \\nUpdated 28/02/2018  Versión: 0 Página 61 of  118 \\nAutor: Ignacio Estrada   Restricted © Siemens AG, 2018. All rights reserved.  \\n \\nSIREL mostrará la ventana para agregar el mensaje, seleccione la opción de prioridad requerida,  \\ncomplete los datos y guarde el mensaje. \\n \\n3.    SIREL mostrará el mensaje asociado a la Solicitud en la sección de Mensajes de Texto en la \\nvista de detalles de la Solicitud. \\nObserve que el color del texto será en blanco y negro para quien envía el mensaje. Sin embargo, \\nen caso de recibirse un mensaje éste deberá ser mostrado en el color configurado en el catálogo \\ncorrespondiente y de acuerdo a la prioridad del mensaje. \\n \\n \\nProcedimiento: Ver detalle \\nPaso Actividad \\n1. Ir a la vista de Solicitudes (ver imagen 5) \\n2. Para proceder a la visualización detallada de la solicitud, seleccione y dé click en el botón  \\nVer detalle  \\n \\nSe muestra en la parte media inferior de la cuadrícula, los detalles de la solicitud seleccionada.'),\n",
       " Document(id='90aea11c-20a5-4da2-9543-b4b3eb38ffa6', metadata={'producer': 'Microsoft® Word 2016', 'creator': 'Microsoft® Word 2016', 'creationdate': '2022-03-23T20:30:11-06:00', 'title': 'Estatuto de Trabajo', 'author': 'Ignacio Estrada', 'subject': 'Sistemas SCADA/EMS del CENACE', 'keywords': 'C_Confidential', 'moddate': '2022-03-23T20:30:11-06:00', 'source': '../datos/documentos\\\\SIE-DOC-REL-MAN_001_00 (2).pdf', 'total_pages': 118, 'page': 73, 'page_label': '74'}, page_content='Control de Cambios \\nFecha: 20/02/2021 \\nProyecto: Sistemas SCADA/EMS del CENACE \\nSIE-DOC-REL-MAN_001_00 \\n \\nConfidential \\nUpdated 28/02/2018  Versión: 0 Página 74 of  118 \\nAutor: Ignacio Estrada   Restricted © Siemens AG, 2018. All rights reserved.  \\n \\n \\n3.    SIREL envía mensaje de confirmación en el área de mensajes del usuario. \\nProcedimiento: Vista preliminar  \\nPaso Actividad \\n1. Ir a la vista de Solicitudes (ver imagen 5) \\n2. Para obtener una vista preliminar, seleccione desde la barra principal de Solicitudes el \\nbotón  Vista preliminar \\n \\nSIREL mostrará una ventana conteniendo las Solicitudes  en una vista preliminar en formato PDF. \\nDesde la vista preliminar se podrán exportar las Solicitudes en diferentes formatos de archivo. \\n \\n3.    Para continuar, cierre la ventana seleccionando botón Cerrar en el menú principal de la vista \\npreliminar. \\n \\n5.5 Crear RMV \\nEsta función permite crear un Registro de Monitoreo de Variable (RMV)..'),\n",
       " Document(id='71a1826f-1dd0-49f7-acdb-9932b04a83ff', metadata={'producer': 'Microsoft® Word 2016', 'creator': 'Microsoft® Word 2016', 'creationdate': '2022-03-23T20:32:20-06:00', 'title': 'Estatuto de Trabajo', 'author': 'Ignacio Estrada', 'subject': 'Sistemas SCADA/EMS del CENACE', 'keywords': 'C_Confidential', 'moddate': '2022-03-23T20:32:20-06:00', 'source': '../datos/documentos\\\\SIE-DOC-REL-MAN_003_00 (1).pdf', 'total_pages': 33, 'page': 23, 'page_label': '24'}, page_content='Control de Cambios \\nFecha: 20/02/2021 \\nProyecto: Sistemas SCADA/EMS del CENACE \\nSIE-DOC-REL-MAN_003_00 \\n \\nConfidential \\nUpdated 28/02/2018  Versión: 0 Página 24 of  33 \\nAutor: Ignacio Estrada   Restricted © Siemens AG, 2018. All rights reserved.  \\n \\n3.3 Fincado de Solicitudes \\nEs prioritario mencionar que ésta funcionalidad depende de los privilegios del usuario, ya que si no \\nse tiene el privilegio de Supervisor la funcion no estará disponible. \\n \\nProcedimiento: Fincar Solicitud \\nPaso Actividad \\n1. Dentro de la sección de Licencias, dé un click en opción Fincar. \\n2. SIREL WEB presentará la página conteniendo el formulario para la captura de datos de una \\nnueva Solicitud.. \\n \\n \\nPara verificar los campos obligatorios Ud. puede dar click en botón Fincar Solicitud ubicado en la \\nparte final del formulario previo a la captura de los datos.')]"
      ]
     },
     "execution_count": 6,
     "metadata": {},
     "output_type": "execute_result"
    }
   ],
   "source": [
    "res['retrieved_documents']"
   ]
  },
  {
   "cell_type": "markdown",
   "metadata": {},
   "source": [
    "## RAG independiente"
   ]
  },
  {
   "cell_type": "markdown",
   "metadata": {},
   "source": [
    "como puedo poner todo eso en una libreta que sea rag.py? no sé si me explico, debe ser una clase que puedas cargar documentos, o si el path te manda a un lugar donde ya hay una vector data base, la cargue y puedas usar el asistente, me explico?"
   ]
  },
  {
   "cell_type": "code",
   "execution_count": 9,
   "metadata": {},
   "outputs": [
    {
     "name": "stdout",
     "output_type": "stream",
     "text": [
      "No se encontró el archivo de índice, creando nuevo índice.\n"
     ]
    }
   ],
   "source": [
    "import os\n",
    "from cenacellm.ollama.embedder import OllamaEmbedder\n",
    "from cenacellm.vectorstore import FAISSVectorStore\n",
    "from cenacellm.doccollection import DisjointCollection\n",
    "\n",
    "# 1. Inicializar componentes\n",
    "collection = DisjointCollection()\n",
    "embedder = OllamaEmbedder()\n",
    "vectorstore = FAISSVectorStore(\n",
    "    dim=embedder.dim(),\n",
    "    embeddings=embedder,\n",
    "    folder_path=\"../datos/vectorstore\",\n",
    ")\n",
    "\n",
    "# 2. Ruta a la carpeta de PDFs\n",
    "carpeta_pdfs = \"../datos/documentos\"\n",
    "\n",
    "# 3. Recorrer archivos PDF\n",
    "for archivo in os.listdir(carpeta_pdfs):\n",
    "    if archivo.endswith(\".pdf\"):\n",
    "        ruta_pdf = os.path.join(carpeta_pdfs, archivo)\n",
    "        \n",
    "        # 4. Cargar PDF con metadatos personalizados y colección\n",
    "        texto = collection.load_pdf(ruta_pdf, collection=\"documentos\")\n",
    "        \n",
    "        # 5. Obtener chunks del texto completo\n",
    "        chunks = collection.get_chunks(texto)\n",
    "        \n",
    "        # 6. Vectorizar y agregar a FAISS\n",
    "        for chunk in chunks:\n",
    "            vector = embedder.vectorize(chunk.content)\n",
    "            vectorstore.add_text(vector, chunk)  # Agrega al índice\n",
    "\n"
   ]
  },
  {
   "cell_type": "code",
   "execution_count": 10,
   "metadata": {},
   "outputs": [
    {
     "data": {
      "text/plain": [
       "Text(content='Confidential   \\n \\n \\nManual de Usuario del Administrador de Catálogos  \\n  \\n \\n \\n \\n \\n  \\n \\n \\n Autor  Ignacio Estrada  \\nCódigo  SIE-DOC -REL-MAN _002_00 \\nVersión  0 \\nFecha  06/05/2021 \\nProtección  Documento Confidencial', metadata=TextMetadata(source='../datos/documentos\\\\SIE-DOC-REL-MAN_002_00 (1).pdf', reference='23b56c7b-a7ee-4a99-8242-d0b760fa1154', collection='documentos', filename='SIE-DOC-REL-MAN_002_00 (1).pdf', total_pages=92, page_number=1, title='Estatuto de Trabajo', author='Ignacio Estrada', subject='Sistemas SCADA/EMS del CENACE', keywords='C_Confidential', creator='Microsoft® Word 2016', creationdate=\"D:20220323203105-06'00'\", moddate=\"D:20220323203105-06'00'\", producer='Microsoft® Word 2016'))"
      ]
     },
     "execution_count": 10,
     "metadata": {},
     "output_type": "execute_result"
    }
   ],
   "source": [
    "chunks[0]"
   ]
  },
  {
   "cell_type": "code",
   "execution_count": 11,
   "metadata": {},
   "outputs": [
    {
     "name": "stdout",
     "output_type": "stream",
     "text": [
      "Índice guardado en ../datos/vectorstore\\index.faiss\n",
      "Diccionario guardado en ../datos/vectorstore\\index.pkl\n"
     ]
    }
   ],
   "source": [
    "vectorstore.save_index()  # Guarda el FAISS index y text_dict\n"
   ]
  },
  {
   "cell_type": "code",
   "execution_count": 12,
   "metadata": {},
   "outputs": [
    {
     "data": {
      "text/plain": [
       "[Text(content='Confidential   \\n \\n \\nManual de Usuario del Administrador de Catálogos  \\n  \\n \\n \\n \\n \\n  \\n \\n \\n Autor  Ignacio Estrada  \\nCódigo  SIE-DOC -REL-MAN _002_00 \\nVersión  0 \\nFecha  06/05/2021 \\nProtección  Documento Confidencial', metadata=TextMetadata(source='../datos/documentos\\\\SIE-DOC-REL-MAN_002_00 (1).pdf', reference='23b56c7b-a7ee-4a99-8242-d0b760fa1154', collection='documentos', filename='SIE-DOC-REL-MAN_002_00 (1).pdf', total_pages=92, page_number=1, title='Estatuto de Trabajo', author='Ignacio Estrada', subject='Sistemas SCADA/EMS del CENACE', keywords='C_Confidential', creator='Microsoft® Word 2016', creationdate=\"D:20220323203105-06'00'\", moddate=\"D:20220323203105-06'00'\", producer='Microsoft® Word 2016')),\n",
       " Text(content='Control de Cambios  \\nFecha: 20/02/2021  Proyecto: Sistemas SCADA/EMS del CENACE  \\nSIE-DOC -REL-MAN _002_00 \\n \\nConfidential  \\nUpdated 28/02/2018  Versión: 0  Página 2 of  92 \\nAutor: Ignacio Estrada   Restricted © Siemens AG, 2018. All rights reserved.   \\n Historia de Revisión  \\nFecha  Version  Autor  Descripción de los Cambios  Secciones Afectadas  \\n06/05/2021 1.0 Ignacio \\nEstrada  Versión Inicial', metadata=TextMetadata(source='../datos/documentos\\\\SIE-DOC-REL-MAN_002_00 (1).pdf', reference='23b56c7b-a7ee-4a99-8242-d0b760fa1154', collection='documentos', filename='SIE-DOC-REL-MAN_002_00 (1).pdf', total_pages=92, page_number=2, title='Estatuto de Trabajo', author='Ignacio Estrada', subject='Sistemas SCADA/EMS del CENACE', keywords='C_Confidential', creator='Microsoft® Word 2016', creationdate=\"D:20220323203105-06'00'\", moddate=\"D:20220323203105-06'00'\", producer='Microsoft® Word 2016')),\n",
       " Text(content='Control de Cambios  \\nFecha: 20/02/2021  Proyecto: Sistemas SCADA/EMS del CENACE  \\nSIE-DOC -REL-MAN _002_00 \\n \\nConfidential  \\nUpdated 28/02/2018  Versión: 0  Página 3 of  92 \\nAutor: Ignacio Estrada   Restricted © Siemens AG, 2018. All rights reserved.   \\n Tabla de Contenidos  \\n1 Introducción  ................................ ................................ ................................ ...............................  7 \\n1.1 Descripción ................................ ................................ ................................ ................................ ....... 7 \\n1.2 Propósito  ................................ ................................ ................................ ................................ ..........  7 \\n1.3 Usuarios del  sistema  ................................ ................................ ................................ ........................  7 \\n1.4 Roles de Usuario  ................................ ................................ ................................ ..............................  7 \\n1.5 Aplicación Administrador de Catálogos  ................................ ................................ ............................  7 \\n1.6 Funciones generales  ................................ ................................ ................................ ........................  8', metadata=TextMetadata(source='../datos/documentos\\\\SIE-DOC-REL-MAN_002_00 (1).pdf', reference='23b56c7b-a7ee-4a99-8242-d0b760fa1154', collection='documentos', filename='SIE-DOC-REL-MAN_002_00 (1).pdf', total_pages=92, page_number=3, title='Estatuto de Trabajo', author='Ignacio Estrada', subject='Sistemas SCADA/EMS del CENACE', keywords='C_Confidential', creator='Microsoft® Word 2016', creationdate=\"D:20220323203105-06'00'\", moddate=\"D:20220323203105-06'00'\", producer='Microsoft® Word 2016')),\n",
       " Text(content='1.6 Funciones generales  ................................ ................................ ................................ ........................  8 \\n1.7 Niveles de Administración  ................................ ................................ ................................ ..............  11 \\n1.8 Interfaz de usuario del Administrador de Catálogos  ................................ ................................ ....... 12 \\n1.9 Categorías de Administradores de Catálogos  ................................ ................................ ................  12 \\n2 Mantenimiento de Catálogos  ................................ ................................ ................................ .. 13 \\n2.1 Catálogo Claves de Operación  ................................ ................................ ................................ ....... 13 \\nProcedimiento: Añadir Clave  ................................ ................................ ................................ ............  13 \\nProced imiento: Modificar Clave  ................................ ................................ ................................ ....... 14 \\nProcedimiento: Borrar  Clave  ................................ ................................ ................................ ...........  14 \\nProcedimiento: Habilitar/Deshabilitar  Clave  ................................ ................................ ....................  15', metadata=TextMetadata(source='../datos/documentos\\\\SIE-DOC-REL-MAN_002_00 (1).pdf', reference='23b56c7b-a7ee-4a99-8242-d0b760fa1154', collection='documentos', filename='SIE-DOC-REL-MAN_002_00 (1).pdf', total_pages=92, page_number=3, title='Estatuto de Trabajo', author='Ignacio Estrada', subject='Sistemas SCADA/EMS del CENACE', keywords='C_Confidential', creator='Microsoft® Word 2016', creationdate=\"D:20220323203105-06'00'\", moddate=\"D:20220323203105-06'00'\", producer='Microsoft® Word 2016')),\n",
       " Text(content='Procedimiento: Habilitar/Deshabilitar  Clave  ................................ ................................ ....................  15 \\n2.2 Catálogo Causas de Eventos  ................................ ................................ ................................ .........  16 \\nProcedimiento: Añadir Causa  ................................ ................................ ................................ ..........  16 \\nProcedimiento: Modificar Causa  ................................ ................................ ................................ ...... 16 \\nProcedimiento: Borrar  Causa  ................................ ................................ ................................ ..........  17 \\nProcedimiento: Habilitar/Deshabilitar  Causa  ................................ ................................ ...................  18 \\n2.3 Catálogo Tipos de Equipos  ................................ ................................ ................................ ............  18 \\nProcedimiento: Añadir Tipo de equipo  ................................ ................................ .............................  19 \\nProcedimiento: Modificar Tipo de equipo  ................................ ................................ .........................  19 \\nProcedimiento: Borrar  Tipo de equipo  ................................ ................................ ............................  20', metadata=TextMetadata(source='../datos/documentos\\\\SIE-DOC-REL-MAN_002_00 (1).pdf', reference='23b56c7b-a7ee-4a99-8242-d0b760fa1154', collection='documentos', filename='SIE-DOC-REL-MAN_002_00 (1).pdf', total_pages=92, page_number=3, title='Estatuto de Trabajo', author='Ignacio Estrada', subject='Sistemas SCADA/EMS del CENACE', keywords='C_Confidential', creator='Microsoft® Word 2016', creationdate=\"D:20220323203105-06'00'\", moddate=\"D:20220323203105-06'00'\", producer='Microsoft® Word 2016')),\n",
       " Text(content='Procedimiento: Borrar  Tipo de equipo  ................................ ................................ ............................  20 \\nProcedimiento: Habilitar/Deshabilitar  Tipo de equipo  ................................ ................................ ..... 20 \\n2.4 Catálogo Equipos  ................................ ................................ ................................ ...........................  21 \\nProcedimiento: Añadir Equipo  ................................ ................................ ................................ ..........  21 \\nProcedimiento: Modificar Equipo  ................................ ................................ ................................ ..... 22 \\nProcedimiento: Borrar  Equipo  ................................ ................................ ................................ .........  23 \\nProcedimiento: Actualizar Equipo desde el Spectrum  ................................ ................................ ..... 25 \\nProcedimiento: Consultar Equipo  ................................ ................................ ................................ ..... 25 \\nProcedimiento: Visualizar detalles de Equipo  ................................ ................................ ..................  26 \\nProcedimiento: Habilitar/Deshabilitar  Equipo  ................................ ................................ ..................  27', metadata=TextMetadata(source='../datos/documentos\\\\SIE-DOC-REL-MAN_002_00 (1).pdf', reference='23b56c7b-a7ee-4a99-8242-d0b760fa1154', collection='documentos', filename='SIE-DOC-REL-MAN_002_00 (1).pdf', total_pages=92, page_number=3, title='Estatuto de Trabajo', author='Ignacio Estrada', subject='Sistemas SCADA/EMS del CENACE', keywords='C_Confidential', creator='Microsoft® Word 2016', creationdate=\"D:20220323203105-06'00'\", moddate=\"D:20220323203105-06'00'\", producer='Microsoft® Word 2016')),\n",
       " Text(content='Procedimiento: Habilitar/Deshabilitar  Equipo  ................................ ................................ ..................  27 \\n2.5 Catálogo Usuarios Internos  ................................ ................................ ................................ ............  28 \\nProcedimiento: Añadir Usuario  ................................ ................................ ................................ ........  28 \\nProcedimiento: Modificar Usuario  ................................ ................................ ................................ .... 29 \\nProcedimiento: Cambiar Contraseña a Usuario  ................................ ................................ ...............  29 \\nProcedimiento: Dar de baja a Usuario  ................................ ................................ .............................  30 \\nProcedimiento: Habilitar/Deshabilitar  Usuario  ................................ ................................ .................  31 \\n2.6 Catálogo Categorías de Usuarios  ................................ ................................ ................................ .. 32 \\nProcedimiento: Añadir Categoría  ................................ ................................ ................................ ..... 32 \\nProcedimiento: Modificar Categoría  ................................ ................................ ................................ . 32', metadata=TextMetadata(source='../datos/documentos\\\\SIE-DOC-REL-MAN_002_00 (1).pdf', reference='23b56c7b-a7ee-4a99-8242-d0b760fa1154', collection='documentos', filename='SIE-DOC-REL-MAN_002_00 (1).pdf', total_pages=92, page_number=3, title='Estatuto de Trabajo', author='Ignacio Estrada', subject='Sistemas SCADA/EMS del CENACE', keywords='C_Confidential', creator='Microsoft® Word 2016', creationdate=\"D:20220323203105-06'00'\", moddate=\"D:20220323203105-06'00'\", producer='Microsoft® Word 2016')),\n",
       " Text(content='Procedimiento: Modificar Categoría  ................................ ................................ ................................ . 32 \\nProcedimiento: Habilitar/Deshabilitar  Categoría  ................................ ................................ .............  33 \\n2.7 Catálogo Operadores Jefes de Turno  ................................ ................................ ............................  34', metadata=TextMetadata(source='../datos/documentos\\\\SIE-DOC-REL-MAN_002_00 (1).pdf', reference='23b56c7b-a7ee-4a99-8242-d0b760fa1154', collection='documentos', filename='SIE-DOC-REL-MAN_002_00 (1).pdf', total_pages=92, page_number=3, title='Estatuto de Trabajo', author='Ignacio Estrada', subject='Sistemas SCADA/EMS del CENACE', keywords='C_Confidential', creator='Microsoft® Word 2016', creationdate=\"D:20220323203105-06'00'\", moddate=\"D:20220323203105-06'00'\", producer='Microsoft® Word 2016')),\n",
       " Text(content='Control de Cambios  \\nFecha: 20/02/2021  Proyecto: Sistemas SCADA/EMS del CENACE  \\nSIE-DOC -REL-MAN _002_00 \\n \\nConfidential  \\nUpdated 28/02/2018  Versión: 0  Página 4 of  92 \\nAutor: Ignacio Estrada   Restricted © Siemens AG, 2018. All rights reserved.   \\n Procedimiento: Añadir Operador Jefe de Turno  ................................ ................................ ...............  34 \\nProcedimiento: Dar de baja Operador Jefe de Turno  ................................ ................................ ...... 34 \\nProcedimiento: Habilitar/Deshabilitar  Operador Jefe de Turno  ................................ .......................  35 \\n2.8 Catálogo Operadores Jornada Nocturna  ................................ ................................ ........................  36 \\nProcedimiento: Añadir Operadores Jornada Nocturna  ................................ ................................ .... 36 \\nProcedimiento: Dar de baja Operadores Jornada Nocturna  ................................ ............................  36 \\nProcedimiento: Hab ilitar/Deshabilitar  Operadores Jornada Nocturna  ................................ .............  37 \\n2.9 Catálogo Supervisores de Eventos y Licencias  ................................ ................................ ..............  38 \\nProcedimiento: Añadir Supervisor  ................................ ................................ ................................ .... 38', metadata=TextMetadata(source='../datos/documentos\\\\SIE-DOC-REL-MAN_002_00 (1).pdf', reference='23b56c7b-a7ee-4a99-8242-d0b760fa1154', collection='documentos', filename='SIE-DOC-REL-MAN_002_00 (1).pdf', total_pages=92, page_number=4, title='Estatuto de Trabajo', author='Ignacio Estrada', subject='Sistemas SCADA/EMS del CENACE', keywords='C_Confidential', creator='Microsoft® Word 2016', creationdate=\"D:20220323203105-06'00'\", moddate=\"D:20220323203105-06'00'\", producer='Microsoft® Word 2016')),\n",
       " Text(content='Procedimiento: Añadir Supervisor  ................................ ................................ ................................ .... 38 \\nProcedimiento: Dar de baja Supervisor  ................................ ................................ ...........................  38 \\nProcedimiento: Habilitar/Deshabilitar  Supervisor  ................................ ................................ ............  39 \\n2.10 Catálogo Relevadores  ................................ ................................ ................................ ....................  40 \\nProcedimiento: Añadir Relevador  ................................ ................................ ................................ .... 40 \\nProcedimiento: Dar de baja Relevador  ................................ ................................ ............................  40 \\n2.11 Catálogo Claves  Operativas Inversas  ................................ ................................ ............................  41 \\nProcedimiento: Añadir Clave Operativa Inversa  ................................ ................................ ..............  41 \\nProcedimiento: Modificar Clave Operativa Inversa  ................................ ................................ ..........  42 \\nProcedimiento: Borrar  Clave Operativa Inversa  ................................ ................................ ..............  42', metadata=TextMetadata(source='../datos/documentos\\\\SIE-DOC-REL-MAN_002_00 (1).pdf', reference='23b56c7b-a7ee-4a99-8242-d0b760fa1154', collection='documentos', filename='SIE-DOC-REL-MAN_002_00 (1).pdf', total_pages=92, page_number=4, title='Estatuto de Trabajo', author='Ignacio Estrada', subject='Sistemas SCADA/EMS del CENACE', keywords='C_Confidential', creator='Microsoft® Word 2016', creationdate=\"D:20220323203105-06'00'\", moddate=\"D:20220323203105-06'00'\", producer='Microsoft® Word 2016')),\n",
       " Text(content='Procedimiento: Borrar  Clave Operativa Inversa  ................................ ................................ ..............  42 \\n2.12 Catálogo Enviar por default a Eventos  ................................ ................................ ...........................  43 \\nProcedimiento: Añadir Registro  ................................ ................................ ................................ ....... 43 \\nProcedimiento: Borrar  Registro  ................................ ................................ ................................ ....... 44 \\n2.13 Catálogo Parámetros Globales  ................................ ................................ ................................ ...... 45 \\nProcedimiento: Modificar Parámetros Globales  ................................ ................................ ...............  45 \\n2.14 Catálogo Parámetros Locales  ................................ ................................ ................................ ........  53 \\nProcedimiento: Modificar Parámetros Locales  ................................ ................................ .................  53 \\n2.15 Catálogo Administradores de Catálogos  ................................ ................................ ........................  66 \\nProcedimiento: Añadir Administrador  ................................ ................................ ...............................  66', metadata=TextMetadata(source='../datos/documentos\\\\SIE-DOC-REL-MAN_002_00 (1).pdf', reference='23b56c7b-a7ee-4a99-8242-d0b760fa1154', collection='documentos', filename='SIE-DOC-REL-MAN_002_00 (1).pdf', total_pages=92, page_number=4, title='Estatuto de Trabajo', author='Ignacio Estrada', subject='Sistemas SCADA/EMS del CENACE', keywords='C_Confidential', creator='Microsoft® Word 2016', creationdate=\"D:20220323203105-06'00'\", moddate=\"D:20220323203105-06'00'\", producer='Microsoft® Word 2016')),\n",
       " Text(content='Procedimiento: Añadir Administrador  ................................ ................................ ...............................  66 \\nProcedimiento: Modificar Administrador  ................................ ................................ ..........................  66 \\nProcedimiento: Dar de baja un Administrador  ................................ ................................ ..................  67 \\nProcedimiento: Habilitar/Deshabilitar  Administrador  ................................ ................................ ....... 68 \\n2.16 Catálogo Personal Autorizado para Licencias  ................................ ................................ ................  69 \\nProcedimiento: Añadir Usuario  ................................ ................................ ................................ ........  69 \\nProcedimiento: Modificar Usuario  ................................ ................................ ................................ .... 70 \\nProcedimiento: Cambiar Contraseña a Usuario  ................................ ................................ ...............  71 \\nProcedimiento: Habilitar/Deshabilitar  Usuario  ................................ ................................ .................  72 \\n2.17 Catálogo Coloreo de Solicitudes  ................................ ................................ ................................ .... 72', metadata=TextMetadata(source='../datos/documentos\\\\SIE-DOC-REL-MAN_002_00 (1).pdf', reference='23b56c7b-a7ee-4a99-8242-d0b760fa1154', collection='documentos', filename='SIE-DOC-REL-MAN_002_00 (1).pdf', total_pages=92, page_number=4, title='Estatuto de Trabajo', author='Ignacio Estrada', subject='Sistemas SCADA/EMS del CENACE', keywords='C_Confidential', creator='Microsoft® Word 2016', creationdate=\"D:20220323203105-06'00'\", moddate=\"D:20220323203105-06'00'\", producer='Microsoft® Word 2016')),\n",
       " Text(content='2.17 Catálogo Coloreo de Solicitudes  ................................ ................................ ................................ .... 72 \\nProcedimiento: Modificar Coloreo  ................................ ................................ ................................ .... 72 \\n2.18 Catálogo Coloreo de Licencias  ................................ ................................ ................................ ....... 73 \\nProcedimiento: Modificar Coloreo  ................................ ................................ ................................ .... 73 \\n2.19 Catálogo Coloreo de Maniobras  ................................ ................................ ................................ ..... 74 \\nProcedimiento: Modificar Coloreo  ................................ ................................ ................................ .... 74 \\n2.20 Catálogo Coloreo de Eventos del Relatorio  ................................ ................................ ...................  74 \\nProcedimiento: Modificar Coloreo  ................................ ................................ ................................ .... 74 \\n2.21 Catálogo Coloreo de Mensajes en Solicitudes  ................................ ................................ ...............  75 \\nProcedimiento: Modificar Coloreo  ................................ ................................ ................................ .... 75', metadata=TextMetadata(source='../datos/documentos\\\\SIE-DOC-REL-MAN_002_00 (1).pdf', reference='23b56c7b-a7ee-4a99-8242-d0b760fa1154', collection='documentos', filename='SIE-DOC-REL-MAN_002_00 (1).pdf', total_pages=92, page_number=4, title='Estatuto de Trabajo', author='Ignacio Estrada', subject='Sistemas SCADA/EMS del CENACE', keywords='C_Confidential', creator='Microsoft® Word 2016', creationdate=\"D:20220323203105-06'00'\", moddate=\"D:20220323203105-06'00'\", producer='Microsoft® Word 2016')),\n",
       " Text(content='Procedimiento: Modificar Coloreo  ................................ ................................ ................................ .... 75 \\n2.22 Catálogo Compañias de Mercado Eléctrico  ................................ ................................ ...................  76 \\nProcedimiento: Añadir Compañia  ................................ ................................ ................................ .... 76', metadata=TextMetadata(source='../datos/documentos\\\\SIE-DOC-REL-MAN_002_00 (1).pdf', reference='23b56c7b-a7ee-4a99-8242-d0b760fa1154', collection='documentos', filename='SIE-DOC-REL-MAN_002_00 (1).pdf', total_pages=92, page_number=4, title='Estatuto de Trabajo', author='Ignacio Estrada', subject='Sistemas SCADA/EMS del CENACE', keywords='C_Confidential', creator='Microsoft® Word 2016', creationdate=\"D:20220323203105-06'00'\", moddate=\"D:20220323203105-06'00'\", producer='Microsoft® Word 2016')),\n",
       " Text(content='Control de Cambios  \\nFecha: 20/02/2021  Proyecto: Sistemas SCADA/EMS del CENACE  \\nSIE-DOC -REL-MAN _002_00 \\n \\nConfidential  \\nUpdated 28/02/2018  Versión: 0  Página 5 of  92 \\nAutor: Ignacio Estrada   Restricted © Siemens AG, 2018. All rights reserved.   \\n Procedimiento: Modificar Compañia  ................................ ................................ ................................  77 \\nProcedimiento: Habilitar/Deshabilitar  Compañia  ................................ ................................ .............  77 \\n2.23 Catálogo Subprocesos de Energía  ................................ ................................ ................................ . 78 \\nProcedimiento: Añadir Subproceso  ................................ ................................ ................................ .. 79 \\nProcedimiento: Modificar Proceso  ................................ ................................ ................................ ... 79 \\nProcedimiento: Habilitar/Deshabilitar  Subproceso  ................................ ................................ ..........  80 \\n2.24 Catálogo Centros de Control Internos  ................................ ................................ ............................  80 \\nProcedimiento: Habilitar/Deshabilitar  Centro de Control  ................................ ................................ . 80 \\n2.25 Catálogo Reglas de Programación de Licencias  ................................ ................................ ............  81', metadata=TextMetadata(source='../datos/documentos\\\\SIE-DOC-REL-MAN_002_00 (1).pdf', reference='23b56c7b-a7ee-4a99-8242-d0b760fa1154', collection='documentos', filename='SIE-DOC-REL-MAN_002_00 (1).pdf', total_pages=92, page_number=5, title='Estatuto de Trabajo', author='Ignacio Estrada', subject='Sistemas SCADA/EMS del CENACE', keywords='C_Confidential', creator='Microsoft® Word 2016', creationdate=\"D:20220323203105-06'00'\", moddate=\"D:20220323203105-06'00'\", producer='Microsoft® Word 2016')),\n",
       " Text(content='2.25 Catálogo Reglas de Programación de Licencias  ................................ ................................ ............  81 \\nProcedimiento: Modificar Regla de Programación  ................................ ................................ ...........  81 \\n2.26 Catálogo Envío de Correos en Solicitudes  ................................ ................................ .....................  82 \\nProcedimiento: Añadir Regla de Correo  ................................ ................................ ..........................  82 \\nProcedimiento: Dar de baja Regla de Correo  ................................ ................................ ..................  83 \\nProcedimiento: Habilitar/Deshabilitar  Regla de Envío  ................................ ................................ ..... 84 \\n2.27 Catálogo Cuentas de Correo para Copiar a  ................................ ................................ ...................  84 \\nProcedimiento: Añadir Cuenta de Correo  ................................ ................................ ........................  85 \\nProcedimiento: Editar Cuenta de Correo  ................................ ................................ .........................  85 \\nProcedimiento: Dar de baja Cuenta de Correo  ................................ ................................ ................  86 \\nProcedimiento: Habilitar/Deshabilitar  Cuenta de Correo  ................................ ................................ . 86', metadata=TextMetadata(source='../datos/documentos\\\\SIE-DOC-REL-MAN_002_00 (1).pdf', reference='23b56c7b-a7ee-4a99-8242-d0b760fa1154', collection='documentos', filename='SIE-DOC-REL-MAN_002_00 (1).pdf', total_pages=92, page_number=5, title='Estatuto de Trabajo', author='Ignacio Estrada', subject='Sistemas SCADA/EMS del CENACE', keywords='C_Confidential', creator='Microsoft® Word 2016', creationdate=\"D:20220323203105-06'00'\", moddate=\"D:20220323203105-06'00'\", producer='Microsoft® Word 2016')),\n",
       " Text(content='Procedimiento: Habilitar/Deshabilitar  Cuenta de Correo  ................................ ................................ . 86 \\n2.28 Catálogo Códigos de Operación y Causas  ................................ ................................ ....................  87 \\nProcedimiento: Añadir registro  ................................ ................................ ................................ .........  87 \\nProcedimiento: Dar de baja registro  ................................ ................................ ................................ . 88 \\nProcedimiento: Habilitar/Deshabilitar  registro  ................................ ................................ .................  89 \\n2.29 Catálogo RMV Configuración de Umbrales  ................................ ................................ ....................  89 \\nProcedimiento: Modificar Umbral  ................................ ................................ ................................ ..... 89 \\n2.30 Catálogo Listas de Verificación Inicio de Turno  ................................ ................................ ..............  90 \\nProcedimiento: Añadir Lista  ................................ ................................ ................................ .............  90 \\nProcedimiento: Editar Lista de Verificación  ................................ ................................ ......................  91', metadata=TextMetadata(source='../datos/documentos\\\\SIE-DOC-REL-MAN_002_00 (1).pdf', reference='23b56c7b-a7ee-4a99-8242-d0b760fa1154', collection='documentos', filename='SIE-DOC-REL-MAN_002_00 (1).pdf', total_pages=92, page_number=5, title='Estatuto de Trabajo', author='Ignacio Estrada', subject='Sistemas SCADA/EMS del CENACE', keywords='C_Confidential', creator='Microsoft® Word 2016', creationdate=\"D:20220323203105-06'00'\", moddate=\"D:20220323203105-06'00'\", producer='Microsoft® Word 2016')),\n",
       " Text(content='Procedimiento: Editar Lista de Verificación  ................................ ................................ ......................  91 \\nProcedimiento: Habilitar/Deshabilitar  Lista de Verificación  ................................ .............................  92', metadata=TextMetadata(source='../datos/documentos\\\\SIE-DOC-REL-MAN_002_00 (1).pdf', reference='23b56c7b-a7ee-4a99-8242-d0b760fa1154', collection='documentos', filename='SIE-DOC-REL-MAN_002_00 (1).pdf', total_pages=92, page_number=5, title='Estatuto de Trabajo', author='Ignacio Estrada', subject='Sistemas SCADA/EMS del CENACE', keywords='C_Confidential', creator='Microsoft® Word 2016', creationdate=\"D:20220323203105-06'00'\", moddate=\"D:20220323203105-06'00'\", producer='Microsoft® Word 2016')),\n",
       " Text(content='Control de Cambios  \\nFecha: 20/02/2021  Proyecto: Sistemas SCADA/EMS del CENACE  \\nSIE-DOC -REL-MAN _002_00 \\n \\nConfidential  \\nUpdated 28/02/2018  Versión: 0  Página 6 of  92 \\nAutor: Ignacio Estrada   Restricted © Siemens AG, 2018. All rights reserved.   \\n i Referencias  \\nDocumento de Arquitectura del Sistema SIREL.  \\nDocumento de Diseño y Arquitectura de Base de Datos  \\nDocumento de Mantenimiento del sistema SIREL  \\nDocumento Man ual de Usuario s del SIREL  \\n \\nii Glosario de Nuevos Términos y Abreviaturas  \\nNuevos términos y / o abreviaturas asociadas con este proyecto en orden alfabético.  \\nTermino y/o \\nabreviatura  Definición  \\nSIREL  Sistema de Información de Relatorio, Eventos y Licencias  \\nOPJT  Operador Jefe de Turno  \\nSOJN  Operador Supervisor Operativo Jornada Nocturna  \\nUI Interfaz de usuario (por sus siglas en inglés - User Interface)  \\nOTS Ambiente del Simulador (por sus siglas en inglés – Operator Trainning Simulator)  \\nWSSM  Servicio de Windows para la Supervisión y Monitoreo del estado de Solicitudes y \\nLicencias  \\nWSSC  Servicio de Windows para el control de la ejecución del servicio WSSM  \\nAPI Interfaz de Programación de Aplicaciones (por sus siglas en inglés – Application \\nProgramming Interface)  \\nAmbiente  Es el área de trabajo donde operan las aplicaciones, puede ser Producc ión u OTS  \\nPrimario  Sistema o componente que realiza las funciones actualmente  \\nAlterno  Sistema o componente en modo espera (stand -by)  \\nReal time  Sistema operando en tiempo real', metadata=TextMetadata(source='../datos/documentos\\\\SIE-DOC-REL-MAN_002_00 (1).pdf', reference='23b56c7b-a7ee-4a99-8242-d0b760fa1154', collection='documentos', filename='SIE-DOC-REL-MAN_002_00 (1).pdf', total_pages=92, page_number=6, title='Estatuto de Trabajo', author='Ignacio Estrada', subject='Sistemas SCADA/EMS del CENACE', keywords='C_Confidential', creator='Microsoft® Word 2016', creationdate=\"D:20220323203105-06'00'\", moddate=\"D:20220323203105-06'00'\", producer='Microsoft® Word 2016')),\n",
       " Text(content='Primario  Sistema o componente que realiza las funciones actualmente  \\nAlterno  Sistema o componente en modo espera (stand -by)  \\nReal time  Sistema operando en tiempo real  \\nDMZ  Zona desmilitarizada (por sus siglas en inglés – Demilitarized Zone)  \\nSP7 Sistema Spectrum SCADA/EMS SIEMENS  \\nSP Procedimientos almacenados de base de datos (pos sus siglas en inglés – Stored \\nProcedures)  \\nSSH Protocolo de Conectividad Segura (por sus siglas en inglés - Secure Shell)  \\nADM  Servidor de Administración de bases de datos del sistema SP7  \\nQAS  Sistema de Calidad (por sus siglas en inglés – Quality Assurance System)  \\nConsola SP7  Equipo de cómputo destinado al uso del sistema SCADA/EMS  \\nClick  Acción del ratón (o mouse) que se reaiza al presionar cualquier botón  \\nMenú \\ncontextual  Es un menú que se obtiene via el botón secundario del mouse colocado sobre un ícono \\nu opción  y haciendo click para elegir otras opciones  \\nADC  Acrónimo de aplicación Administración de Catálogos', metadata=TextMetadata(source='../datos/documentos\\\\SIE-DOC-REL-MAN_002_00 (1).pdf', reference='23b56c7b-a7ee-4a99-8242-d0b760fa1154', collection='documentos', filename='SIE-DOC-REL-MAN_002_00 (1).pdf', total_pages=92, page_number=6, title='Estatuto de Trabajo', author='Ignacio Estrada', subject='Sistemas SCADA/EMS del CENACE', keywords='C_Confidential', creator='Microsoft® Word 2016', creationdate=\"D:20220323203105-06'00'\", moddate=\"D:20220323203105-06'00'\", producer='Microsoft® Word 2016')),\n",
       " Text(content='Control de Cambios  \\nFecha: 20/02/2021  Proyecto: Sistemas SCADA/EMS del CENACE  \\nSIE-DOC -REL-MAN _002_00 \\n \\nConfidential  \\nUpdated 28/02/2018  Versión: 0  Página 7 of  92 \\nAutor: Ignacio Estrada   Restricted © Siemens AG, 2018. All rights reserved.   \\n 1 Introducción  \\n \\n1.1 Descripción  \\nEste documento es una guía para todos los usuarios que requieren el uso de la aplicación de   \\nAdministración de Catálogos del  SIREL.    \\n \\n1.2 Propósito  \\nDescribir los procedimientos  y actividades  para realizar las funciones requeridas en la aplicación de \\nAdministración de Catálogos del SIREL . \\n \\n1.3 Usuarios del sistema   \\nLos usuarios del sistema son todos aquellos que requieren ingresar de acuerdo a sus necesidades \\nfuncionales en los procesos cubiertos por el sistema.  \\n \\n1.4 Roles de Usuario  \\nLos roles de usuario permiten designar las funciones a  las que los usuarios tendrán acceso. La \\nsiguiente tabla describe dichos roles.  \\n \\nRol Descripción  \\nAdministrador \\nGlobal  Rol que tiene los privilegios para realizar la administración de Catálogos \\ntanto globales a nivel del Sistema como locales en el ámbito de cada \\nCentro de Control . \\nAdministrador Local  Rol que tiene los privilegios para realizar la administración de Catálogos \\nlocales en el ámbito de cada Centro de Control . \\nTabla 1: Roles de Usuario  \\nNota : Un usuario del sistema podrá tener uno o más roles asignados.  \\n \\n1.5 Aplicación Administrador de Catálogos', metadata=TextMetadata(source='../datos/documentos\\\\SIE-DOC-REL-MAN_002_00 (1).pdf', reference='23b56c7b-a7ee-4a99-8242-d0b760fa1154', collection='documentos', filename='SIE-DOC-REL-MAN_002_00 (1).pdf', total_pages=92, page_number=7, title='Estatuto de Trabajo', author='Ignacio Estrada', subject='Sistemas SCADA/EMS del CENACE', keywords='C_Confidential', creator='Microsoft® Word 2016', creationdate=\"D:20220323203105-06'00'\", moddate=\"D:20220323203105-06'00'\", producer='Microsoft® Word 2016')),\n",
       " Text(content='locales en el ámbito de cada Centro de Control . \\nTabla 1: Roles de Usuario  \\nNota : Un usuario del sistema podrá tener uno o más roles asignados.  \\n \\n1.5 Aplicación Administrador de Catálogos  \\nAdministrador de Catálogos  es una aplicación que funciona en el ambiente de Windows y reside en \\ncada consola de usuario del sistema SP7.  Su acceso está disponible via  un ícono en el escritorio \\nde Windows de la consola , similar al siguiente . \\n Fig. 1. Í cono de la aplicación Administrador de Catálogos  en el escritorio de \\nWindows  \\nSu apertura se completa dando un doble click con botón izquierdo sobre el icono o seleccionando \\nopción A brir desde el menú  contextual con el botón derecho del mouse.  \\n \\nAl abrir la aplicación se presentará la ventana de acceso al sistema:', metadata=TextMetadata(source='../datos/documentos\\\\SIE-DOC-REL-MAN_002_00 (1).pdf', reference='23b56c7b-a7ee-4a99-8242-d0b760fa1154', collection='documentos', filename='SIE-DOC-REL-MAN_002_00 (1).pdf', total_pages=92, page_number=7, title='Estatuto de Trabajo', author='Ignacio Estrada', subject='Sistemas SCADA/EMS del CENACE', keywords='C_Confidential', creator='Microsoft® Word 2016', creationdate=\"D:20220323203105-06'00'\", moddate=\"D:20220323203105-06'00'\", producer='Microsoft® Word 2016')),\n",
       " Text(content='Control de Cambios  \\nFecha: 20/02/2021  Proyecto: Sistemas SCADA/EMS del CENACE  \\nSIE-DOC -REL-MAN _002_00 \\n \\nConfidential  \\nUpdated 28/02/2018  Versión: 0  Página 8 of  92 \\nAutor: Ignacio Estrada   Restricted © Siemens AG, 2018. All rights reserved.   \\n  Fig. 2. Ventana de acceso a la aplicación  de \\nAdministración de Catálogos del SIREL  \\nNota:  La fig. 2 que muestra la ventana de acceso al sistema es ilustrativa ya que el t ítulo puede cambiar  \\nde acuerdo al Centro de Control y versión de la aplicación.  Esto aplicará en adelante para todas las \\nimágenes que i ncluyan el título de la aplicación.  \\n \\nUna vez que se proporcionan las credenciale s de acceso, la aplicación de Administración de \\nCatálogos  permitirá el acceso mostrando la ventana principal . \\n \\n1.6 Funciones generales  \\nLas funcionalidades en la aplicación están referidas a las acciones que se podrán aplicar \\ndependiendo del Catálogo de acuerdo a la tabla 1 y 2:  \\n \\n \\nTabla 1. Funciones de Mantenimiento  en Catálogos Globales', metadata=TextMetadata(source='../datos/documentos\\\\SIE-DOC-REL-MAN_002_00 (1).pdf', reference='23b56c7b-a7ee-4a99-8242-d0b760fa1154', collection='documentos', filename='SIE-DOC-REL-MAN_002_00 (1).pdf', total_pages=92, page_number=8, title='Estatuto de Trabajo', author='Ignacio Estrada', subject='Sistemas SCADA/EMS del CENACE', keywords='C_Confidential', creator='Microsoft® Word 2016', creationdate=\"D:20220323203105-06'00'\", moddate=\"D:20220323203105-06'00'\", producer='Microsoft® Word 2016')),\n",
       " Text(content='Control de Cambios  \\nFecha: 20/02/2021  Proyecto: Sistemas SCADA/EMS del CENACE  \\nSIE-DOC -REL-MAN _002_00 \\n \\nConfidential  \\nUpdated 28/02/2018  Versión: 0  Página 9 of  92 \\nAutor: Ignacio Estrada   Restricted © Siemens AG, 2018. All rights reserved.   \\n  \\nTabla 2. Funciones de Mantenimiento  en Catálogos Locales  \\n \\nTeclas de Atajo . \\nLa siguiente tabla  indica la función asignada a las teclas del teclado para acceder de manerá rápida \\na las funciones asociadas .  \\n \\nTecla de \\nAtajo  Función  \\nF2 Insertar nuevo registro  \\nF3 Abre renglón de búsqueda de texto en la cuadrícula activa  \\nF4 Editar registro  \\nF6 Copiar registro  \\nDel Borrar registro  \\nF9 Actualizar lista de registros  \\nF12 Guardar registro  \\nTabla 3. Asignación de Funciones a Teclas de Atajo  \\n \\nMenús contextuales . \\nLa activación de los menús contextuales  o emergentes  para cada sección se realiza haciendo un \\nclick con botón secundario del ratón sobre un renglón de cada cuadrícula. De ésta manera se tendrá \\nel despliegue de opciones que se pueden realizar sobre el renglón seleccionado.  \\n \\nManejo de Columnas en  Cuadrículas . \\nCada cuadrícula tiene la capacidad de disponer o agregar columnas, así como organizarlas de \\nmanera específica al reubicarlas de posición . \\nPara mover una columna de posición : dé click en el encabezado y manteniendo presionado botón \\nizquierdo del mouse ‘arrastre’ la columna a la posición deseada .', metadata=TextMetadata(source='../datos/documentos\\\\SIE-DOC-REL-MAN_002_00 (1).pdf', reference='23b56c7b-a7ee-4a99-8242-d0b760fa1154', collection='documentos', filename='SIE-DOC-REL-MAN_002_00 (1).pdf', total_pages=92, page_number=9, title='Estatuto de Trabajo', author='Ignacio Estrada', subject='Sistemas SCADA/EMS del CENACE', keywords='C_Confidential', creator='Microsoft® Word 2016', creationdate=\"D:20220323203105-06'00'\", moddate=\"D:20220323203105-06'00'\", producer='Microsoft® Word 2016')),\n",
       " Text(content='Para mover una columna de posición : dé click en el encabezado y manteniendo presionado botón \\nizquierdo del mouse ‘arrastre’ la columna a la posición deseada . \\nRemover una columna : Dé click en el encabezado y arrastre hacia abajo y suelte el botón, la columna \\nserá retirada de la cuadrícula.', metadata=TextMetadata(source='../datos/documentos\\\\SIE-DOC-REL-MAN_002_00 (1).pdf', reference='23b56c7b-a7ee-4a99-8242-d0b760fa1154', collection='documentos', filename='SIE-DOC-REL-MAN_002_00 (1).pdf', total_pages=92, page_number=9, title='Estatuto de Trabajo', author='Ignacio Estrada', subject='Sistemas SCADA/EMS del CENACE', keywords='C_Confidential', creator='Microsoft® Word 2016', creationdate=\"D:20220323203105-06'00'\", moddate=\"D:20220323203105-06'00'\", producer='Microsoft® Word 2016')),\n",
       " Text(content='Control de Cambios  \\nFecha: 20/02/2021  Proyecto: Sistemas SCADA/EMS del CENACE  \\nSIE-DOC -REL-MAN _002_00 \\n \\nConfidential  \\nUpdated 28/02/2018  Versión: 0  Página 10 of  92 \\nAutor: Ignacio Estrada   Restricted © Siemens AG, 2018. All rights reserved.   \\n Agregar una columna : Posicione el apuntador del mouse en el encabezado de cualquier columna, \\nse mostrará un menú de contex to similar al siguiente:  \\n \\n Seleccione  la columna dando click en el encabezado y arrastre hacia \\nabajo y suelte el botón, la columna será retirada de la cuadrícula.  \\nEnseguida seleccione la opción “Selector de Columnas”.  En seguida se \\nmostrará  un segundo  menú similar a:  \\n \\nDonde podrá seleccionar la Columna requerida y ‘arrastrarla’ a la \\ncuadrícula en la posición requerida . \\nObserve que el menú contextual permite diversas funciones aplicables a la cuadrícula.  \\n \\nVisualización de detalle  \\nEsta característica sólo esta definida para el catálogo de Equipos, donde se  tiene un botón que \\npermite la visualización de  un  archivo asociado a un Equipo . \\n \\nExportación . \\nLa barra de menú principal contiene la función de Exportación y aplica  para  todos los Catálogos. . \\n \\nCierre de Sesión  \\nLa función de cierre de sesión está disponible para todos los Catálogos  con el mismo objetivo, cerrar \\nla sesión o la aplicación.   \\n \\nConsideraciones para los procedimientos  \\nEn adelante y con el f in de generalizar el uso o aplicación de las funciones disponibles en el', metadata=TextMetadata(source='../datos/documentos\\\\SIE-DOC-REL-MAN_002_00 (1).pdf', reference='23b56c7b-a7ee-4a99-8242-d0b760fa1154', collection='documentos', filename='SIE-DOC-REL-MAN_002_00 (1).pdf', total_pages=92, page_number=10, title='Estatuto de Trabajo', author='Ignacio Estrada', subject='Sistemas SCADA/EMS del CENACE', keywords='C_Confidential', creator='Microsoft® Word 2016', creationdate=\"D:20220323203105-06'00'\", moddate=\"D:20220323203105-06'00'\", producer='Microsoft® Word 2016')),\n",
       " Text(content='la sesión o la aplicación.   \\n \\nConsideraciones para los procedimientos  \\nEn adelante y con el f in de generalizar el uso o aplicación de las funciones disponibles en el \\nAdministrador de Catálogos  se asumirá que dichas funciones están dispuestas para su utilización \\nde manera implícita.   \\n \\nFunciones del ratón (mouse)  \\nLa siguiente imagen describe las fun ciones del ratón  para la aplicación Administrador de Catálogos . \\n \\nFig. 3. Funcionalidades del ratón  \\nLa función de selección aplica ya sea a un renglón en una cuadrícula, una opción en un menú, una \\nopción en un control tipo combo, etc.', metadata=TextMetadata(source='../datos/documentos\\\\SIE-DOC-REL-MAN_002_00 (1).pdf', reference='23b56c7b-a7ee-4a99-8242-d0b760fa1154', collection='documentos', filename='SIE-DOC-REL-MAN_002_00 (1).pdf', total_pages=92, page_number=10, title='Estatuto de Trabajo', author='Ignacio Estrada', subject='Sistemas SCADA/EMS del CENACE', keywords='C_Confidential', creator='Microsoft® Word 2016', creationdate=\"D:20220323203105-06'00'\", moddate=\"D:20220323203105-06'00'\", producer='Microsoft® Word 2016')),\n",
       " Text(content='Control de Cambios  \\nFecha: 20/02/2021  Proyecto: Sistemas SCADA/EMS del CENACE  \\nSIE-DOC -REL-MAN _002_00 \\n \\nConfidential  \\nUpdated 28/02/2018  Versión: 0  Página 11 of  92 \\nAutor: Ignacio Estrada   Restricted © Siemens AG, 2018. All rights reserved.   \\n 1.7 Niveles de Administración  \\nLos niveles de Administración de Catálogos tienen el objetivo de diferenciar los alcances en el \\nmantenimiento de Catálogos.  La siguiente imagen describe  el alcance funcional de Administración \\nde Catálogos . \\n \\n \\nFig. 4. Niveles de Administraci ón \\n \\nObserve que los niveles de Administración1 y 2 ambos son globales, sin  embargo el alcance \\ndifiere de acuerdo a su Nivel Jerárquico . \\n \\nDe acuerdo a estas definiciones, se deriva la tabla 4 que identifica el alcance aplicable a los \\nCatálogo s global es de acuerdo al Nivel Jerárquico al que pertenecen los administradores:  \\n \\n \\n Privilegios de Mantenimiento  \\nNombre de Catalogo  CENAL/CENALTE  Gerencias/Subg. Regionales  \\nADMINISTRADORES DE CATALOGOS  X X \\nSUBPROCESOS DE ENERGIA  X  \\nCAUSAS DE EVENTOS  X  \\nCENTROS DE CONTROL EXTERNOS  X X \\nPARAMETROS GLOBALES  X  \\nCOMPAÑIAS DEL MERCADO ELECTRICO  X  \\nEQUIPOS  X X \\nCLAVES DE OPERACIÓN  X  \\nCOLOR ESTADO EVENTOS DE \\nRELATORIO  X  \\nTIPOS DE EQUIPOS  X  \\nREGLAS DE PROGRAMACION DE \\nLICENCIAS  X  \\nCENTROS DE CONTROL INTERNOS  X  \\nCUENTAS DE CORREO PARA COPIAR A  X X \\nCODIGO DE OPERACIÓN Y CAUSAS  X  \\nRMV CONFIGURACION DE UMBRALES  X  \\n \\nTabla 4. Funciones de Mtto. de Catálogos globales', metadata=TextMetadata(source='../datos/documentos\\\\SIE-DOC-REL-MAN_002_00 (1).pdf', reference='23b56c7b-a7ee-4a99-8242-d0b760fa1154', collection='documentos', filename='SIE-DOC-REL-MAN_002_00 (1).pdf', total_pages=92, page_number=11, title='Estatuto de Trabajo', author='Ignacio Estrada', subject='Sistemas SCADA/EMS del CENACE', keywords='C_Confidential', creator='Microsoft® Word 2016', creationdate=\"D:20220323203105-06'00'\", moddate=\"D:20220323203105-06'00'\", producer='Microsoft® Word 2016')),\n",
       " Text(content='Control de Cambios  \\nFecha: 20/02/2021  Proyecto: Sistemas SCADA/EMS del CENACE  \\nSIE-DOC -REL-MAN _002_00 \\n \\nConfidential  \\nUpdated 28/02/2018  Versión: 0  Página 12 of  92 \\nAutor: Ignacio Estrada   Restricted © Siemens AG, 2018. All rights reserved.   \\n 1.8 Interfaz de usuario del Administrador de Catálogos  \\nLa interfaz de usuario del Subsistema de Administración de Catálogos comprende diferentes \\nsecciones p ara la interacción del usuario como se muestra en la siguiente imágen:  \\n \\n \\nFig. 5. Interfaz de usuario del  Administrador de Catálogos  \\n \\n1.9 Categorías de Administradores de Catálogos  \\nSe han creado 2 Cat egorías para asociar a usuarios que realizarán funciones de Mantenimiento. \\nDichas Categorías identifican a un Administrador Global y a un Administrador Local y están  \\ndiseñadas acorde al Rol que se asociará a los diferentes usuarios.  Éstas  categorías podrían ser \\nreferenciadas en adelante para los procedimientos que lo requieran.  \\n \\nPor otro lado debe considerar que éstas Categorías pueden  ser reemplazadas de acuerdo a sus \\nnecesidades  o convenciones .', metadata=TextMetadata(source='../datos/documentos\\\\SIE-DOC-REL-MAN_002_00 (1).pdf', reference='23b56c7b-a7ee-4a99-8242-d0b760fa1154', collection='documentos', filename='SIE-DOC-REL-MAN_002_00 (1).pdf', total_pages=92, page_number=12, title='Estatuto de Trabajo', author='Ignacio Estrada', subject='Sistemas SCADA/EMS del CENACE', keywords='C_Confidential', creator='Microsoft® Word 2016', creationdate=\"D:20220323203105-06'00'\", moddate=\"D:20220323203105-06'00'\", producer='Microsoft® Word 2016')),\n",
       " Text(content='Control de Cambios  \\nFecha: 20/02/2021  Proyecto: Sistemas SCADA/EMS del CENACE  \\nSIE-DOC -REL-MAN _002_00 \\n \\nConfidential  \\nUpdated 28/02/2018  Versión: 0  Página 13 of  92 \\nAutor: Ignacio Estrada   Restricted © Siemens AG, 2018. All rights reserved.   \\n 2 Mantenimiento de Catálogo s \\nÉsta sección de scribe los procedimientos aplicables a cada Catálogo de acuerdo a la Tabla 1.  \\nCon propósito de redacción y simplicidad en procedimientos se manejaráuna abreviación de la \\naplicación de Administrador de Catálogos con el nombre ADC \\n \\n2.1 Catálogo Claves de Operaci ón \\nDe acuerdo a la Tabla 1, las funciones que aplican al Catálogo de Claves de Operación incluye las \\nsiguientes:  \\n\\uf0a7 Añadir Clave  \\n\\uf0a7 Modificar Clave  \\n\\uf0a7 Borrar Clave  \\n\\uf0a7 Habilitar/Inhabilitar Clave  \\n \\nObserve que, de acuerdo a la Tabla 4 en sección previa, que el mantenimiento de éste Catálogo \\nsólo aplica al Nivel de Administración global del Nivel Jerárquico 1 CENAL/CENALTE.  \\n \\nProcedimiento: Añadir Clave  \\nPaso  Actividad  \\n1. Seleccionar Catálogo Claves de  Operación  \\n2. Dé click en  botón Nuevo   \\nAdC mostrará  la ventana para crear una nueva Clave operativa , \\n \\nDonde:  \\nClave operativa:  máximo  6 caracteres , \\nDescripción : máximo  64 caracteres  \\nCapture los datos requeridos y dé click en botón Guardar .: \\n3. AdC añadirá la nueva Clave operati va a la lista', metadata=TextMetadata(source='../datos/documentos\\\\SIE-DOC-REL-MAN_002_00 (1).pdf', reference='23b56c7b-a7ee-4a99-8242-d0b760fa1154', collection='documentos', filename='SIE-DOC-REL-MAN_002_00 (1).pdf', total_pages=92, page_number=13, title='Estatuto de Trabajo', author='Ignacio Estrada', subject='Sistemas SCADA/EMS del CENACE', keywords='C_Confidential', creator='Microsoft® Word 2016', creationdate=\"D:20220323203105-06'00'\", moddate=\"D:20220323203105-06'00'\", producer='Microsoft® Word 2016')),\n",
       " Text(content='Control de Cambios  \\nFecha: 20/02/2021  Proyecto: Sistemas SCADA/EMS del CENACE  \\nSIE-DOC -REL-MAN _002_00 \\n \\nConfidential  \\nUpdated 28/02/2018  Versión: 0  Página 14 of  92 \\nAutor: Ignacio Estrada   Restricted © Siemens AG, 2018. All rights reserved.   \\n Procedimiento: Modificar Clave  \\nPaso  Actividad  \\n1. Seleccionar Catálogo Claves de Operación  \\n2. Seleccione   la Clave operativa a modificar y enseguida dé click en  botón Editar  \\nAdC mostrará  la ventana para editar  la Clave operativa  seleccionada , \\n \\nObserve que la modificación de una Clave operativa sólo permitirá la edición del campo \\nDescripción .  Complete los cambios requeridos  y dé un click en botón Guardar . \\n3. AdC actualizará  la Clave operativa  seleccionada   \\n \\nProcedimiento: Borrar  Clave  \\nPaso  Actividad  \\n1. Seleccionar Catálogo Claves de Operación  \\n2. Seleccione   la Clave operativa a borrar y enseguida dé click en  botón Eliminar  \\nAdC mostrará  ventana con la Clave operativa a ser borrada , \\n \\nDé un click en botón Eliminar . AdC mostrará ventana de Confirmación.  \\n \\nPara aceptar el borrado de la Clave operativa dé un click en botón Confirmar .  En caso \\ncontrario seleccione botón Cancelar . \\nObserve que si la Clave de Operación ya fue utilizada en el Relatorio, se enviará una \\nventana conteniendo un mensaje, similar a:', metadata=TextMetadata(source='../datos/documentos\\\\SIE-DOC-REL-MAN_002_00 (1).pdf', reference='23b56c7b-a7ee-4a99-8242-d0b760fa1154', collection='documentos', filename='SIE-DOC-REL-MAN_002_00 (1).pdf', total_pages=92, page_number=14, title='Estatuto de Trabajo', author='Ignacio Estrada', subject='Sistemas SCADA/EMS del CENACE', keywords='C_Confidential', creator='Microsoft® Word 2016', creationdate=\"D:20220323203105-06'00'\", moddate=\"D:20220323203105-06'00'\", producer='Microsoft® Word 2016')),\n",
       " Text(content='Control de Cambios  \\nFecha: 20/02/2021  Proyecto: Sistemas SCADA/EMS del CENACE  \\nSIE-DOC -REL-MAN _002_00 \\n \\nConfidential  \\nUpdated 28/02/2018  Versión: 0  Página 15 of  92 \\nAutor: Ignacio Estrada   Restricted © Siemens AG, 2018. All rights reserved.   \\n  \\nIndicando que no se pudo eliminar el registro  \\n3. AdC actualizará la lista de Claves operativas, observe que el registro eliminado ya no será \\nmostrado en la lista de Claves operativas.  \\n \\n \\nProcedimiento: Habilitar /Deshabilitar   Clave  \\nEste procedimiento permite habilitar o deshabilitar una  clave operativa.  La acción dependerá del \\nestado habilitado o deshabilitado que guarde un registro de clave operativa.  \\nPaso  Actividad  \\n1. Seleccionar Catálogo Claves de Operación  \\n2. Deshabilitar registro:  \\nSeleccione   la Clave operativa cuyo estado sea Habilitado y enseguida dé click en  botón \\nDeshabilitar.  \\nAdC enviará  confirmación en el área de mensajes indicando el resultado de la acción:  \\n \\nObserve que  el botón Deshabilitar será desactivado para la Clave seleccionada y el \\nbotón Habilitar será activado.  \\n3. Habilitar registro:  \\nSeleccione   la Clave operativa cuyo estado sea Deshabilitado y enseguida dé click en  \\nbotón Habilitar.  \\nAdC enviará confirmación en  el área de mensajes indicando el resultado de la acción.  \\nObserve que el botón Habilitar será desactivado para la Clave seleccionada y el botón \\nDeshabilitar será activado nuevamente.', metadata=TextMetadata(source='../datos/documentos\\\\SIE-DOC-REL-MAN_002_00 (1).pdf', reference='23b56c7b-a7ee-4a99-8242-d0b760fa1154', collection='documentos', filename='SIE-DOC-REL-MAN_002_00 (1).pdf', total_pages=92, page_number=15, title='Estatuto de Trabajo', author='Ignacio Estrada', subject='Sistemas SCADA/EMS del CENACE', keywords='C_Confidential', creator='Microsoft® Word 2016', creationdate=\"D:20220323203105-06'00'\", moddate=\"D:20220323203105-06'00'\", producer='Microsoft® Word 2016')),\n",
       " Text(content='Observe que el botón Habilitar será desactivado para la Clave seleccionada y el botón \\nDeshabilitar será activado nuevamente.  \\n4. AdC actualizará la lista de Claves operativas de acuerdo al cambio ap licado via la columna \\nESTADO .', metadata=TextMetadata(source='../datos/documentos\\\\SIE-DOC-REL-MAN_002_00 (1).pdf', reference='23b56c7b-a7ee-4a99-8242-d0b760fa1154', collection='documentos', filename='SIE-DOC-REL-MAN_002_00 (1).pdf', total_pages=92, page_number=15, title='Estatuto de Trabajo', author='Ignacio Estrada', subject='Sistemas SCADA/EMS del CENACE', keywords='C_Confidential', creator='Microsoft® Word 2016', creationdate=\"D:20220323203105-06'00'\", moddate=\"D:20220323203105-06'00'\", producer='Microsoft® Word 2016')),\n",
       " Text(content='Control de Cambios  \\nFecha: 20/02/2021  Proyecto: Sistemas SCADA/EMS del CENACE  \\nSIE-DOC -REL-MAN _002_00 \\n \\nConfidential  \\nUpdated 28/02/2018  Versión: 0  Página 16 of  92 \\nAutor: Ignacio Estrada   Restricted © Siemens AG, 2018. All rights reserved.   \\n 2.2 Catálogo Causas de Eventos  \\nDe acuerdo a la Tabla 1, las funciones que aplican al Catálogo de Causas de Eventos  incluye las \\nsiguientes:  \\n\\uf0a7 Añadir Causa  \\n\\uf0a7 Modificar Causa  \\n\\uf0a7 Borrar Causa  \\n\\uf0a7 Habilitar/Inhabilitar Causa  \\n \\nObserve que, de acuerdo a la Tabla 4 en sección previa, que el mantenimiento de éste Catálogo \\nsólo aplica al Nivel de Administración global del Nivel Jerárquico 1 CENAL/CENALTE.  \\n \\nProcedimiento: Añadir Causa  \\nPaso  Actividad  \\n1. Seleccionar Catálogo Causas de  Eventos  \\n2. Dé click en  botón Nuevo  \\nAdC mostrará  la ventana para crear una nueva Causa de eventos , \\n \\nDonde:  \\nNombre de Causa de Evento:  máximo  64 caracteres , \\nCapture los datos requeridos y dé click en botón Guardar .: \\n3. AdC añadirá la nueva Causa de eventos a la lista  \\n \\nProcedimiento: Modificar Causa  \\nPaso  Actividad  \\n1. Seleccionar Catálogo Causas de Eventos  \\n2. Seleccione   la Causa a modificar y enseguida dé click en  botón Editar  \\nAdC mostrará  la ventana para editar la Causa seleccionada ,', metadata=TextMetadata(source='../datos/documentos\\\\SIE-DOC-REL-MAN_002_00 (1).pdf', reference='23b56c7b-a7ee-4a99-8242-d0b760fa1154', collection='documentos', filename='SIE-DOC-REL-MAN_002_00 (1).pdf', total_pages=92, page_number=16, title='Estatuto de Trabajo', author='Ignacio Estrada', subject='Sistemas SCADA/EMS del CENACE', keywords='C_Confidential', creator='Microsoft® Word 2016', creationdate=\"D:20220323203105-06'00'\", moddate=\"D:20220323203105-06'00'\", producer='Microsoft® Word 2016')),\n",
       " Text(content='Control de Cambios  \\nFecha: 20/02/2021  Proyecto: Sistemas SCADA/EMS del CENACE  \\nSIE-DOC -REL-MAN _002_00 \\n \\nConfidential  \\nUpdated 28/02/2018  Versión: 0  Página 17 of  92 \\nAutor: Ignacio Estrada   Restricted © Siemens AG, 2018. All rights reserved.   \\n  \\nObserve que sólo permitirá la edición del campo Habilitado .  Complete los cambios \\nrequeridos y dé un click en botón Guardar . \\n3. AdC actualizará la Causa  seleccionada  \\n \\nProcedimiento: Borrar  Causa  \\nPaso  Actividad  \\n1. Seleccionar Catálogo Causas de Eventos  \\n2. Seleccione   la Causa  a borrar y enseguida dé click en  botón Eliminar  \\nAdC mostrará  ventana con la Causa a ser borrada , \\n \\nDé un click en botón Eliminar . AdC mostrará ventana de Confirmación.  \\n \\nPara aceptar el borrado de la Causa  dé un click en botón Confirmar .  En caso contrario \\nseleccione botón Cancelar . \\nObserve que si la Causa de eventos ya fue utilizada en el Relatorio, se enviará un a \\nventana conteniendo un  mensaje , similar a:', metadata=TextMetadata(source='../datos/documentos\\\\SIE-DOC-REL-MAN_002_00 (1).pdf', reference='23b56c7b-a7ee-4a99-8242-d0b760fa1154', collection='documentos', filename='SIE-DOC-REL-MAN_002_00 (1).pdf', total_pages=92, page_number=17, title='Estatuto de Trabajo', author='Ignacio Estrada', subject='Sistemas SCADA/EMS del CENACE', keywords='C_Confidential', creator='Microsoft® Word 2016', creationdate=\"D:20220323203105-06'00'\", moddate=\"D:20220323203105-06'00'\", producer='Microsoft® Word 2016')),\n",
       " Text(content='Control de Cambios  \\nFecha: 20/02/2021  Proyecto: Sistemas SCADA/EMS del CENACE  \\nSIE-DOC -REL-MAN _002_00 \\n \\nConfidential  \\nUpdated 28/02/2018  Versión: 0  Página 18 of  92 \\nAutor: Ignacio Estrada   Restricted © Siemens AG, 2018. All rights reserved.   \\n Indicando que  no se pudo eliminar el registro.  \\n3. AdC actualizará la lista de Causas de eventos , observe que el registro eliminado ya  no \\nserá mostrado en la lista . \\n \\nProcedimiento: Habilitar/Deshabilitar  Causa  \\nEste procedimiento permite habilitar o deshabilitar una  Causa de eventos .  La acción dependerá \\ndel estado habilitado o deshabilitado que guarde un registro de Causa de eventos . \\nPaso  Actividad  \\n1. Seleccionar Catálogo Causas de Eventos  \\n2. Deshabilitar registro:  \\nSeleccione   la Causa  cuyo estado sea Habilitado y enseguida dé click en  botón Deshabilitar.  \\nAdC enviará confirmación en el área de mensajes indicando el resultado de la acción:  \\n \\nObserve que el botón Deshabilitar será desactivado para la Causa  seleccionada y el \\nbotón Habilitar será activado.  \\n3. Habilitar registro:  \\nSeleccione   la Causa  cuyo estado sea Deshabilitado y enseguida dé click en  botón Habilitar.  \\nAdC enviará confirmación en el área de mensajes indicando el resultado de la acción.  \\n \\nObserve que el botón Habilitar será desactivado para la Causa  seleccionada y el botón \\nDeshabilitar será activado nuevamente.  \\n4. AdC actualizará la lista de Causas  de eventos  de acuerdo al cambio aplicado via la \\ncolumna ESTADO .', metadata=TextMetadata(source='../datos/documentos\\\\SIE-DOC-REL-MAN_002_00 (1).pdf', reference='23b56c7b-a7ee-4a99-8242-d0b760fa1154', collection='documentos', filename='SIE-DOC-REL-MAN_002_00 (1).pdf', total_pages=92, page_number=18, title='Estatuto de Trabajo', author='Ignacio Estrada', subject='Sistemas SCADA/EMS del CENACE', keywords='C_Confidential', creator='Microsoft® Word 2016', creationdate=\"D:20220323203105-06'00'\", moddate=\"D:20220323203105-06'00'\", producer='Microsoft® Word 2016')),\n",
       " Text(content='Deshabilitar será activado nuevamente.  \\n4. AdC actualizará la lista de Causas  de eventos  de acuerdo al cambio aplicado via la \\ncolumna ESTADO . \\n \\n2.3 Catálogo Tipos de Equipos  \\nDe acuerdo a la Tabla 1, las funciones que aplican al Catálogo de Tipos de Equipos  incluye las \\nsiguientes:  \\n\\uf0a7 Añadir Tipo de equipo  \\n\\uf0a7 Modificar Tipo de equipo  \\n\\uf0a7 Borrar Tipo de equipo  \\n\\uf0a7 Habilitar/Inhabilitar Tipo de equipo  \\n \\nObserve que, de acuerdo a la Tabla 4 en sección previa, que el mantenimiento de éste Catálogo \\nsólo aplica al Nivel de Administración global del Nivel Jerárquico 1 GCN /GCA .', metadata=TextMetadata(source='../datos/documentos\\\\SIE-DOC-REL-MAN_002_00 (1).pdf', reference='23b56c7b-a7ee-4a99-8242-d0b760fa1154', collection='documentos', filename='SIE-DOC-REL-MAN_002_00 (1).pdf', total_pages=92, page_number=18, title='Estatuto de Trabajo', author='Ignacio Estrada', subject='Sistemas SCADA/EMS del CENACE', keywords='C_Confidential', creator='Microsoft® Word 2016', creationdate=\"D:20220323203105-06'00'\", moddate=\"D:20220323203105-06'00'\", producer='Microsoft® Word 2016')),\n",
       " Text(content='Control de Cambios  \\nFecha: 20/02/2021  Proyecto: Sistemas SCADA/EMS del CENACE  \\nSIE-DOC -REL-MAN _002_00 \\n \\nConfidential  \\nUpdated 28/02/2018  Versión: 0  Página 19 of  92 \\nAutor: Ignacio Estrada   Restricted © Siemens AG, 2018. All rights reserved.   \\n  \\n \\nProcedimiento: Añadir Tipo de equipo  \\nPaso  Actividad  \\n1. Seleccionar Catálogo Tipos de equipo s \\n2. Dé click en  botón Nuevo  \\nAdC mostrará  la ventana para crear un nuevo Tipo de equipo , \\n \\nDonde:  \\nNombre Tipo de equipo:  máximo 2  caracteres , \\nDescripciónc:  máximo  64 caracteres , \\nCapture los datos requeridos y dé click en botón Guardar . \\n3. AdC añadirá el nuevo Tipo de equipo a la lista  \\n \\nProcedimiento: Modificar Tipo de equipo  \\nPaso  Actividad  \\n1. Seleccionar Catálogo Tipos de equipo s \\n2. Seleccione   el Tipo de equipo  a modificar y enseguida dé click en  botón Editar  \\nAdC mostrará  la ventana para editar el tipo de equipo  seleccionad o: \\n \\nObserve que sólo permitirá la edición del campo Descripción .  Complete los cambios \\nrequeridos y dé un click en botón Guardar . \\n3. AdC actualizará el tipo de equipo   seleccionad o', metadata=TextMetadata(source='../datos/documentos\\\\SIE-DOC-REL-MAN_002_00 (1).pdf', reference='23b56c7b-a7ee-4a99-8242-d0b760fa1154', collection='documentos', filename='SIE-DOC-REL-MAN_002_00 (1).pdf', total_pages=92, page_number=19, title='Estatuto de Trabajo', author='Ignacio Estrada', subject='Sistemas SCADA/EMS del CENACE', keywords='C_Confidential', creator='Microsoft® Word 2016', creationdate=\"D:20220323203105-06'00'\", moddate=\"D:20220323203105-06'00'\", producer='Microsoft® Word 2016')),\n",
       " Text(content='Control de Cambios  \\nFecha: 20/02/2021  Proyecto: Sistemas SCADA/EMS del CENACE  \\nSIE-DOC -REL-MAN _002_00 \\n \\nConfidential  \\nUpdated 28/02/2018  Versión: 0  Página 20 of  92 \\nAutor: Ignacio Estrada   Restricted © Siemens AG, 2018. All rights reserved.   \\n  \\nProcedimiento: Borrar  Tipo de equipo  \\nPaso  Actividad  \\n1. Seleccionar Catálogo Tipos de equipo s \\n2. Seleccione   el tipo de equipo   a borrar y enseguida dé click en  botón Eliminar  \\nAdC mostrará  ventana con el tipo de equipo  a ser borrad o. \\n \\nDé un click en botón Eliminar . AdC mostrará ventana de Confirmación.  \\n \\nPara aceptar el borrado del tipo de equipo  dé un click en botón Confirmar .  En caso \\ncontrario seleccione botón Cancelar . \\nObserve que si el tipo de equipo  ya fue utilizada en el Relatorio, se enviará una ventana \\nconteniendo un mensaje, similar a:  \\n \\nIndicando que no se pudo eliminar el registro.  \\n3. AdC actualizará la lista de Tipos de equipos , observe que el registro eliminado ya  no será \\nmostrado en la lista . \\n \\n \\nProcedimiento: Habilitar/Deshabilitar  Tipo de equipo  \\nEste procedimiento permite habilitar o deshabilitar un Tipo de equipo .  La acción dependerá del \\nestado habilitado o deshabilitado que guarde un registro de Tipo de equipo . \\nPaso  Actividad', metadata=TextMetadata(source='../datos/documentos\\\\SIE-DOC-REL-MAN_002_00 (1).pdf', reference='23b56c7b-a7ee-4a99-8242-d0b760fa1154', collection='documentos', filename='SIE-DOC-REL-MAN_002_00 (1).pdf', total_pages=92, page_number=20, title='Estatuto de Trabajo', author='Ignacio Estrada', subject='Sistemas SCADA/EMS del CENACE', keywords='C_Confidential', creator='Microsoft® Word 2016', creationdate=\"D:20220323203105-06'00'\", moddate=\"D:20220323203105-06'00'\", producer='Microsoft® Word 2016')),\n",
       " Text(content='Control de Cambios  \\nFecha: 20/02/2021  Proyecto: Sistemas SCADA/EMS del CENACE  \\nSIE-DOC -REL-MAN _002_00 \\n \\nConfidential  \\nUpdated 28/02/2018  Versión: 0  Página 21 of  92 \\nAutor: Ignacio Estrada   Restricted © Siemens AG, 2018. All rights reserved.   \\n 1. Seleccionar Catálogo Tipos de equipo s \\n2. Deshabilitar registro:  \\nSeleccione   el Tipo de equipo  cuyo estado sea Habilitado y enseguida dé click en  botón \\nDeshabilitar.  \\nAdC enviará confirmación en el área de mensajes indicando el resultado de la acción:  \\n \\nObserve que el botón Deshabilitar será desactivado para el tipo de equipo seleccionado  \\ny el botón Habilitar será activado.  \\n3. Habilitar registro:  \\nSeleccione   el Tipo de equipo  cuyo estado sea Deshabilitado y enseguida dé click en  botón \\nHabilitar.  \\nAdC enviará confirmación en el área de mensajes indicando el resultado de l a acción.  \\nObserve que el botón Habilitar será desactivado para el Tipo de equipo seleccionado  y \\nel botón Deshabilitar será activado nuevamente.  \\n4. AdC actualizará la lista de Tipos de equipos de acuerdo al cambio aplicado via la columna \\nESTADO . \\n \\n \\n2.4 Catálogo Equipos  \\nDe acuerdo a la Tabla 1, las funciones que aplican al Catálogo de Equipos  incluye las siguientes:  \\n\\uf0a7 Añadir Equipo  \\n\\uf0a7 Modificar Equipo  \\n\\uf0a7 Borrar Equipo  \\n\\uf0a7 Actualizar Equipos desde el sistema Spectrum  \\n\\uf0a7 Consultar Equipos de otros Centros de Control (Cen tro de Control Nacional)  \\n\\uf0a7 Visualizar detalles  \\n\\uf0a7 Habilitar/Inhabilitar Equipo', metadata=TextMetadata(source='../datos/documentos\\\\SIE-DOC-REL-MAN_002_00 (1).pdf', reference='23b56c7b-a7ee-4a99-8242-d0b760fa1154', collection='documentos', filename='SIE-DOC-REL-MAN_002_00 (1).pdf', total_pages=92, page_number=21, title='Estatuto de Trabajo', author='Ignacio Estrada', subject='Sistemas SCADA/EMS del CENACE', keywords='C_Confidential', creator='Microsoft® Word 2016', creationdate=\"D:20220323203105-06'00'\", moddate=\"D:20220323203105-06'00'\", producer='Microsoft® Word 2016')),\n",
       " Text(content='\\uf0a7 Actualizar Equipos desde el sistema Spectrum  \\n\\uf0a7 Consultar Equipos de otros Centros de Control (Cen tro de Control Nacional)  \\n\\uf0a7 Visualizar detalles  \\n\\uf0a7 Habilitar/Inhabilitar Equipo  \\n \\nObserve que, de acuerdo a la Tabla 4 en sección previa, que el mantenimiento de éste Catálogo \\naplica al Nivel de Administración global de todos los Niveles Jerárquicos.  \\n \\nProcedimiento: Añadir E quipo  \\nPaso  Actividad  \\n1. Seleccionar Catálogo E quipo s \\n2. Dé click en  botón Nuevo', metadata=TextMetadata(source='../datos/documentos\\\\SIE-DOC-REL-MAN_002_00 (1).pdf', reference='23b56c7b-a7ee-4a99-8242-d0b760fa1154', collection='documentos', filename='SIE-DOC-REL-MAN_002_00 (1).pdf', total_pages=92, page_number=21, title='Estatuto de Trabajo', author='Ignacio Estrada', subject='Sistemas SCADA/EMS del CENACE', keywords='C_Confidential', creator='Microsoft® Word 2016', creationdate=\"D:20220323203105-06'00'\", moddate=\"D:20220323203105-06'00'\", producer='Microsoft® Word 2016')),\n",
       " Text(content='Control de Cambios  \\nFecha: 20/02/2021  Proyecto: Sistemas SCADA/EMS del CENACE  \\nSIE-DOC -REL-MAN _002_00 \\n \\nConfidential  \\nUpdated 28/02/2018  Versión: 0  Página 22 of  92 \\nAutor: Ignacio Estrada   Restricted © Siemens AG, 2018. All rights reserved.   \\n AdC mostrará  la ventana para crear un nuevo Equipo , \\n \\nDonde para los campos de texto:  \\nEquipo:  máximo 14 caracteres , \\nInformación general:  máximo  4000  caracteres , \\nDatos del MEM:  máximo  4000  caracteres , \\nNombre de la Planta:  máximo  24 caracteres , \\nTipo de Generador:  máximo  4 caracteres , \\nTipo de Combustible:  máximo  4000  caracteres  \\n \\nObserve que la sección de Equipo Frontera se activa al marcr la casilla correspondiente.  \\nCapture los datos requeridos y dé click en botón Guardar . \\n3. AdC añadirá el nuevo Equipo a la lista  \\n \\nProcedimiento: Modificar Equipo  \\nPaso  Actividad  \\n1. Seleccionar Catálogo Equipo s \\n2. Seleccione   el Equipo a modificar y enseguida dé click en  botón Editar  \\nAdC mostrará  la ventana para editar el Equipo seleccionado:', metadata=TextMetadata(source='../datos/documentos\\\\SIE-DOC-REL-MAN_002_00 (1).pdf', reference='23b56c7b-a7ee-4a99-8242-d0b760fa1154', collection='documentos', filename='SIE-DOC-REL-MAN_002_00 (1).pdf', total_pages=92, page_number=22, title='Estatuto de Trabajo', author='Ignacio Estrada', subject='Sistemas SCADA/EMS del CENACE', keywords='C_Confidential', creator='Microsoft® Word 2016', creationdate=\"D:20220323203105-06'00'\", moddate=\"D:20220323203105-06'00'\", producer='Microsoft® Word 2016')),\n",
       " Text(content='Control de Cambios  \\nFecha: 20/02/2021  Proyecto: Sistemas SCADA/EMS del CENACE  \\nSIE-DOC -REL-MAN _002_00 \\n \\nConfidential  \\nUpdated 28/02/2018  Versión: 0  Página 23 of  92 \\nAutor: Ignacio Estrada   Restricted © Siemens AG, 2018. All rights reserved.   \\n  \\nObserve que el campo Gerencia asociada   no es suceptible de modificar.  \\nComplete los cambios requeridos y dé un click en botón Guardar . \\n3. AdC actualizará el tipo de equipo   seleccionado  \\n \\nProcedimiento: Borrar  Equipo  \\nPaso  Actividad  \\n1. Seleccionar Catálogo Equipo s \\n2. Seleccione   el Equipo  a borrar y enseguida dé click en  botón Eliminar  \\nAdC mostrará  ventana con el equipo a ser borrado.', metadata=TextMetadata(source='../datos/documentos\\\\SIE-DOC-REL-MAN_002_00 (1).pdf', reference='23b56c7b-a7ee-4a99-8242-d0b760fa1154', collection='documentos', filename='SIE-DOC-REL-MAN_002_00 (1).pdf', total_pages=92, page_number=23, title='Estatuto de Trabajo', author='Ignacio Estrada', subject='Sistemas SCADA/EMS del CENACE', keywords='C_Confidential', creator='Microsoft® Word 2016', creationdate=\"D:20220323203105-06'00'\", moddate=\"D:20220323203105-06'00'\", producer='Microsoft® Word 2016')),\n",
       " Text(content='Control de Cambios  \\nFecha: 20/02/2021  Proyecto: Sistemas SCADA/EMS del CENACE  \\nSIE-DOC -REL-MAN _002_00 \\n \\nConfidential  \\nUpdated 28/02/2018  Versión: 0  Página 24 of  92 \\nAutor: Ignacio Estrada   Restricted © Siemens AG, 2018. All rights reserved.   \\n  \\nDé un click en botón Eliminar . AdC mostrará ventana de Confirmación.  \\n \\nPara aceptar el borrado del equipo dé un click en botón Confirmar .  En caso contrario \\nseleccione botón Cancelar . \\nObserve que si el equipo  ya fue utilizada en el Relatorio, se enviará una ventana \\nconteniendo un mensa je, similar a:  \\n \\nIndicando que no se pudo eliminar el registro.  \\n3. AdC actualizará la lista de Equipos, observe que el registro eliminado ya no será mostrado \\nen la lista.', metadata=TextMetadata(source='../datos/documentos\\\\SIE-DOC-REL-MAN_002_00 (1).pdf', reference='23b56c7b-a7ee-4a99-8242-d0b760fa1154', collection='documentos', filename='SIE-DOC-REL-MAN_002_00 (1).pdf', total_pages=92, page_number=24, title='Estatuto de Trabajo', author='Ignacio Estrada', subject='Sistemas SCADA/EMS del CENACE', keywords='C_Confidential', creator='Microsoft® Word 2016', creationdate=\"D:20220323203105-06'00'\", moddate=\"D:20220323203105-06'00'\", producer='Microsoft® Word 2016')),\n",
       " Text(content='Control de Cambios  \\nFecha: 20/02/2021  Proyecto: Sistemas SCADA/EMS del CENACE  \\nSIE-DOC -REL-MAN _002_00 \\n \\nConfidential  \\nUpdated 28/02/2018  Versión: 0  Página 25 of  92 \\nAutor: Ignacio Estrada   Restricted © Siemens AG, 2018. All rights reserved.   \\n Procedimiento: Actualizar E quipo  desde el Spectrum  \\nEste procedimiento permite la actualización automática del Catálogo de equipos para todas las \\ndefiniciones del modelo de la red eléctrica definido en el sistema Spectrum.  Se consideran aquellos \\nequipos cuyo tipo de Equipo cumple con el Relatorio.  \\nPaso  Actividad  \\n1. Seleccionar Catálogo E quipo s \\n2. En la barra principal de funciones dé click en  botón Actualizar Equipos desde el Spectrum  \\nAdC mostrará  la ventana:  \\n \\nDonde se dan las indicaciones para realizar la actualización de equipos desde el sistema \\nSpectrum.  \\nEn caso de continuar  la actualización dé un click en botón Aceptar . \\n3. AdC actualizará el Catálogo de equipos de dos maneras:  \\na. Actualizará el campo MRID para todos los equipos cuya definición coincida con la \\ndel modelo eléctrico en el sistema Spectrim  \\nb. Agregará los equipos de acuerdo al tipo de equipo aplicable encontrados en el \\nmodelo eléctrico  para ser insertados en el catálogo de Equipos.  \\n \\nProcedimiento: Consultar E quipo   \\nEste procedimiento permite consultar Equipos de otros Centros de Control y sólo está disponible \\npara el Centro de Control de Nivel Jerárquico 1.  \\nPaso  Actividad  \\n1. Seleccionar Catálogo E quipo s', metadata=TextMetadata(source='../datos/documentos\\\\SIE-DOC-REL-MAN_002_00 (1).pdf', reference='23b56c7b-a7ee-4a99-8242-d0b760fa1154', collection='documentos', filename='SIE-DOC-REL-MAN_002_00 (1).pdf', total_pages=92, page_number=25, title='Estatuto de Trabajo', author='Ignacio Estrada', subject='Sistemas SCADA/EMS del CENACE', keywords='C_Confidential', creator='Microsoft® Word 2016', creationdate=\"D:20220323203105-06'00'\", moddate=\"D:20220323203105-06'00'\", producer='Microsoft® Word 2016')),\n",
       " Text(content='Este procedimiento permite consultar Equipos de otros Centros de Control y sólo está disponible \\npara el Centro de Control de Nivel Jerárquico 1.  \\nPaso  Actividad  \\n1. Seleccionar Catálogo E quipo s \\n2. Dé un click en el botón Consultar  Equipo :   AdC mostrará ventana para especificar el filtro \\nde Consulta', metadata=TextMetadata(source='../datos/documentos\\\\SIE-DOC-REL-MAN_002_00 (1).pdf', reference='23b56c7b-a7ee-4a99-8242-d0b760fa1154', collection='documentos', filename='SIE-DOC-REL-MAN_002_00 (1).pdf', total_pages=92, page_number=25, title='Estatuto de Trabajo', author='Ignacio Estrada', subject='Sistemas SCADA/EMS del CENACE', keywords='C_Confidential', creator='Microsoft® Word 2016', creationdate=\"D:20220323203105-06'00'\", moddate=\"D:20220323203105-06'00'\", producer='Microsoft® Word 2016')),\n",
       " Text(content='Control de Cambios  \\nFecha: 20/02/2021  Proyecto: Sistemas SCADA/EMS del CENACE  \\nSIE-DOC -REL-MAN _002_00 \\n \\nConfidential  \\nUpdated 28/02/2018  Versión: 0  Página 26 of  92 \\nAutor: Ignacio Estrada   Restricted © Siemens AG, 2018. All rights reserved.   \\n  \\nEspecifique los datos de consulta requeridos y enseguida botón Aceptar : \\n3. Una vez realizada la consulta, observe que los botones del menú principal son \\ndesactivados para evitar cambios a Equipos de otros Centros de Control:  \\n \\n4. Para regresar a la condición normal, repita el paso 2 y seleccione opción Centro Nacional . \\n \\n \\nProcedimiento: Visualizar detalles de E quipo   \\nEste procedimiento permite visualizar los detalles de un Equipo para acceder a los archivos \\nadjuntados a un Equipo.  \\nPaso  Actividad  \\n1. Seleccionar Catálogo E quipo s \\n2. Observe que en la cuadrícula de Equipos la columna AR indicasi un Equipo contiene \\narchivo adjunto:  \\n \\nEn la barra principal de funciones dé click en  botón Ver detalle  \\nAdC mostrará  en la parte inferior de la vista de Equipos la sección para acceder a los \\narchivos:', metadata=TextMetadata(source='../datos/documentos\\\\SIE-DOC-REL-MAN_002_00 (1).pdf', reference='23b56c7b-a7ee-4a99-8242-d0b760fa1154', collection='documentos', filename='SIE-DOC-REL-MAN_002_00 (1).pdf', total_pages=92, page_number=26, title='Estatuto de Trabajo', author='Ignacio Estrada', subject='Sistemas SCADA/EMS del CENACE', keywords='C_Confidential', creator='Microsoft® Word 2016', creationdate=\"D:20220323203105-06'00'\", moddate=\"D:20220323203105-06'00'\", producer='Microsoft® Word 2016')),\n",
       " Text(content='Control de Cambios  \\nFecha: 20/02/2021  Proyecto: Sistemas SCADA/EMS del CENACE  \\nSIE-DOC -REL-MAN _002_00 \\n \\nConfidential  \\nUpdated 28/02/2018  Versión: 0  Página 27 of  92 \\nAutor: Ignacio Estrada   Restricted © Siemens AG, 2018. All rights reserved.   \\n  \\n.. \\n3. Donde el archivo o archivos adjunto(s) podrán ser accedidos con el ícono de abrir archivo  \\n \\nProcedimiento: Habilitar/Deshabilitar  Equipo  \\nEste procedimiento permite habilitar o deshabilitar Equipos .  La acción dependerá del estado \\nhabilitado o deshabilitado que guarde un registro de Equipo . \\nPaso  Actividad  \\n1. Seleccionar Catálogo Equipo s \\n2. Deshabilitar registro:  \\nSeleccione   el Equipo  cuyo estado sea Habilitado y enseguida dé click en  botón Deshabilitar.  \\nAdC mostrará ventana para que se proporcione la razón por la que se dehabilita el equipo:  \\n \\nAdC enviará confirmación en el área de mensajes indicando el resultado de la acción:  \\n \\nObserve que el botón Deshabilitar será desactivado para el Equipo seleccionado y el \\nbotón Habilitar será activado.  \\n3. Habilitar registro:  \\nSeleccione   el Equipo cuyo estado sea Deshabilitado y enseguida dé click en  botón \\nHabilitar.  \\nAdC enviará confirmación  en el área de mensajes indicando el resultado de la acción.  \\nObserve que el botón Habilitar será desactivado para el Equipo seleccionado  y el botón \\nDeshabilitar será activado nuevamente.', metadata=TextMetadata(source='../datos/documentos\\\\SIE-DOC-REL-MAN_002_00 (1).pdf', reference='23b56c7b-a7ee-4a99-8242-d0b760fa1154', collection='documentos', filename='SIE-DOC-REL-MAN_002_00 (1).pdf', total_pages=92, page_number=27, title='Estatuto de Trabajo', author='Ignacio Estrada', subject='Sistemas SCADA/EMS del CENACE', keywords='C_Confidential', creator='Microsoft® Word 2016', creationdate=\"D:20220323203105-06'00'\", moddate=\"D:20220323203105-06'00'\", producer='Microsoft® Word 2016')),\n",
       " Text(content='Control de Cambios  \\nFecha: 20/02/2021  Proyecto: Sistemas SCADA/EMS del CENACE  \\nSIE-DOC -REL-MAN _002_00 \\n \\nConfidential  \\nUpdated 28/02/2018  Versión: 0  Página 28 of  92 \\nAutor: Ignacio Estrada   Restricted © Siemens AG, 2018. All rights reserved.   \\n 4. AdC actualizará la lista de Equipos de acuerdo al cambio aplicado via la columna ESTADO . \\n \\n2.5 Catálogo Usuarios Internos  \\nDe acuerdo a la Tabla 2, las funciones que aplican al Catálogo de Usuarios Internos incluye las \\nsiguientes:  \\n\\uf0a7 Añadir Usuario  \\n\\uf0a7 Modificar datos del Usuario  \\n\\uf0a7 Dar de baja  Usuario  \\n\\uf0a7 Cambiar Clave de acceso a Usuario  \\n\\uf0a7 Habilitar/Inhabilitar Usuario  \\n \\nEl mantenimiento de éste Catálogo aplica a cualquier  Nivel de Administración.  \\n \\nProcedimiento: Añadir Usuario  \\nPaso  Actividad  \\n1. Seleccionar Catálogo Usuarios Internos  \\n2. Dé click en  botón Nuevo  \\nAdC mostrará  la ventana para crear un nuevo Usuario , \\n \\nDonde:  \\nUsuario : máximo 10 caracteres , \\nContraseña : máximo  10 caracteres , \\nNombre:  máximo  20 caracteres , \\nAp. Paterno:  máximo  14 caracteres , \\nAp. Materno:  máximo  14 caracteres , \\nCorreo:  máximo  64 caracteres , \\nDescripción:  máximo  50 caracteres  \\n \\nCapture los datos requeridos y dé click en botón Guardar .', metadata=TextMetadata(source='../datos/documentos\\\\SIE-DOC-REL-MAN_002_00 (1).pdf', reference='23b56c7b-a7ee-4a99-8242-d0b760fa1154', collection='documentos', filename='SIE-DOC-REL-MAN_002_00 (1).pdf', total_pages=92, page_number=28, title='Estatuto de Trabajo', author='Ignacio Estrada', subject='Sistemas SCADA/EMS del CENACE', keywords='C_Confidential', creator='Microsoft® Word 2016', creationdate=\"D:20220323203105-06'00'\", moddate=\"D:20220323203105-06'00'\", producer='Microsoft® Word 2016')),\n",
       " Text(content='Control de Cambios  \\nFecha: 20/02/2021  Proyecto: Sistemas SCADA/EMS del CENACE  \\nSIE-DOC -REL-MAN _002_00 \\n \\nConfidential  \\nUpdated 28/02/2018  Versión: 0  Página 29 of  92 \\nAutor: Ignacio Estrada   Restricted © Siemens AG, 2018. All rights reserved.   \\n Observe que al dar click en éste botón se mostrarán los campos obligatorios del \\nformulario.  \\n3. AdC añadirá al nuevo Usuario  a la lista  \\nObserve que el nombre completo del usuario se conformará concatenando los datos del \\nnombre y apeidos.  \\nProcedimiento: Modificar Usuario  \\nPaso  Actividad  \\n1. Seleccionar Catálogo Usuarios Internos  \\n2. Seleccione   el Usuario  a modificar y enseguida dé click en  botón Editar  \\nAdC mostrará  la ventana para editar el Usuario  seleccionado:  \\n \\nObserve que la edición no permite  cambios  en los campo s Usuario y Contraseña .  \\nComplete los cambios requeridos y dé un click en botón Guardar . \\n3. AdC actualizará el Usuario  seleccionado  \\n \\nProcedimiento: Cambiar Contraseña a Usuario  \\nEste procedimiento permite modificar la contraseña a usuarios.  \\nPaso  Actividad  \\n1. Seleccionar Catálogo Usuarios Internos  \\n2. Seleccione   el Usuario a modificar la contraseña y enseguida dé click  en botón Cambiar \\nClave de acceso  \\nAdC mostrará  la ventana para editar la clave de acceso al Usuario seleccionado:', metadata=TextMetadata(source='../datos/documentos\\\\SIE-DOC-REL-MAN_002_00 (1).pdf', reference='23b56c7b-a7ee-4a99-8242-d0b760fa1154', collection='documentos', filename='SIE-DOC-REL-MAN_002_00 (1).pdf', total_pages=92, page_number=29, title='Estatuto de Trabajo', author='Ignacio Estrada', subject='Sistemas SCADA/EMS del CENACE', keywords='C_Confidential', creator='Microsoft® Word 2016', creationdate=\"D:20220323203105-06'00'\", moddate=\"D:20220323203105-06'00'\", producer='Microsoft® Word 2016')),\n",
       " Text(content='Control de Cambios  \\nFecha: 20/02/2021  Proyecto: Sistemas SCADA/EMS del CENACE  \\nSIE-DOC -REL-MAN _002_00 \\n \\nConfidential  \\nUpdated 28/02/2018  Versión: 0  Página 30 of  92 \\nAutor: Ignacio Estrada   Restricted © Siemens AG, 2018. All rights reserved.   \\n  \\nProporcione  los datos  requeridos y dé un click en botón Guardar . \\n3. AdC actualizará los datos del  Usuario seleccionado  y serán aplicados en el siguiente \\nacceso a la aplicación por parte del usuario.  \\nObserve que éste cambio sólo aplica a las aplicaciones de Windows ya que la contraseña \\nen la aplicación web es manejada directamente en dicha aplicación.  \\n \\nProcedimiento: Dar de baja a  Usuario  \\nPaso  Actividad  \\n1. Seleccionar Catálogo Usuarios Internos  \\n2. Seleccione   el usuario   a dar de baja  y enseguida dé click en  botón Eliminar  \\nAdC mostrará  ventana con el usuario  a ser dado de baja . \\n \\nDé un click en botón Eliminar . AdC mostrará ventana de Confirmación.  \\n \\nPara aceptar dar de baja al usuario  dé un click en botón Confirmar .  En caso contrario \\nseleccione botón Cancelar . \\nObserve que si el tipo de equipo  ya fue utilizada en el Relatorio, se enviará una ventana \\nconteniendo un mensaje, similar a:', metadata=TextMetadata(source='../datos/documentos\\\\SIE-DOC-REL-MAN_002_00 (1).pdf', reference='23b56c7b-a7ee-4a99-8242-d0b760fa1154', collection='documentos', filename='SIE-DOC-REL-MAN_002_00 (1).pdf', total_pages=92, page_number=30, title='Estatuto de Trabajo', author='Ignacio Estrada', subject='Sistemas SCADA/EMS del CENACE', keywords='C_Confidential', creator='Microsoft® Word 2016', creationdate=\"D:20220323203105-06'00'\", moddate=\"D:20220323203105-06'00'\", producer='Microsoft® Word 2016')),\n",
       " Text(content='Control de Cambios  \\nFecha: 20/02/2021  Proyecto: Sistemas SCADA/EMS del CENACE  \\nSIE-DOC -REL-MAN _002_00 \\n \\nConfidential  \\nUpdated 28/02/2018  Versión: 0  Página 31 of  92 \\nAutor: Ignacio Estrada   Restricted © Siemens AG, 2018. All rights reserved.   \\n  \\nIndicando que no se pudo eliminar el registro.  \\n3. AdC actualizará la lista de Usuarios , observe que el registro eliminado ya no será mostrado \\nen la lista.  \\nProcedimiento: Habilitar/Deshabilitar  Usuario  \\nEste procedimiento permite habilitar o deshabilitar un Usuario .  La acción dependerá del estado \\nhabilitado o deshabilitado que guarde un registro.  \\nPaso  Actividad  \\n1. Seleccionar Catálogo Usuarios Internos  \\n2. Deshabilitar registro:  \\nSeleccione   el Usuario  cuyo estado sea Habilitado y enseguida dé click en  botón \\nDeshabilitar.  \\nAdC enviará confirmación en el área de mensajes indicando el resultado de la acción:  \\n \\nObserve que el botón Deshabilitar será desactivado para el Usuario  seleccionado y el \\nbotón Habilitar será activado.  \\n3. Habilitar registro:  \\nSeleccione   el Usuario  cuyo estado sea Deshabilitado y enseguida dé click en  botón \\nHabilitar.  \\nAdC enviará confirmación en el área de mensajes indicando el resultado de la acción.  \\n \\nObserve que el botón Habilitar será desactivado para el Usuario  seleccionado  y el botón \\nDeshabilitar será activado nuevamente.  \\n4. AdC actualizará la lista de Usuarios  de acuerdo al cambio aplicado via la columna ESTADO .', metadata=TextMetadata(source='../datos/documentos\\\\SIE-DOC-REL-MAN_002_00 (1).pdf', reference='23b56c7b-a7ee-4a99-8242-d0b760fa1154', collection='documentos', filename='SIE-DOC-REL-MAN_002_00 (1).pdf', total_pages=92, page_number=31, title='Estatuto de Trabajo', author='Ignacio Estrada', subject='Sistemas SCADA/EMS del CENACE', keywords='C_Confidential', creator='Microsoft® Word 2016', creationdate=\"D:20220323203105-06'00'\", moddate=\"D:20220323203105-06'00'\", producer='Microsoft® Word 2016')),\n",
       " Text(content='Control de Cambios  \\nFecha: 20/02/2021  Proyecto: Sistemas SCADA/EMS del CENACE  \\nSIE-DOC -REL-MAN _002_00 \\n \\nConfidential  \\nUpdated 28/02/2018  Versión: 0  Página 32 of  92 \\nAutor: Ignacio Estrada   Restricted © Siemens AG, 2018. All rights reserved.   \\n 2.6 Catálogo Categorías de Usuarios  \\nDe acuerdo a la Tabla 2, las funciones que aplican al Catálogo de Categorías de Usuarios incluye \\nlas siguientes:  \\n\\uf0a7 Añadir Categoría  \\n\\uf0a7 Modificar Categoría  \\n\\uf0a7 Habilitar/Inhabilitar Categoría  \\n \\nEl mantenimiento de éste Catálogo aplica a cualquier  Nivel de Administr ación.  \\n \\nProcedimiento: Añadir Categoría  \\nPaso  Actividad  \\n1. Seleccionar Catálogo Categorías de Usuarios  \\n2. Dé click en  botón Nuevo  \\nAdC mostrará  la ventana para crear una  nueva Categoría : \\n \\nDonde:  \\nNombre de Categoría:  máximo  64 caracteres  \\n \\nCapture los datos requeridos y dé click en botón Guardar .   \\n3. AdC añadirá la nueva Catgoría a la lista  \\n \\nProcedimiento: Modificar Categoría  \\nPaso  Actividad  \\n1. Seleccionar Catálogo Categorías de Usuarios  \\n2. Seleccione   la Categoría a modificar y enseguida dé click en  botón Editar  \\nAdC mostrará  la ventana para editar el tipo de Usuario seleccionado:', metadata=TextMetadata(source='../datos/documentos\\\\SIE-DOC-REL-MAN_002_00 (1).pdf', reference='23b56c7b-a7ee-4a99-8242-d0b760fa1154', collection='documentos', filename='SIE-DOC-REL-MAN_002_00 (1).pdf', total_pages=92, page_number=32, title='Estatuto de Trabajo', author='Ignacio Estrada', subject='Sistemas SCADA/EMS del CENACE', keywords='C_Confidential', creator='Microsoft® Word 2016', creationdate=\"D:20220323203105-06'00'\", moddate=\"D:20220323203105-06'00'\", producer='Microsoft® Word 2016')),\n",
       " Text(content='Control de Cambios  \\nFecha: 20/02/2021  Proyecto: Sistemas SCADA/EMS del CENACE  \\nSIE-DOC -REL-MAN _002_00 \\n \\nConfidential  \\nUpdated 28/02/2018  Versión: 0  Página 33 of  92 \\nAutor: Ignacio Estrada   Restricted © Siemens AG, 2018. All rights reserved.   \\n  \\nComplete los cambios requeridos y dé un click en botón Guardar . \\n3. AdC actualizará la Categoría seleccionado  \\n \\nProcedimiento: Habilitar/Deshabilitar  Categoría  \\nEste procedimiento permite habilitar o deshabilitar una Categoría.  La acción dependerá del estado \\nhabilitado o deshabilitado que guarde un registro.  \\nPaso  Actividad  \\n1. Seleccionar Catálogo Catgorias  de Usuario  \\n2. Deshabilitar registro:  \\nSeleccione   la Categoría cuyo estado sea Habilitado y enseguida dé click en  botón \\nDeshabilitar.  \\nAdC enviará confirmación en el área de mensajes indicando el resultado de la acción:  \\n \\nObserve que el botón Deshabilitar será desactivado para la Categoría  seleccionad a y el \\nbotón Habilitar será activado.  \\n3. Habilitar registro:  \\nSeleccione   la Categoría cuyo estado sea Deshabilitado y enseguida dé click en  botón \\nHabilitar.  \\nAdC enviará confirmación en el área de mensajes indicando el resultado de la acción.  \\n \\nObserve que el botón Habilitar será desactivado para la Categoría seleccionad a  y el \\nbotón Deshabilitar será activado nuevamente.  \\n4. AdC actualizará la lista de Categorías  de acuer do al cambio aplicado via la columna \\nESTADO .', metadata=TextMetadata(source='../datos/documentos\\\\SIE-DOC-REL-MAN_002_00 (1).pdf', reference='23b56c7b-a7ee-4a99-8242-d0b760fa1154', collection='documentos', filename='SIE-DOC-REL-MAN_002_00 (1).pdf', total_pages=92, page_number=33, title='Estatuto de Trabajo', author='Ignacio Estrada', subject='Sistemas SCADA/EMS del CENACE', keywords='C_Confidential', creator='Microsoft® Word 2016', creationdate=\"D:20220323203105-06'00'\", moddate=\"D:20220323203105-06'00'\", producer='Microsoft® Word 2016')),\n",
       " Text(content='Control de Cambios  \\nFecha: 20/02/2021  Proyecto: Sistemas SCADA/EMS del CENACE  \\nSIE-DOC -REL-MAN _002_00 \\n \\nConfidential  \\nUpdated 28/02/2018  Versión: 0  Página 34 of  92 \\nAutor: Ignacio Estrada   Restricted © Siemens AG, 2018. All rights reserved.   \\n 2.7 Catálogo Operadores Jefes de Turno  \\nDe acuerdo a la Tabla 2, las funciones que aplican al Catálogo de Operadores Jefes de Turno \\nincluye las siguientes:  \\n\\uf0a7 Añadir Operador Jefe de Turno  \\n\\uf0a7 Dar de baja Operador Jefe de Turno  \\n\\uf0a7 Habilitar/Inhabilitar Operador Jefe de Turno  \\n \\nEl mantenimiento de éste Catálogo aplica a cualquier  Nivel de Administración.  \\n \\nProcedimiento: Añadir Operador Jefe de Turno  \\nPaso  Actividad  \\n1. Seleccionar Catálogo Operador es Jefe de Turno  \\n2. Dé click en  botón Nuevo  \\nAdC mostrará  la ventana para crear un nuevo Operador Jefe de Turno:  \\n \\nSeleccione los datos requeridos y dé click en botón Guardar .   \\n3. AdC añadirá al nuevo Operador Jefe de Turno  a la lista  \\n \\nProcedimiento: Dar de baja Operador Jefe  de Turno  \\nPaso  Actividad  \\n1. Seleccionar Catálogo Operador es Jefe de Turno  \\n2. Seleccione   el Operador Jefe de Turno a dar de baja y enseguida dé click en  botón Eliminar  \\nAdC mostrará  ventana con el Operador Jefe de Turno a ser dado de baja.', metadata=TextMetadata(source='../datos/documentos\\\\SIE-DOC-REL-MAN_002_00 (1).pdf', reference='23b56c7b-a7ee-4a99-8242-d0b760fa1154', collection='documentos', filename='SIE-DOC-REL-MAN_002_00 (1).pdf', total_pages=92, page_number=34, title='Estatuto de Trabajo', author='Ignacio Estrada', subject='Sistemas SCADA/EMS del CENACE', keywords='C_Confidential', creator='Microsoft® Word 2016', creationdate=\"D:20220323203105-06'00'\", moddate=\"D:20220323203105-06'00'\", producer='Microsoft® Word 2016')),\n",
       " Text(content='Control de Cambios  \\nFecha: 20/02/2021  Proyecto: Sistemas SCADA/EMS del CENACE  \\nSIE-DOC -REL-MAN _002_00 \\n \\nConfidential  \\nUpdated 28/02/2018  Versión: 0  Página 35 of  92 \\nAutor: Ignacio Estrada   Restricted © Siemens AG, 2018. All rights reserved.   \\n  \\nDé un click en botón Eliminar . AdC mostrará ventana de Confirmación.  \\n \\nPara aceptar dar de baja al Operador Jefe de Turno dé un click en botón Confirmar .  En \\ncaso contrario seleccione botón Cancelar . \\n3. AdC actualizará la lista de Operador es Jefe de Turno , observe que el registro eliminado \\nya no será mostrado en la lista.  \\nProcedimiento: Habilitar/Deshabilitar  Operador Jefe de Turno  \\nEste procedimiento permite habilitar o deshabilitar un Operador Jefe de Turno .  La acción \\ndependerá del estado habilitado o deshabilitado que guarde un registro.  \\nPaso  Actividad  \\n1. Seleccionar Catálogo Operador es Jefe de Turno  \\n2. Deshabilitar registro:  \\nSeleccione   el Operador Jefe de Turno cuyo estado sea Habilitado y enseguida dé click en  \\nbotón Deshabilitar.  \\nAdC enviará confirmación en el área de mensajes indicando el resultado de la acción:  \\n \\nObserve que el botón Deshabilitar será desactivado para el Operador Jefe de Turno \\nseleccionado y el botón Habilitar será activado.  \\n3. Habilitar registro:  \\nSeleccione   el Operador Jefe de Turno cuyo estado sea Deshabilitado y enseguida dé click \\nen botón Habilitar.  \\nAdC enviará confirmación en el área de mensajes indicando el resultado de la acción.', metadata=TextMetadata(source='../datos/documentos\\\\SIE-DOC-REL-MAN_002_00 (1).pdf', reference='23b56c7b-a7ee-4a99-8242-d0b760fa1154', collection='documentos', filename='SIE-DOC-REL-MAN_002_00 (1).pdf', total_pages=92, page_number=35, title='Estatuto de Trabajo', author='Ignacio Estrada', subject='Sistemas SCADA/EMS del CENACE', keywords='C_Confidential', creator='Microsoft® Word 2016', creationdate=\"D:20220323203105-06'00'\", moddate=\"D:20220323203105-06'00'\", producer='Microsoft® Word 2016')),\n",
       " Text(content='Seleccione   el Operador Jefe de Turno cuyo estado sea Deshabilitado y enseguida dé click \\nen botón Habilitar.  \\nAdC enviará confirmación en el área de mensajes indicando el resultado de la acción.  \\n \\nObserve que el botón Habilitar será desactivado para el Operador Jefe de Turno \\nseleccionado  y el botón Deshabilitar será activado nuevamente.', metadata=TextMetadata(source='../datos/documentos\\\\SIE-DOC-REL-MAN_002_00 (1).pdf', reference='23b56c7b-a7ee-4a99-8242-d0b760fa1154', collection='documentos', filename='SIE-DOC-REL-MAN_002_00 (1).pdf', total_pages=92, page_number=35, title='Estatuto de Trabajo', author='Ignacio Estrada', subject='Sistemas SCADA/EMS del CENACE', keywords='C_Confidential', creator='Microsoft® Word 2016', creationdate=\"D:20220323203105-06'00'\", moddate=\"D:20220323203105-06'00'\", producer='Microsoft® Word 2016')),\n",
       " Text(content='Control de Cambios  \\nFecha: 20/02/2021  Proyecto: Sistemas SCADA/EMS del CENACE  \\nSIE-DOC -REL-MAN _002_00 \\n \\nConfidential  \\nUpdated 28/02/2018  Versión: 0  Página 36 of  92 \\nAutor: Ignacio Estrada   Restricted © Siemens AG, 2018. All rights reserved.   \\n 4. AdC actualizará la lista de Operador es Jefe de Turno de acuerdo al cambio aplicado via la \\ncolumna ESTADO . \\n \\n \\n2.8 Catálogo Operadores Jornada Nocturna  \\nDe acuerdo a la Tabla 2, las funciones que aplican al Catálogo de Operadores Jornada Nocturna \\nincluye las siguientes:  \\n\\uf0a7 Añadir Operador Jornada Nocturna  \\n\\uf0a7 Dar de baja Operador Jornada Nocturna  \\n\\uf0a7 Habilitar/Inhabilitar Operador Jornada Nocturna  \\n \\nEl mantenimiento de éste Catálogo aplica a cualquier  Nivel de Administración.  \\n \\nProcedimiento: Añadir Operador es Jornada Nocturna  \\nPaso  Actividad  \\n1. Seleccionar Catálogo Operador es Jornada Nocturna  \\n2. Dé click en  botón Nuevo  \\nAdC mostrará  la ventana para crear un nuevo Operador Jornada Nocturna : \\n \\nSeleccione el dato  requeridos y dé click en botón Guardar .   \\n3. AdC añadirá al nuevo Operador Jornada Nocturna a la lista  \\n \\nProcedimiento: Dar de baja Operador es Jornada Nocturna  \\nPaso  Actividad  \\n1. Seleccionar Catálogo Operador es Jornada Nocturna  \\n2. Seleccione   el Operador Jornada Nocturna a dar de baja y enseguida dé click en  botón \\nEliminar  \\nAdC mostrará  ventana con el Operador Jornada Nocturna a ser dado de baja.', metadata=TextMetadata(source='../datos/documentos\\\\SIE-DOC-REL-MAN_002_00 (1).pdf', reference='23b56c7b-a7ee-4a99-8242-d0b760fa1154', collection='documentos', filename='SIE-DOC-REL-MAN_002_00 (1).pdf', total_pages=92, page_number=36, title='Estatuto de Trabajo', author='Ignacio Estrada', subject='Sistemas SCADA/EMS del CENACE', keywords='C_Confidential', creator='Microsoft® Word 2016', creationdate=\"D:20220323203105-06'00'\", moddate=\"D:20220323203105-06'00'\", producer='Microsoft® Word 2016')),\n",
       " Text(content='Control de Cambios  \\nFecha: 20/02/2021  Proyecto: Sistemas SCADA/EMS del CENACE  \\nSIE-DOC -REL-MAN _002_00 \\n \\nConfidential  \\nUpdated 28/02/2018  Versión: 0  Página 37 of  92 \\nAutor: Ignacio Estrada   Restricted © Siemens AG, 2018. All rights reserved.   \\n  \\nDé un click en botón Eliminar . AdC mostrará ventana de Confirmación.  \\n \\nPara aceptar dar de baja al Operador Jornada Nocturna  dé un click en botón Confirmar .  \\nEn caso contrario seleccione botón Cancelar . \\n3. AdC actualizará la lista de Operador es Jornada Nocturna , observe que el registro \\neliminado ya no será mostrado en la lista.  \\nProcedimiento: Habilitar/Deshabilitar  Operador es Jornada Nocturna  \\nEste procedimiento permite habilitar o deshabilitar un Operador Jornada Nocturna .  La acción \\ndependerá del estado habilitado o deshabili tado que guarde un registro.  \\nPaso  Actividad  \\n1. Seleccionar Catálogo Operador es Jornada Nocturna  \\n2. Deshabilitar registro:  \\nSeleccione   el Operador Jornada Nocturna cuyo estado sea Habilitado y enseguida dé \\nclick en  botón Deshabilitar.  \\nAdC enviará confirmación en el área de mensajes indicando el resultado de la acción:  \\n \\nObserve que el botón Deshabilitar será desactivado para el Operador Jornada Nocturna \\nseleccionado y el botón Habilitar será activado.  \\n3. Habilitar registro:  \\nSeleccione   el Operador Jornada Nocturna cuyo estado sea Deshabilitado y enseguida dé \\nclick en  botón Habilitar.', metadata=TextMetadata(source='../datos/documentos\\\\SIE-DOC-REL-MAN_002_00 (1).pdf', reference='23b56c7b-a7ee-4a99-8242-d0b760fa1154', collection='documentos', filename='SIE-DOC-REL-MAN_002_00 (1).pdf', total_pages=92, page_number=37, title='Estatuto de Trabajo', author='Ignacio Estrada', subject='Sistemas SCADA/EMS del CENACE', keywords='C_Confidential', creator='Microsoft® Word 2016', creationdate=\"D:20220323203105-06'00'\", moddate=\"D:20220323203105-06'00'\", producer='Microsoft® Word 2016')),\n",
       " Text(content='seleccionado y el botón Habilitar será activado.  \\n3. Habilitar registro:  \\nSeleccione   el Operador Jornada Nocturna cuyo estado sea Deshabilitado y enseguida dé \\nclick en  botón Habilitar.  \\nAdC enviará confirmación en el área de mensajes indicando el resultado de la acción.  \\n \\nObserve que el botón Habilitar será desactivado para el Operador Jornada  Nocturna \\nseleccionado  y el botón Deshabilitar será activado nuevamente.', metadata=TextMetadata(source='../datos/documentos\\\\SIE-DOC-REL-MAN_002_00 (1).pdf', reference='23b56c7b-a7ee-4a99-8242-d0b760fa1154', collection='documentos', filename='SIE-DOC-REL-MAN_002_00 (1).pdf', total_pages=92, page_number=37, title='Estatuto de Trabajo', author='Ignacio Estrada', subject='Sistemas SCADA/EMS del CENACE', keywords='C_Confidential', creator='Microsoft® Word 2016', creationdate=\"D:20220323203105-06'00'\", moddate=\"D:20220323203105-06'00'\", producer='Microsoft® Word 2016')),\n",
       " Text(content='Control de Cambios  \\nFecha: 20/02/2021  Proyecto: Sistemas SCADA/EMS del CENACE  \\nSIE-DOC -REL-MAN _002_00 \\n \\nConfidential  \\nUpdated 28/02/2018  Versión: 0  Página 38 of  92 \\nAutor: Ignacio Estrada   Restricted © Siemens AG, 2018. All rights reserved.   \\n 4. AdC actualizará la lista de Operador es Jornada Nocturna de acuerdo al cambio aplicado \\nvia la columna ESTADO . \\n \\n \\n2.9 Catálogo Supervisores de Eventos y Licencias  \\nDe acuerdo a la Tabla 2, las funciones que aplican al Catálogo de Supervisores de Eventos y \\nLicencias incluye las siguientes:  \\n\\uf0a7 Añadir Supervisor  \\n\\uf0a7 Dar de baja Supervisor  \\n\\uf0a7 Habilitar/Inhabilitar Supervisor  \\nEl mantenimiento de éste Catálogo aplica a cualquier  Ni vel de Administración.  \\n \\nProcedimiento: Añadir Supervisor  \\nPaso  Actividad  \\n1. Seleccionar Catálogo Supervisores de Eventos y Licencias  \\n2. Dé click en  botón Nuevo  \\nAdC mostrará  la ventana para crear un nuevo Supervisor:  \\n \\nSeleccione los datos requeridos y dé click en botón Guardar . \\nObserve que a partir de la selección del campo Subsistema se creará un Supervisor ya \\nsea de Eventos o Licencias, los cuales tendrán diferente alcance funcional.   \\n3. AdC añadirá al nuevo Supervi sor a la lista  \\n \\nProcedimiento: Dar de baja Supervisor  \\nPaso  Actividad  \\n1. Seleccionar Catálogo Supervisores de Eventos y Licencias  \\n2. Seleccione   el Supervisor a dar de baja y enseguida dé click en  botón Eliminar', metadata=TextMetadata(source='../datos/documentos\\\\SIE-DOC-REL-MAN_002_00 (1).pdf', reference='23b56c7b-a7ee-4a99-8242-d0b760fa1154', collection='documentos', filename='SIE-DOC-REL-MAN_002_00 (1).pdf', total_pages=92, page_number=38, title='Estatuto de Trabajo', author='Ignacio Estrada', subject='Sistemas SCADA/EMS del CENACE', keywords='C_Confidential', creator='Microsoft® Word 2016', creationdate=\"D:20220323203105-06'00'\", moddate=\"D:20220323203105-06'00'\", producer='Microsoft® Word 2016')),\n",
       " Text(content='Control de Cambios  \\nFecha: 20/02/2021  Proyecto: Sistemas SCADA/EMS del CENACE  \\nSIE-DOC -REL-MAN _002_00 \\n \\nConfidential  \\nUpdated 28/02/2018  Versión: 0  Página 39 of  92 \\nAutor: Ignacio Estrada   Restricted © Siemens AG, 2018. All rights reserved.   \\n AdC mostrará  ventana con el Supervisor a ser dado de baja.  \\n \\nDé un click en botón Eliminar . AdC mostrará ventana de Confirmación.  \\n \\nPara aceptar dar de baja al Supervisor  dé un click en botón Confirmar .  En caso contrario \\nseleccione botón Cancelar . \\n3. AdC actualizará la lista de Supervisores , observe que el registro eliminado ya no será \\nmostrado en la lista.  \\nProcedimiento: Habilitar/Deshabilitar  Supervisor  \\nEste procedimiento permite habilitar o deshabilitar un Supervisor .  La acción dependerá del estado \\nhabilitado o deshabilitado que guarde u n registro.  \\nPaso  Actividad  \\n1. Seleccionar Catálogo Supervisores de Eventos y Licencias  \\n2. Deshabilitar registro:  \\nSeleccione   el Supervisor cuyo estado sea Habilitado y enseguida dé click en  botón \\nDeshabilitar.  \\nAdC enviará confirmación en el área de mensajes indicando el resultado de la acción:  \\n \\nObserve que el botón Deshabilitar será desactivado para el Supervisor  seleccionado y el \\nbotón Habilitar será activado.  \\n3. Habilitar registro:  \\nSeleccione   el Supervisor cuyo estado sea Deshabilitado y enseguida dé click en  botón \\nHabilitar.  \\nAdC enviará confirmación en el área de mensajes indicando el resultado de la acción.', metadata=TextMetadata(source='../datos/documentos\\\\SIE-DOC-REL-MAN_002_00 (1).pdf', reference='23b56c7b-a7ee-4a99-8242-d0b760fa1154', collection='documentos', filename='SIE-DOC-REL-MAN_002_00 (1).pdf', total_pages=92, page_number=39, title='Estatuto de Trabajo', author='Ignacio Estrada', subject='Sistemas SCADA/EMS del CENACE', keywords='C_Confidential', creator='Microsoft® Word 2016', creationdate=\"D:20220323203105-06'00'\", moddate=\"D:20220323203105-06'00'\", producer='Microsoft® Word 2016')),\n",
       " Text(content='Seleccione   el Supervisor cuyo estado sea Deshabilitado y enseguida dé click en  botón \\nHabilitar.  \\nAdC enviará confirmación en el área de mensajes indicando el resultado de la acción.  \\n \\nObserve que el botón Habilitar será desactivado para el Supervisor  seleccionado  y el \\nbotón Deshabilitar será activado nuevamente.', metadata=TextMetadata(source='../datos/documentos\\\\SIE-DOC-REL-MAN_002_00 (1).pdf', reference='23b56c7b-a7ee-4a99-8242-d0b760fa1154', collection='documentos', filename='SIE-DOC-REL-MAN_002_00 (1).pdf', total_pages=92, page_number=39, title='Estatuto de Trabajo', author='Ignacio Estrada', subject='Sistemas SCADA/EMS del CENACE', keywords='C_Confidential', creator='Microsoft® Word 2016', creationdate=\"D:20220323203105-06'00'\", moddate=\"D:20220323203105-06'00'\", producer='Microsoft® Word 2016')),\n",
       " Text(content='Control de Cambios  \\nFecha: 20/02/2021  Proyecto: Sistemas SCADA/EMS del CENACE  \\nSIE-DOC -REL-MAN _002_00 \\n \\nConfidential  \\nUpdated 28/02/2018  Versión: 0  Página 40 of  92 \\nAutor: Ignacio Estrada   Restricted © Siemens AG, 2018. All rights reserved.   \\n 4. AdC actualizará la lista de Supervisores  de acuerdo al cambio aplicado via la columna \\nHABILITADO . \\n \\n \\n2.10 Catálogo Relevadores  \\nDe acuerdo a la Tabla 2, las funciones que aplican al Catálogo de Relevadores  incluye  las \\nsiguientes:  \\n\\uf0a7 Añadir Relevador  \\n\\uf0a7 Dar de baja Supervisor  \\nEl mantenimiento de éste Catálogo aplica a cualquier  Nivel de Administración.  \\n \\nProcedimiento: Añadir Relevador  \\nPaso  Actividad  \\n1. Seleccionar Catálogo Relevadores  \\n2. Dé click en  botón Nuevo  \\nAdC mostrará  la ventana para agregar  un nuevo Relevadores : \\n \\nDonde:  \\nNombre de Relevador:  máximo  6 caracteres  \\n \\nProporcione el dato requerido  y dé click en botón Guardar . \\n3. AdC añadirá el nuevo Relevador  a la lista  \\n \\nProcedimiento: Dar de baja Relevador  \\nPaso  Actividad  \\n1. Seleccionar Catálogo Relevadores  \\n2. Seleccione   el Relevador  a dar de baja y enseguida dé click en  botón Eliminar', metadata=TextMetadata(source='../datos/documentos\\\\SIE-DOC-REL-MAN_002_00 (1).pdf', reference='23b56c7b-a7ee-4a99-8242-d0b760fa1154', collection='documentos', filename='SIE-DOC-REL-MAN_002_00 (1).pdf', total_pages=92, page_number=40, title='Estatuto de Trabajo', author='Ignacio Estrada', subject='Sistemas SCADA/EMS del CENACE', keywords='C_Confidential', creator='Microsoft® Word 2016', creationdate=\"D:20220323203105-06'00'\", moddate=\"D:20220323203105-06'00'\", producer='Microsoft® Word 2016')),\n",
       " Text(content='Control de Cambios  \\nFecha: 20/02/2021  Proyecto: Sistemas SCADA/EMS del CENACE  \\nSIE-DOC -REL-MAN _002_00 \\n \\nConfidential  \\nUpdated 28/02/2018  Versión: 0  Página 41 of  92 \\nAutor: Ignacio Estrada   Restricted © Siemens AG, 2018. All rights reserved.   \\n AdC mostrará  ventana con el Relevador a ser dado de baja.  \\n \\nDé un click en botón Eliminar . AdC mostrará ventana de Confirmación.  \\n \\nPara aceptar dar de baja al Relevador   dé un click en botón Confirmar .  En caso contrario \\nseleccione botón Cancelar . \\n3. AdC actualizará la lista de Relevadores , observe que el registro eliminado ya no será \\nmostrado en la lista.  \\n2.11 Catálogo Claves  Operativa s Inversas  \\nDe acuerdo a la Tabla 2, las funciones que aplican al Catálogo de Claves Operativas Inversas \\nincluye las siguientes:  \\n\\uf0a7 Añadir Clave Operativa Inversa  \\n\\uf0a7 Modificar Clave Operativa Inversa  \\n\\uf0a7 Borrar Clave Operativa Inversa  \\nEl mantenimiento  de éste Catálogo aplica a todos  los  Nivel de Administración.  \\n \\nProcedimiento: Añadir Clave Operativa Inversa  \\nPaso  Actividad  \\n1. Seleccionar Catálogo Claves Operativas Inversas  \\n2. Dé click en  botón Nuevo  \\nAdC mostrará  la ventana para crear una nueva Clave operativa inversa ,', metadata=TextMetadata(source='../datos/documentos\\\\SIE-DOC-REL-MAN_002_00 (1).pdf', reference='23b56c7b-a7ee-4a99-8242-d0b760fa1154', collection='documentos', filename='SIE-DOC-REL-MAN_002_00 (1).pdf', total_pages=92, page_number=41, title='Estatuto de Trabajo', author='Ignacio Estrada', subject='Sistemas SCADA/EMS del CENACE', keywords='C_Confidential', creator='Microsoft® Word 2016', creationdate=\"D:20220323203105-06'00'\", moddate=\"D:20220323203105-06'00'\", producer='Microsoft® Word 2016')),\n",
       " Text(content='Control de Cambios  \\nFecha: 20/02/2021  Proyecto: Sistemas SCADA/EMS del CENACE  \\nSIE-DOC -REL-MAN _002_00 \\n \\nConfidential  \\nUpdated 28/02/2018  Versión: 0  Página 42 of  92 \\nAutor: Ignacio Estrada   Restricted © Siemens AG, 2018. All rights reserved.   \\n Seleccione  los datos requeridos y dé click en botón Guardar . \\nObserve que el campo Clave Operativa  no puede estar repetida en este Catálogo.  \\n3. En caso que la combinación de la clave operativa resultante de ambas claves \\n(separadas por una diagonal) no exista en el Catálogo de Claves de Operación, se \\nenviará el siguiente mensaje:  \\n \\n4. Si la clave resultante existe, AdC añadirá la nueva Clave operativa a la lista  \\n \\nProcedimiento: Modificar Clave  Operativa Inversa  \\nPaso  Actividad  \\n1. Seleccionar Catálogo Claves Operativas Inversas  \\n2. Seleccione   la Clave operativa a modificar y enseguida dé click en  botón Editar  \\nAdC mostrará  la ventana para editar la Clave operativa seleccionada , \\n \\nObserve que la modificación de una Clave operativa sólo permitirá la edición del campo \\nClave Operativa Inversa .  Complete los cambios requeridos y dé un click en botón Guardar . \\n3. AdC actualizará la Clave operativa inversa seleccionada  \\n \\nProcedimiento: Borrar  Clave  Operativa Inversa  \\nPaso  Actividad  \\n1. Seleccionar Catálogo Claves Operativas Inversas', metadata=TextMetadata(source='../datos/documentos\\\\SIE-DOC-REL-MAN_002_00 (1).pdf', reference='23b56c7b-a7ee-4a99-8242-d0b760fa1154', collection='documentos', filename='SIE-DOC-REL-MAN_002_00 (1).pdf', total_pages=92, page_number=42, title='Estatuto de Trabajo', author='Ignacio Estrada', subject='Sistemas SCADA/EMS del CENACE', keywords='C_Confidential', creator='Microsoft® Word 2016', creationdate=\"D:20220323203105-06'00'\", moddate=\"D:20220323203105-06'00'\", producer='Microsoft® Word 2016')),\n",
       " Text(content='Control de Cambios  \\nFecha: 20/02/2021  Proyecto: Sistemas SCADA/EMS del CENACE  \\nSIE-DOC -REL-MAN _002_00 \\n \\nConfidential  \\nUpdated 28/02/2018  Versión: 0  Página 43 of  92 \\nAutor: Ignacio Estrada   Restricted © Siemens AG, 2018. All rights reserved.   \\n 2. Seleccione   la Clave operativa inversa a borrar y enseguida dé click en  botón Eliminar  \\nAdC mostrará  ventana con la Clave operativa inversa a ser borrada , \\n \\nDé un click en botón Eliminar . AdC mostrará ventana de Confirmación.  \\n \\nPara aceptar el borrado de la clave dé un click en botón Confirmar .  En caso contrario \\nseleccione botón Cancelar . \\n3. AdC actualizará la lista de Claves operativas  inversas , observe que el registro eliminado \\nya no será mostrado en la lista . \\n \\n2.12 Catálogo Enviar por def ecto a Eventos  \\nDe acuerdo a la Tabla 2, las funciones que aplican al Catálogo de Enviar por def ecto a Eventos \\nincluye las siguientes:  \\n\\uf0a7 Añadir Registro  \\n\\uf0a7 Borrar Registro  \\nEl mantenimiento de éste Catálogo aplica a todos  los  Nivel de Administración.  \\nEn este caso un registro en éste Catálogo estará compuesto por la combinación de un tipo de \\nEquipo y una Clave O perativa.  \\n \\nProcedimiento: Añadir Registro  \\nPaso  Actividad  \\n1. Seleccionar Catálogo Enviar por default a Eventos  \\n2. Dé click en  botón Nuevo  \\nAdC mostrará  la ventana para agregar un nuevo registro ,', metadata=TextMetadata(source='../datos/documentos\\\\SIE-DOC-REL-MAN_002_00 (1).pdf', reference='23b56c7b-a7ee-4a99-8242-d0b760fa1154', collection='documentos', filename='SIE-DOC-REL-MAN_002_00 (1).pdf', total_pages=92, page_number=43, title='Estatuto de Trabajo', author='Ignacio Estrada', subject='Sistemas SCADA/EMS del CENACE', keywords='C_Confidential', creator='Microsoft® Word 2016', creationdate=\"D:20220323203105-06'00'\", moddate=\"D:20220323203105-06'00'\", producer='Microsoft® Word 2016')),\n",
       " Text(content='Control de Cambios  \\nFecha: 20/02/2021  Proyecto: Sistemas SCADA/EMS del CENACE  \\nSIE-DOC -REL-MAN _002_00 \\n \\nConfidential  \\nUpdated 28/02/2018  Versión: 0  Página 44 of  92 \\nAutor: Ignacio Estrada   Restricted © Siemens AG, 2018. All rights reserved.   \\n  \\nSeleccione  los datos requeridos y dé click en botón Guardar . \\nObserve que la combinación de ambos campos  no puede estar repetida en este \\nCatálogo.  \\n3. AdC añadirá la nueva Clave operativa a la lista  \\n \\nProcedimiento: Borrar  Registro  \\nPaso  Actividad  \\n1. Seleccionar Catálogo Enviar por default a Eventos  \\n2. Seleccione   registro  a borrar y enseguida dé click en  botón Eliminar  \\nAdC mostrará  la siguiente ventana con el registro a ser borrado:  \\n \\nDé un click en botón Eliminar . AdC mostrará ventana de Confirmación.  \\n \\nPara aceptar el borrado del registro  dé un click en botón Confirmar .  En caso contrario \\nseleccione botón Cancelar . \\n3. AdC actualizará la lista de registros para envío por default a Eventos , observe que el \\nregistro eliminado ya no será mostrado en la lista.', metadata=TextMetadata(source='../datos/documentos\\\\SIE-DOC-REL-MAN_002_00 (1).pdf', reference='23b56c7b-a7ee-4a99-8242-d0b760fa1154', collection='documentos', filename='SIE-DOC-REL-MAN_002_00 (1).pdf', total_pages=92, page_number=44, title='Estatuto de Trabajo', author='Ignacio Estrada', subject='Sistemas SCADA/EMS del CENACE', keywords='C_Confidential', creator='Microsoft® Word 2016', creationdate=\"D:20220323203105-06'00'\", moddate=\"D:20220323203105-06'00'\", producer='Microsoft® Word 2016')),\n",
       " Text(content='Control de Cambios  \\nFecha: 20/02/2021  Proyecto: Sistemas SCADA/EMS del CENACE  \\nSIE-DOC -REL-MAN _002_00 \\n \\nConfidential  \\nUpdated 28/02/2018  Versión: 0  Página 45 of  92 \\nAutor: Ignacio Estrada   Restricted © Siemens AG, 2018. All rights reserved.   \\n  \\n2.13 Catálogo Parámetros Globales  \\nDe acuerdo a la Tabla 1, el Catálogo de Parámetros Globales  sólo permite la función de edición:  \\nEl mantenimiento de éste Catálogo aplica solamente al  Nivel de Administración.del Nivel \\nJerárquico 1.  \\nCada parámetro contenido en éste Catálogo es susceptible de ser modificado estableciendo de esta \\nmanera la Configuración f uncional correspondiente o dónde aplique.  \\nSe podrá acceder a la ventana de díalogo de cada parámetro ya sea seleccionando un parámetro \\nde la lista y dándo click en el botón Editar, o seleccionando un parámetro y dando click con botón \\nsecundario del ratón ó dando un doble click en el renglón del parámetro  ó presionando tecla F4 \\nsobre el parámetro seleccionado. . \\nEl título de cada Parámetro está diseñado para auto -describir  la función que le corresponde.  \\n \\nProcedimiento: Modificar Parámetros Globales  \\nPaso  Actividad  \\n1. Seleccionar Catálogo Configuración de Parámetros Globales  \\n2. Parámetro CUENTA PARA ENVÍO DE CORREOS  \\nSeleccione   parámetro y dé click en  botón Editar  \\nAdC mostrará  la ventana para editar el parámetro seleccionado:  \\n \\nDonde:  \\nCuenta de correo : máximo  64 caracteres', metadata=TextMetadata(source='../datos/documentos\\\\SIE-DOC-REL-MAN_002_00 (1).pdf', reference='23b56c7b-a7ee-4a99-8242-d0b760fa1154', collection='documentos', filename='SIE-DOC-REL-MAN_002_00 (1).pdf', total_pages=92, page_number=45, title='Estatuto de Trabajo', author='Ignacio Estrada', subject='Sistemas SCADA/EMS del CENACE', keywords='C_Confidential', creator='Microsoft® Word 2016', creationdate=\"D:20220323203105-06'00'\", moddate=\"D:20220323203105-06'00'\", producer='Microsoft® Word 2016')),\n",
       " Text(content='Seleccione   parámetro y dé click en  botón Editar  \\nAdC mostrará  la ventana para editar el parámetro seleccionado:  \\n \\nDonde:  \\nCuenta de correo : máximo  64 caracteres  \\nComplete los cambios requeridos y dé un click en botón Guardar .  AdC actualizará el \\nparámetro seleccionado  \\n3. Parámetro CLAVE OPERATIVA PARA EVENTO DE CONCESIÓN DE LICENCIA PROGRAMADA  \\nSeleccione   parámetro y dé click en  botón Editar  \\nAdC mostrará  la ventana para editar el parámetro seleccionado:', metadata=TextMetadata(source='../datos/documentos\\\\SIE-DOC-REL-MAN_002_00 (1).pdf', reference='23b56c7b-a7ee-4a99-8242-d0b760fa1154', collection='documentos', filename='SIE-DOC-REL-MAN_002_00 (1).pdf', total_pages=92, page_number=45, title='Estatuto de Trabajo', author='Ignacio Estrada', subject='Sistemas SCADA/EMS del CENACE', keywords='C_Confidential', creator='Microsoft® Word 2016', creationdate=\"D:20220323203105-06'00'\", moddate=\"D:20220323203105-06'00'\", producer='Microsoft® Word 2016')),\n",
       " Text(content='Control de Cambios  \\nFecha: 20/02/2021  Proyecto: Sistemas SCADA/EMS del CENACE  \\nSIE-DOC -REL-MAN _002_00 \\n \\nConfidential  \\nUpdated 28/02/2018  Versión: 0  Página 46 of  92 \\nAutor: Ignacio Estrada   Restricted © Siemens AG, 2018. All rights reserved.   \\n  \\nComplete los cambios requeridos y dé un click en botón Guardar .  AdC actualizará el \\nparámetro seleccionado  \\n4. Parámetro CLAVE OPERATIVA PARA EVENTO DE CONCESIÓN DE LICENCIA DE EMERGENCIA  \\nSeleccione   parámetro y dé click en  botón Editar  \\nAdC mostrará  la ventana para editar el parámetro seleccionado:  \\n \\nComplete los cambios requeridos y dé un click en botón Guardar .  AdC actualizará el \\nparámetro seleccionado  \\n5. Parámetro TIEMPO DE ADVERTENCIA  ANTES DE LA CONCESIÓN DE SOLICITUD AUTORIZADA \\n(MINUTOS)  \\nSeleccione   parámetro y dé click en  botón Editar  \\nAdC mostrará  la ventana para editar el parámetro seleccionado:  \\n \\nComplete los cambios requeridos y dé un click en botón Guardar .  AdC actualizará el \\nparámetro seleccionado  \\n6. Parámetro TIEMPO DE ADVERTENCIA DE EXPIRACIÓN DE UNA SOLICITUD (MINUTOS)  \\nSeleccione   parámetro y dé click en  botón Editar  \\nAdC mostrará  la ventana para editar el parámetro seleccionado:', metadata=TextMetadata(source='../datos/documentos\\\\SIE-DOC-REL-MAN_002_00 (1).pdf', reference='23b56c7b-a7ee-4a99-8242-d0b760fa1154', collection='documentos', filename='SIE-DOC-REL-MAN_002_00 (1).pdf', total_pages=92, page_number=46, title='Estatuto de Trabajo', author='Ignacio Estrada', subject='Sistemas SCADA/EMS del CENACE', keywords='C_Confidential', creator='Microsoft® Word 2016', creationdate=\"D:20220323203105-06'00'\", moddate=\"D:20220323203105-06'00'\", producer='Microsoft® Word 2016')),\n",
       " Text(content='Control de Cambios  \\nFecha: 20/02/2021  Proyecto: Sistemas SCADA/EMS del CENACE  \\nSIE-DOC -REL-MAN _002_00 \\n \\nConfidential  \\nUpdated 28/02/2018  Versión: 0  Página 47 of  92 \\nAutor: Ignacio Estrada   Restricted © Siemens AG, 2018. All rights reserved.   \\n  \\nComplete los cambios reque ridos y dé un click en botón Guardar .  AdC actualizará el \\nparámetro seleccionado  \\n7. Parámetro TIEMPO DE EXPIRACIÓN DE SOLICITUD (MINUTOS)  \\nSeleccione   parámetro y dé click en  botón Editar  \\nAdC mostrará  la ventana para editar el parámetro seleccionado:  \\n \\nComplete los cambios requeridos y dé un click en botón Guardar .  AdC actualizará el \\nparámetro seleccionado  \\n8. Parámetro TIEMPO DE ADVERTENCIA ANTES DE RETIRO DE LICENCIA (MINUTOS)  \\nSeleccione   parámetro y dé click en  botón Editar  \\nAdC mostrará  la ventana para editar el parámetro seleccionado:  \\n \\nComplete los cambios requeridos y dé un click en botón Guardar .  AdC actualizará el \\nparámetro seleccionado  \\n9. Parámetro TIEMPO DE ADVERTENCIA ANTES DE EXPIRACIÓN DE LICENCIA (MINUTOS)  \\nSeleccione   parámetro y dé click en  botón Editar  \\nAdC mostrará  la ventana para editar el parámetro seleccionado:', metadata=TextMetadata(source='../datos/documentos\\\\SIE-DOC-REL-MAN_002_00 (1).pdf', reference='23b56c7b-a7ee-4a99-8242-d0b760fa1154', collection='documentos', filename='SIE-DOC-REL-MAN_002_00 (1).pdf', total_pages=92, page_number=47, title='Estatuto de Trabajo', author='Ignacio Estrada', subject='Sistemas SCADA/EMS del CENACE', keywords='C_Confidential', creator='Microsoft® Word 2016', creationdate=\"D:20220323203105-06'00'\", moddate=\"D:20220323203105-06'00'\", producer='Microsoft® Word 2016')),\n",
       " Text(content='Control de Cambios  \\nFecha: 20/02/2021  Proyecto: Sistemas SCADA/EMS del CENACE  \\nSIE-DOC -REL-MAN _002_00 \\n \\nConfidential  \\nUpdated 28/02/2018  Versión: 0  Página 48 of  92 \\nAutor: Ignacio Estrada   Restricted © Siemens AG, 2018. All rights reserved.   \\n  \\nComplete los cambios requeridos y dé un click en botón Guardar .  AdC actualizará el \\nparámetro seleccionado  \\n10. Parámetro TIEMPO DE EXPIRACIÓN DE LICENCIA (MINUTOS)  \\nSeleccione   parámetro y dé click en  botón Editar  \\nAdC mostrará  la ventana para editar el parámetro seleccionado:  \\n \\nComplete los cambios requeridos y dé un click en botón Guardar .  AdC actualizará el \\nparámetro seleccionado  \\n11. Parámetro CONCESION DE LICENCIA GENERA AUTOMATICAMENTE EVENTO EN RELATORIO?  \\nSeleccione   parámetro y dé click en  botón Editar  \\nAdC mostrará  la ventana para editar el parámetro seleccionado:  \\n \\nComplete los cambios requeridos y dé un click en botón Guardar .  AdC actuali zará el \\nparámetro seleccionado  \\n12. Parámetro TIEMPO MAXIMO DE CONCESION DE LICENCIAS RETROACTIVAS (MINUTOS)  \\nSeleccione   parámetro y dé click en  botón Editar  \\nAdC mostrará  la ventana para editar el parámetro seleccionado:', metadata=TextMetadata(source='../datos/documentos\\\\SIE-DOC-REL-MAN_002_00 (1).pdf', reference='23b56c7b-a7ee-4a99-8242-d0b760fa1154', collection='documentos', filename='SIE-DOC-REL-MAN_002_00 (1).pdf', total_pages=92, page_number=48, title='Estatuto de Trabajo', author='Ignacio Estrada', subject='Sistemas SCADA/EMS del CENACE', keywords='C_Confidential', creator='Microsoft® Word 2016', creationdate=\"D:20220323203105-06'00'\", moddate=\"D:20220323203105-06'00'\", producer='Microsoft® Word 2016')),\n",
       " Text(content='Control de Cambios  \\nFecha: 20/02/2021  Proyecto: Sistemas SCADA/EMS del CENACE  \\nSIE-DOC -REL-MAN _002_00 \\n \\nConfidential  \\nUpdated 28/02/2018  Versión: 0  Página 49 of  92 \\nAutor: Ignacio Estrada   Restricted © Siemens AG, 2018. All rights reserved.   \\n  \\nComplete los cambios requeridos y dé un click en botón Guardar .  AdC actualizará el \\nparámetro seleccionado  \\n13. Parámetro PRORROGA DE LICENCIA GENERA AUTOMATICAMENTE EVENTO EN RELATORIO? \\n(SI/NO)  \\nSeleccione   parámetro y dé click en  botón Editar  \\nAdC mostrará  la ventana para editar el parámetro seleccionado:  \\n \\nComplete los cambios requeridos y dé un click en botón Guardar .  AdC actualizará el \\nparámetro seleccionado  \\n14. Parámetro RETIRO DE LICENCIA GENERA AUTOMATICAMENTE EVENTO EN RELATORIO? (SI/NO)  \\nSeleccione   parámetro y dé click en  botón Editar  \\nAdC mostrará  la ventana para editar el parámetro seleccionado:  \\n \\nComplete los cambios requeridos y dé un click en botón Guardar .  AdC actualizará el \\nparámetro seleccionado  \\n15. Parámetro EL CAMPO TRABAJOS A REALIZAR E N SOLICITUDES PUEDE SER EDITADO? (SI/NO)  \\nSeleccione   parámetro y dé click en  botón Editar  \\nAdC mostrará  la ventana para editar el parámetro seleccionado:', metadata=TextMetadata(source='../datos/documentos\\\\SIE-DOC-REL-MAN_002_00 (1).pdf', reference='23b56c7b-a7ee-4a99-8242-d0b760fa1154', collection='documentos', filename='SIE-DOC-REL-MAN_002_00 (1).pdf', total_pages=92, page_number=49, title='Estatuto de Trabajo', author='Ignacio Estrada', subject='Sistemas SCADA/EMS del CENACE', keywords='C_Confidential', creator='Microsoft® Word 2016', creationdate=\"D:20220323203105-06'00'\", moddate=\"D:20220323203105-06'00'\", producer='Microsoft® Word 2016')),\n",
       " Text(content='Control de Cambios  \\nFecha: 20/02/2021  Proyecto: Sistemas SCADA/EMS del CENACE  \\nSIE-DOC -REL-MAN _002_00 \\n \\nConfidential  \\nUpdated 28/02/2018  Versión: 0  Página 50 of  92 \\nAutor: Ignacio Estrada   Restricted © Siemens AG, 2018. All rights reserved.   \\n  \\nComplete los cambios requeridos y dé un click en botón Guardar .  AdC actualizará el \\nparámetro seleccionado.  \\n16. Parámetro SE PERMITE PRORROGAR LICENCIAS PROGRAMADAS? (SI/NO)  \\nSeleccione   parámetro y dé click en  botón Editar  \\nAdC mostrará  la ventana para editar el parámetro seleccionado:  \\n \\nComplete los cambios requeridos y dé un click en botón Guardar .  AdC actualizará el \\nparámetro seleccionado.  \\n17. Parámetro SE PERMITE PRORROGAR LICENCIAS DE EMERGENCIA? (SI/NO)  \\nSeleccione   parámetro y dé click en  botón Editar  \\nAdC mostrará  la ventana para e ditar el parámetro seleccionado:  \\n \\nComplete los cambios requeridos y dé un click en botón Guardar .  AdC actualizará el \\nparámetro seleccionado.  \\n18. Parámetro TIEMPO PARA RESTAURAR SOLICITUD AUTORIZADA (MINUTOS)  \\nSeleccione   parámetro y dé click en  botón Editar  \\nAdC mostrará  la ventana para editar el parámetro seleccionado:', metadata=TextMetadata(source='../datos/documentos\\\\SIE-DOC-REL-MAN_002_00 (1).pdf', reference='23b56c7b-a7ee-4a99-8242-d0b760fa1154', collection='documentos', filename='SIE-DOC-REL-MAN_002_00 (1).pdf', total_pages=92, page_number=50, title='Estatuto de Trabajo', author='Ignacio Estrada', subject='Sistemas SCADA/EMS del CENACE', keywords='C_Confidential', creator='Microsoft® Word 2016', creationdate=\"D:20220323203105-06'00'\", moddate=\"D:20220323203105-06'00'\", producer='Microsoft® Word 2016')),\n",
       " Text(content='Control de Cambios  \\nFecha: 20/02/2021  Proyecto: Sistemas SCADA/EMS del CENACE  \\nSIE-DOC -REL-MAN _002_00 \\n \\nConfidential  \\nUpdated 28/02/2018  Versión: 0  Página 51 of  92 \\nAutor: Ignacio Estrada   Restricted © Siemens AG, 2018. All rights reserved.   \\n  \\nComplete los cambios requeridos y dé un click en botón Guardar .  AdC actualizará el \\nparámetro seleccionado.  \\n19. Parámetro CLAVE OPERATIVA PARA EVENTO DE RETIRO DE LICENCIA PROGRAMADA  \\nSeleccione   parámetro y dé click en  botón Editar  \\nAdC mostrará  la ventana para editar el parámetro seleccionado:  \\n \\nComplete los cambios requeridos y dé un click en botón Guardar .  AdC actualizará el \\nparámetro seleccionado.  \\n20. Parámetro CLAVE OPERATIVA PARA EVENTO DE RETIRO DE LICENCIA DE EMERGENCIA  \\nSeleccione   parámetro y dé click en  botón Editar  \\nAdC mostrará  la ventana para editar el parámetro seleccionado:  \\n \\nComplete los cambios requeridos y dé un click en botón Guardar .  AdC actualizará el \\nparámetro seleccionado.  \\n21. Parámetro CLAVE OPERATIVA PARA EVENTO DE RETIRO DE LICENCIA EN OTRO TURNO  \\nSeleccione   parámetro y dé click en  botón Editar  \\nAdC mostrará  la ventana para editar el parámetro seleccionado:', metadata=TextMetadata(source='../datos/documentos\\\\SIE-DOC-REL-MAN_002_00 (1).pdf', reference='23b56c7b-a7ee-4a99-8242-d0b760fa1154', collection='documentos', filename='SIE-DOC-REL-MAN_002_00 (1).pdf', total_pages=92, page_number=51, title='Estatuto de Trabajo', author='Ignacio Estrada', subject='Sistemas SCADA/EMS del CENACE', keywords='C_Confidential', creator='Microsoft® Word 2016', creationdate=\"D:20220323203105-06'00'\", moddate=\"D:20220323203105-06'00'\", producer='Microsoft® Word 2016')),\n",
       " Text(content='Control de Cambios  \\nFecha: 20/02/2021  Proyecto: Sistemas SCADA/EMS del CENACE  \\nSIE-DOC -REL-MAN _002_00 \\n \\nConfidential  \\nUpdated 28/02/2018  Versión: 0  Página 52 of  92 \\nAutor: Ignacio Estrada   Restricted © Siemens AG, 2018. All rights reserved.   \\n  \\nComplete los cambios requeridos y dé un click en botón Guardar .  AdC actualizará el \\nparámetro seleccionado.  \\n22. Parámetro TIEMPO PRELIMINAR PERMITIDO PARA CONCEDER LICENCIA (MINUTOS)  \\nSeleccione   parámetro y dé click en  botón Editar  \\nAdC mostrará  la ventana para editar el parámetro seleccionado:  \\n \\nComplete los cambios requeridos y dé un click en botón Guardar .  AdC actualizará el \\nparámetro seleccionado.  \\n23. Parámetro OPCION PARA CONCESION DE LICENCIA  \\nSeleccione   parámetro y dé click en  botón Editar  \\nAdC mostrará  la ventana para editar el parámetro seleccionado:  \\n \\nComplete los cambios requeridos y dé un click en botón Guardar .  AdC actualizará el \\nparámetro seleccionado.  \\n24. Parámetro NOMBRE DEL SERVIDOR DE CORREO O IP', metadata=TextMetadata(source='../datos/documentos\\\\SIE-DOC-REL-MAN_002_00 (1).pdf', reference='23b56c7b-a7ee-4a99-8242-d0b760fa1154', collection='documentos', filename='SIE-DOC-REL-MAN_002_00 (1).pdf', total_pages=92, page_number=52, title='Estatuto de Trabajo', author='Ignacio Estrada', subject='Sistemas SCADA/EMS del CENACE', keywords='C_Confidential', creator='Microsoft® Word 2016', creationdate=\"D:20220323203105-06'00'\", moddate=\"D:20220323203105-06'00'\", producer='Microsoft® Word 2016')),\n",
       " Text(content='Control de Cambios  \\nFecha: 20/02/2021  Proyecto: Sistemas SCADA/EMS del CENACE  \\nSIE-DOC -REL-MAN _002_00 \\n \\nConfidential  \\nUpdated 28/02/2018  Versión: 0  Página 53 of  92 \\nAutor: Ignacio Estrada   Restricted © Siemens AG, 2018. All rights reserved.   \\n Seleccione   parámetro  y dé click en  botón Editar  \\nAdC mostrará  la ventana para editar el parámetro seleccionado:  \\n \\nComplete los cambios requeridos  \\n25. Parámetro TIEMPO MÁXIMO DE RETENCIÓN DE ALARMAS DEL SCADA (DIAS)  \\nSeleccione   parámetro y dé click en  botón Editar  \\nAdC mostrará  la ventana para editar el parámetro seleccionado:  \\n \\nComplete los cambios requeridos  \\n \\n \\n2.14 Catálogo Parámetros Locales  \\nDe acuerdo a la Tabla 2, el Catálogo de Parámetros Locales  sólo permite la función de edición:  \\nEl mantenimiento de éste Catálogo aplica a cualquier  Nivel de Administración.  \\nCada parámetro contenido en éste Catálogo es susceptible de ser modificado estableciendo de esta \\nmanera la Configuración funcional correspondiente o dónde aplique.  \\nEl título de cada Parámetro está diseñado para auto -describir la función que le corresponde.  \\nSe podrá acceder a la ventana de díalogo de cada parámetro ya sea seleccionando un parámetro \\nde la lista y dándo click en el botón Editar, o seleccionando un parámetro y dando click con botón \\nsecundario del ratón ó dan do un doble click en el renglón del parámetro ó presionando tecla F4 \\nsobre el parámetro seleccionado.  \\n \\nProcedimiento: Modificar Parámetros Locales', metadata=TextMetadata(source='../datos/documentos\\\\SIE-DOC-REL-MAN_002_00 (1).pdf', reference='23b56c7b-a7ee-4a99-8242-d0b760fa1154', collection='documentos', filename='SIE-DOC-REL-MAN_002_00 (1).pdf', total_pages=92, page_number=53, title='Estatuto de Trabajo', author='Ignacio Estrada', subject='Sistemas SCADA/EMS del CENACE', keywords='C_Confidential', creator='Microsoft® Word 2016', creationdate=\"D:20220323203105-06'00'\", moddate=\"D:20220323203105-06'00'\", producer='Microsoft® Word 2016')),\n",
       " Text(content='secundario del ratón ó dan do un doble click en el renglón del parámetro ó presionando tecla F4 \\nsobre el parámetro seleccionado.  \\n \\nProcedimiento: Modificar Parámetros Locales  \\nPaso  Actividad', metadata=TextMetadata(source='../datos/documentos\\\\SIE-DOC-REL-MAN_002_00 (1).pdf', reference='23b56c7b-a7ee-4a99-8242-d0b760fa1154', collection='documentos', filename='SIE-DOC-REL-MAN_002_00 (1).pdf', total_pages=92, page_number=53, title='Estatuto de Trabajo', author='Ignacio Estrada', subject='Sistemas SCADA/EMS del CENACE', keywords='C_Confidential', creator='Microsoft® Word 2016', creationdate=\"D:20220323203105-06'00'\", moddate=\"D:20220323203105-06'00'\", producer='Microsoft® Word 2016')),\n",
       " Text(content='Control de Cambios  \\nFecha: 20/02/2021  Proyecto: Sistemas SCADA/EMS del CENACE  \\nSIE-DOC -REL-MAN _002_00 \\n \\nConfidential  \\nUpdated 28/02/2018  Versión: 0  Página 54 of  92 \\nAutor: Ignacio Estrada   Restricted © Siemens AG, 2018. All rights reserved.   \\n 1. Seleccionar Catálogo Configuración de Parámetros Locales  \\n2. Parámetro FORMATO PARA SELECTOR DE FECHA Y HORA  \\nSeleccione   parámetro y dé click en  botón Editar  \\nAdC mostrará  la ventana para editar el parámetro seleccionado:  \\n \\nSeleccione la opción requerida  y dé un click en botón Guardar .  AdC actualizará el \\nparámetro seleccionado  \\n3. Parámetro FORMATO DE FECHA Y HORA PARA DESPLIEGUE EN GRIDS  \\nSeleccione   parámetro y dé click en  botón Editar  \\nAdC mostrará  la ventana para editar el parámetro seleccionado:  \\n \\nSeleccione la opción requerida y dé un click en botón Guardar .  AdC actualizará el \\nparámetro seleccionado  \\n4. Parámetro FORMATO DE FECHA CORTA  \\nSeleccione   parámetro y dé click en  botón Editar  \\nAdC mostrará  la ventana para editar el parámetro seleccionado:  \\n \\nSeleccione la opción requerida y dé un click en botón Guardar .  AdC actualizará el \\nparámetro seleccionado  \\n5. Parámetro FORMATO DE HORA CORTA', metadata=TextMetadata(source='../datos/documentos\\\\SIE-DOC-REL-MAN_002_00 (1).pdf', reference='23b56c7b-a7ee-4a99-8242-d0b760fa1154', collection='documentos', filename='SIE-DOC-REL-MAN_002_00 (1).pdf', total_pages=92, page_number=54, title='Estatuto de Trabajo', author='Ignacio Estrada', subject='Sistemas SCADA/EMS del CENACE', keywords='C_Confidential', creator='Microsoft® Word 2016', creationdate=\"D:20220323203105-06'00'\", moddate=\"D:20220323203105-06'00'\", producer='Microsoft® Word 2016')),\n",
       " Text(content='Control de Cambios  \\nFecha: 20/02/2021  Proyecto: Sistemas SCADA/EMS del CENACE  \\nSIE-DOC -REL-MAN _002_00 \\n \\nConfidential  \\nUpdated 28/02/2018  Versión: 0  Página 55 of  92 \\nAutor: Ignacio Estrada   Restricted © Siemens AG, 2018. All rights reserved.   \\n Seleccione   parámetro y dé click en  botón Editar  \\nAdC mostrará  la ventana para editar el parámetro seleccionado:  \\n \\nSeleccione la opción requerida y dé un click en botón Guardar .  AdC actualizará el \\nparámetro seleccionado  \\n6. Parámetro FORMATO DE FECHA Y HORA PARA CONCEDER LICENCIAS  \\nSeleccione   parámetro y dé click en  botón Editar  \\nAdC mostrará  la ventana para editar el parámetro seleccionado:  \\n \\nSeleccione la opción requerida y dé un click en botón Guardar .  AdC actualizará el \\nparámetro seleccionado  \\n7. Parámetro s ENCABEZADO X PARA REPORTE DE CIERRE DE TURNO  \\nSeleccione   parámetro  (X) para cada encabezado  y dé click en  botón Editar  \\nAdC mostrará  una  ventana  similar a la siguiente  para editar el parámetro bajo edición \\nseleccionado:  \\n \\nComplete los cambios requeridos para cada parámetro de Título de Reporte y dé un click \\nen botón Guardar .  AdC actualizará el parámetro seleccionado  \\n8. Parámetro GUARDAR RELATORIO USANDO TIPO ORACION (TO) O MAYUSCULAS (M)  \\nSeleccione   parámetro y dé click en  botón Editar', metadata=TextMetadata(source='../datos/documentos\\\\SIE-DOC-REL-MAN_002_00 (1).pdf', reference='23b56c7b-a7ee-4a99-8242-d0b760fa1154', collection='documentos', filename='SIE-DOC-REL-MAN_002_00 (1).pdf', total_pages=92, page_number=55, title='Estatuto de Trabajo', author='Ignacio Estrada', subject='Sistemas SCADA/EMS del CENACE', keywords='C_Confidential', creator='Microsoft® Word 2016', creationdate=\"D:20220323203105-06'00'\", moddate=\"D:20220323203105-06'00'\", producer='Microsoft® Word 2016')),\n",
       " Text(content='Control de Cambios  \\nFecha: 20/02/2021  Proyecto: Sistemas SCADA/EMS del CENACE  \\nSIE-DOC -REL-MAN _002_00 \\n \\nConfidential  \\nUpdated 28/02/2018  Versión: 0  Página 56 of  92 \\nAutor: Ignacio Estrada   Restricted © Siemens AG, 2018. All rights reserved.   \\n AdC mostrará  la ventana para editar el parámetro seleccionado:  \\n \\nComplete los cambios requeridos y dé un click en botón Guardar .  AdC actualizará el \\nparáme tro seleccionado  \\n9. Parámetro GUARDAR EVENTOS USANDO TIPO ORACION (TO) O MAYUSCULAS (M)  \\nSeleccione   parámetro y dé click en  botón Editar  \\nAdC mostrará  la ventana para editar el parámetro seleccionado:  \\n \\nComplete los cambios requeridos y dé un click en botón Guardar .  AdC actualizará el \\nparámetro seleccionado  \\n10. Parámetro PERIODO MAXIMO DE CONSULTA DE RELATORIO HISTORICO (AÑOS)  \\nSeleccione   parámetro y dé click en  botón Editar  \\nAdC mostrará  la ventana para editar el parámetro seleccionado:  \\n \\nComplete los cambios requeridos y dé un click en botón Guardar .  AdC actualizará el \\nparámetro seleccionado  \\n11. Parámetro IMPRESION AUTOMATICA DE REPORTE DEL CIERRE DE TURNO  \\nSeleccione   parámetro y dé cl ick en  botón Editar  \\nAdC mostrará  la ventana para editar el parámetro seleccionado:', metadata=TextMetadata(source='../datos/documentos\\\\SIE-DOC-REL-MAN_002_00 (1).pdf', reference='23b56c7b-a7ee-4a99-8242-d0b760fa1154', collection='documentos', filename='SIE-DOC-REL-MAN_002_00 (1).pdf', total_pages=92, page_number=56, title='Estatuto de Trabajo', author='Ignacio Estrada', subject='Sistemas SCADA/EMS del CENACE', keywords='C_Confidential', creator='Microsoft® Word 2016', creationdate=\"D:20220323203105-06'00'\", moddate=\"D:20220323203105-06'00'\", producer='Microsoft® Word 2016')),\n",
       " Text(content='Control de Cambios  \\nFecha: 20/02/2021  Proyecto: Sistemas SCADA/EMS del CENACE  \\nSIE-DOC -REL-MAN _002_00 \\n \\nConfidential  \\nUpdated 28/02/2018  Versión: 0  Página 57 of  92 \\nAutor: Ignacio Estrada   Restricted © Siemens AG, 2018. All rights reserved.   \\n  \\nComplete los cambios requeridos y dé un click en botón Guardar .  AdC actualizará el \\nparámetro seleccionado  \\n12. Parámetro INCLUIR EVENTOS TEMPORALES EN REPORTES DE EVENTOS  \\nSeleccione   parámetro y dé click en  botón Editar  \\nAdC mostrará  la ventana para editar el parámetro seleccionado:  \\n \\nComplete los cambios requeridos y dé un click en botón Guardar .  AdC actualizará el \\nparámetro seleccionado  \\n13. Parámetro DÍA DEL MES PARA RESET DE N ÚMERO CONSECUTIVO EN SOLICITUDES  \\nSeleccione   parámetro y dé click en  botón Editar  \\nAdC mostrará  la ventana para editar el parámetro seleccionado:  \\n \\nComplete los cambios requeridos y dé un click en botón Guardar .  AdC actualizará el \\nparámetro seleccionado  \\n14. Parámetro MÁXIMO N ÚMERO DE D ÍAS PARA SOLICITUDES DIARIAS FINCADAS DESDE CONSOLA  \\nSeleccione   parámetro y dé click en  botón Editar  \\nAdC mostrará  la ventana para editar el parámetro seleccionado:', metadata=TextMetadata(source='../datos/documentos\\\\SIE-DOC-REL-MAN_002_00 (1).pdf', reference='23b56c7b-a7ee-4a99-8242-d0b760fa1154', collection='documentos', filename='SIE-DOC-REL-MAN_002_00 (1).pdf', total_pages=92, page_number=57, title='Estatuto de Trabajo', author='Ignacio Estrada', subject='Sistemas SCADA/EMS del CENACE', keywords='C_Confidential', creator='Microsoft® Word 2016', creationdate=\"D:20220323203105-06'00'\", moddate=\"D:20220323203105-06'00'\", producer='Microsoft® Word 2016')),\n",
       " Text(content='Control de Cambios  \\nFecha: 20/02/2021  Proyecto: Sistemas SCADA/EMS del CENACE  \\nSIE-DOC -REL-MAN _002_00 \\n \\nConfidential  \\nUpdated 28/02/2018  Versión: 0  Página 58 of  92 \\nAutor: Ignacio Estrada   Restricted © Siemens AG, 2018. All rights reserved.   \\n  \\nComplete los cambios requeridos y dé un click en botón Guardar .  AdC actualizará el \\nparámetro seleccionado  \\n15. Parámetro MÁXIMO N ÚMERO DE D ÍAS PARA SOLICITUDES DIARIAS FINCADAS DESDE WEB  \\nSeleccione   parámetro y dé click en  botón Editar  \\nAdC mostrará  la ventana para editar el parámetro seleccionado:  \\n \\nComplete los cambios requeridos y dé un click en botón Guardar .  AdC actualizará el \\nparámetro seleccionado.  \\n16. Parámetro MÁXIMO N ÚMERO DE D ÍAS PARA SOLICITUDES DIARIAS FINCADAS DESDE \\nAPLICACIONES EXTERNAS  \\nSeleccione   parámetro y dé click en  botón Editar  \\nAdC mostrará  la ventana para editar el parámetro seleccionado:  \\n \\nComplete los cambios requeridos y dé un click en botón Guardar .  AdC actualizará el \\nparámetro seleccionado.  \\n17. Parámetro ALERTA AUDIBLE PARA SUPERVISOR DE LICENCIAS  \\nSeleccione   parámetro y dé click en  botón Editar  \\nAdC mostrará  la ventana para editar el parámetro seleccionado:', metadata=TextMetadata(source='../datos/documentos\\\\SIE-DOC-REL-MAN_002_00 (1).pdf', reference='23b56c7b-a7ee-4a99-8242-d0b760fa1154', collection='documentos', filename='SIE-DOC-REL-MAN_002_00 (1).pdf', total_pages=92, page_number=58, title='Estatuto de Trabajo', author='Ignacio Estrada', subject='Sistemas SCADA/EMS del CENACE', keywords='C_Confidential', creator='Microsoft® Word 2016', creationdate=\"D:20220323203105-06'00'\", moddate=\"D:20220323203105-06'00'\", producer='Microsoft® Word 2016')),\n",
       " Text(content='Control de Cambios  \\nFecha: 20/02/2021  Proyecto: Sistemas SCADA/EMS del CENACE  \\nSIE-DOC -REL-MAN _002_00 \\n \\nConfidential  \\nUpdated 28/02/2018  Versión: 0  Página 59 of  92 \\nAutor: Ignacio Estrada   Restricted © Siemens AG, 2018. All rights reserved.   \\n  \\nSeleccione la opción  requerid a y dé un click en botón Guardar .  AdC actualizará el \\nparámetro seleccionado.  \\n18. Parámetro COLOR DE FONDO EN SOLICITUDES INFORMATIVAS ENVIADAS AL NS  \\nSeleccione   parámetro y dé click en  botón Editar  \\nAdC mostrará  la ventana para editar el parámetro seleccionado:  \\n \\nSeleccione el color  requerido y dé un click en botón Guardar .  AdC actualizará el parámetro \\nseleccionado.  \\n19. Parámetro CLAVE OPERATIVA PARA EVENTO DE RETIRO DE LICENCIA PROGRAMADA  \\nSeleccione   parámetro y dé click en  botón Editar  \\nAdC mostrará  la ventana para editar el parámetro seleccionado:  \\n \\nComplete los cambios requeridos y dé un click en botón Guardar .  AdC actualizará el \\nparámetro seleccionado.  \\n20. Parámetro PERMITIR ENVIO DE CORREO AL CIERRE DE TURNO  \\nSeleccione   parámetro y dé click en  botón Editar  \\nAdC mostrará  la ventana para editar el parámetro seleccionado:', metadata=TextMetadata(source='../datos/documentos\\\\SIE-DOC-REL-MAN_002_00 (1).pdf', reference='23b56c7b-a7ee-4a99-8242-d0b760fa1154', collection='documentos', filename='SIE-DOC-REL-MAN_002_00 (1).pdf', total_pages=92, page_number=59, title='Estatuto de Trabajo', author='Ignacio Estrada', subject='Sistemas SCADA/EMS del CENACE', keywords='C_Confidential', creator='Microsoft® Word 2016', creationdate=\"D:20220323203105-06'00'\", moddate=\"D:20220323203105-06'00'\", producer='Microsoft® Word 2016')),\n",
       " Text(content='Control de Cambios  \\nFecha: 20/02/2021  Proyecto: Sistemas SCADA/EMS del CENACE  \\nSIE-DOC -REL-MAN _002_00 \\n \\nConfidential  \\nUpdated 28/02/2018  Versión: 0  Página 60 of  92 \\nAutor: Ignacio Estrada   Restricted © Siemens AG, 2018. All rights reserved.   \\n Seleccione la opción  requerid a y dé un click en botón Guardar .  AdC actualizará el \\nparámetro seleccionado.  \\n21. Parámetro TEXTO EN EL ASUNTO DEL CORREO A SER ENVIADO EN CIERRE DEL TURNO  \\nSeleccione   parámetro y dé click en  botón Editar  \\nAdC mostrará  la ventana para editar el parámetro seleccionado:  \\n \\nComplete los cambios requeridos y dé un click en botón Guardar .  AdC actualizará el \\nparámetro seleccionado.  \\n22. Parámetro TEXTO EN EL CUERPO DEL CORREO A SER ENVIADO EN CIERRE DEL TURNO  \\nSeleccione   parámetro y dé click en  botón Editar  \\nAdC mostrará  la ventana para editar el parámetro seleccionado:  \\n \\nComplete los cambios requeridos y dé un click en botón Guardar .  AdC actualizará el \\nparámetro seleccionado.  \\n23. Parámetro PERMITIR ENVIO DE CORREO EN SOLICITUDES  \\nSeleccione   parámetro y dé click en  botón Editar  \\nAdC mostrará  la ventana para editar el parámetro seleccionado:', metadata=TextMetadata(source='../datos/documentos\\\\SIE-DOC-REL-MAN_002_00 (1).pdf', reference='23b56c7b-a7ee-4a99-8242-d0b760fa1154', collection='documentos', filename='SIE-DOC-REL-MAN_002_00 (1).pdf', total_pages=92, page_number=60, title='Estatuto de Trabajo', author='Ignacio Estrada', subject='Sistemas SCADA/EMS del CENACE', keywords='C_Confidential', creator='Microsoft® Word 2016', creationdate=\"D:20220323203105-06'00'\", moddate=\"D:20220323203105-06'00'\", producer='Microsoft® Word 2016')),\n",
       " Text(content='Control de Cambios  \\nFecha: 20/02/2021  Proyecto: Sistemas SCADA/EMS del CENACE  \\nSIE-DOC -REL-MAN _002_00 \\n \\nConfidential  \\nUpdated 28/02/2018  Versión: 0  Página 61 of  92 \\nAutor: Ignacio Estrada   Restricted © Siemens AG, 2018. All rights reserved.   \\n  \\nSeleccione la opción  requerid a y dé un click en botón Guardar .  AdC actualizará el \\nparámetro seleccionado.  \\n24. Parámetro TEXTO EN EL ASUNTO DEL CORREO A SER ENVIADO EN AVISO DE SOLICITUDES  \\nSeleccione   parámetro y dé click en  botón Editar  \\nAdC mostrará  la ventana para editar el parámetr o seleccionado:  \\n \\nComplete los cambios requeridos  y dé un click en botón Guardar .  AdC actualizará el \\nparámetro seleccionado.  \\n \\n25. Parámetro TEXTO EN EL CUERPO DEL CORREO A SER ENVIADO EN AVISO DE SOLICITUDES  \\nSeleccione   parámetro y dé click en  botón Editar  \\nAdC mostrará  la ventana para editar el parámetro seleccionado:  \\n \\nComplete los cambios requeridos  y dé un click en botón Guardar .  AdC actualizará el \\nparámetro seleccionado.', metadata=TextMetadata(source='../datos/documentos\\\\SIE-DOC-REL-MAN_002_00 (1).pdf', reference='23b56c7b-a7ee-4a99-8242-d0b760fa1154', collection='documentos', filename='SIE-DOC-REL-MAN_002_00 (1).pdf', total_pages=92, page_number=61, title='Estatuto de Trabajo', author='Ignacio Estrada', subject='Sistemas SCADA/EMS del CENACE', keywords='C_Confidential', creator='Microsoft® Word 2016', creationdate=\"D:20220323203105-06'00'\", moddate=\"D:20220323203105-06'00'\", producer='Microsoft® Word 2016')),\n",
       " Text(content='Control de Cambios  \\nFecha: 20/02/2021  Proyecto: Sistemas SCADA/EMS del CENACE  \\nSIE-DOC -REL-MAN _002_00 \\n \\nConfidential  \\nUpdated 28/02/2018  Versión: 0  Página 62 of  92 \\nAutor: Ignacio Estrada   Restricted © Siemens AG, 2018. All rights reserved.   \\n 26. Parámetro PERMITIR ENVIO DE CORREO EN LICENCIAS  \\nSeleccione   parámetro  y dé click en  botón Editar  \\nAdC mostrará  la ventana para editar el parámetro seleccionado:  \\n \\nSeleccione la opción requerida y dé un click en botón Guardar .  AdC actualizará el \\nparámetro seleccionado.  \\n27. Parámetro TEXTO EN EL ASUNTO DEL CORREO A SER ENVIADO EN AVISO DE LICENCIAS  \\nSeleccione   parámetro y dé click en  botón Editar  \\nAdC mostrará  la ventana para editar el parámetro seleccionado:  \\n \\nComplete los datos  requerid os y dé un click en botón Guardar .  AdC actualizará el \\nparámetro seleccionado.  \\n28. Parámetro TEXTO EN EL CUERPO DEL CORREO A SER ENVIADO EN AVISO DE LICENCIAS  \\nSeleccione   parámetro y dé click en  botón Editar  \\nAdC mostrará  la ventana para editar el parámetro seleccionado:  \\n \\nComplete los datos requeridos y dé un click en botón Guardar .  AdC actualizará el \\nparámetro seleccionado.', metadata=TextMetadata(source='../datos/documentos\\\\SIE-DOC-REL-MAN_002_00 (1).pdf', reference='23b56c7b-a7ee-4a99-8242-d0b760fa1154', collection='documentos', filename='SIE-DOC-REL-MAN_002_00 (1).pdf', total_pages=92, page_number=62, title='Estatuto de Trabajo', author='Ignacio Estrada', subject='Sistemas SCADA/EMS del CENACE', keywords='C_Confidential', creator='Microsoft® Word 2016', creationdate=\"D:20220323203105-06'00'\", moddate=\"D:20220323203105-06'00'\", producer='Microsoft® Word 2016')),\n",
       " Text(content='Control de Cambios  \\nFecha: 20/02/2021  Proyecto: Sistemas SCADA/EMS del CENACE  \\nSIE-DOC -REL-MAN _002_00 \\n \\nConfidential  \\nUpdated 28/02/2018  Versión: 0  Página 63 of  92 \\nAutor: Ignacio Estrada   Restricted © Siemens AG, 2018. All rights reserved.   \\n 29. Parámetro MOSTRAR AL OPERADOR OPCION ENVIAR CORREO A RESPONSABLE EN LICENCIAS \\nVENCIDAS  \\nSeleccione   parámetro y dé click en  botón Editar  \\nAdC mostrará  la ventana para editar el parámetro seleccionado:  \\n \\nSeleccione la opción requerida y dé un click en botón Guardar .  AdC actualizará el \\nparámetro seleccionado.  \\n30. Parámetro SERVICIO PREDETERMINADO DE IMPRESION DE REPORTES  \\nSeleccione   parámetro y dé click en  botón Editar  \\nAdC mostrará  la ventana para seleccionar el servicio de red asociado al parámetro \\nseleccionado.  \\nEl servicio de red dependerá de la configuración en la red de Consolas del SP7.  \\n \\nSeleccione la opción disponible y dé un click en botón Guardar .  AdC actualizará el \\nparáme tro seleccionado.  \\n31. Parámetro RUTA PARA ALMACENAR EXPORTACION DE REPORTES  \\nSeleccione   parámetro y dé click en  botón Editar  \\nAdC mostrará  la ventana para seleccionar el servicio de red asociado al parámetro \\nseleccionado:', metadata=TextMetadata(source='../datos/documentos\\\\SIE-DOC-REL-MAN_002_00 (1).pdf', reference='23b56c7b-a7ee-4a99-8242-d0b760fa1154', collection='documentos', filename='SIE-DOC-REL-MAN_002_00 (1).pdf', total_pages=92, page_number=63, title='Estatuto de Trabajo', author='Ignacio Estrada', subject='Sistemas SCADA/EMS del CENACE', keywords='C_Confidential', creator='Microsoft® Word 2016', creationdate=\"D:20220323203105-06'00'\", moddate=\"D:20220323203105-06'00'\", producer='Microsoft® Word 2016')),\n",
       " Text(content='Control de Cambios  \\nFecha: 20/02/2021  Proyecto: Sistemas SCADA/EMS del CENACE  \\nSIE-DOC -REL-MAN _002_00 \\n \\nConfidential  \\nUpdated 28/02/2018  Versión: 0  Página 64 of  92 \\nAutor: Ignacio Estrada   Restricted © Siemens AG, 2018. All rights reserved.   \\n  \\nSeleccione la opción disponible y dé un click en botón Guardar .  AdC actualizará el \\nparámetro seleccionado.  \\n32. Parámetro CAUSA POR DEF ECTO  PARA EVENTO DE CONCESION DE LICENCIA  \\nSeleccione   parámetro y dé click en  botón Editar  \\nAdC mostrará  la ventana para editar el parámetro seleccionado:  \\n \\nSeleccione la opción requerida y dé un click en botón Guardar .  AdC actualizará el \\nparámetro seleccionado.  \\n33. Parámetro PERMITIR ENVIO DE CORREO DE CIERRE DE TURNO A OPERADORES  \\nSeleccione   parámetro  y dé click en  botón Editar  \\nAdC mostrará  la ventana para editar el parámetro seleccionado:  \\n \\nSeleccione la opción requerida y dé un click en botón Guardar .  AdC actualizará el \\nparámetro seleccionado.  \\n34. Parámetro ZONA HORARIA DEL CENTRO DE CONTROL', metadata=TextMetadata(source='../datos/documentos\\\\SIE-DOC-REL-MAN_002_00 (1).pdf', reference='23b56c7b-a7ee-4a99-8242-d0b760fa1154', collection='documentos', filename='SIE-DOC-REL-MAN_002_00 (1).pdf', total_pages=92, page_number=64, title='Estatuto de Trabajo', author='Ignacio Estrada', subject='Sistemas SCADA/EMS del CENACE', keywords='C_Confidential', creator='Microsoft® Word 2016', creationdate=\"D:20220323203105-06'00'\", moddate=\"D:20220323203105-06'00'\", producer='Microsoft® Word 2016')),\n",
       " Text(content='Control de Cambios  \\nFecha: 20/02/2021  Proyecto: Sistemas SCADA/EMS del CENACE  \\nSIE-DOC -REL-MAN _002_00 \\n \\nConfidential  \\nUpdated 28/02/2018  Versión: 0  Página 65 of  92 \\nAutor: Ignacio Estrada   Restricted © Siemens AG, 2018. All rights reserved.   \\n Selecc ione  parámetro y dé click en  botón Editar  \\nAdC mostrará  la ventana para editar el parámetro seleccionado:  \\n \\nSeleccione la opción requerida y dé un click en botón Guardar .  AdC actualizará el \\nparámetro seleccionado.', metadata=TextMetadata(source='../datos/documentos\\\\SIE-DOC-REL-MAN_002_00 (1).pdf', reference='23b56c7b-a7ee-4a99-8242-d0b760fa1154', collection='documentos', filename='SIE-DOC-REL-MAN_002_00 (1).pdf', total_pages=92, page_number=65, title='Estatuto de Trabajo', author='Ignacio Estrada', subject='Sistemas SCADA/EMS del CENACE', keywords='C_Confidential', creator='Microsoft® Word 2016', creationdate=\"D:20220323203105-06'00'\", moddate=\"D:20220323203105-06'00'\", producer='Microsoft® Word 2016')),\n",
       " Text(content='Control de Cambios  \\nFecha: 20/02/2021  Proyecto: Sistemas SCADA/EMS del CENACE  \\nSIE-DOC -REL-MAN _002_00 \\n \\nConfidential  \\nUpdated 28/02/2018  Versión: 0  Página 66 of  92 \\nAutor: Ignacio Estrada   Restricted © Siemens AG, 2018. All rights reserved.   \\n 2.15 Catálogo Administradores de Catálogos  \\nDe acuerdo a la Tabla 1, las funciones que aplican al Catálogo de Administradores de Catálogos \\nincluye las siguientes:  \\n\\uf0a7 Añadir Administrador  \\n\\uf0a7 Modificar Administrador  \\n\\uf0a7 Dar de baja Administrador  \\n\\uf0a7 Habilitar/Inhabilitar Administrador  \\n \\nEl mantenimiento de éste Catálogo aplica a un  Nivel de Administración global de cualquier Nivel \\nJerárquico, sin embargo un Administrador global de los Niveles Jerárquicos 2 y 3 solo podrán \\nagregar Administradores Locales que correspondan a su Centro de Co ntrol.  \\n \\nProcedimiento: Añadir Administrador  \\nPaso  Actividad  \\n1. Seleccionar Catálogo Administradores de Catálogos  \\n2. Dé click en  botón Nuevo  \\nAdC mostrará  la ventana para agregar un nuevo Administrador de Catálogos : \\n \\nSeleccione los datos requeridos y dé click en botón Guardar .   \\n3. AdC añadirá al nuevo Administrador a la lista  \\n \\nProcedimiento: Modificar Administrador  \\nPaso  Actividad  \\n1. Seleccionar Catálogo Administradores de Catálogos', metadata=TextMetadata(source='../datos/documentos\\\\SIE-DOC-REL-MAN_002_00 (1).pdf', reference='23b56c7b-a7ee-4a99-8242-d0b760fa1154', collection='documentos', filename='SIE-DOC-REL-MAN_002_00 (1).pdf', total_pages=92, page_number=66, title='Estatuto de Trabajo', author='Ignacio Estrada', subject='Sistemas SCADA/EMS del CENACE', keywords='C_Confidential', creator='Microsoft® Word 2016', creationdate=\"D:20220323203105-06'00'\", moddate=\"D:20220323203105-06'00'\", producer='Microsoft® Word 2016')),\n",
       " Text(content='Control de Cambios  \\nFecha: 20/02/2021  Proyecto: Sistemas SCADA/EMS del CENACE  \\nSIE-DOC -REL-MAN _002_00 \\n \\nConfidential  \\nUpdated 28/02/2018  Versión: 0  Página 67 of  92 \\nAutor: Ignacio Estrada   Restricted © Siemens AG, 2018. All rights reserved.   \\n 2. Seleccione   el Administrador  a modificar y enseguida dé click en  botón Editar  \\nAdC mostrará  la ventana para editar el Administrador  seleccionado:  \\n \\nComplete los cambios requeridos y dé un click en botón Guardar . \\n3. AdC actualizará los datos del  Administrador  seleccionado . \\n \\nProcedimiento: Dar de baja un Administrador  \\nPaso  Actividad  \\n1. Seleccionar Catálogo Administradores de Catálogos  \\n2. Seleccione   el Administrador   a dar de baja y enseguida dé click en  botón Eliminar  \\nAdC mostrará  ventana con el Administrador   a ser dado de baja.  \\n \\nDé un click en botón Eliminar . AdC mostrará ventana de Confirmación.  \\n \\nPara aceptar dar de baja al Administrador  dé un click en botón Confirmar .  En caso \\ncontrario seleccione botón Cancelar .', metadata=TextMetadata(source='../datos/documentos\\\\SIE-DOC-REL-MAN_002_00 (1).pdf', reference='23b56c7b-a7ee-4a99-8242-d0b760fa1154', collection='documentos', filename='SIE-DOC-REL-MAN_002_00 (1).pdf', total_pages=92, page_number=67, title='Estatuto de Trabajo', author='Ignacio Estrada', subject='Sistemas SCADA/EMS del CENACE', keywords='C_Confidential', creator='Microsoft® Word 2016', creationdate=\"D:20220323203105-06'00'\", moddate=\"D:20220323203105-06'00'\", producer='Microsoft® Word 2016')),\n",
       " Text(content='Control de Cambios  \\nFecha: 20/02/2021  Proyecto: Sistemas SCADA/EMS del CENACE  \\nSIE-DOC -REL-MAN _002_00 \\n \\nConfidential  \\nUpdated 28/02/2018  Versión: 0  Página 68 of  92 \\nAutor: Ignacio Estrada   Restricted © Siemens AG, 2018. All rights reserved.   \\n Observe que si el usuario Administrador   está activo , se enviará una ventana \\nconteniendo un mensaje, similar a:  \\n \\nIndicando que no se pudo eliminar el registro.  \\n3. AdC actualizará la lista de Administradores , observe que el registro eliminado ya no será \\nmostrado en la lista.  \\n \\nProcedimiento: Habilitar/Deshabilitar  Administrador  \\nEste procedimiento permite habilitar o deshabilitar un usuario Administrador .  La acción dependerá \\ndel estado habilitado o deshabilitado que guarde un registro.  \\nPaso  Actividad  \\n1. Seleccionar Catálogo Administradores de Catálogos  \\n2. Deshabilitar registro:  \\nSeleccione   el Administrador  cuyo estado sea Habilitado y enseguida dé click en  botón \\nDeshabilitar.  \\nAdC enviará confirmación en el área de mensajes indicando el resultado de la acción:  \\n \\nObserve que el botón Deshabilitar será desactivado para el Usuario seleccionado y el \\nbotón Habilitar será activado.  \\nObserve que si el usuario Administrador está activo se enviará ventana similar a:', metadata=TextMetadata(source='../datos/documentos\\\\SIE-DOC-REL-MAN_002_00 (1).pdf', reference='23b56c7b-a7ee-4a99-8242-d0b760fa1154', collection='documentos', filename='SIE-DOC-REL-MAN_002_00 (1).pdf', total_pages=92, page_number=68, title='Estatuto de Trabajo', author='Ignacio Estrada', subject='Sistemas SCADA/EMS del CENACE', keywords='C_Confidential', creator='Microsoft® Word 2016', creationdate=\"D:20220323203105-06'00'\", moddate=\"D:20220323203105-06'00'\", producer='Microsoft® Word 2016')),\n",
       " Text(content='Control de Cambios  \\nFecha: 20/02/2021  Proyecto: Sistemas SCADA/EMS del CENACE  \\nSIE-DOC -REL-MAN _002_00 \\n \\nConfidential  \\nUpdated 28/02/2018  Versión: 0  Página 69 of  92 \\nAutor: Ignacio Estrada   Restricted © Siemens AG, 2018. All rights reserved.   \\n 3. Habilitar registro:  \\nSeleccione   el Usuario cuyo estado sea Deshabilitado y enseguida dé click en  botón \\nHabilitar.  \\nAdC enviará confirmación en el área de mensajes indicando el resultado de la acción.  \\n \\nObserve que el botón Habilitar será desactivado para el Admninistrador  seleccionado  y \\nel botón Deshabilitar será activado nuevamente.  \\n4. AdC actualizará la lista de Usuarios de acuerdo al cambio aplicado via la columna \\nHABILITADO . \\n \\n \\n2.16 Catálogo Personal Autorizado para Licencias  \\nÉste catálogo mantiene la información de usuarios responsables de Licencias.  \\nDe acuerdo a la Tabla 2, las funciones que aplican al Catálogo de Personal Autorizado para \\nLicencias  incluye las siguientes:  \\n\\uf0a7 Añadir Usuario  \\n\\uf0a7 Modificar datos del Usuario  \\n\\uf0a7 Cambiar Clave d e acceso a Usuario  \\n\\uf0a7 Habilitar/Inhabilitar Usuario  \\n \\nEl mantenimiento de éste Catálogo aplica a cualquier  Nivel de Administración.  \\n \\nProcedimiento: Añadir Usuario  \\nPaso  Actividad  \\n1. Seleccionar Catálogo Personal Autorizado para Licencias  \\n2. Dé click en  botón Nuevo  \\nAdC mostrará  la ventana para agregar un nuevo Usuario ,', metadata=TextMetadata(source='../datos/documentos\\\\SIE-DOC-REL-MAN_002_00 (1).pdf', reference='23b56c7b-a7ee-4a99-8242-d0b760fa1154', collection='documentos', filename='SIE-DOC-REL-MAN_002_00 (1).pdf', total_pages=92, page_number=69, title='Estatuto de Trabajo', author='Ignacio Estrada', subject='Sistemas SCADA/EMS del CENACE', keywords='C_Confidential', creator='Microsoft® Word 2016', creationdate=\"D:20220323203105-06'00'\", moddate=\"D:20220323203105-06'00'\", producer='Microsoft® Word 2016')),\n",
       " Text(content='Control de Cambios  \\nFecha: 20/02/2021  Proyecto: Sistemas SCADA/EMS del CENACE  \\nSIE-DOC -REL-MAN _002_00 \\n \\nConfidential  \\nUpdated 28/02/2018  Versión: 0  Página 70 of  92 \\nAutor: Ignacio Estrada   Restricted © Siemens AG, 2018. All rights reserved.   \\n  \\nDonde:  \\nUsuario:  máximo 10  caracteres , \\nContraseña:  máximo  10 caracteres , \\nNombre completo:  máximo  50 caracteres , \\nCorreo electrónico:  máximo  64 caracteres , \\nDepartamento:  máximo   64 caracteres , \\nAutorizado para trabajar en:  máximo  256 caracteres  \\n \\nCapture los datos requeridos y dé click en botón Guardar .   \\nObserve que al dar click en éste botón se mostrarán los campos obligatorios del \\nformulario.  \\n3. AdC añadirá al nuevo Usuario a la lista  \\n \\nProcedimiento: Modificar Usuario  \\nPaso  Actividad  \\n1. Seleccionar Catálogo Personal Autorizado para Licencias  \\n2. Seleccione   el Usuario a modificar y enseguida dé click en  botón Editar  \\nAdC mostrará  la ventana para editar el Usuario seleccionado:', metadata=TextMetadata(source='../datos/documentos\\\\SIE-DOC-REL-MAN_002_00 (1).pdf', reference='23b56c7b-a7ee-4a99-8242-d0b760fa1154', collection='documentos', filename='SIE-DOC-REL-MAN_002_00 (1).pdf', total_pages=92, page_number=70, title='Estatuto de Trabajo', author='Ignacio Estrada', subject='Sistemas SCADA/EMS del CENACE', keywords='C_Confidential', creator='Microsoft® Word 2016', creationdate=\"D:20220323203105-06'00'\", moddate=\"D:20220323203105-06'00'\", producer='Microsoft® Word 2016')),\n",
       " Text(content='Control de Cambios  \\nFecha: 20/02/2021  Proyecto: Sistemas SCADA/EMS del CENACE  \\nSIE-DOC -REL-MAN _002_00 \\n \\nConfidential  \\nUpdated 28/02/2018  Versión: 0  Página 71 of  92 \\nAutor: Ignacio Estrada   Restricted © Siemens AG, 2018. All rights reserved.   \\n  \\nObserve que la edición no permite cambios en los campos Usuario y Contraseña .  \\nComplete los cambios requeridos y dé un click en botón Guardar . \\n3. AdC actualizará el Usuario seleccionado  \\n \\nProcedimiento: Cambiar Contraseña a Usuario  \\nEste procedimiento permite modificar la contraseña a usuarios.  \\nPaso  Actividad  \\n1. Seleccionar Catálogo Personal Autorizado para Licencias  \\n2. Seleccione   el Usuario a modificar la contraseña y enseguida dé click en  botón Cambiar \\nClave de acceso  \\nAdC mostrará  la ventana para editar la clave de acceso al Usuario seleccionado:', metadata=TextMetadata(source='../datos/documentos\\\\SIE-DOC-REL-MAN_002_00 (1).pdf', reference='23b56c7b-a7ee-4a99-8242-d0b760fa1154', collection='documentos', filename='SIE-DOC-REL-MAN_002_00 (1).pdf', total_pages=92, page_number=71, title='Estatuto de Trabajo', author='Ignacio Estrada', subject='Sistemas SCADA/EMS del CENACE', keywords='C_Confidential', creator='Microsoft® Word 2016', creationdate=\"D:20220323203105-06'00'\", moddate=\"D:20220323203105-06'00'\", producer='Microsoft® Word 2016')),\n",
       " Text(content='Control de Cambios  \\nFecha: 20/02/2021  Proyecto: Sistemas SCADA/EMS del CENACE  \\nSIE-DOC -REL-MAN _002_00 \\n \\nConfidential  \\nUpdated 28/02/2018  Versión: 0  Página 72 of  92 \\nAutor: Ignacio Estrada   Restricted © Siemens AG, 2018. All rights reserved.   \\n Proporcione los datos requeridos y dé un click en botón Guardar . \\n3. AdC actualizará los datos del Usuario seleccionado.  \\n \\nProcedimiento: Habilitar/ Deshabilitar  Usuario  \\nEste procedimiento permite habilitar o deshabilitar un Usuario.  La acción dependerá del estado \\nhabilitado o deshabilitado que guarde un registro.  \\nPaso  Actividad  \\n1. Seleccionar Catálogo Personal Autorizado para Licencias  \\n2. Deshabilitar registro:  \\nSeleccione   el Usuario cuyo estado sea Habilitado y enseguida dé click en  botón \\nDeshabilitar.  \\nAdC enviará confirmación en el área de mensajes indicando el resultado de la acción:  \\n \\nObserve que el botón Deshabilitar será desactivado para  el Usuario seleccionado y el \\nbotón Habilitar será activado.  \\n3. Habilitar registro:  \\nSeleccione   el Usuario cuyo estado sea Deshabilitado y enseguida dé click en  botón \\nHabilitar.  \\nAdC enviará confirmación en el área de mensajes indicando el resultado de la acción.  \\n \\nObserve que el botón Habilitar será desactivado para el Usuario seleccionado  y el botón \\nDeshabilitar será activado nuevamente.  \\n4. AdC actualizará la lista de Usuarios de acuerdo al cambio aplicado via la columna \\nHABILITADO . \\n \\n2.17 Catálogo Coloreo de Solicitudes', metadata=TextMetadata(source='../datos/documentos\\\\SIE-DOC-REL-MAN_002_00 (1).pdf', reference='23b56c7b-a7ee-4a99-8242-d0b760fa1154', collection='documentos', filename='SIE-DOC-REL-MAN_002_00 (1).pdf', total_pages=92, page_number=72, title='Estatuto de Trabajo', author='Ignacio Estrada', subject='Sistemas SCADA/EMS del CENACE', keywords='C_Confidential', creator='Microsoft® Word 2016', creationdate=\"D:20220323203105-06'00'\", moddate=\"D:20220323203105-06'00'\", producer='Microsoft® Word 2016')),\n",
       " Text(content='Deshabilitar será activado nuevamente.  \\n4. AdC actualizará la lista de Usuarios de acuerdo al cambio aplicado via la columna \\nHABILITADO . \\n \\n2.17 Catálogo Coloreo de Solicitudes  \\nDe acuerdo a la Tabla 2, el Catálogo Coloreo de Solicitudes sólo permite la función de edición:  \\nEl mantenimiento de éste Catálogo aplica a cualquier  Nivel de Administración.  \\nProcedimiento: Modificar Coloreo  \\nPaso  Actividad  \\n1. Seleccionar Catálogo Coloreo de Solicitudes', metadata=TextMetadata(source='../datos/documentos\\\\SIE-DOC-REL-MAN_002_00 (1).pdf', reference='23b56c7b-a7ee-4a99-8242-d0b760fa1154', collection='documentos', filename='SIE-DOC-REL-MAN_002_00 (1).pdf', total_pages=92, page_number=72, title='Estatuto de Trabajo', author='Ignacio Estrada', subject='Sistemas SCADA/EMS del CENACE', keywords='C_Confidential', creator='Microsoft® Word 2016', creationdate=\"D:20220323203105-06'00'\", moddate=\"D:20220323203105-06'00'\", producer='Microsoft® Word 2016')),\n",
       " Text(content='Control de Cambios  \\nFecha: 20/02/2021  Proyecto: Sistemas SCADA/EMS del CENACE  \\nSIE-DOC -REL-MAN _002_00 \\n \\nConfidential  \\nUpdated 28/02/2018  Versión: 0  Página 73 of  92 \\nAutor: Ignacio Estrada   Restricted © Siemens AG, 2018. All rights reserved.   \\n 2. Seleccione   el estado de Solicitud a modificar y enseguida dé click en  botón Editar  \\nAdC mostrará  la ventana para editar el estado seleccionado:  \\n \\nSeleccione el color requerido para el color de la fuente ó el color del fondo del texto y dé \\nun click en botón Guardar . \\n3. AdC actualizará el estado de Solicitud seleccionado  \\n4. Aplique el paso 2 para editar cualquier otro estado de Solicitud  \\n \\n2.18 Catálogo  Coloreo de Licencias  \\nDe acuerdo a la Tabla 2, el Catálogo Coloreo de Licencias  sólo permite la función de edición:  \\nEl mantenimiento de éste Catálogo aplica a cualquier  Nivel de Administración.  \\nProcedimiento: Modificar Coloreo  \\nPaso  Actividad  \\n1. Seleccionar Catálogo Coloreo de Licencias  \\n2. Seleccione   el estado de Licencias a modificar y enseguida dé click en  botón Editar  \\nAdC mostrará  la ventana para editar el estado seleccionado:  \\n \\nSeleccione el color requerido para el color de la fuente ó el color del fondo del texto y dé \\nun click en botón Guardar . \\n3. AdC actualizará el estado de Licencia seleccionado', metadata=TextMetadata(source='../datos/documentos\\\\SIE-DOC-REL-MAN_002_00 (1).pdf', reference='23b56c7b-a7ee-4a99-8242-d0b760fa1154', collection='documentos', filename='SIE-DOC-REL-MAN_002_00 (1).pdf', total_pages=92, page_number=73, title='Estatuto de Trabajo', author='Ignacio Estrada', subject='Sistemas SCADA/EMS del CENACE', keywords='C_Confidential', creator='Microsoft® Word 2016', creationdate=\"D:20220323203105-06'00'\", moddate=\"D:20220323203105-06'00'\", producer='Microsoft® Word 2016')),\n",
       " Text(content='Control de Cambios  \\nFecha: 20/02/2021  Proyecto: Sistemas SCADA/EMS del CENACE  \\nSIE-DOC -REL-MAN _002_00 \\n \\nConfidential  \\nUpdated 28/02/2018  Versión: 0  Página 74 of  92 \\nAutor: Ignacio Estrada   Restricted © Siemens AG, 2018. All rights reserved.   \\n 4. Aplique el paso 2 para editar cualquier otro estado de Licencia  \\n \\n2.19 Catálogo Coloreo de Maniobras  \\nDe acuerdo a la Tabla 2, el Catálogo Coloreo de Maniobras  sólo permite la función de edición:  \\nEl mantenimiento de éste Catálogo aplica a cualquier  Nivel de Administración.  \\nProcedimiento: Modificar Coloreo  \\nPaso  Actividad  \\n1. Seleccionar Catálogo Coloreo de Maniobras  \\n2. Seleccione   el estado de Maniobras a modificar y enseguida dé click en  botón Editar  \\nAdC mostrará  la ventana para editar el estado seleccionado:  \\n \\nSeleccione el color requerido para el color de la fuente ó el color del fondo del texto y dé \\nun click en botón Guardar . \\n3. AdC actualizará el estado de Maniobras seleccionado  \\n4. Aplique el paso 2 para editar cualquier otro estado de Maniobras  \\n \\n2.20 Catálogo Coloreo de Eventos del Relatorio  \\nDe acuerdo a la Tabla 1, el Catálogo Coloreo de Eventos del Relatorio  sólo permite la función de \\nedición:  \\nEl mantenimiento de éste Catálogo aplica al Nivel de Administración global del Nivel Jerárquico 1.  \\nProcedimi ento: Modificar Coloreo  \\nPaso  Actividad  \\n1. Seleccionar Catálogo Coloreo de Eventos del Relatorio', metadata=TextMetadata(source='../datos/documentos\\\\SIE-DOC-REL-MAN_002_00 (1).pdf', reference='23b56c7b-a7ee-4a99-8242-d0b760fa1154', collection='documentos', filename='SIE-DOC-REL-MAN_002_00 (1).pdf', total_pages=92, page_number=74, title='Estatuto de Trabajo', author='Ignacio Estrada', subject='Sistemas SCADA/EMS del CENACE', keywords='C_Confidential', creator='Microsoft® Word 2016', creationdate=\"D:20220323203105-06'00'\", moddate=\"D:20220323203105-06'00'\", producer='Microsoft® Word 2016')),\n",
       " Text(content='Procedimi ento: Modificar Coloreo  \\nPaso  Actividad  \\n1. Seleccionar Catálogo Coloreo de Eventos del Relatorio  \\n2. Seleccione   el estado de Eventos a modificar y enseguida dé click en  botón Editar', metadata=TextMetadata(source='../datos/documentos\\\\SIE-DOC-REL-MAN_002_00 (1).pdf', reference='23b56c7b-a7ee-4a99-8242-d0b760fa1154', collection='documentos', filename='SIE-DOC-REL-MAN_002_00 (1).pdf', total_pages=92, page_number=74, title='Estatuto de Trabajo', author='Ignacio Estrada', subject='Sistemas SCADA/EMS del CENACE', keywords='C_Confidential', creator='Microsoft® Word 2016', creationdate=\"D:20220323203105-06'00'\", moddate=\"D:20220323203105-06'00'\", producer='Microsoft® Word 2016')),\n",
       " Text(content='Control de Cambios  \\nFecha: 20/02/2021  Proyecto: Sistemas SCADA/EMS del CENACE  \\nSIE-DOC -REL-MAN _002_00 \\n \\nConfidential  \\nUpdated 28/02/2018  Versión: 0  Página 75 of  92 \\nAutor: Ignacio Estrada   Restricted © Siemens AG, 2018. All rights reserved.   \\n AdC mostrará  la ventana para editar el estado seleccionado:  \\n \\nSeleccione el color requerido para el color de la fuente ó el color del fondo del texto y dé \\nun click en botón Guardar . \\n3. AdC actualizará el estado del Evento seleccionado  \\n4. Aplique el paso 2 para editar cualquier otro estado de Eventos del Relatorio  \\n \\n2.21 Catálogo Coloreo de Mensajes en Solicitudes  \\nDe acuerdo a la Tabla 2, el Catálogo Coloreo de Mensajes en Solicitudes  sólo permite la función \\nde edición:  \\nEl mantenimiento de éste Catálogo aplica a cualquier  Nivel de Administración.  \\nProcedimiento: Modificar Coloreo  \\nPaso  Actividad  \\n1. Seleccionar Catálogo Coloreo de  Mensajes en  Solicitudes  \\n2. Seleccione   la prioridad de Mensajes en Solicitudes a modificar y enseguida dé click en  \\nbotón Editar  \\nAdC mostrará  la ventana para editar el estado seleccionado:  \\n \\nSeleccione el color requerido para el color de la fuente y dé un click en botón Guardar . \\n3. AdC actualizará la prioridad elegida para el mensaje en Solicitudes seleccionado  \\n4. Aplique el paso 2 para editar cualquier otra prioridad de mensajes en Solicitudes', metadata=TextMetadata(source='../datos/documentos\\\\SIE-DOC-REL-MAN_002_00 (1).pdf', reference='23b56c7b-a7ee-4a99-8242-d0b760fa1154', collection='documentos', filename='SIE-DOC-REL-MAN_002_00 (1).pdf', total_pages=92, page_number=75, title='Estatuto de Trabajo', author='Ignacio Estrada', subject='Sistemas SCADA/EMS del CENACE', keywords='C_Confidential', creator='Microsoft® Word 2016', creationdate=\"D:20220323203105-06'00'\", moddate=\"D:20220323203105-06'00'\", producer='Microsoft® Word 2016')),\n",
       " Text(content='Control de Cambios  \\nFecha: 20/02/2021  Proyecto: Sistemas SCADA/EMS del CENACE  \\nSIE-DOC -REL-MAN _002_00 \\n \\nConfidential  \\nUpdated 28/02/2018  Versión: 0  Página 76 of  92 \\nAutor: Ignacio Estrada   Restricted © Siemens AG, 2018. All rights reserved.   \\n  \\n2.22 Catálogo Compañias de Mercado Eléctrico  \\nDe acuerdo a la Tabla 1, las funciones que aplican al Catálogo de Compañias de Mercado \\nEléctrico  incluye las siguientes:  \\n\\uf0a7 Añadir Compañia  \\n\\uf0a7 Modificar datos de Compañia  \\n\\uf0a7 Habilitar/Inhabilitar Compañia  \\n \\nEl mantenimiento de éste Catálogo aplica a un  Nivel de Administración Global del  nivel \\nJerárquico  1. \\n \\nProcedimiento: Añadir Compañia  \\nPaso  Actividad  \\n1. Seleccionar Catálogo Compañias  de Mercado Eléctrico  \\n2. Dé click en  botón Nuevo  \\nAdC mostrará  la ventana para registrar nueva Compañía:  \\n \\nDonde:  \\nAcrónimo:  máximo 3  caracteres , \\nNombre de la Compañia:  máximo  96 caracteres , \\nPaís:  máximo  32 caracteres , \\nEstado:  máximo  48 caracteres , \\nCiudad:  máximo  64 caracteres , \\nCódigo Postal:  máximo  5 caracteres , \\nBúmero de teléfono:  máximo  14 caracteres , \\nCorreo electrónico:  máximo  64 caracteres', metadata=TextMetadata(source='../datos/documentos\\\\SIE-DOC-REL-MAN_002_00 (1).pdf', reference='23b56c7b-a7ee-4a99-8242-d0b760fa1154', collection='documentos', filename='SIE-DOC-REL-MAN_002_00 (1).pdf', total_pages=92, page_number=76, title='Estatuto de Trabajo', author='Ignacio Estrada', subject='Sistemas SCADA/EMS del CENACE', keywords='C_Confidential', creator='Microsoft® Word 2016', creationdate=\"D:20220323203105-06'00'\", moddate=\"D:20220323203105-06'00'\", producer='Microsoft® Word 2016')),\n",
       " Text(content='Control de Cambios  \\nFecha: 20/02/2021  Proyecto: Sistemas SCADA/EMS del CENACE  \\nSIE-DOC -REL-MAN _002_00 \\n \\nConfidential  \\nUpdated 28/02/2018  Versión: 0  Página 77 of  92 \\nAutor: Ignacio Estrada   Restricted © Siemens AG, 2018. All rights reserved.   \\n Capture los datos requeridos y dé click en botón Guardar .   \\nObserve que al dar click en éste botón se mostrarán los campos obligatorios del \\nformulario.  \\n3. AdC añadirá la nueva Compañia  a la lista  \\n \\nProcedimiento: Modificar Compañia  \\nPaso  Actividad  \\n1. Seleccionar Catálogo Compañias de Mercado Eléctrico  \\n2. Seleccione   la Compañia  a modificar y enseguida dé click en  botón Editar  \\nAdC mostrará  la ventana para editar la Compañia  seleccionad a: \\n \\nObserve que la edición no permite cambios en el campo   Acrónimo .  Complete los \\ncambios requeridos y dé un click en botón Guardar . \\n3. AdC actualizará la Compañía en cuestión   \\n \\nProcedimiento: Habilitar/Deshabilitar  Compañia  \\nEste procedimiento permite habilitar o deshabilitar el registro de una Compañía del Mercado .  La \\nacción dependerá del estado habilitado o deshabilitado que guarde un registro.  \\nPaso  Actividad  \\n1. Seleccionar Catálogo Compañias de Mercado Eléctrico  \\n2. Deshabilitar registro:', metadata=TextMetadata(source='../datos/documentos\\\\SIE-DOC-REL-MAN_002_00 (1).pdf', reference='23b56c7b-a7ee-4a99-8242-d0b760fa1154', collection='documentos', filename='SIE-DOC-REL-MAN_002_00 (1).pdf', total_pages=92, page_number=77, title='Estatuto de Trabajo', author='Ignacio Estrada', subject='Sistemas SCADA/EMS del CENACE', keywords='C_Confidential', creator='Microsoft® Word 2016', creationdate=\"D:20220323203105-06'00'\", moddate=\"D:20220323203105-06'00'\", producer='Microsoft® Word 2016')),\n",
       " Text(content='Control de Cambios  \\nFecha: 20/02/2021  Proyecto: Sistemas SCADA/EMS del CENACE  \\nSIE-DOC -REL-MAN _002_00 \\n \\nConfidential  \\nUpdated 28/02/2018  Versión: 0  Página 78 of  92 \\nAutor: Ignacio Estrada   Restricted © Siemens AG, 2018. All rights reserved.   \\n Seleccione   la Compañia  cuyo estado sea Habilitad a y enseguida dé click en  botón \\nDeshabilitar.  \\nAdC enviará confirmación en el área de mensajes indicando el resultado de la acción:  \\n \\nObserve que el botón Deshabilitar será desactivado para la Compañia  seleccionad a y el \\nbotón Habilitar será activado.  \\nPor otro lado si la Compañía en cuestión ya contiene Gerencias asociadas no se podrá \\ndeshabilitar y se enviará un mensaje:  \\n \\nIndicando que no procederá la deshabilitación.  \\n3. Habilitar registro:  \\nSeleccione   la Compañia  cuyo estado sea Deshabilitad a y enseguida dé click en  botón \\nHabilitar.  \\nAdC enviará confirmación en el área de mensajes indicando el resultado de la acción.  \\n \\nObserve que el botón Habilitar será desactivado para la Comnpañia  seleccionad a  y el \\nbotón Deshabilitar será activado nuevamente.  \\n4. AdC actualizará la lista de Compañias  de acuerdo al cambio aplicado via la columna \\nHABILITAD A. \\n \\n2.23 Catálogo Subprocesos de Energía  \\nDe acuerdo a la Tabla 1, las funciones que aplican al Catálogo de Subprocesos de Energía  incluye \\nlas siguientes:  \\n\\uf0a7 Añadir Subproceso  \\n\\uf0a7 Modificar datos de un Subproceso  \\n\\uf0a7 Habilitar/Inhabilitar Subproceso', metadata=TextMetadata(source='../datos/documentos\\\\SIE-DOC-REL-MAN_002_00 (1).pdf', reference='23b56c7b-a7ee-4a99-8242-d0b760fa1154', collection='documentos', filename='SIE-DOC-REL-MAN_002_00 (1).pdf', total_pages=92, page_number=78, title='Estatuto de Trabajo', author='Ignacio Estrada', subject='Sistemas SCADA/EMS del CENACE', keywords='C_Confidential', creator='Microsoft® Word 2016', creationdate=\"D:20220323203105-06'00'\", moddate=\"D:20220323203105-06'00'\", producer='Microsoft® Word 2016')),\n",
       " Text(content='las siguientes:  \\n\\uf0a7 Añadir Subproceso  \\n\\uf0a7 Modificar datos de un Subproceso  \\n\\uf0a7 Habilitar/Inhabilitar Subproceso  \\n \\nEl mantenimiento de éste Catálogo aplica a un  Nivel de Administración Global de cualquier nivel \\nJerárquico.', metadata=TextMetadata(source='../datos/documentos\\\\SIE-DOC-REL-MAN_002_00 (1).pdf', reference='23b56c7b-a7ee-4a99-8242-d0b760fa1154', collection='documentos', filename='SIE-DOC-REL-MAN_002_00 (1).pdf', total_pages=92, page_number=78, title='Estatuto de Trabajo', author='Ignacio Estrada', subject='Sistemas SCADA/EMS del CENACE', keywords='C_Confidential', creator='Microsoft® Word 2016', creationdate=\"D:20220323203105-06'00'\", moddate=\"D:20220323203105-06'00'\", producer='Microsoft® Word 2016')),\n",
       " Text(content='Control de Cambios  \\nFecha: 20/02/2021  Proyecto: Sistemas SCADA/EMS del CENACE  \\nSIE-DOC -REL-MAN _002_00 \\n \\nConfidential  \\nUpdated 28/02/2018  Versión: 0  Página 79 of  92 \\nAutor: Ignacio Estrada   Restricted © Siemens AG, 2018. All rights reserved.   \\n  \\nProcedimiento: Añadir Subproceso  \\nPaso  Actividad  \\n1. Seleccionar Catálogo Subprocesos de Energía  \\n2. Dé click en  botón Nuevo  \\nAdC mostrará  la ventana para registrar el nuevo Proceso de Energía : \\n \\nDonde:  \\nNombre de la  Gerencia:  máximo  64 caracteres  \\nCapture los datos requeridos y dé click en botón Guardar . . \\n3. AdC añadirá el nuevo Proceso de Eneregía a la lista  \\n \\nProcedimiento: Modificar Proceso  \\nPaso  Actividad  \\n1. Seleccionar Catálogo Subprocesos  de Energía  \\n2. Seleccione   el Subproceso  a modificar y enseguida dé click en  botón Editar  \\nAdC mostrará  la ventana para editar el Subproceso  seleccionada:  \\n \\nComplete los cambios requeridos y dé un click en botón Guardar . \\n3. AdC actualizará el Subproceso  en cuestión', metadata=TextMetadata(source='../datos/documentos\\\\SIE-DOC-REL-MAN_002_00 (1).pdf', reference='23b56c7b-a7ee-4a99-8242-d0b760fa1154', collection='documentos', filename='SIE-DOC-REL-MAN_002_00 (1).pdf', total_pages=92, page_number=79, title='Estatuto de Trabajo', author='Ignacio Estrada', subject='Sistemas SCADA/EMS del CENACE', keywords='C_Confidential', creator='Microsoft® Word 2016', creationdate=\"D:20220323203105-06'00'\", moddate=\"D:20220323203105-06'00'\", producer='Microsoft® Word 2016')),\n",
       " Text(content='Control de Cambios  \\nFecha: 20/02/2021  Proyecto: Sistemas SCADA/EMS del CENACE  \\nSIE-DOC -REL-MAN _002_00 \\n \\nConfidential  \\nUpdated 28/02/2018  Versión: 0  Página 80 of  92 \\nAutor: Ignacio Estrada   Restricted © Siemens AG, 2018. All rights reserved.   \\n Procedimiento: Habilitar/Deshabilitar  Subproceso  \\nEste procedimiento permite habilitar o deshabilitar el registro de un Subproceso de Energía .  La \\nacción dependerá del estado habilitado o deshabilitado que guarde un registro.  \\nPaso  Actividad  \\n1. Seleccionar Catálogo Subprocesos de Energía  \\n2. Deshabilitar registro:  \\nSeleccione   el Subproceso  cuyo estado sea Habilitad o y enseguida dé click en  botón \\nDeshabilitar.  \\nAdC enviará confirmación en el área de mensajes indicando el resultado de la acción:  \\n \\nObserve que el botón Deshabilitar será desactivado para el Subproceso  seleccionado y \\nel botón Habilitar será activado.  \\n3. Habilitar registro:  \\nSeleccione   el Subproceso  cuyo estado sea Deshabilitad o y enseguida dé click en  botón \\nHabilitar.  \\nAdC enviará confirmación en el área de mensajes indicando el resultado de la acción.  \\n \\nObserve que el botón Habilitar será desactivado para el Subproceso  seleccionad o  y el \\nbotón Deshabilitar será activado nuevamente.  \\n4. AdC actualizará la lista de Subprocesos de Energía  de acuerdo al cambio aplicado via la \\ncolumna HABILITAD O. \\n \\n \\n2.24 Catálogo Centros de Control Internos', metadata=TextMetadata(source='../datos/documentos\\\\SIE-DOC-REL-MAN_002_00 (1).pdf', reference='23b56c7b-a7ee-4a99-8242-d0b760fa1154', collection='documentos', filename='SIE-DOC-REL-MAN_002_00 (1).pdf', total_pages=92, page_number=80, title='Estatuto de Trabajo', author='Ignacio Estrada', subject='Sistemas SCADA/EMS del CENACE', keywords='C_Confidential', creator='Microsoft® Word 2016', creationdate=\"D:20220323203105-06'00'\", moddate=\"D:20220323203105-06'00'\", producer='Microsoft® Word 2016')),\n",
       " Text(content='4. AdC actualizará la lista de Subprocesos de Energía  de acuerdo al cambio aplicado via la \\ncolumna HABILITAD O. \\n \\n \\n2.24 Catálogo Centros de Control Internos  \\nDe acuerdo a la Tabla 1, sólo la función de Habilitar/Inhabilitar aplica al Catálogo de Centros de \\nControl.  \\nEl mantenimiento de éste Cat álogo aplica al  Nivel de Administración Global del nivel Jerárquico 1.  \\n \\nProcedimiento: Habilitar/Deshabilitar  Centro de Control  \\nEste procedimiento permite habilitar o deshabilitar el registro de un Centro de Control.  La acción \\ndependerá del estado habil itado o deshabilitado que guarde un registro.  \\nPaso  Actividad  \\n1. Seleccionar Catálogo Subprocesos de Energía', metadata=TextMetadata(source='../datos/documentos\\\\SIE-DOC-REL-MAN_002_00 (1).pdf', reference='23b56c7b-a7ee-4a99-8242-d0b760fa1154', collection='documentos', filename='SIE-DOC-REL-MAN_002_00 (1).pdf', total_pages=92, page_number=80, title='Estatuto de Trabajo', author='Ignacio Estrada', subject='Sistemas SCADA/EMS del CENACE', keywords='C_Confidential', creator='Microsoft® Word 2016', creationdate=\"D:20220323203105-06'00'\", moddate=\"D:20220323203105-06'00'\", producer='Microsoft® Word 2016')),\n",
       " Text(content='Control de Cambios  \\nFecha: 20/02/2021  Proyecto: Sistemas SCADA/EMS del CENACE  \\nSIE-DOC -REL-MAN _002_00 \\n \\nConfidential  \\nUpdated 28/02/2018  Versión: 0  Página 81 of  92 \\nAutor: Ignacio Estrada   Restricted © Siemens AG, 2018. All rights reserved.   \\n 2. Deshabilitar registro:  \\nSeleccione   el Centro de Control cuyo estado sea Habilitado y enseguida dé click en  botón \\nDeshabilitar.  \\nAdC enviará confirmación en el área de mensajes indicando el resultado de la acción:  \\n \\nObserve que el botón Deshabilitar será desactivado para el Centro de Control  \\nseleccionado y el botón Habilitar será activado.  \\n3. Habilitar registro:  \\nSeleccione   el Centro de Control  cuyo estado sea Deshabilitado y enseguida dé click en  \\nbotón Habilitar.  \\nAdC enviará confirmación en el área de mensajes indicando el resultado de la acción.  \\n \\nObserve que el botón Habilitar será desactivado para el Centro de Control  seleccionado  \\ny el botón Deshabilitar será activado nuevamente.  \\n4. AdC actualizará la lista de Centros de Control  de acuerdo al cambio aplicado via la \\ncolumna HABILITADO . \\n \\n \\n2.25 Catálogo Reglas de Programación de Licencias  \\nDe acuerdo a la Tabla 1, el Catálogo Reglas de Programación de Licencias  sólo permite la función \\nde edición.  \\nEl mantenimiento de éste Catálogo aplica al  Nivel de Administración global del Nivel Jerárquico 1.  \\nProcedimiento: Modificar Regla de Programación  \\nPaso  Actividad  \\n1. Seleccionar Catálogo Reglas de Programación de Licencias', metadata=TextMetadata(source='../datos/documentos\\\\SIE-DOC-REL-MAN_002_00 (1).pdf', reference='23b56c7b-a7ee-4a99-8242-d0b760fa1154', collection='documentos', filename='SIE-DOC-REL-MAN_002_00 (1).pdf', total_pages=92, page_number=81, title='Estatuto de Trabajo', author='Ignacio Estrada', subject='Sistemas SCADA/EMS del CENACE', keywords='C_Confidential', creator='Microsoft® Word 2016', creationdate=\"D:20220323203105-06'00'\", moddate=\"D:20220323203105-06'00'\", producer='Microsoft® Word 2016')),\n",
       " Text(content='Procedimiento: Modificar Regla de Programación  \\nPaso  Actividad  \\n1. Seleccionar Catálogo Reglas de Programación de Licencias  \\n2. Seleccione   la regla a modificar y enseguida dé click en  botón Editar  \\nAdC mostrará  la ventana para editar la Regla seleccionada:', metadata=TextMetadata(source='../datos/documentos\\\\SIE-DOC-REL-MAN_002_00 (1).pdf', reference='23b56c7b-a7ee-4a99-8242-d0b760fa1154', collection='documentos', filename='SIE-DOC-REL-MAN_002_00 (1).pdf', total_pages=92, page_number=81, title='Estatuto de Trabajo', author='Ignacio Estrada', subject='Sistemas SCADA/EMS del CENACE', keywords='C_Confidential', creator='Microsoft® Word 2016', creationdate=\"D:20220323203105-06'00'\", moddate=\"D:20220323203105-06'00'\", producer='Microsoft® Word 2016')),\n",
       " Text(content='Control de Cambios  \\nFecha: 20/02/2021  Proyecto: Sistemas SCADA/EMS del CENACE  \\nSIE-DOC -REL-MAN _002_00 \\n \\nConfidential  \\nUpdated 28/02/2018  Versión: 0  Página 82 of  92 \\nAutor: Ignacio Estrada   Restricted © Siemens AG, 2018. All rights reserved.   \\n  \\nSeleccione los datos requeridos y dé un click en botón Guardar . \\n3. AdC actualizará la regla seleccionada  \\n4. Aplique el paso 2 para editar cualquier otra regla de Programación de Licencias  \\n \\n \\n2.26 Catálogo Envío de Correos en Solicitudes  \\nDe acuerdo a la Tabla 2, las funciones que aplican al Catálogo de Envío de Correos en Solici tudes  \\nincluye las siguientes:  \\n\\uf0a7 Añadir Regla de Correo  \\n\\uf0a7 Borrar Regla de Correo  \\n\\uf0a7 Habilitar/Inhabilitar Regla de Correo  \\n \\nEl mantenimiento de éste Catálogo aplica a cualquier  Nivel de Administración.  \\n \\nProcedimiento: Añadir Regla  de Correo  \\nPaso  Actividad  \\n1. Seleccionar Catálogo Envío de Correos en Solicitudes  \\n2. Dé click en  botón Nuevo  \\nAdC mostrará  la ventana para agregar una nueva regla  de Correo:', metadata=TextMetadata(source='../datos/documentos\\\\SIE-DOC-REL-MAN_002_00 (1).pdf', reference='23b56c7b-a7ee-4a99-8242-d0b760fa1154', collection='documentos', filename='SIE-DOC-REL-MAN_002_00 (1).pdf', total_pages=92, page_number=82, title='Estatuto de Trabajo', author='Ignacio Estrada', subject='Sistemas SCADA/EMS del CENACE', keywords='C_Confidential', creator='Microsoft® Word 2016', creationdate=\"D:20220323203105-06'00'\", moddate=\"D:20220323203105-06'00'\", producer='Microsoft® Word 2016')),\n",
       " Text(content='Control de Cambios  \\nFecha: 20/02/2021  Proyecto: Sistemas SCADA/EMS del CENACE  \\nSIE-DOC -REL-MAN _002_00 \\n \\nConfidential  \\nUpdated 28/02/2018  Versión: 0  Página 83 of  92 \\nAutor: Ignacio Estrada   Restricted © Siemens AG, 2018. All rights reserved.   \\n  \\nSeleccione los datos requeridos y dé click en botón Guardar .. \\n3. AdC añadirá la nueva regla de Correo a  la lista  \\n \\nProcedimiento: Dar de baja Regla  de Correo  \\nPaso  Actividad  \\n1. Seleccionar Catálogo Envío de Correos en Solicitudes  \\n2. Seleccione   la regla de correo  a dar de baja  y enseguida dé click en  botón Eliminar  \\nAdC mostrará  la ventana para dar de baja  la regla  seleccionad a: \\n \\nConfirme  la acción  y dé un click en botón Borrar  \\nAdC enviará ventana de Confirmación . \\n \\n3. AdC actualizará eliminando de la lista la regla  seleccionad a', metadata=TextMetadata(source='../datos/documentos\\\\SIE-DOC-REL-MAN_002_00 (1).pdf', reference='23b56c7b-a7ee-4a99-8242-d0b760fa1154', collection='documentos', filename='SIE-DOC-REL-MAN_002_00 (1).pdf', total_pages=92, page_number=83, title='Estatuto de Trabajo', author='Ignacio Estrada', subject='Sistemas SCADA/EMS del CENACE', keywords='C_Confidential', creator='Microsoft® Word 2016', creationdate=\"D:20220323203105-06'00'\", moddate=\"D:20220323203105-06'00'\", producer='Microsoft® Word 2016')),\n",
       " Text(content='Control de Cambios  \\nFecha: 20/02/2021  Proyecto: Sistemas SCADA/EMS del CENACE  \\nSIE-DOC -REL-MAN _002_00 \\n \\nConfidential  \\nUpdated 28/02/2018  Versión: 0  Página 84 of  92 \\nAutor: Ignacio Estrada   Restricted © Siemens AG, 2018. All rights reserved.   \\n Procedimiento: Habilitar/Deshabilitar  Regla de Envío  \\nEste procedimiento permite habilitar o deshabilitar una regla de envió de correo .  La acción \\ndependerá del estado habilitado o deshabilitado que guarde un registro.  \\nPaso  Actividad  \\n1. Seleccionar Catálogo Envío de Correos en Solicitudes  \\n2. Deshabilitar registro:  \\nSeleccione   la regla de envío  cuyo estado sea Habilitad a y enseguida dé click en  botón \\nDeshabilitar.  \\nAdC enviará confirmación en el área de mensajes indicando el resultado de la acción:  \\n \\nObserve que el botón Deshabilitar será desactivado para la regla  seleccionad a y el botón \\nHabilitar será activado.  \\n3. Habilitar registro:  \\nSeleccione   la regla de envío  cuyo estado sea Deshabilitad a y enseguida dé click en  botón \\nHabilitar.  \\nAdC enviará confirmación en el área de mensajes indicando el resultado de la acción.  \\n \\nObserve que el botón Habilitar será desactivado para la regla  seleccionad a  y el botón \\nDeshabilitar será activado nuevamente.  \\n4. AdC actualizará la lista de Reglas de Envio  de acuerdo al cambio aplicado via la columna \\nHABILITAD A. \\n \\n \\n2.27 Catálogo Cuentas de Correo para Copiar a', metadata=TextMetadata(source='../datos/documentos\\\\SIE-DOC-REL-MAN_002_00 (1).pdf', reference='23b56c7b-a7ee-4a99-8242-d0b760fa1154', collection='documentos', filename='SIE-DOC-REL-MAN_002_00 (1).pdf', total_pages=92, page_number=84, title='Estatuto de Trabajo', author='Ignacio Estrada', subject='Sistemas SCADA/EMS del CENACE', keywords='C_Confidential', creator='Microsoft® Word 2016', creationdate=\"D:20220323203105-06'00'\", moddate=\"D:20220323203105-06'00'\", producer='Microsoft® Word 2016')),\n",
       " Text(content='Deshabilitar será activado nuevamente.  \\n4. AdC actualizará la lista de Reglas de Envio  de acuerdo al cambio aplicado via la columna \\nHABILITAD A. \\n \\n \\n2.27 Catálogo Cuentas de Correo para Copiar a  \\nDe acuerdo a la Tabla 2, las funciones que aplican al Catálogo de Cuentas de Correo para Copiar \\na incluye las siguientes:  \\n\\uf0a7 Añadir Cuenta de Correo  \\n\\uf0a7 Editar Cuenta de Correo  \\n\\uf0a7 Borrar Cuenta de Correo  \\n\\uf0a7 Habilitar/Inhabilitar Cuenta d e Correo  \\n \\nEl mantenimiento de éste Catálogo aplica a cualquier  Nivel de Administración.', metadata=TextMetadata(source='../datos/documentos\\\\SIE-DOC-REL-MAN_002_00 (1).pdf', reference='23b56c7b-a7ee-4a99-8242-d0b760fa1154', collection='documentos', filename='SIE-DOC-REL-MAN_002_00 (1).pdf', total_pages=92, page_number=84, title='Estatuto de Trabajo', author='Ignacio Estrada', subject='Sistemas SCADA/EMS del CENACE', keywords='C_Confidential', creator='Microsoft® Word 2016', creationdate=\"D:20220323203105-06'00'\", moddate=\"D:20220323203105-06'00'\", producer='Microsoft® Word 2016')),\n",
       " Text(content='Control de Cambios  \\nFecha: 20/02/2021  Proyecto: Sistemas SCADA/EMS del CENACE  \\nSIE-DOC -REL-MAN _002_00 \\n \\nConfidential  \\nUpdated 28/02/2018  Versión: 0  Página 85 of  92 \\nAutor: Ignacio Estrada   Restricted © Siemens AG, 2018. All rights reserved.   \\n  \\nProcedimiento: Añadir Cuenta de Correo  \\nPaso  Actividad  \\n1. Seleccionar Catálogo Cuentas de Correo para Copiar a  \\n2. Dé click en  botón Nuevo  \\nAdC mostrará  la ventana para agregar una nueva cuenta de Correo:  \\n \\nSeleccione los datos requeridos y dé click en botón Guardar .. \\n3. AdC añadirá la nueva cuenta de Correo a la lista  \\n \\nProcedimiento: Editar Cuenta de Correo  \\nPaso  Actividad  \\n1. Seleccionar Catálogo Cuentas de Correo para Copiar a  \\n2. Seleccione   la cuenta de correo a modificar y enseguida dé click en  botón Editar  \\nAdC mostrará  la ventana para editar la cuenta de correo seleccionada:  \\n \\nComplete los cambios y dé un click en botón Guardar  \\n3. AdC actualizará la cuenta de correo seleccionada', metadata=TextMetadata(source='../datos/documentos\\\\SIE-DOC-REL-MAN_002_00 (1).pdf', reference='23b56c7b-a7ee-4a99-8242-d0b760fa1154', collection='documentos', filename='SIE-DOC-REL-MAN_002_00 (1).pdf', total_pages=92, page_number=85, title='Estatuto de Trabajo', author='Ignacio Estrada', subject='Sistemas SCADA/EMS del CENACE', keywords='C_Confidential', creator='Microsoft® Word 2016', creationdate=\"D:20220323203105-06'00'\", moddate=\"D:20220323203105-06'00'\", producer='Microsoft® Word 2016')),\n",
       " Text(content='Control de Cambios  \\nFecha: 20/02/2021  Proyecto: Sistemas SCADA/EMS del CENACE  \\nSIE-DOC -REL-MAN _002_00 \\n \\nConfidential  \\nUpdated 28/02/2018  Versión: 0  Página 86 of  92 \\nAutor: Ignacio Estrada   Restricted © Siemens AG, 2018. All rights reserved.   \\n  \\n \\nProcedimiento: Dar de baja Cuenta  de Correo  \\nPaso  Actividad  \\n1. Seleccionar Catálogo Cuentas de Correo para Copiar a  \\n2. Seleccione   la cuenta  de correo a dar de baja y enseguida dé click en  botón Eliminar  \\nAdC mostrará  la ventana para dar de baja la cuenta de correo  seleccionada:  \\n \\nConfirme la acción y dé un click en botón Borrar  \\nAdC enviará ventana de Confirmación . \\n \\n3. AdC actualizará eliminando de la lista la cuenta  seleccionada  \\n \\n \\nProcedimiento: Habilitar/Deshabilitar  Cuenta de Correo  \\nEste procedimiento permite habilitar o deshabilitar una cuenta de correo.  La acción dependerá del \\nestado habilitado o deshabilitado que guarde un registro.  \\nPaso  Actividad  \\n1. Seleccionar Catálogo Cuentas de Correo para Copiar a  \\n2. Deshabilitar registro:  \\nSeleccione   la cuenta de correo cuyo estado sea Habilitada y enseguida dé click en  botón \\nDeshabilitar.', metadata=TextMetadata(source='../datos/documentos\\\\SIE-DOC-REL-MAN_002_00 (1).pdf', reference='23b56c7b-a7ee-4a99-8242-d0b760fa1154', collection='documentos', filename='SIE-DOC-REL-MAN_002_00 (1).pdf', total_pages=92, page_number=86, title='Estatuto de Trabajo', author='Ignacio Estrada', subject='Sistemas SCADA/EMS del CENACE', keywords='C_Confidential', creator='Microsoft® Word 2016', creationdate=\"D:20220323203105-06'00'\", moddate=\"D:20220323203105-06'00'\", producer='Microsoft® Word 2016')),\n",
       " Text(content='Control de Cambios  \\nFecha: 20/02/2021  Proyecto: Sistemas SCADA/EMS del CENACE  \\nSIE-DOC -REL-MAN _002_00 \\n \\nConfidential  \\nUpdated 28/02/2018  Versión: 0  Página 87 of  92 \\nAutor: Ignacio Estrada   Restricted © Siemens AG, 2018. All rights reserved.   \\n AdC enviará confirmación en el área de mensajes indicando el resultado de la acción:  \\n \\nObserve que el botón Deshabilitar será desactivado para la cuenta  seleccionada y el \\nbotón Habilitar será activado.  \\n3. Habilitar registro:  \\nSeleccione   la cuenta  de correo  cuyo estado sea Deshabilitada y enseguida dé click en  \\nbotón Habilitar.  \\nAdC enviará confirmación en el área de mensajes indicando el resultado de la acción.  \\n \\nObserve que el botón Habilitar será desactivado para la cuenta  seleccionada  y el botón \\nDeshabilitar será activado nuevamente.  \\n4. AdC actualizará la lista de Cuentas  de correo  de acuerdo al cambio aplicado via la columna \\nHABILITADA . \\n \\n \\n2.28 Catálogo Códigos de Operación y Causas  \\nDe acuerdo a la Tabla 2, las funciones que aplican al Catálogo de Códigos de Operación y Causas  \\nincluye las siguientes:  \\n\\uf0a7 Añadir registro  \\n\\uf0a7 Borrar registro  \\n\\uf0a7 Habilitar/Inhabilitar registro  \\n \\nEl mantenimiento de éste Catálogo aplica a cualquier  Nivel de Administración.  \\n \\nProcedimiento: Añadir registro  \\nPaso  Actividad  \\n1. Seleccionar Catálogo Códigos de Operación y Causas  \\n2. Dé click en  botón Nuevo  \\nAdC mostrará  la ventana para agregar un nuevo registro:', metadata=TextMetadata(source='../datos/documentos\\\\SIE-DOC-REL-MAN_002_00 (1).pdf', reference='23b56c7b-a7ee-4a99-8242-d0b760fa1154', collection='documentos', filename='SIE-DOC-REL-MAN_002_00 (1).pdf', total_pages=92, page_number=87, title='Estatuto de Trabajo', author='Ignacio Estrada', subject='Sistemas SCADA/EMS del CENACE', keywords='C_Confidential', creator='Microsoft® Word 2016', creationdate=\"D:20220323203105-06'00'\", moddate=\"D:20220323203105-06'00'\", producer='Microsoft® Word 2016')),\n",
       " Text(content='Control de Cambios  \\nFecha: 20/02/2021  Proyecto: Sistemas SCADA/EMS del CENACE  \\nSIE-DOC -REL-MAN _002_00 \\n \\nConfidential  \\nUpdated 28/02/2018  Versión: 0  Página 88 of  92 \\nAutor: Ignacio Estrada   Restricted © Siemens AG, 2018. All rights reserved.   \\n  \\nSeleccione los datos requeridos y dé click en botón Guardar .. \\n3. AdC añadirá el nuevo registro a la lista  \\n \\nProcedimiento: Dar de baja registro  \\nPaso  Actividad  \\n1. Seleccionar Catálogo Códigos de Operación y Causas  \\n2. Seleccione   el registro  a dar de baja y enseguida dé click en  botón Eliminar  \\nAdC mostrará  la ventana para dar de baja el registro  seleccionad o: \\n \\nConfirme la acción y dé un click en botón Borrar  \\nAdC enviará ventana de Confirmación . \\n \\n3. AdC actualizará eliminando de la lista el registro  seleccionad o', metadata=TextMetadata(source='../datos/documentos\\\\SIE-DOC-REL-MAN_002_00 (1).pdf', reference='23b56c7b-a7ee-4a99-8242-d0b760fa1154', collection='documentos', filename='SIE-DOC-REL-MAN_002_00 (1).pdf', total_pages=92, page_number=88, title='Estatuto de Trabajo', author='Ignacio Estrada', subject='Sistemas SCADA/EMS del CENACE', keywords='C_Confidential', creator='Microsoft® Word 2016', creationdate=\"D:20220323203105-06'00'\", moddate=\"D:20220323203105-06'00'\", producer='Microsoft® Word 2016')),\n",
       " Text(content='Control de Cambios  \\nFecha: 20/02/2021  Proyecto: Sistemas SCADA/EMS del CENACE  \\nSIE-DOC -REL-MAN _002_00 \\n \\nConfidential  \\nUpdated 28/02/2018  Versión: 0  Página 89 of  92 \\nAutor: Ignacio Estrada   Restricted © Siemens AG, 2018. All rights reserved.   \\n Procedimiento: Habilitar/Deshabilitar  registro  \\nEste procedimiento permite habilitar o deshabilitar un registro .  La acción dependerá del estado \\nhabilitado o deshabilitado que guarde un registro.  \\nPaso  Actividad  \\n1. Seleccionar Catálogo Códigos de Operación y Causas  \\n2. Deshabilitar registro:  \\nSeleccione   registro  cuyo estado sea Habilitad o y enseguida dé click en  botón Deshabilitar.  \\nAdC enviará confirmación en el área de mensajes indicando  el resultado de la acción:  \\n \\nObserve que el botón Deshabilitar será desactivado para el registro seleccionado  y el \\nbotón Habilitar será activado.  \\n3. Habilitar registro:  \\nSeleccione   el registro  cuyo estado sea Deshabilitad o y enseguida dé click en  botón \\nHabilitar.  \\nAdC enviará confirmación en el área de mensajes indicando el resultado de la acción.  \\n \\nObserve que el botón Habilitar será desactivado para el registro  seleccionad o  y el botón \\nDeshabilitar será activado nuevamente.  \\n4. AdC actualizará la lista de Códigos y causas  de acuerdo al cambio aplicado via la columna \\nHABILITADA . \\n \\n \\n2.29 Catálogo RMV Configuración de Umbrales  \\nDe acuerdo a la Tabla 1, el Catálogo RMV Configuración de Umbrales sólo permite la función de \\nedición:', metadata=TextMetadata(source='../datos/documentos\\\\SIE-DOC-REL-MAN_002_00 (1).pdf', reference='23b56c7b-a7ee-4a99-8242-d0b760fa1154', collection='documentos', filename='SIE-DOC-REL-MAN_002_00 (1).pdf', total_pages=92, page_number=89, title='Estatuto de Trabajo', author='Ignacio Estrada', subject='Sistemas SCADA/EMS del CENACE', keywords='C_Confidential', creator='Microsoft® Word 2016', creationdate=\"D:20220323203105-06'00'\", moddate=\"D:20220323203105-06'00'\", producer='Microsoft® Word 2016')),\n",
       " Text(content='HABILITADA . \\n \\n \\n2.29 Catálogo RMV Configuración de Umbrales  \\nDe acuerdo a la Tabla 1, el Catálogo RMV Configuración de Umbrales sólo permite la función de \\nedición:  \\nEl mantenimiento de éste Catálogo aplica al Nivel de Administración global del Nivel Jerárquico 1.  \\nProcedimiento: Modificar Umbral  \\nPaso  Actividad  \\n1. Seleccionar Catálogo RMV Configuración de Umbrales  \\n2. Seleccione   el Umbral a modificar y enseguida dé click en  botón Editar  \\nAdC mostrará  la ventana para editar el Umbral  seleccionado:', metadata=TextMetadata(source='../datos/documentos\\\\SIE-DOC-REL-MAN_002_00 (1).pdf', reference='23b56c7b-a7ee-4a99-8242-d0b760fa1154', collection='documentos', filename='SIE-DOC-REL-MAN_002_00 (1).pdf', total_pages=92, page_number=89, title='Estatuto de Trabajo', author='Ignacio Estrada', subject='Sistemas SCADA/EMS del CENACE', keywords='C_Confidential', creator='Microsoft® Word 2016', creationdate=\"D:20220323203105-06'00'\", moddate=\"D:20220323203105-06'00'\", producer='Microsoft® Word 2016')),\n",
       " Text(content='Control de Cambios  \\nFecha: 20/02/2021  Proyecto: Sistemas SCADA/EMS del CENACE  \\nSIE-DOC -REL-MAN _002_00 \\n \\nConfidential  \\nUpdated 28/02/2018  Versión: 0  Página 90 of  92 \\nAutor: Ignacio Estrada   Restricted © Siemens AG, 2018. All rights reserved.   \\n  \\nSeleccione la configuración del Umbral  y dé un click en botón Guardar . \\n3. AdC actualizará el Umbral  seleccionado  \\n4. Aplique el paso 2 para editar cualquier otro Umbral  \\n \\n \\n2.30 Catálogo Listas de Verificación Inicio de Turno  \\nDe acuerdo a la Tabla 2, las funciones que aplican al Catálogo de Listas de Verificación Inicio de \\nTurno  incluye las siguientes:  \\n\\uf0a7 Añadir Lista  \\n\\uf0a7 Editar Lista  \\n\\uf0a7 Habilitar/Inhabilitar Lista  \\n \\nEl mantenimiento de éste Catálogo aplica a cualquier  Nivel de Administración.  \\n \\nProcedimiento: Añadir Lista  \\nPaso  Actividad  \\n1. Seleccionar Catálogo Listas de Verificación Inicio de Turno  \\n2. Dé click en  botón Nuevo  \\nAdC mostrará  la ventana para agregar una nueva lista de verificación :', metadata=TextMetadata(source='../datos/documentos\\\\SIE-DOC-REL-MAN_002_00 (1).pdf', reference='23b56c7b-a7ee-4a99-8242-d0b760fa1154', collection='documentos', filename='SIE-DOC-REL-MAN_002_00 (1).pdf', total_pages=92, page_number=90, title='Estatuto de Trabajo', author='Ignacio Estrada', subject='Sistemas SCADA/EMS del CENACE', keywords='C_Confidential', creator='Microsoft® Word 2016', creationdate=\"D:20220323203105-06'00'\", moddate=\"D:20220323203105-06'00'\", producer='Microsoft® Word 2016')),\n",
       " Text(content='Control de Cambios  \\nFecha: 20/02/2021  Proyecto: Sistemas SCADA/EMS del CENACE  \\nSIE-DOC -REL-MAN _002_00 \\n \\nConfidential  \\nUpdated 28/02/2018  Versión: 0  Página 91 of  92 \\nAutor: Ignacio Estrada   Restricted © Siemens AG, 2018. All rights reserved.   \\n  \\nObserve que el botón Agregar  se utiliza para agregará un nuevo Identificador de Lista el \\ncual será incluido en el campo Seleccionar Id, esto en el caso de que no existan \\nidentificadores.  \\nUna vez creado un nuevo Identificado,  seleccionelo y ahora seleccione la Categoría  \\nasociada y cimplete el campo Descripción . \\n Una vez proporcionado los datos dé click en botón Agregar verificación .. \\n3. AdC añadirá la nueva Verificación  a la lista . \\n4. Si requiere agregar más verificaciones mantenga los campos Id y Categoría y capture una \\nnueva Descripción y enseguida dé nuevamente click en botón Agregar verificación . \\n \\nProcedimiento: Editar Lista de Verificación  \\nPaso  Actividad  \\n1. Seleccionar Catálogo Listas de Verificación Inicio de Turno  \\n2. Seleccione   la lista de verificación  a modificar y enseguida dé click en  botón Editar  \\nAdC mostrará  la ventana para editar la lista  seleccionada:  \\n \\nComplete los cambios y dé un click en botón Guardar  \\n3. AdC actualizará la lista', metadata=TextMetadata(source='../datos/documentos\\\\SIE-DOC-REL-MAN_002_00 (1).pdf', reference='23b56c7b-a7ee-4a99-8242-d0b760fa1154', collection='documentos', filename='SIE-DOC-REL-MAN_002_00 (1).pdf', total_pages=92, page_number=91, title='Estatuto de Trabajo', author='Ignacio Estrada', subject='Sistemas SCADA/EMS del CENACE', keywords='C_Confidential', creator='Microsoft® Word 2016', creationdate=\"D:20220323203105-06'00'\", moddate=\"D:20220323203105-06'00'\", producer='Microsoft® Word 2016')),\n",
       " Text(content='Control de Cambios  \\nFecha: 20/02/2021  Proyecto: Sistemas SCADA/EMS del CENACE  \\nSIE-DOC -REL-MAN _002_00 \\n \\nConfidential  \\nUpdated 28/02/2018  Versión: 0  Página 92 of  92 \\nAutor: Ignacio Estrada   Restricted © Siemens AG, 2018. All rights reserved.   \\n Procedimiento: Habilitar/Deshabilitar  Lista de Verificación  \\nEste procedimiento permite habilitar o deshabilitar lista de verificación .  La acción dependerá del \\nestado habilitado o deshabilitado que guarde un registro.  \\nPaso  Actividad  \\n1. Seleccionar Catálogo Listas de Verificación Inicio de Turno  \\n2. Deshabilitar registro:  \\nSeleccione   la lista de verificación  cuyo estado sea Habilitada y enseguida dé click en  \\nbotón Deshabilitar.  \\nAdC enviará confirmación en el área de mensajes  indicando el resultado de la acción:  \\n \\nObserve que el botón Deshabilitar será desactivado para la lista de verificación \\nseleccionada y el botón Habilitar será activado.  \\n3. Habilitar registro:  \\nSeleccione   la lista de verificación cuyo estado sea Deshabilitada y enseguida dé click en  \\nbotón Habilitar.  \\nAdC enviará confirmación en el área de mensajes indicando el resultado de la acción.  \\n \\nObserve que el botón Habilitar será desactivado para la lista de verificación seleccionada  \\ny el b otón Deshabilitar será activado nuevamente.  \\n4. AdC actualizará la lista de lista de verificación de acuerdo al cambio aplicado via la \\ncolumna HABILITADA .', metadata=TextMetadata(source='../datos/documentos\\\\SIE-DOC-REL-MAN_002_00 (1).pdf', reference='23b56c7b-a7ee-4a99-8242-d0b760fa1154', collection='documentos', filename='SIE-DOC-REL-MAN_002_00 (1).pdf', total_pages=92, page_number=92, title='Estatuto de Trabajo', author='Ignacio Estrada', subject='Sistemas SCADA/EMS del CENACE', keywords='C_Confidential', creator='Microsoft® Word 2016', creationdate=\"D:20220323203105-06'00'\", moddate=\"D:20220323203105-06'00'\", producer='Microsoft® Word 2016'))]"
      ]
     },
     "execution_count": 12,
     "metadata": {},
     "output_type": "execute_result"
    }
   ],
   "source": [
    "chunks"
   ]
  },
  {
   "cell_type": "code",
   "execution_count": 1,
   "metadata": {},
   "outputs": [
    {
     "name": "stdout",
     "output_type": "stream",
     "text": [
      "Índice cargado desde ../datos/vectorstore\\index.faiss\n",
      "Diccionario cargado desde ../datos/vectorstore\\index.pkl\n"
     ]
    }
   ],
   "source": [
    "import os\n",
    "from cenacellm.ollama.embedder import OllamaEmbedder\n",
    "from cenacellm.vectorstore import FAISSVectorStore\n",
    "from cenacellm.doccollection import DisjointCollection\n",
    "\n",
    "collection = DisjointCollection()\n",
    "embedder = OllamaEmbedder()\n",
    "vectorstore = FAISSVectorStore(\n",
    "    dim=embedder.dim(),\n",
    "    embeddings=embedder,\n",
    "    folder_path=\"../datos/vectorstore\",\n",
    ")"
   ]
  },
  {
   "cell_type": "code",
   "execution_count": 2,
   "metadata": {},
   "outputs": [],
   "source": [
    "query = \"\"\"\n",
    "Revision de SIREL por falta de Envio de TL a Nivel Superior\n",
    "\n",
    "Buenas noches, para solicitar de favor se revise en sistema SIREL la\n",
    "falta de envío de términos de licencias a nivel superior. Cuando estas vienen de solicitudes autorizadas por ellos. Enseguida muestro como evidencia LM de LT CHO \n",
    "93660 LOU, la cual se retiro a las 16:31 Hrs local de Sonora y en Relatorio no se\n",
    "palomeo la pestaña a Nivel Superior, lo cual provoca que México llame para solicitar \n",
    "dicho termino de licencia vía voz. Como precedente ya se ha tenido mismo problema en \n",
    "días anteriores. Por favor...\"\"\""
   ]
  },
  {
   "cell_type": "code",
   "execution_count": 3,
   "metadata": {},
   "outputs": [
    {
     "name": "stdout",
     "output_type": "stream",
     "text": [
      "[source='../datos/documentos\\\\SIE-DOC-REL-MAN_001_00 (2).pdf' reference='266e84ec-f76e-45f4-ae41-6a6466bf77df' collection='documentos' filename='SIE-DOC-REL-MAN_001_00 (2).pdf' total_pages=118 page_number=30 title='Estatuto de Trabajo' author='Ignacio Estrada' subject='Sistemas SCADA/EMS del CENACE' keywords='C_Confidential' creator='Microsoft® Word 2016' creationdate=\"D:20220323203011-06'00'\" moddate=\"D:20220323203011-06'00'\" producer='Microsoft® Word 2016'] -> al Nivel Superior \" y \n",
      "b) Seleccionando  el evento  requerido desde la lista  y en seguida seleccione el botón \n",
      "Enviar a NS  \n",
      "Al realizar la acción previa, se marcará con una palomita la columna NS en el renglón del evento \n",
      "seleccionado, confirmando que el evento ha sido enviado.  \n",
      " \n",
      " \n",
      "3.    SIREL  envía mensaje de confirmación en el área de mensajes del usuario y  actualizará \n",
      "automáticamente la lista de eventos...\n",
      "\n",
      "[source='../datos/documentos\\\\SIE-DOC-REL-MAN_001_00 (2).pdf' reference='266e84ec-f76e-45f4-ae41-6a6466bf77df' collection='documentos' filename='SIE-DOC-REL-MAN_001_00 (2).pdf' total_pages=118 page_number=48 title='Estatuto de Trabajo' author='Ignacio Estrada' subject='Sistemas SCADA/EMS del CENACE' keywords='C_Confidential' creator='Microsoft® Word 2016' creationdate=\"D:20220323203011-06'00'\" moddate=\"D:20220323203011-06'00'\" producer='Microsoft® Word 2016'] -> Control de Cambios  \n",
      "Fecha: 20/02/2021  Proyecto: Sistemas SCADA/EMS del CENACE  \n",
      "SIE-DOC -REL-MAN _001_00 \n",
      " \n",
      "Confidential  \n",
      "Updated 28/02/2018  Versión: 0  Página 48 of  118 \n",
      "Autor: Ignacio Estrada   Restricted © Siemens AG, 2018. All rights reserved.   \n",
      " a) Seleccione la Licencia que desea restaurar a solicitud,  \n",
      "b) Seleccione de  la barra principal el botón Restaurar a Solicitud  o con botón \n",
      "secundario del mouse sobre la licencia seleccionada la opción Restaurar a Solicitud.  \n",
      " \n",
      "SIREL enviará ventana de Confirmación.  \n",
      " \n",
      "3.    Al finalizar el proceso de Restauración, SIREL actualizará la lista de Licencias eliminando de \n",
      "la lista la Licencia Restaurada y eliminará el evento asociado en el Relatorio . \n",
      " \n",
      "Procedimiento: Restaurar Licencia Retirada a Estado vigente  \n",
      "Esta función aplica sólo a Licencias de Solicitudes programadas y que no contienen maniobras y \n",
      "hayan sido Retiradas en el mism o Relatorio . \n",
      "Paso  Actividad  \n",
      "1. Ir a la vista de Licencias (ver imagen 5)  \n",
      "2. Desde la vista de Licencias  \n",
      "a) Seleccione la Licencia que desea resta urar a Estado vigente , \n",
      "b) Seleccione de  la barra principal el botón Restaurar a Licencia  o con botón \n",
      "secundario del mouse sobre la licencia seleccionada la opción Restaurar a Licencia.  \n",
      " \n",
      "SIREL enviará ventana de Confirmación, como la siguiente…...\n",
      "\n",
      "[source='../datos/documentos\\\\SIE-DOC-REL-MAN_001_00 (2).pdf' reference='266e84ec-f76e-45f4-ae41-6a6466bf77df' collection='documentos' filename='SIE-DOC-REL-MAN_001_00 (2).pdf' total_pages=118 page_number=63 title='Estatuto de Trabajo' author='Ignacio Estrada' subject='Sistemas SCADA/EMS del CENACE' keywords='C_Confidential' creator='Microsoft® Word 2016' creationdate=\"D:20220323203011-06'00'\" moddate=\"D:20220323203011-06'00'\" producer='Microsoft® Word 2016'] -> Observe que cuando el equipo asociado a una Solicitud representa un equipo frontera entre \n",
      "Centros de Control, la Solicitud será enviada tanto al Centro de Control de NS como al Centro de \n",
      "Control Region al  relacionado con el equipo frontera.  \n",
      " \n",
      "Procedimiento: Enviar Solicitud  a Nivel Inferior (NI)  \n",
      "Paso  Actividad  \n",
      "1. Ir a la vista de Solicitudes (ver imagen 5)  \n",
      "2. Para enviar una Solicitud al NI seleccion ela desde la cuadrícula , dé un click en el botón \n",
      "Enviar a NI  y enseguida SIREL mostrará la interacción para seleccionar el Centro de \n",
      "Control a donde será enviada. ....\n",
      "\n",
      "[source='../datos/documentos\\\\SIE-DOC-REL-MAN_001_00 (2).pdf' reference='266e84ec-f76e-45f4-ae41-6a6466bf77df' collection='documentos' filename='SIE-DOC-REL-MAN_001_00 (2).pdf' total_pages=118 page_number=47 title='Estatuto de Trabajo' author='Ignacio Estrada' subject='Sistemas SCADA/EMS del CENACE' keywords='C_Confidential' creator='Microsoft® Word 2016' creationdate=\"D:20220323203011-06'00'\" moddate=\"D:20220323203011-06'00'\" producer='Microsoft® Word 2016'] -> Control de Cambios  \n",
      "Fecha: 20/02/2021  Proyecto: Sistemas SCADA/EMS del CENACE  \n",
      "SIE-DOC -REL-MAN _001_00 \n",
      " \n",
      "Confidential  \n",
      "Updated 28/02/2018  Versión: 0  Página 47 of  118 \n",
      "Autor: Ignacio Estrada   Restricted © Siemens AG, 2018. All rights reserved.   \n",
      " Procedimiento: Prorrogar Licencia  \n",
      "Esta función aplica a todas las Licencias programadas y/o de emergencia de acuerdo a la \n",
      "configuración correspondiente . \n",
      "  \n",
      "Paso  Actividad  \n",
      "1. Ir a la vista de Licencias ver imagen 5)  \n",
      "2. Desde la vista de Licencias, seleccione la Licencia a prorrogar y seleccione el botón \n",
      "Prorrogar  o con botón secundario del mouse sobre la licencia seleccionada la opción \n",
      "Prorrogar  \n",
      " \n",
      "SIREL enviará ventana como la siguiente, para proporcionar los datos de l a Prórroga.  \n",
      " \n",
      "3.    SIREL actualizará la lista de Licencias mostrando el estado Prorrogada de la Licencia y en la \n",
      "vista de detalles de Prorroga se mostrarán los datos asociados  y también se creará evento en \n",
      "Relatorio de acuerdo a la configuración correspondiente.  \n",
      " \n",
      "4.3 Restaurar Licencia s \n",
      " \n",
      "Procedimiento: Restaurar Licencia a Solicitud  \n",
      "Esta función aplica sólo a Licencias de Solicitudes programadas y que no contienen maniobras  y \n",
      "fuero n concedidas en el mismo Relatorio . \n",
      "Paso  Actividad  \n",
      "1. Ir a la vista de Licencias (ver imagen 5)  \n",
      "2. Desde la vista de Licencias...\n",
      "\n",
      "[source='../datos/documentos\\\\SIE-DOC-REL-MAN_001_00 (2).pdf' reference='266e84ec-f76e-45f4-ae41-6a6466bf77df' collection='documentos' filename='SIE-DOC-REL-MAN_001_00 (2).pdf' total_pages=118 page_number=45 title='Estatuto de Trabajo' author='Ignacio Estrada' subject='Sistemas SCADA/EMS del CENACE' keywords='C_Confidential' creator='Microsoft® Word 2016' creationdate=\"D:20220323203011-06'00'\" moddate=\"D:20220323203011-06'00'\" producer='Microsoft® Word 2016'] -> Control de Cambios  \n",
      "Fecha: 20/02/2021  Proyecto: Sistemas SCADA/EMS del CENACE  \n",
      "SIE-DOC -REL-MAN _001_00 \n",
      " \n",
      "Confidential  \n",
      "Updated 28/02/2018  Versión: 0  Página 45 of  118 \n",
      "Autor: Ignacio Estrada   Restricted © Siemens AG, 2018. All rights reserved.   \n",
      " 3.    Al finalizar el proceso de Co ncesión SIREL actualizará la lista de Licencias mostrando la nueva \n",
      "Licencia.  \n",
      " \n",
      "Procedimiento: Retirar  Licencia  \n",
      "Paso  Actividad  \n",
      "1. Ir a la vista de Licencias (ver imagen 5)  \n",
      "2. Desde la vista de Licencias  \n",
      "a) Seleccione la Licencia que desea retirar,  \n",
      "b) Seleccione de  la barra principal el botón Retirar , o con botón secundario del mouse \n",
      "sobre la licencia seleccionada la opción Retirar licencia  \n",
      " \n",
      "Dependiendo del flujo de proceso configurado, SIREL mostrará la ventana ya sea de Retiro de \n",
      "Licencia o de Normalización de Maniobras en caso de que la Licencia contenga maniobras . \n",
      " \n",
      "En caso de que la Licencia haya sido enviada al NS, SIREL enviará el evento también al NS. En \n",
      "caso de tener pasos de maniobras marcados para ser enviados al Relatorio también deber án ser \n",
      "enviados al NS . \n",
      "3.    Al finalizar el proceso de Retiro SIREL actualizará la lista de Licencias mostrando la Licencia \n",
      "en estado Retirada y creará un evento en el Relatorio ....\n",
      "\n",
      "[source='../datos/documentos\\\\SIE-DOC-REL-MAN_001_00 (2).pdf' reference='266e84ec-f76e-45f4-ae41-6a6466bf77df' collection='documentos' filename='SIE-DOC-REL-MAN_001_00 (2).pdf' total_pages=118 page_number=71 title='Estatuto de Trabajo' author='Ignacio Estrada' subject='Sistemas SCADA/EMS del CENACE' keywords='C_Confidential' creator='Microsoft® Word 2016' creationdate=\"D:20220323203011-06'00'\" moddate=\"D:20220323203011-06'00'\" producer='Microsoft® Word 2016'] -> Control de Cambios  \n",
      "Fecha: 20/02/2021  Proyecto: Sistemas SCADA/EMS del CENACE  \n",
      "SIE-DOC -REL-MAN _001_00 \n",
      " \n",
      "Confidential  \n",
      "Updated 28/02/2018  Versión: 0  Página 71 of  118 \n",
      "Autor: Ignacio Estrada   Restricted © Siemens AG, 2018. All rights reserved.   \n",
      "  \n",
      "Observe que SIREL responderá de acuerdo al modo seleccionado para la Concesión  \n",
      "siempre y cuando la Solicitud contenga Maniobras.  \n",
      "3. Complete el proceso de Concesión y al finalizar SIREL deberá realizar lo siguiente:  \n",
      " La lista de Solicitud es será actualizada sin la Solicitud recién concedida.  \n",
      " La nueva Licencia será mostrada en la vista de Licencias al inicio de la lista.  \n",
      " Se generará un nuevo evento en el Relatorio  \n",
      " Si la Licencia contiene maniobras y éstas fueron Libradas l os pasos que \n",
      "estuvieran marcados para crear eventos en el Relatorio van a generar un evento \n",
      "en dicho Relatorio.  \n",
      " Si la Licencia concedida estuvo asociada a una Solicitud enviada a otro Centro \n",
      "de Control y fue enviada como no informativa el evento de Concesi ón \n",
      "correspondiente  será enviado  a dicho Centro de Control.  \n",
      " \n",
      "5.4 Consulta s y Reporte de Solicitudes  \n",
      "Procedimiento: Consultar Solicitudes  \n",
      "Paso  Actividad  \n",
      "1. Ir a la vista de Solicitudes (ver imagen 5)  \n",
      "2. Seleccione desde el menú principal el botón Consultar:  \n",
      " \n",
      "SIREL enviará ventana para especificar los parámetros de Consulta:...\n",
      "\n",
      "[source='../datos/documentos\\\\SIE-DOC-REL-MAN_001_00 (2).pdf' reference='266e84ec-f76e-45f4-ae41-6a6466bf77df' collection='documentos' filename='SIE-DOC-REL-MAN_001_00 (2).pdf' total_pages=118 page_number=67 title='Estatuto de Trabajo' author='Ignacio Estrada' subject='Sistemas SCADA/EMS del CENACE' keywords='C_Confidential' creator='Microsoft® Word 2016' creationdate=\"D:20220323203011-06'00'\" moddate=\"D:20220323203011-06'00'\" producer='Microsoft® Word 2016'] -> Control de Cambios  \n",
      "Fecha: 20/02/2021  Proyecto: Sistemas SCADA/EMS del CENACE  \n",
      "SIE-DOC -REL-MAN _001_00 \n",
      " \n",
      "Confidential  \n",
      "Updated 28/02/2018  Versión: 0  Página 67 of  118 \n",
      "Autor: Ignacio Estrada   Restricted © Siemens AG, 2018. All rights reserved.   \n",
      "  \n",
      "SIREL solicitará confirmar la acción.  \n",
      " \n",
      "3.    SIREL actualizará la Solicitud indicando que la Solicitud en cuestión no tiene ya el ícono de \n",
      "maniobra.  \n",
      " \n",
      "Procedimiento: Autorizar Solicitud  \n",
      "Una Solicitud podrá ser Autorizada por el Centro de Control local si no fue enviada al Nivel Superior. \n",
      "En caso contrario sólo el Nivel Superior  podrá Autorizar una Solicitud.  \n",
      "Paso  Actividad  \n",
      "1. Ir a la vista de Solicitudes (ver imagen 5)  \n",
      "2. En esta condición, seleccione la Solicitud que desea autorizar, seleccionando el botón \n",
      "Autorizar  \n",
      " \n",
      "Seleccione una Solicitud y proceda a su Autorización....\n",
      "\n",
      "[source='../datos/documentos\\\\SIE-DOC-REL-MAN_001_00 (2).pdf' reference='266e84ec-f76e-45f4-ae41-6a6466bf77df' collection='documentos' filename='SIE-DOC-REL-MAN_001_00 (2).pdf' total_pages=118 page_number=74 title='Estatuto de Trabajo' author='Ignacio Estrada' subject='Sistemas SCADA/EMS del CENACE' keywords='C_Confidential' creator='Microsoft® Word 2016' creationdate=\"D:20220323203011-06'00'\" moddate=\"D:20220323203011-06'00'\" producer='Microsoft® Word 2016'] -> Control de Cambios  \n",
      "Fecha: 20/02/2021  Proyecto: Sistemas SCADA/EMS del CENACE  \n",
      "SIE-DOC -REL-MAN _001_00 \n",
      " \n",
      "Confidential  \n",
      "Updated 28/02/2018  Versión: 0  Página 74 of  118 \n",
      "Autor: Ignacio Estrada   Restricted © Siemens AG, 2018. All rights reserved.   \n",
      "  \n",
      "3.    SIREL envía mensaje de confirmación en el área de mensajes del usuario.  \n",
      "Procedimiento: Vista preliminar  \n",
      "Paso  Actividad  \n",
      "1. Ir a la vista de Solicitudes  (ver imagen 5)  \n",
      "2. Para obtener una vista preliminar, seleccione desde la barra principal de Solicitudes  el \n",
      "botón  Vista preliminar  \n",
      " \n",
      "SIREL mostrará una ventana contenie ndo las Solicitudes  en una  vista preliminar en formato PDF.  \n",
      "Desde la vista preliminar se podrán exportar  las Solicitudes  en diferentes formatos de archivo.  \n",
      " \n",
      "3.    Para con tinuar, cierre la ventana seleccionando botón Cerrar  en el menú principal de la vista \n",
      "preliminar.  \n",
      " \n",
      "5.5 Crear RMV  \n",
      "Esta función  permite crear un Registro de Monitoreo de Variable (RMV).....\n",
      "\n",
      "[source='../datos/documentos\\\\SIE-DOC-REL-MAN_001_00 (2).pdf' reference='266e84ec-f76e-45f4-ae41-6a6466bf77df' collection='documentos' filename='SIE-DOC-REL-MAN_001_00 (2).pdf' total_pages=118 page_number=52 title='Estatuto de Trabajo' author='Ignacio Estrada' subject='Sistemas SCADA/EMS del CENACE' keywords='C_Confidential' creator='Microsoft® Word 2016' creationdate=\"D:20220323203011-06'00'\" moddate=\"D:20220323203011-06'00'\" producer='Microsoft® Word 2016'] -> Control de Cambios  \n",
      "Fecha: 20/02/2021  Proyecto: Sistemas SCADA/EMS del CENACE  \n",
      "SIE-DOC -REL-MAN _001_00 \n",
      " \n",
      "Confidential  \n",
      "Updated 28/02/2018  Versión: 0  Página 52 of  118 \n",
      "Autor: Ignacio Estrada   Restricted © Siemens AG, 2018. All rights reserved.   \n",
      " 4.5 Consulta de Licencias  \n",
      "Procedimiento: Consultar Licencias  \n",
      "Paso  Actividad  \n",
      "1. Ir a la vista de Licencias (ver imagen 5)  \n",
      "2. Seleccione desde el menú principal el botón Consultar:  \n",
      " \n",
      "SIREL enviará ventana para especificar los parámetros de Consulta:  \n",
      " \n",
      " \n",
      "3.    Al finalizar la especificación de los filtros de Consulta seleccione botón Aceptar  y SIREL \n",
      "actualizará la lista de Licencias con la información correspondiente....\n",
      "\n",
      "[source='../datos/documentos\\\\SIE-DOC-REL-MAN_001_00 (2).pdf' reference='266e84ec-f76e-45f4-ae41-6a6466bf77df' collection='documentos' filename='SIE-DOC-REL-MAN_001_00 (2).pdf' total_pages=118 page_number=50 title='Estatuto de Trabajo' author='Ignacio Estrada' subject='Sistemas SCADA/EMS del CENACE' keywords='C_Confidential' creator='Microsoft® Word 2016' creationdate=\"D:20220323203011-06'00'\" moddate=\"D:20220323203011-06'00'\" producer='Microsoft® Word 2016'] -> Control de Cambios  \n",
      "Fecha: 20/02/2021  Proyecto: Sistemas SCADA/EMS del CENACE  \n",
      "SIE-DOC -REL-MAN _001_00 \n",
      " \n",
      "Confidential  \n",
      "Updated 28/02/2018  Versión: 0  Página 50 of  118 \n",
      "Autor: Ignacio Estrada   Restricted © Siemens AG, 2018. All rights reserved.   \n",
      "  \n",
      "3.    Terminada la especificación de los horarios faltantes SIREL dará paso a la finalización del \n",
      "proceso de Libranza . Así mismo SIREL activará automáticamente el  botón de Retirar  licencia  \n",
      " \n",
      "Procedimiento: Normalizar Maniobras  \n",
      "Paso  Actividad  \n",
      "1. Ir a la vista de Licencias (ver imagen 5)  \n",
      "2. Cuando una Maniobra no haya sido Normalizada completamente posterior al Retiro de la \n",
      "Licencia  (en el Modo 1 ), se deberá seleccionar desde el menú principal el botón Normalizar \n",
      "Maniobras.  \n",
      " \n",
      "SIREL enviará ventana para especificar los horarios pendientes de las Maniobras:...\n",
      "\n"
     ]
    }
   ],
   "source": [
    "\n",
    "query_vector = embedder.vectorize(query)\n",
    "\n",
    "resultados = vectorstore.get_similar(query_vector, filter_metadata={\"collection\": \"documentos\"})\n",
    "\n",
    "chunks = []\n",
    "for _, chunk in resultados:\n",
    "    chunks.append(chunk)\n",
    "    print(f\"[{chunk.metadata}] -> {chunk.content}...\\n\")\n",
    "\n"
   ]
  },
  {
   "cell_type": "code",
   "execution_count": 5,
   "metadata": {},
   "outputs": [],
   "source": [
    "from cenacellm.ollama.assistant import OllamaAssistant\n",
    "\n",
    "assistant = OllamaAssistant()"
   ]
  },
  {
   "cell_type": "code",
   "execution_count": 7,
   "metadata": {},
   "outputs": [
    {
     "name": "stdout",
     "output_type": "stream",
     "text": [
      "¡Hola! Parece que estás trabajando con un documento técnico relacionado con el sistema SIREL, específicamente sobre procedimientos para gestionar licencias y solicitudes dentro del contexto de los sistemas SCADA/EMS del CENACE. Si tienes alguna pregunta o necesitas ayuda con algún aspecto particular de este documento, no dudes en preguntar. Aquí te ofrezco algunas posibles áreas donde podrías necesitar asistencia:\n",
      "\n",
      "1. **Entendimiento de Procedimientos**: ¿Necesitas una explicación más detallada sobre cómo realizar ciertos procedimientos como \"Prorrogar Licencia\" o \"Restaurar Licencia a Solicitud\"?\n",
      "\n",
      "2. **Interpretación del Documento**: Si hay alguna parte del documento que no estás seguro de entender, puedo ayudarte a interpretarlo.\n",
      "\n",
      "3. **Configuraciones Específicas**: ¿Hay configuraciones específicas mencionadas en el documento que necesitas más información sobre?\n",
      "\n",
      "4. **Errores o Problemas Técnicos**: Si encuentras algún problema técnico al seguir los procedimientos descritos, estaré encantado de ayudarte a resolverlo.\n",
      "\n",
      "5. **Contexto General**: ¿Necesitas una visión general del propósito y uso del sistema SIREL en el contexto de los sistemas SCADA/EMS?\n",
      "\n",
      "Por favor, proporciona más detalles sobre lo que necesitas, y haré todo lo posible para asistirte. ¡Estoy aquí para ayudar!"
     ]
    }
   ],
   "source": [
    "for token in assistant.answer(\"hola!\", chunks, user_id=\"angel\"):\n",
    "    print(token, end=\"\", flush=True)"
   ]
  },
  {
   "cell_type": "code",
   "execution_count": null,
   "metadata": {},
   "outputs": [
    {
     "name": "stdout",
     "output_type": "stream",
     "text": [
      "[source='../datos/documentos\\\\SIE-DOC-REL-MAN_001_00 (2).pdf' reference='abf52552-3543-4cc2-a08a-e7cc8247adc3' collection='documentos' filename='SIE-DOC-REL-MAN_001_00 (2).pdf' total_pages=118 page_number=30 title='Estatuto de Trabajo' author='Ignacio Estrada' subject='Sistemas SCADA/EMS del CENACE' keywords='C_Confidential' creator='Microsoft® Word 2016' creationdate=\"D:20220323203011-06'00'\" moddate=\"D:20220323203011-06'00'\" producer='Microsoft® Word 2016'] al Nivel Superior \" y \n",
      "b) Seleccionando  el evento  requerido desde la lista  y en seguida seleccione el botón \n",
      "Enviar a NS  \n",
      "Al realizar la acción previa, se marcará con una palomita la columna NS en el renglón del evento \n",
      "seleccionado, confirmando que el evento ha sido enviado.  \n",
      " \n",
      " \n",
      "3.    SIREL  envía mensaje de confirmación en el área de mensajes del usuario y  actualizará \n",
      "automáticamente la lista de eventos...\n",
      "\n",
      "[source='../datos/documentos\\\\SIE-DOC-REL-MAN_001_00 (2).pdf' reference='838870bc-8bbd-47ce-9edd-7c6c46bea086' collection='documentos' filename='SIE-DOC-REL-MAN_001_00 (2).pdf' total_pages=118 page_number=30 title='Estatuto de Trabajo' author='Ignacio Estrada' subject='Sistemas SCADA/EMS del CENACE' keywords='C_Confidential' creator='Microsoft® Word 2016' creationdate=\"D:20220323203011-06'00'\" moddate=\"D:20220323203011-06'00'\" producer='Microsoft® Word 2016'] Los Centros de Control de Nivel Inferior (NI) podrán tener la interacción para el envío de eventos al \n",
      "Nivel Superior (NS)  \n",
      "Pas\n",
      "o Actividad  \n",
      "1. Ir a la vista del Relatorio actual (ver imagen 5)  \n",
      "2. Las siguientes opciones permiten proceder a enviar un evento a NS: \n",
      "a) Seleccionando el evento y dando clic k derecho para seleccionar la opción “ Enviar \n",
      "al Nivel Superior \" y \n",
      "b) Seleccionando  el evento  requerido desde la lista  y en seguida seleccione el botón \n",
      "Enviar a NS  \n",
      "Al realizar la acción previa, se marcará con una palomita la columna NS en el renglón del evento \n",
      "seleccionado, confirmando que el evento ha sido enviado.  \n",
      " \n",
      " \n",
      "3.    SIREL  envía mensaje de confirmación en el área de mensajes del usuario y  actualizará \n",
      "automáticamente la lista de eventos...\n",
      "\n",
      "[source='../datos/documentos\\\\SIE-DOC-REL-MAN_001_00 (2).pdf' reference='838870bc-8bbd-47ce-9edd-7c6c46bea086' collection='documentos' filename='SIE-DOC-REL-MAN_001_00 (2).pdf' total_pages=118 page_number=45 title='Estatuto de Trabajo' author='Ignacio Estrada' subject='Sistemas SCADA/EMS del CENACE' keywords='C_Confidential' creator='Microsoft® Word 2016' creationdate=\"D:20220323203011-06'00'\" moddate=\"D:20220323203011-06'00'\" producer='Microsoft® Word 2016'] caso de tener pasos de maniobras marcados para ser enviados al Relatorio también deber án ser \n",
      "enviados al NS . \n",
      "3.    Al finalizar el proceso de Retiro SIREL actualizará la lista de Licencias mostrando la Licencia \n",
      "en estado Retirada y creará un evento en el Relatorio ....\n",
      "\n",
      "[source='../datos/documentos\\\\SIE-DOC-REL-MAN_001_00 (2).pdf' reference='838870bc-8bbd-47ce-9edd-7c6c46bea086' collection='documentos' filename='SIE-DOC-REL-MAN_001_00 (2).pdf' total_pages=118 page_number=46 title='Estatuto de Trabajo' author='Ignacio Estrada' subject='Sistemas SCADA/EMS del CENACE' keywords='C_Confidential' creator='Microsoft® Word 2016' creationdate=\"D:20220323203011-06'00'\" moddate=\"D:20220323203011-06'00'\" producer='Microsoft® Word 2016'] de tener maniobras asociadas, éstas serán transferidas a la nueva Licencia en el estado actual.  \n",
      "3.    SIREL actualizará la lista de Licencias mostrando la Licencia seleccionada en estado Retirada \n",
      "y la nueva Licencia creada.  \n",
      "Observe que ambas Licencias quedarán referenciadas mutuamente por medio de las observaciones \n",
      "de Licencia y se reflejarán también en los eventos del Relatorio correspondientes.  \n",
      "Así mismo si la Licencia original proviene de Solicitud enviada a otro Centro de Control, los eventos \n",
      "correspondientes del Relatorio serán también enviados....\n",
      "\n",
      "[source='../datos/documentos\\\\SIE-DOC-REL-MAN_003_00 (1).pdf' reference='9e0248f7-c123-42aa-aa20-303e1dc6f375' collection='documentos' filename='SIE-DOC-REL-MAN_003_00 (1).pdf' total_pages=33 page_number=25 title='Estatuto de Trabajo' author='Ignacio Estrada' subject='Sistemas SCADA/EMS del CENACE' keywords='C_Confidential' creator='Microsoft® Word 2016' creationdate=\"D:20220323203220-06'00'\" moddate=\"D:20220323203220-06'00'\" producer='Microsoft® Word 2016'] Control de Cambios  \n",
      "Fecha: 20/02/2021  Proyecto: Sistemas SCADA/EMS del CENACE  \n",
      "SIE-DOC -REL-MAN _003_00 \n",
      " \n",
      "Confidential  \n",
      "Updated 28/02/2018  Versión: 0  Página 25 of  33 \n",
      "Autor: Ignacio Estrada   Restricted © Siemens AG, 2018. All rights reserved.   \n",
      " Una vez que se han capturado los datos mínimos requeridos, dé click en botón Fincar Solicitud  . \n",
      "SIREL mostrará ventana de confirmación con el resultado:  \n",
      " \n",
      " \n",
      " \n",
      "3.4 Licencias  \n",
      "Los siguientes procedimientos permiten la consulta y exportación de Licencias.  \n",
      "Procedimiento: Consultar Licencias  \n",
      "Paso  Actividad  \n",
      "1. Desde el menú lateral, en la sección Licencias, dé un click en botón Consulta Licencias . \n",
      "Sirel mostrará la consulta , \n",
      " \n",
      "La consulta por default  obtiene las Licencias vigentes....\n",
      "\n"
     ]
    }
   ],
   "source": [
    "resultados = vectorstore.get_similar(\n",
    "    query_vector,\n",
    "    k=5,\n",
    "    filter_metadata={\"title\": \"Estatuto de Trabajo\"}\n",
    ")\n",
    "\n",
    "for _, chunk in resultados:\n",
    "    print(f\"[{chunk.metadata}] {chunk.content[:2000]}...\\n\")\n"
   ]
  },
  {
   "cell_type": "code",
   "execution_count": 1,
   "metadata": {},
   "outputs": [],
   "source": [
    "from cenacellm.rag import RAG\n",
    "from cenacellm.config import VECTORS_DIR, DOCUMENTS_DIR"
   ]
  },
  {
   "cell_type": "code",
   "execution_count": 2,
   "metadata": {},
   "outputs": [
    {
     "name": "stdout",
     "output_type": "stream",
     "text": [
      "Índice cargado desde C:\\Users\\panda\\OneDrive\\Documents\\mcd\\proyectoCenace\\datos\\vectorstores\\index.faiss\n",
      "Diccionario cargado desde C:\\Users\\panda\\OneDrive\\Documents\\mcd\\proyectoCenace\\datos\\vectorstores\\index.pkl\n"
     ]
    }
   ],
   "source": [
    "rag = RAG(\n",
    "    vectorstore_path=VECTORS_DIR)"
   ]
  },
  {
   "cell_type": "code",
   "execution_count": 3,
   "metadata": {},
   "outputs": [
    {
     "data": {
      "text/plain": [
       "{'PI_C37118_1.1.0.17 (1).pdf': {'file_key': 'PI_C37118_1.1.0.17 (1).pdf',\n",
       "  'chunks': 256,\n",
       "  'last_modified': 1747787770,\n",
       "  'processed_at': '2025-05-20T17:36:41.509273',\n",
       "  'size': 2696589,\n",
       "  'source': 'C:\\\\Users\\\\panda\\\\OneDrive\\\\Documents\\\\mcd\\\\proyectoCenace\\\\datos\\\\documentos\\\\PI_C37118_1.1.0.17 (1).pdf'},\n",
       " 'SIE-DOC-REL-MAN_001_00 (2).pdf': {'file_key': 'SIE-DOC-REL-MAN_001_00 (2).pdf',\n",
       "  'chunks': 154,\n",
       "  'last_modified': 1747787749,\n",
       "  'processed_at': '2025-05-20T17:36:58.705371',\n",
       "  'size': 6846840,\n",
       "  'source': 'C:\\\\Users\\\\panda\\\\OneDrive\\\\Documents\\\\mcd\\\\proyectoCenace\\\\datos\\\\documentos\\\\SIE-DOC-REL-MAN_001_00 (2).pdf'},\n",
       " 'SIE-DOC-REL-MAN_002_00 (1).pdf': {'file_key': 'SIE-DOC-REL-MAN_002_00 (1).pdf',\n",
       "  'chunks': 125,\n",
       "  'last_modified': 1747787749,\n",
       "  'processed_at': '2025-05-20T17:37:13.749046',\n",
       "  'size': 3291664,\n",
       "  'source': 'C:\\\\Users\\\\panda\\\\OneDrive\\\\Documents\\\\mcd\\\\proyectoCenace\\\\datos\\\\documentos\\\\SIE-DOC-REL-MAN_002_00 (1).pdf'},\n",
       " 'SIE-DOC-REL-MAN_003_00 (1).pdf': {'file_key': 'SIE-DOC-REL-MAN_003_00 (1).pdf',\n",
       "  'chunks': 41,\n",
       "  'last_modified': 1747787749,\n",
       "  'processed_at': '2025-05-20T17:37:18.134614',\n",
       "  'size': 2073622,\n",
       "  'source': 'C:\\\\Users\\\\panda\\\\OneDrive\\\\Documents\\\\mcd\\\\proyectoCenace\\\\datos\\\\documentos\\\\SIE-DOC-REL-MAN_003_00 (1).pdf'}}"
      ]
     },
     "execution_count": 3,
     "metadata": {},
     "output_type": "execute_result"
    }
   ],
   "source": [
    "rag.processed_files"
   ]
  },
  {
   "cell_type": "code",
   "execution_count": 4,
   "metadata": {},
   "outputs": [],
   "source": [
    "rag._delete_processed_file([\"certificadoCarpinteria.pdf\", \"A Guide to Remembering Japanese Characters (Tuttle language -- Kenneth G_ Henshall -- 2nd, 1995 -- Charles E_ Tuttle Co.pdf\"])"
   ]
  },
  {
   "cell_type": "code",
   "execution_count": 5,
   "metadata": {},
   "outputs": [
    {
     "data": {
      "text/plain": [
       "{'PI-System-Explorer-2018-User-Guide_EN (1).pdf': {'file_key': 'PI-System-Explorer-2018-User-Guide_EN (1).pdf',\n",
       "  'chunks': 1050,\n",
       "  'last_modified': 1741656054,\n",
       "  'processed_at': '2025-05-19T17:56:10.176187',\n",
       "  'size': 4390949},\n",
       " 'SIE-DOC-REL-MAN_001_00 (2).pdf': {'file_key': 'SIE-DOC-REL-MAN_001_00 (2).pdf',\n",
       "  'chunks': 154,\n",
       "  'last_modified': 1747096767,\n",
       "  'processed_at': '2025-05-19T17:56:27.579227',\n",
       "  'size': 6846840},\n",
       " 'SIE-DOC-REL-MAN_002_00 (1).pdf': {'file_key': 'SIE-DOC-REL-MAN_002_00 (1).pdf',\n",
       "  'chunks': 125,\n",
       "  'last_modified': 1747096281,\n",
       "  'processed_at': '2025-05-19T17:56:42.504596',\n",
       "  'size': 3291664},\n",
       " 'SIE-DOC-REL-MAN_003_00 (1).pdf': {'file_key': 'SIE-DOC-REL-MAN_003_00 (1).pdf',\n",
       "  'chunks': 41,\n",
       "  'last_modified': 1741656038,\n",
       "  'processed_at': '2025-05-19T17:56:46.960749',\n",
       "  'size': 2073622}}"
      ]
     },
     "execution_count": 5,
     "metadata": {},
     "output_type": "execute_result"
    }
   ],
   "source": [
    "rag.processed_files\n"
   ]
  },
  {
   "cell_type": "code",
   "execution_count": 4,
   "metadata": {},
   "outputs": [
    {
     "name": "stdout",
     "output_type": "stream",
     "text": [
      "Comprobando documentos en C:\\Users\\panda\\OneDrive\\Documents\\mcd\\proyectoCenace\\datos\\documentos...\n",
      "Procesando nuevo archivo o archivo modificado: booking-b279-335ajy8.pdf\n",
      "Procesando nuevo archivo o archivo modificado: CV ATS Esthefania Ortega.pdf\n",
      "Procesando nuevo archivo o archivo modificado: PI-System-Explorer-2018-User-Guide_EN (1).pdf\n",
      "Procesando nuevo archivo o archivo modificado: SIE-DOC-REL-MAN_001_00 (2).pdf\n",
      "Procesando nuevo archivo o archivo modificado: SIE-DOC-REL-MAN_002_00 (1).pdf\n",
      "Procesando nuevo archivo o archivo modificado: SIE-DOC-REL-MAN_003_00 (1).pdf\n",
      "Índice guardado en C:\\Users\\panda\\OneDrive\\Documents\\mcd\\proyectoCenace\\datos\\vectorstores\\index.faiss\n",
      "Diccionario guardado en C:\\Users\\panda\\OneDrive\\Documents\\mcd\\proyectoCenace\\datos\\vectorstores\\index.pkl\n",
      "Índice vectorial actualizado con 6 nuevos documentos.\n",
      "Procesamiento completado. Total: 6 documentos (6 nuevos/modificados), generando 1373 chunks\n"
     ]
    },
    {
     "data": {
      "text/plain": [
       "[6, 6, 1373]"
      ]
     },
     "execution_count": 4,
     "metadata": {},
     "output_type": "execute_result"
    }
   ],
   "source": [
    "rag.load_documents(\n",
    "    folder_path=DOCUMENTS_DIR,\n",
    "    collection_name=\"documentos\"\n",
    ")"
   ]
  },
  {
   "cell_type": "code",
   "execution_count": 5,
   "metadata": {},
   "outputs": [],
   "source": [
    "history = rag.get_user_history(\"angel\")"
   ]
  },
  {
   "cell_type": "code",
   "execution_count": 7,
   "metadata": {},
   "outputs": [
    {
     "data": {
      "text/plain": [
       "{'role': 'user', 'content': 'que es sirel?'}"
      ]
     },
     "execution_count": 7,
     "metadata": {},
     "output_type": "execute_result"
    }
   ],
   "source": [
    "history[0]"
   ]
  },
  {
   "cell_type": "code",
   "execution_count": 8,
   "metadata": {},
   "outputs": [],
   "source": [
    "def get_chat_history(user_id: str) -> str:\n",
    "    histories = rag.get_user_history(user_id)\n",
    "        \n",
    "    if not histories:\n",
    "        return []\n",
    "    \n",
    "    formatted_history = []\n",
    "    for message in histories:\n",
    "        role = \"user\" if message.get('role') == \"user\" else \"bot\"\n",
    "        content = message.get('content', '')\n",
    "        \n",
    "        formatted_history.append({\n",
    "            \"role\": role,  \n",
    "            \"content\": content\n",
    "        })\n",
    "    \n",
    "    return formatted_history\n"
   ]
  },
  {
   "cell_type": "code",
   "execution_count": 9,
   "metadata": {},
   "outputs": [
    {
     "data": {
      "text/plain": [
       "[{'role': 'user', 'content': 'que es sirel?'},\n",
       " {'role': 'bot',\n",
       "  'content': 'SIREL (Sistema Integrado de Relatorios, Licencias y Eventos) es un sistema diseñado para gestionar reportes, licencias y eventos dentro de una organización. Se compone de varios subsistemas integrados:\\n\\n1. **Subsistema de Reporte**: Incluye módulos para generar informes actuales y históricos.\\n2. **Subsistema de Licencias**: Gestiona solicitudes, otorgamiento de licencias, estado de maniobras, catálogos de maniobras, monitoreo de variables eléctricas e interfaz con el subsistema de reporte.\\n3. **Subsistema de Eventos**: Incluye un módulo para gestionar eventos y su integración con el subsistema de reporte.\\n\\nSIREL WEB es la interfaz de usuario que permite a los usuarios interactuar con estos sistemas, ofreciendo funcionalidades como actualización de cuadrículas, manejo de columnas en las mismas, y visualización detallada de información. La aplicación está accesible mediante direcciones específicas en un navegador web.\\n\\nLos usuarios del sistema pueden realizar consultas utilizando filtros predefinidos o especificar criterios personalizados para obtener la información requerida. Además, el sistema permite a los usuarios reorganizar columnas y acceder a detalles adicionales de las entradas seleccionadas en las cuadrículas.'},\n",
       " {'role': 'user', 'content': 'que te pregunté?'},\n",
       " {'role': 'bot',\n",
       "  'content': 'Parece que estás buscando información sobre el Sistema Integrado de Relatorios, Licencias y Eventos (SIREL). Aquí tienes un resumen basado en lo que proporcionaste:\\n\\n- **SIREL** es un sistema diseñado para gestionar reportes, licencias y eventos dentro de una organización. Está compuesto por varios subsistemas integrados:\\n  - **Subsistema de Reporte**: Permite generar informes actuales y históricos.\\n  - **Subsistema de Licencias**: Gestiona solicitudes, otorgamiento de licencias, estado de maniobras, catálogos de maniobras, monitoreo de variables eléctricas e interactúa con el subsistema de reporte.\\n  - **Subsistema de Eventos**: Gestionar eventos y su integración con el subsistema de reporte.\\n\\n- **SIREL WEB** es la interfaz de usuario que permite a los usuarios interactuar con estos sistemas. Ofrece funcionalidades como actualización de cuadrículas, manejo de columnas en las mismas, y visualización detallada de información. La aplicación está accesible mediante direcciones específicas en un navegador web.\\n\\n- Los usuarios pueden realizar consultas utilizando filtros predefinidos o especificar criterios personalizados para obtener la información requerida. Además, el sistema permite a los usuarios reorganizar columnas y acceder a detalles adicionales de las entradas seleccionadas en las cuadrículas.\\n\\nSi tienes alguna otra pregunta específica sobre SIREL o necesitas más detalles, ¡no dudes en preguntar!'}]"
      ]
     },
     "execution_count": 9,
     "metadata": {},
     "output_type": "execute_result"
    }
   ],
   "source": [
    "get_chat_history(\"angel\")"
   ]
  },
  {
   "cell_type": "code",
   "execution_count": 21,
   "metadata": {},
   "outputs": [
    {
     "name": "stdout",
     "output_type": "stream",
     "text": [
      "\n",
      "Pregunta: que es sirel?\n",
      "\n",
      "Respuesta: SIREL (Sistema Integrado de Relatorios, Licencias y Eventos) es un sistema diseñado para gestionar reportes, licencias y eventos dentro de una organización. Está compuesto por varios subsistemas:\n",
      "\n",
      "1. **Subsistema de Relatorio**: Incluye módulos para generar informes actuales y históricos.\n",
      "2. **Subsistema de Licencias**: Gestiona solicitudes, otorgamiento de licencias, estado de maniobras, catálogos de maniobras, monitoreo de variables eléctricas e interfaz con el subsistema de relatorios.\n",
      "3. **Subsistema de Eventos**: Incluye un módulo para gestionar eventos y su integración con el subsistema de relatorios.\n",
      "\n",
      "SIREL WEB es la interfaz de usuario que permite a los usuarios interactuar con estos sistemas, ofreciendo funcionalidades como actualización de cuadrículas, manejo de columnas en las mismas, y visualización detallada de información. La aplicación está accesible mediante direcciones específicas en un navegador web.\n",
      "\n",
      "El sistema está diseñado para ser utilizado por cualquier persona que necesite acceder a los procesos cubiertos por SIREL según sus necesidades funcionales."
     ]
    }
   ],
   "source": [
    "for token in rag.answer(\"angel\",\"que es sirel?\", k=5):\n",
    "    print(token, end=\"\", flush=True)"
   ]
  },
  {
   "cell_type": "code",
   "execution_count": 5,
   "metadata": {},
   "outputs": [
    {
     "ename": "AttributeError",
     "evalue": "'RAG' object has no attribute 'last_chunks'",
     "output_type": "error",
     "traceback": [
      "\u001b[31m---------------------------------------------------------------------------\u001b[39m",
      "\u001b[31mAttributeError\u001b[39m                            Traceback (most recent call last)",
      "\u001b[36mCell\u001b[39m\u001b[36m \u001b[39m\u001b[32mIn[5]\u001b[39m\u001b[32m, line 1\u001b[39m\n\u001b[32m----> \u001b[39m\u001b[32m1\u001b[39m \u001b[43mrag\u001b[49m\u001b[43m.\u001b[49m\u001b[43mlast_chunks\u001b[49m\n",
      "\u001b[31mAttributeError\u001b[39m: 'RAG' object has no attribute 'last_chunks'"
     ]
    }
   ],
   "source": [
    "rag.last_chunks"
   ]
  },
  {
   "cell_type": "code",
   "execution_count": 10,
   "metadata": {},
   "outputs": [],
   "source": [
    "def metadata_generator():\n",
    "    return rag.last_chunks\n",
    "        "
   ]
  },
  {
   "cell_type": "code",
   "execution_count": 1,
   "metadata": {},
   "outputs": [
    {
     "ename": "NameError",
     "evalue": "name 'metadata_generator' is not defined",
     "output_type": "error",
     "traceback": [
      "\u001b[31m---------------------------------------------------------------------------\u001b[39m",
      "\u001b[31mNameError\u001b[39m                                 Traceback (most recent call last)",
      "\u001b[36mCell\u001b[39m\u001b[36m \u001b[39m\u001b[32mIn[1]\u001b[39m\u001b[32m, line 1\u001b[39m\n\u001b[32m----> \u001b[39m\u001b[32m1\u001b[39m \u001b[43mmetadata_generator\u001b[49m()\n",
      "\u001b[31mNameError\u001b[39m: name 'metadata_generator' is not defined"
     ]
    }
   ],
   "source": [
    "metadata_generator()"
   ]
  },
  {
   "cell_type": "code",
   "execution_count": 3,
   "metadata": {},
   "outputs": [
    {
     "name": "stdout",
     "output_type": "stream",
     "text": [
      "SIREL (Sistema Integrado de Relatorios, Licencias y Eventos) es un sistema diseñado para gestionar reportes, licencias y eventos dentro de una organización. Se compone de varios subsistemas integrados:\n",
      "\n",
      "1. **Subsistema de Reporte**: Incluye módulos para generar informes actuales y históricos.\n",
      "2. **Subsistema de Licencias**: Gestiona solicitudes, otorgamiento de licencias, estado de maniobras, catálogos de maniobras, monitoreo de variables eléctricas e interfaz con el subsistema de reporte.\n",
      "3. **Subsistema de Eventos**: Incluye un módulo para gestionar eventos y su integración con el subsistema de reporte.\n",
      "\n",
      "SIREL WEB es la interfaz de usuario que permite a los usuarios interactuar con estos sistemas, ofreciendo funcionalidades como actualización de cuadrículas, manejo de columnas en las mismas, y visualización detallada de información. La aplicación está accesible mediante direcciones específicas en un navegador web.\n",
      "\n",
      "Los usuarios del sistema pueden realizar consultas utilizando filtros predefinidos o especificar criterios personalizados para obtener la información requerida. Además, el sistema permite a los usuarios reorganizar columnas y acceder a detalles adicionales de las entradas seleccionadas en las cuadrículas."
     ]
    }
   ],
   "source": [
    "for token in rag.answer(\"angel\",\"que es sirel?\", k=5, filter_metadata={\"title\": \"Estatuto de Trabajo\"}):\n",
    "    print(token, end=\"\", flush=True)"
   ]
  },
  {
   "cell_type": "code",
   "execution_count": 4,
   "metadata": {},
   "outputs": [
    {
     "name": "stdout",
     "output_type": "stream",
     "text": [
      "Parece que estás buscando información sobre el Sistema Integrado de Relatorios, Licencias y Eventos (SIREL). Aquí tienes un resumen basado en lo que proporcionaste:\n",
      "\n",
      "- **SIREL** es un sistema diseñado para gestionar reportes, licencias y eventos dentro de una organización. Está compuesto por varios subsistemas integrados:\n",
      "  - **Subsistema de Reporte**: Permite generar informes actuales y históricos.\n",
      "  - **Subsistema de Licencias**: Gestiona solicitudes, otorgamiento de licencias, estado de maniobras, catálogos de maniobras, monitoreo de variables eléctricas e interactúa con el subsistema de reporte.\n",
      "  - **Subsistema de Eventos**: Gestionar eventos y su integración con el subsistema de reporte.\n",
      "\n",
      "- **SIREL WEB** es la interfaz de usuario que permite a los usuarios interactuar con estos sistemas. Ofrece funcionalidades como actualización de cuadrículas, manejo de columnas en las mismas, y visualización detallada de información. La aplicación está accesible mediante direcciones específicas en un navegador web.\n",
      "\n",
      "- Los usuarios pueden realizar consultas utilizando filtros predefinidos o especificar criterios personalizados para obtener la información requerida. Además, el sistema permite a los usuarios reorganizar columnas y acceder a detalles adicionales de las entradas seleccionadas en las cuadrículas.\n",
      "\n",
      "Si tienes alguna otra pregunta específica sobre SIREL o necesitas más detalles, ¡no dudes en preguntar!"
     ]
    }
   ],
   "source": [
    "for token in rag.answer(\"angel\",\"que te pregunté?\", k=5, filter_metadata={\"title\": \"Estatuto de Trabajo\", \"collection\": \"documentos\"}):\n",
    "    print(token, end=\"\", flush=True)"
   ]
  },
  {
   "cell_type": "code",
   "execution_count": 28,
   "metadata": {},
   "outputs": [
    {
     "data": {
      "text/plain": [
       "TextMetadata(source='C:\\\\Users\\\\panda\\\\OneDrive\\\\Documents\\\\mcd\\\\proyectoCenace\\\\datos\\\\documentos\\\\SIE-DOC-REL-MAN_003_00 (1).pdf', reference='3530949c-2432-418b-8442-f0efe42e4f9a', collection='documentos', filename='SIE-DOC-REL-MAN_003_00 (1).pdf', total_pages=33, page_number=6, title='Estatuto de Trabajo', author='Ignacio Estrada', subject='Sistemas SCADA/EMS del CENACE', keywords='C_Confidential', creator='Microsoft® Word 2016', creationdate=\"D:20220323203220-06'00'\", moddate=\"D:20220323203220-06'00'\", producer='Microsoft® Word 2016')"
      ]
     },
     "execution_count": 28,
     "metadata": {},
     "output_type": "execute_result"
    }
   ],
   "source": [
    "rag.last_chunks[0].metadata"
   ]
  },
  {
   "cell_type": "code",
   "execution_count": 6,
   "metadata": {},
   "outputs": [
    {
     "name": "stdout",
     "output_type": "stream",
     "text": [
      "Historial para el usuario angel eliminado.\n"
     ]
    }
   ],
   "source": [
    "rag.clear_user_history(\"angel\")"
   ]
  },
  {
   "cell_type": "code",
   "execution_count": 2,
   "metadata": {},
   "outputs": [
    {
     "name": "stdout",
     "output_type": "stream",
     "text": [
      "No se encontró el archivo de índice, creando nuevo índice.\n"
     ]
    }
   ],
   "source": [
    "rag_2 = RAG(\n",
    "    vectorstore_path=\"../datos/prueba_datos_vdb\",\n",
    "    user_id=\"angel\")"
   ]
  },
  {
   "cell_type": "code",
   "execution_count": 5,
   "metadata": {},
   "outputs": [
    {
     "name": "stdout",
     "output_type": "stream",
     "text": [
      "Comprobando documentos en ../datos/prueba_datos...\n",
      "Omitiendo archivo sin cambios: PI_C37118_1.1.0.17 (1).pdf\n",
      "Procesando nuevo archivo o archivo modificado: SIE-DOC-REL-MAN_001_00 (2).pdf\n",
      "Índice guardado en ../datos/prueba_datos_vdb\\index.faiss\n",
      "Diccionario guardado en ../datos/prueba_datos_vdb\\index.pkl\n",
      "Índice vectorial actualizado con 1 nuevos documentos.\n",
      "Procesamiento completado. Total: 2 documentos (1 nuevos/modificados), generando 154 chunks\n"
     ]
    }
   ],
   "source": [
    "rag_2.load_documents(\"../datos/prueba_datos\", \"documentos\")"
   ]
  },
  {
   "cell_type": "code",
   "execution_count": 6,
   "metadata": {},
   "outputs": [
    {
     "name": "stdout",
     "output_type": "stream",
     "text": [
      "Comprobando documentos en ../datos/prueba_datos...\n",
      "Omitiendo archivo sin cambios: PI_C37118_1.1.0.17 (1).pdf\n",
      "Omitiendo archivo sin cambios: SIE-DOC-REL-MAN_001_00 (2).pdf\n",
      "Procesando nuevo archivo o archivo modificado: SIE-DOC-REL-MAN_002_00 (1).pdf\n",
      "Índice guardado en ../datos/prueba_datos_vdb\\index.faiss\n",
      "Diccionario guardado en ../datos/prueba_datos_vdb\\index.pkl\n",
      "Índice vectorial actualizado con 1 nuevos documentos.\n",
      "Procesamiento completado. Total: 3 documentos (1 nuevos/modificados), generando 125 chunks\n"
     ]
    }
   ],
   "source": [
    "rag_2.load_documents(\"../datos/prueba_datos\", \"documentos\")"
   ]
  },
  {
   "cell_type": "code",
   "execution_count": null,
   "metadata": {},
   "outputs": [],
   "source": []
  }
 ],
 "metadata": {
  "kernelspec": {
   "display_name": ".venv",
   "language": "python",
   "name": "python3"
  },
  "language_info": {
   "codemirror_mode": {
    "name": "ipython",
    "version": 3
   },
   "file_extension": ".py",
   "mimetype": "text/x-python",
   "name": "python",
   "nbconvert_exporter": "python",
   "pygments_lexer": "ipython3",
   "version": "3.12.9"
  }
 },
 "nbformat": 4,
 "nbformat_minor": 2
}
