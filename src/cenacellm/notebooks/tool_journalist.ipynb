{
 "cells": [
  {
   "cell_type": "code",
   "execution_count": 1,
   "id": "46dd954f-e555-405e-a622-ee614fbd6efb",
   "metadata": {},
   "outputs": [],
   "source": [
    "from cenacellm.openai.journalist import OpenAIJournalist"
   ]
  },
  {
   "cell_type": "code",
   "execution_count": 2,
   "id": "e30c90d4-f9dd-4d72-ada4-667b3119f426",
   "metadata": {},
   "outputs": [],
   "source": [
    "import pandas as pd"
   ]
  },
  {
   "cell_type": "code",
   "execution_count": 3,
   "id": "e5f8c55d-9f06-46ec-ae1f-a881e3c7db75",
   "metadata": {},
   "outputs": [],
   "source": [
    "oaiJ = OpenAIJournalist()"
   ]
  },
  {
   "cell_type": "code",
   "execution_count": null,
   "id": "93ed1764-d4d7-4eca-a5a5-bde754b46477",
   "metadata": {},
   "outputs": [
    {
     "name": "stdout",
     "output_type": "stream",
     "text": [
      "{\n",
      "  \"incident\": \"\\nBonito día apá, tengo un problema en Sirel, no me funciona el sistema.\\nCreo que algo está fallando con la configuración.\\nTe mandé los detalles al correo.\\n\\nSaludame a tu mami.\\n\",\n",
      "  \"who\": \"La persona que envía el mensaje\",\n",
      "  \"what\": \"Problema con el sistema Sirel\",\n",
      "  \"when\": \"No especificado\",\n",
      "  \"where\": \"No especificado\",\n",
      "  \"why\": \"Posible problema con la configuración\",\n",
      "  \"how\": \"El sistema dejó de funcionar\"\n",
      "}\n",
      "{\n",
      "  \"provider\": \"openai\",\n",
      "  \"model\": \"gpt-4.5-preview\",\n",
      "  \"operation\": \"beta/chat/completions/parse\",\n",
      "  \"duration\": 3.976371900000231,\n",
      "  \"input_tokens\": 333,\n",
      "  \"output_tokens\": 52,\n",
      "  \"timestamp\": \"2025-03-05T01:02:46.845325Z\"\n",
      "}\n"
     ]
    }
   ],
   "source": [
    "clr, md = oaiJ.checklist(\"\"\"\n",
    "Bonito día apá, tengo un problema en Sirel, no me funciona el sistema.\n",
    "Creo que algo está fallando con la configuración.\n",
    "Te mandé los detalles al correo.\n",
    "\n",
    "Saludame a tu mami.\n",
    "\"\"\")\n",
    "print(clr.model_dump_json(indent=2))\n",
    "print(md.model_dump_json(indent=2))"
   ]
  },
  {
   "cell_type": "code",
   "execution_count": 4,
   "id": "54596c0b-954a-4ce5-8558-66342cbaecc5",
   "metadata": {},
   "outputs": [],
   "source": [
    "df = pd.read_csv(\"/home/eduardo/proyectos/proy-term-angel/datos/Tickets/datos_censurados_agrupados.csv\")"
   ]
  },
  {
   "cell_type": "code",
   "execution_count": 5,
   "id": "2a2b6d18-fc34-4986-b57b-635f883dfa2b",
   "metadata": {},
   "outputs": [],
   "source": [
    "def incident_from_ticket(i : int) -> str:\n",
    "    ticket = df.iloc[i]\n",
    "    return (\n",
    "        \"**Titulo**\\n\" \\\n",
    "        f\"{ticket[\"titulo\"]}\" \\\n",
    "        \"\\n\\n**Categorias**\\n\" \\\n",
    "        f\"{ticket[\"categories\"]}\" \\\n",
    "        \"\\n\\n**Descripcion**\\n\" \\\n",
    "        f\"{ticket[\"descripcion\"]}\"\n",
    "    )"
   ]
  },
  {
   "cell_type": "code",
   "execution_count": 6,
   "id": "df8a3cf4-2ff2-431b-a3e2-0a922f956581",
   "metadata": {},
   "outputs": [
    {
     "name": "stdout",
     "output_type": "stream",
     "text": [
      "**Titulo**\n",
      "UTR modificada en SAPPSE - GCR Norte\n",
      "\n",
      "**Categorias**\n",
      "INTRANET Y SOPORTE DE APLICACIONES\n",
      "\n",
      "**Descripcion**\n",
      " bbc679f62449208c84015282007c04ab aee4727e4ae3d910b69bdd628dc8a7c3 El día de ayer personal de campo editó la utr LTR y personal de comunicaciones la aceptó, mas no permite dejarla como terminada, se queda En Evaluación. La evaluación de perfil de protocolos se encuentra como Terminada. Puedes apoyarme por favor?\n"
     ]
    }
   ],
   "source": [
    "print(incident_from_ticket(0))"
   ]
  },
  {
   "cell_type": "code",
   "execution_count": 28,
   "id": "9c77b6d6-b9b7-4445-91cc-12751f2572a8",
   "metadata": {},
   "outputs": [
    {
     "name": "stdout",
     "output_type": "stream",
     "text": [
      "{\n",
      "  \"incident\": \"**Titulo**\\nUTR modificada en SAPPSE - GCR Norte\\n\\n**Categorias**\\nINTRANET Y SOPORTE DE APLICACIONES\\n\\n**Descripcion**\\n bbc679f62449208c84015282007c04ab aee4727e4ae3d910b69bdd628dc8a7c3 El día de ayer personal de campo editó la utr LTR y personal de comunicaciones la aceptó, mas no permite dejarla como terminada, se queda En Evaluación. La evaluación de perfil de protocolos se encuentra como Terminada. Puedes apoyarme por favor?\",\n",
      "  \"who\": \"Personal de campo y personal de comunicaciones\",\n",
      "  \"what\": \"Edición de la UTR LTR que no puede finalizarse\",\n",
      "  \"when\": \"El día de ayer\",\n",
      "  \"where\": \"En SAPPSE - GCR Norte\",\n",
      "  \"why\": \"No especificado\",\n",
      "  \"how\": \"La UTR fue editada y aceptada, pero permanece en estado 'En Evaluación'.\"\n",
      "}\n",
      "{\n",
      "  \"provider\": \"openai\",\n",
      "  \"model\": \"gpt-4.5-preview\",\n",
      "  \"operation\": \"beta/chat/completions/parse\",\n",
      "  \"duration\": 9.679384058999858,\n",
      "  \"input_tokens\": 395,\n",
      "  \"output_tokens\": 75,\n",
      "  \"timestamp\": \"2025-03-01T01:40:52.188957Z\"\n",
      "}\n"
     ]
    }
   ],
   "source": [
    "clr, md = oaiJ.checklist(incident_from_ticket(0))\n",
    "print(clr.model_dump_json(indent=2))\n",
    "print(md.model_dump_json(indent=2))"
   ]
  },
  {
   "cell_type": "code",
   "execution_count": 7,
   "id": "83b3f9bc-8649-44c5-bad0-0c92e8fb81ab",
   "metadata": {},
   "outputs": [
    {
     "name": "stdout",
     "output_type": "stream",
     "text": [
      "{\n",
      "  \"incident\": \"**Fecha**\\n25 de febrero de 2025\\n\\n**Titulo**\\nUTR modificada en SAPPSE - GCR Norte\\n\\n**Categorias**\\nINTRANET Y SOPORTE DE APLICACIONES\\n\\n**Descripcion**\\n bbc679f62449208c84015282007c04ab aee4727e4ae3d910b69bdd628dc8a7c3 El día de ayer personal de campo editó la utr LTR y personal de comunicaciones la aceptó, mas no permite dejarla como terminada, se queda En Evaluación. La evaluación de perfil de protocolos se encuentra como Terminada. Puedes apoyarme por favor?\",\n",
      "  \"who\": \"Personal de campo y personal de comunicaciones\",\n",
      "  \"what\": \"UTR modificada en SAPPSE no permite finalizarse\",\n",
      "  \"when\": \"24 de febrero de 2025\",\n",
      "  \"where\": \"Sistema SAPPSE - GCR Norte\",\n",
      "  \"why\": \"No especificado\",\n",
      "  \"how\": \"La UTR editada quedó en estado 'En Evaluación' y no permite finalizarse\"\n",
      "}\n",
      "{\n",
      "  \"provider\": \"openai\",\n",
      "  \"model\": \"gpt-4.5-preview\",\n",
      "  \"operation\": \"beta/chat/completions/parse\",\n",
      "  \"duration\": 4.379427690999364,\n",
      "  \"input_tokens\": 420,\n",
      "  \"output_tokens\": 75,\n",
      "  \"timestamp\": \"2025-03-01T01:43:57.555985Z\"\n",
      "}\n"
     ]
    }
   ],
   "source": [
    "clr, md = oaiJ.checklist(\"**Fecha**\\n25 de febrero de 2025\\n\\n\" + incident_from_ticket(0))\n",
    "print(clr.model_dump_json(indent=2))\n",
    "print(md.model_dump_json(indent=2))"
   ]
  },
  {
   "cell_type": "code",
   "execution_count": 8,
   "id": "6abecb60-bafb-44a9-9f14-80cfad160ca9",
   "metadata": {},
   "outputs": [
    {
     "name": "stdout",
     "output_type": "stream",
     "text": [
      "Reporte del Incidente  \n",
      "Fecha: 25 de febrero de 2025  \n",
      "Título: UTR modificada en SAPPSE - GCR Norte  \n",
      "Categoría: INTRANET Y SOPORTE DE APLICACIONES  \n",
      "\n",
      "Por: Departamento de Tecnología y Sistemas  \n",
      "\n",
      "El día 24 de febrero de 2025, personal de campo realizó modificaciones en la Unidad Técnica de Referencia (UTR) tipo LTR dentro del sistema SAPPSE, correspondiente a la región GCR Norte. Dichas modificaciones fueron posteriormente aceptadas por personal del área de comunicaciones. Sin embargo, tras la aceptación, el sistema no permitió concluir el proceso adecuadamente, dejando la UTR en estado \"En Evaluación\" sin posibilidad de avanzar al estado \"Terminada\".\n",
      "\n",
      "De acuerdo con la información proporcionada, la evaluación del perfil de protocolos sí aparece correctamente como \"Terminada\", lo que indica que el problema se limita específicamente al cambio de estado final de la UTR.\n",
      "\n",
      "Este incidente afecta directamente la operación del personal involucrado, ya que impide cerrar adecuadamente el proceso administrativo y técnico correspondiente, generando incertidumbre sobre el estado real de la UTR en cuestión.\n",
      "\n",
      "Hasta el momento, no se ha especificado la causa exacta del problema. Se requiere una investigación técnica más profunda para determinar si se trata de un error en la aplicación, un problema de permisos o un fallo en el flujo de trabajo del sistema.\n",
      "\n",
      "Se recomienda al equipo técnico responsable del sistema SAPPSE realizar una revisión inmediata del incidente, identificar la causa raíz y aplicar las correcciones necesarias para restablecer la funcionalidad completa del sistema.\n",
      "\n",
      "Seguiremos informando conforme se obtengan más detalles sobre este incidente.\n",
      "{\n",
      "  \"provider\": \"openai\",\n",
      "  \"model\": \"chain[gpt-4.5-preview,gpt-4.5-preview]\",\n",
      "  \"operation\": \"chain[beta/chat/completions/parse,chat/completions/create]\",\n",
      "  \"duration\": 20.022224252998058,\n",
      "  \"input_tokens\": 709,\n",
      "  \"output_tokens\": 410,\n",
      "  \"timestamp\": \"2025-03-01T01:59:44.288845Z\"\n",
      "}\n"
     ]
    }
   ],
   "source": [
    "rep_txt, md = oaiJ.analyze_and_report(\"**Fecha**\\n25 de febrero de 2025\\n\\n\" + incident_from_ticket(0))\n",
    "print(rep_txt)\n",
    "print(md.model_dump_json(indent=2))"
   ]
  },
  {
   "cell_type": "code",
   "execution_count": null,
   "id": "4152f4e9-db3f-4757-9db0-eb9c8de8234d",
   "metadata": {},
   "outputs": [],
   "source": []
  }
 ],
 "metadata": {
  "kernelspec": {
   "display_name": ".venv",
   "language": "python",
   "name": "python3"
  },
  "language_info": {
   "codemirror_mode": {
    "name": "ipython",
    "version": 3
   },
   "file_extension": ".py",
   "mimetype": "text/x-python",
   "name": "python",
   "nbconvert_exporter": "python",
   "pygments_lexer": "ipython3",
   "version": "3.11.9"
  }
 },
 "nbformat": 4,
 "nbformat_minor": 5
}
